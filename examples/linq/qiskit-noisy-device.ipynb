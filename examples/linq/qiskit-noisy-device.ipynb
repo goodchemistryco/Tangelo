{
 "cells": [
  {
   "cell_type": "markdown",
   "metadata": {},
   "source": [
    "# Qiskit device models\n",
    "\n",
    "In order to explore what is feasible on IBM devices, you can now use tangelo to explore the types of errors one might expect when using particular IBM devices. These can be accessed by using the branch `qiskit-device-noise`.\n",
    "\n",
    "The devices available are in `qiskit.test.mock`"
   ]
  },
  {
   "cell_type": "code",
   "execution_count": 1,
   "metadata": {},
   "outputs": [
    {
     "name": "stdout",
     "output_type": "stream",
     "text": [
      "['Fake1Q', 'FakeAlmaden', 'FakeArmonk', 'FakeAthens', 'FakeBackend', 'FakeBelem', 'FakeBoeblingen', 'FakeBogota', 'FakeBurlington', 'FakeCambridge', 'FakeCambridgeAlternativeBasis', 'FakeCasablanca', 'FakeEssex', 'FakeGuadalupe', 'FakeJob', 'FakeJohannesburg', 'FakeLegacyAlmaden', 'FakeLegacyArmonk', 'FakeLegacyAthens', 'FakeLegacyBackend', 'FakeLegacyBelem', 'FakeLegacyBoeblingen', 'FakeLegacyBogota', 'FakeLegacyBurlington', 'FakeLegacyCambridge', 'FakeLegacyCambridgeAlternativeBasis', 'FakeLegacyCasablanca', 'FakeLegacyEssex', 'FakeLegacyJob', 'FakeLegacyJohannesburg', 'FakeLegacyLima', 'FakeLegacyLondon', 'FakeLegacyManhattan', 'FakeLegacyMelbourne', 'FakeLegacyMontreal', 'FakeLegacyMumbai', 'FakeLegacyOurense', 'FakeLegacyParis', 'FakeLegacyPoughkeepsie', 'FakeLegacyProvider', 'FakeLegacyQuito', 'FakeLegacyRochester', 'FakeLegacyRome', 'FakeLegacyRueschlikon', 'FakeLegacySantiago', 'FakeLegacySingapore', 'FakeLegacySydney', 'FakeLegacyTenerife', 'FakeLegacyTokyo', 'FakeLegacyToronto', 'FakeLegacyValencia', 'FakeLegacyVigo', 'FakeLegacyYorktown', 'FakeLima', 'FakeLondon', 'FakeManhattan', 'FakeMelbourne', 'FakeMontreal', 'FakeMumbai', 'FakeOpenPulse2Q', 'FakeOpenPulse3Q', 'FakeOurense', 'FakeParis', 'FakePoughkeepsie', 'FakeProvider', 'FakeProviderFactory', 'FakeQasmSimulator', 'FakeQobj', 'FakeQuito', 'FakeRochester', 'FakeRome', 'FakeRueschlikon', 'FakeSantiago', 'FakeSingapore', 'FakeSydney', 'FakeTenerife', 'FakeTokyo', 'FakeToronto', 'FakeValencia', 'FakeVigo', 'FakeYorktown']\n"
     ]
    }
   ],
   "source": [
    "# List all available Fake devices\n",
    "from qiskit.test import mock\n",
    "device_list = [func for func in dir(mock) if callable(getattr(mock, func))]\n",
    "print(device_list)"
   ]
  },
  {
   "cell_type": "code",
   "execution_count": 2,
   "metadata": {},
   "outputs": [],
   "source": [
    "from tangelo.linq import Circuit, Gate, Simulator\n",
    "from tangelo.linq.noisy_simulation import NoiseModel"
   ]
  },
  {
   "cell_type": "markdown",
   "metadata": {},
   "source": [
    "Below is an example for `\"FakeMontreal\"`. For any of the devices listed above, instantiate \n",
    "```python\n",
    "sim_device = Simulator(target=\"qiskit_device\", noise_model=NoiseModel(\"Device_Name\"))\n",
    "```"
   ]
  },
  {
   "cell_type": "code",
   "execution_count": 3,
   "metadata": {},
   "outputs": [
    {
     "name": "stdout",
     "output_type": "stream",
     "text": [
      "{'100': 0.4969, '000': 0.5031}\n",
      "{'101': 0.007, '011': 0.0003, '001': 0.0057, '100': 0.469, '000': 0.4691, '010': 0.026, '110': 0.0229}\n"
     ]
    }
   ],
   "source": [
    "# Construct Quantum circuit\n",
    "gates = [Gate('H', 0), Gate('CNOT', 0, 1), Gate('CNOT', 1, 2)]\n",
    "circuit = Circuit(gates)\n",
    "\n",
    "sim_ideal = Simulator('qiskit', n_shots=10000)\n",
    "sim_montreal = Simulator('qiskit_device', n_shots=10000, noise_model=NoiseModel(\"FakeMontreal\"))\n",
    "\n",
    "freqs_ideal, _ = sim_ideal.simulate(circuit)\n",
    "freqs_montreal, _ = sim_montreal.simulate(circuit)\n",
    "\n",
    "print(freqs_ideal)\n",
    "print(freqs_montreal)\n"
   ]
  },
  {
   "cell_type": "markdown",
   "metadata": {},
   "source": [
    "## Choosing Qubits\n",
    "Some qubits on the device have better properties. To test which qubits are best, we can assign `qubits_to_use`."
   ]
  },
  {
   "cell_type": "code",
   "execution_count": 4,
   "metadata": {},
   "outputs": [],
   "source": [
    "from tangelo.algorithms.variational import VQESolver\n",
    "from tangelo.molecule_library import mol_H2_sto3g\n",
    "from tangelo.algorithms.variational import BuiltInAnsatze"
   ]
  },
  {
   "cell_type": "code",
   "execution_count": 5,
   "metadata": {},
   "outputs": [
    {
     "name": "stdout",
     "output_type": "stream",
     "text": [
      "-1.137267172271324\n"
     ]
    }
   ],
   "source": [
    "vqe_solver = VQESolver({\"molecule\": mol_H2_sto3g, \"up_then_down\": True, \"ansatz\": BuiltInAnsatze.HEA, \"qubit_mapping\": \"scbk\", \"ansatz_options\": {\"n_layers\": 1, \"rot_type\": \"real\"}})\n",
    "vqe_solver.build()\n",
    "print(vqe_solver.simulate())"
   ]
  },
  {
   "cell_type": "markdown",
   "metadata": {},
   "source": [
    "To use Montreal device qubits 0,1. We can obtaint the expectation value as normal."
   ]
  },
  {
   "cell_type": "code",
   "execution_count": 6,
   "metadata": {},
   "outputs": [
    {
     "data": {
      "text/plain": [
       "-1.0627380844095529"
      ]
     },
     "execution_count": 6,
     "metadata": {},
     "output_type": "execute_result"
    }
   ],
   "source": [
    "sim_montreal.get_expectation_value(vqe_solver.qubit_hamiltonian, vqe_solver.optimal_circuit)"
   ]
  },
  {
   "cell_type": "markdown",
   "metadata": {},
   "source": [
    "Looking at https://quantum-computing.ibm.com/services?services=systems, it appears that 19,20 are better qubits to use."
   ]
  },
  {
   "cell_type": "code",
   "execution_count": 7,
   "metadata": {},
   "outputs": [
    {
     "data": {
      "text/plain": [
       "-1.0913967693329196"
      ]
     },
     "execution_count": 7,
     "metadata": {},
     "output_type": "execute_result"
    }
   ],
   "source": [
    "sim_montreal.get_expectation_value(vqe_solver.qubit_hamiltonian, vqe_solver.optimal_circuit, qubits_to_use=[19,20])"
   ]
  },
  {
   "cell_type": "markdown",
   "metadata": {},
   "source": [
    "and indeed, you do get more accurate results using 19 and 20 compared to 0 and 1. \n",
    "\n",
    "Things to note. \n",
    "1. The qubits in the circuit must all be used and be in the `range(n_qubits)`. This can be done with the function `circuit.trim_qubits()`.\n",
    "2. You can reorder as you like with `qubits_to_list=[25,24,16,19]`\n",
    "3. The length of qubits_to_list must equal the number of qubits"
   ]
  },
  {
   "cell_type": "markdown",
   "metadata": {},
   "source": [
    "## Choosing optimization level\n",
    "Optimization level can be 0, 1, 2, 3. 3 being the most aggressive."
   ]
  },
  {
   "cell_type": "code",
   "execution_count": 8,
   "metadata": {},
   "outputs": [
    {
     "data": {
      "text/plain": [
       "-1.0880423431860027"
      ]
     },
     "execution_count": 8,
     "metadata": {},
     "output_type": "execute_result"
    }
   ],
   "source": [
    "sim_montreal.get_expectation_value(vqe_solver.qubit_hamiltonian, vqe_solver.optimal_circuit, qubits_to_use=[19,20], opt_level=3)"
   ]
  },
  {
   "cell_type": "markdown",
   "metadata": {},
   "source": [
    "It does not seem to do much here"
   ]
  },
  {
   "cell_type": "markdown",
   "metadata": {},
   "source": [
    "## measurement_error_mitigation\n",
    "This will take extra time as it reruns the calibration circuit for each of the $2^{n_{qubits}}$ labels for 10,000 shots for each time. It does appear to work quite well here though."
   ]
  },
  {
   "cell_type": "code",
   "execution_count": 9,
   "metadata": {},
   "outputs": [
    {
     "name": "stdout",
     "output_type": "stream",
     "text": [
      "{'101': 0.007, '011': 0.0003, '001': 0.0057, '100': 0.469, '000': 0.4691, '010': 0.026, '110': 0.0229}\n",
      "{'000': 0.5012422594931043, '100': 0.49649910395119895, '010': 0.0022586365556965565, '001': 1.283745462363206e-16, '101': 2.4089842533964176e-16, '111': 1.6061674559808558e-17}\n",
      "{'100': 0.4969, '000': 0.5031}\n"
     ]
    }
   ],
   "source": [
    "freqs_montreal_mitt, _ = sim_montreal.simulate(circuit, meas_mitt=True)\n",
    "\n",
    "print(freqs_montreal)\n",
    "print(freqs_montreal_mitt)\n",
    "print(freqs_ideal)"
   ]
  },
  {
   "cell_type": "code",
   "execution_count": 10,
   "metadata": {},
   "outputs": [
    {
     "data": {
      "text/plain": [
       "-1.129038350031206"
      ]
     },
     "execution_count": 10,
     "metadata": {},
     "output_type": "execute_result"
    }
   ],
   "source": [
    "sim_montreal.get_expectation_value(vqe_solver.qubit_hamiltonian, vqe_solver.optimal_circuit, qubits_to_use=[19,20], opt_level=3, meas_mitt=True)"
   ]
  }
 ],
 "metadata": {
  "interpreter": {
   "hash": "95050af2697fca56ed7491a4fb0b04c1282c0de0a7e0a7cacd318a8297b0b1d8"
  },
  "kernelspec": {
   "display_name": "tangelo_docs_aesthetics",
   "language": "python",
   "name": "python3"
  },
  "language_info": {
   "codemirror_mode": {
    "name": "ipython",
    "version": 3
   },
   "file_extension": ".py",
   "mimetype": "text/x-python",
   "name": "python",
   "nbconvert_exporter": "python",
   "pygments_lexer": "ipython3",
   "version": "3.9.10"
  }
 },
 "nbformat": 4,
 "nbformat_minor": 2
}
