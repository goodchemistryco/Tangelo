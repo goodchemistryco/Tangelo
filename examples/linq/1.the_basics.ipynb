{
 "cells": [
  {
   "cell_type": "markdown",
   "metadata": {},
   "source": [
    "# Linq: the basics"
   ]
  },
  {
   "cell_type": "markdown",
   "metadata": {},
   "source": [
    "[![Open In Colab](https://colab.research.google.com/assets/colab-badge.svg)](https://colab.research.google.com/github/goodchemistryco/Tangelo/blob/develop/examples/linq/1.the_basics.ipynb)"
   ]
  },
  {
   "cell_type": "markdown",
   "metadata": {},
   "source": [
    "`linq` is a submodule of `tangelo` that helps you connect to and leverage the features of various backends, may they be simulators or QPUs. This notebook talks about the abstract format used in Tangelo to represent a quantum circuit, and how we can then convert it to other formats or objects used in popular packages such as Braket, Qulacs, Qiskit, Cirq (...) and leverage the different features and performance these platforms offer.\n",
    "\n",
    "Write code once, run it on various platforms with minimal effort: no need to rewrite everything in order to port your project to a different hardware, or generate what you need for a publication. It also means that whatever new method or code you develop can just run on all the compute backends available.\n",
    "\n",
    "## Table of contents\n",
    "* [1. Abstract gate class](#1)\n",
    "* [2. Abstract circuit class](#2)\n",
    "* [3. Translator module](#3)\n",
    "* [4. Backends](#4)\n",
    "* [5. Beyond that](#end)\n",
    "\n",
    "The scope of this submodule goes beyond this, but this notebook only focuses on the basics: the abstract gate and circuit classes, as well as the `translator` and `simulator` modules. This should get you started with simulating a variety of quantum circuits, as well as computing expectation values of operators.\n",
    "\n",
    "\n",
    "---\n"
   ]
  },
  {
   "cell_type": "markdown",
   "metadata": {},
   "source": [
    "## Requirements\n",
    "\n",
    "In order to run the contents of this notebook, you need to have `tangelo` installed in your python environment. Some cells may require that a specific backend (such as `qiskit`, `qulacs`...) is installed to run. Please have a look at their installation instructions, if needed. Executing the cell below provides a quick way of installing the requirements of this notebook."
   ]
  },
  {
   "cell_type": "code",
   "execution_count": 1,
   "metadata": {},
   "outputs": [
    {
     "ename": "Exception",
     "evalue": "Could not deserialize ATN with version \u0003 (expected 4).",
     "output_type": "error",
     "traceback": [
      "\u001b[0;31m---------------------------------------------------------------------------\u001b[0m",
      "\u001b[0;31mException\u001b[0m                                 Traceback (most recent call last)",
      "Cell \u001b[0;32mIn [1], line 3\u001b[0m\n\u001b[1;32m      1\u001b[0m \u001b[38;5;66;03m# Installation of tangelo if not already installed.\u001b[39;00m\n\u001b[1;32m      2\u001b[0m \u001b[38;5;28;01mtry\u001b[39;00m:\n\u001b[0;32m----> 3\u001b[0m     \u001b[38;5;28;01mimport\u001b[39;00m \u001b[38;5;21;01mtangelo\u001b[39;00m\n\u001b[1;32m      4\u001b[0m \u001b[38;5;28;01mexcept\u001b[39;00m \u001b[38;5;167;01mModuleNotFoundError\u001b[39;00m:\n\u001b[1;32m      5\u001b[0m     get_ipython()\u001b[38;5;241m.\u001b[39msystem(\u001b[38;5;124m'\u001b[39m\u001b[38;5;124mpip install git+https://github.com/goodchemistryco/Tangelo.git@develop  --quiet\u001b[39m\u001b[38;5;124m'\u001b[39m)\n",
      "File \u001b[0;32m~/Desktop/virtualenvs/backend/lib/python3.8/site-packages/tangelo/__init__.py:16\u001b[0m\n\u001b[1;32m      1\u001b[0m \u001b[38;5;66;03m# Copyright 2021 Good Chemistry Company.\u001b[39;00m\n\u001b[1;32m      2\u001b[0m \u001b[38;5;66;03m#\u001b[39;00m\n\u001b[1;32m      3\u001b[0m \u001b[38;5;66;03m# Licensed under the Apache License, Version 2.0 (the \"License\");\u001b[39;00m\n\u001b[0;32m   (...)\u001b[0m\n\u001b[1;32m     12\u001b[0m \u001b[38;5;66;03m# See the License for the specific language governing permissions and\u001b[39;00m\n\u001b[1;32m     13\u001b[0m \u001b[38;5;66;03m# limitations under the License.\u001b[39;00m\n\u001b[0;32m---> 16\u001b[0m \u001b[38;5;28;01mfrom\u001b[39;00m \u001b[38;5;21;01mtangelo\u001b[39;00m\u001b[38;5;21;01m.\u001b[39;00m\u001b[38;5;21;01mtoolboxes\u001b[39;00m\u001b[38;5;21;01m.\u001b[39;00m\u001b[38;5;21;01mmolecular_computation\u001b[39;00m\u001b[38;5;21;01m.\u001b[39;00m\u001b[38;5;21;01mmolecule\u001b[39;00m \u001b[38;5;28;01mimport\u001b[39;00m Molecule, SecondQuantizedMolecule\n\u001b[1;32m     17\u001b[0m \u001b[38;5;28;01mfrom\u001b[39;00m \u001b[38;5;21;01mtangelo\u001b[39;00m\u001b[38;5;21;01m.\u001b[39;00m\u001b[38;5;21;01m_version\u001b[39;00m \u001b[38;5;28;01mimport\u001b[39;00m __version__\n",
      "File \u001b[0;32m~/Desktop/virtualenvs/backend/lib/python3.8/site-packages/tangelo/toolboxes/molecular_computation/molecule.py:30\u001b[0m\n\u001b[1;32m     27\u001b[0m \u001b[38;5;28;01mfrom\u001b[39;00m \u001b[38;5;21;01mopenfermion\u001b[39;00m\u001b[38;5;21;01m.\u001b[39;00m\u001b[38;5;21;01mops\u001b[39;00m\u001b[38;5;21;01m.\u001b[39;00m\u001b[38;5;21;01mrepresentations\u001b[39;00m\u001b[38;5;21;01m.\u001b[39;00m\u001b[38;5;21;01minteraction_operator\u001b[39;00m \u001b[38;5;28;01mimport\u001b[39;00m get_active_space_integrals \u001b[38;5;28;01mas\u001b[39;00m of_get_active_space_integrals\n\u001b[1;32m     29\u001b[0m \u001b[38;5;28;01mfrom\u001b[39;00m \u001b[38;5;21;01mtangelo\u001b[39;00m\u001b[38;5;21;01m.\u001b[39;00m\u001b[38;5;21;01mtoolboxes\u001b[39;00m\u001b[38;5;21;01m.\u001b[39;00m\u001b[38;5;21;01mmolecular_computation\u001b[39;00m\u001b[38;5;21;01m.\u001b[39;00m\u001b[38;5;21;01mfrozen_orbitals\u001b[39;00m \u001b[38;5;28;01mimport\u001b[39;00m get_frozen_core\n\u001b[0;32m---> 30\u001b[0m \u001b[38;5;28;01mfrom\u001b[39;00m \u001b[38;5;21;01mtangelo\u001b[39;00m\u001b[38;5;21;01m.\u001b[39;00m\u001b[38;5;21;01mtoolboxes\u001b[39;00m\u001b[38;5;21;01m.\u001b[39;00m\u001b[38;5;21;01mqubit_mappings\u001b[39;00m\u001b[38;5;21;01m.\u001b[39;00m\u001b[38;5;21;01mmapping_transform\u001b[39;00m \u001b[38;5;28;01mimport\u001b[39;00m get_fermion_operator\n\u001b[1;32m     33\u001b[0m \u001b[38;5;28;01mdef\u001b[39;00m \u001b[38;5;21matom_string_to_list\u001b[39m(atom_string):\n\u001b[1;32m     34\u001b[0m     \u001b[38;5;124;03m\"\"\"Convert atom coordinate string (typically stored in text files) into a\u001b[39;00m\n\u001b[1;32m     35\u001b[0m \u001b[38;5;124;03m    list/tuple representation suitable for openfermion.MolecularData.\u001b[39;00m\n\u001b[1;32m     36\u001b[0m \u001b[38;5;124;03m    \"\"\"\u001b[39;00m\n",
      "File \u001b[0;32m~/Desktop/virtualenvs/backend/lib/python3.8/site-packages/tangelo/toolboxes/qubit_mappings/__init__.py:18\u001b[0m\n\u001b[1;32m     16\u001b[0m \u001b[38;5;28;01mfrom\u001b[39;00m \u001b[38;5;21;01m.\u001b[39;00m\u001b[38;5;21;01mbravyi_kitaev\u001b[39;00m \u001b[38;5;28;01mimport\u001b[39;00m bravyi_kitaev\n\u001b[1;32m     17\u001b[0m \u001b[38;5;28;01mfrom\u001b[39;00m \u001b[38;5;21;01m.\u001b[39;00m\u001b[38;5;21;01msymmetry_conserving_bravyi_kitaev\u001b[39;00m \u001b[38;5;28;01mimport\u001b[39;00m symmetry_conserving_bravyi_kitaev\n\u001b[0;32m---> 18\u001b[0m \u001b[38;5;28;01mfrom\u001b[39;00m \u001b[38;5;21;01m.\u001b[39;00m\u001b[38;5;21;01mjkmn\u001b[39;00m \u001b[38;5;28;01mimport\u001b[39;00m jkmn\n",
      "File \u001b[0;32m~/Desktop/virtualenvs/backend/lib/python3.8/site-packages/tangelo/toolboxes/qubit_mappings/jkmn.py:18\u001b[0m\n\u001b[1;32m     15\u001b[0m \u001b[38;5;28;01mimport\u001b[39;00m \u001b[38;5;21;01mnumpy\u001b[39;00m \u001b[38;5;28;01mas\u001b[39;00m \u001b[38;5;21;01mnp\u001b[39;00m\n\u001b[1;32m     16\u001b[0m \u001b[38;5;28;01mfrom\u001b[39;00m \u001b[38;5;21;01mopenfermion\u001b[39;00m\u001b[38;5;21;01m.\u001b[39;00m\u001b[38;5;21;01mtransforms\u001b[39;00m\u001b[38;5;21;01m.\u001b[39;00m\u001b[38;5;21;01mopconversions\u001b[39;00m\u001b[38;5;21;01m.\u001b[39;00m\u001b[38;5;21;01mconversions\u001b[39;00m \u001b[38;5;28;01mimport\u001b[39;00m get_majorana_operator\n\u001b[0;32m---> 18\u001b[0m \u001b[38;5;28;01mfrom\u001b[39;00m \u001b[38;5;21;01mtangelo\u001b[39;00m\u001b[38;5;21;01m.\u001b[39;00m\u001b[38;5;21;01mtoolboxes\u001b[39;00m\u001b[38;5;21;01m.\u001b[39;00m\u001b[38;5;21;01moperators\u001b[39;00m \u001b[38;5;28;01mimport\u001b[39;00m QubitOperator\n\u001b[1;32m     20\u001b[0m sigma_map \u001b[38;5;241m=\u001b[39m {\u001b[38;5;124m\"\u001b[39m\u001b[38;5;124m0\u001b[39m\u001b[38;5;124m\"\u001b[39m: \u001b[38;5;124m\"\u001b[39m\u001b[38;5;124mX\u001b[39m\u001b[38;5;124m\"\u001b[39m, \u001b[38;5;124m\"\u001b[39m\u001b[38;5;124m1\u001b[39m\u001b[38;5;124m\"\u001b[39m: \u001b[38;5;124m\"\u001b[39m\u001b[38;5;124mY\u001b[39m\u001b[38;5;124m\"\u001b[39m, \u001b[38;5;124m\"\u001b[39m\u001b[38;5;124m2\u001b[39m\u001b[38;5;124m\"\u001b[39m: \u001b[38;5;124m\"\u001b[39m\u001b[38;5;124mZ\u001b[39m\u001b[38;5;124m\"\u001b[39m}\n\u001b[1;32m     23\u001b[0m \u001b[38;5;28;01mdef\u001b[39;00m \u001b[38;5;21m_node_value\u001b[39m(p, l):\n",
      "File \u001b[0;32m~/Desktop/virtualenvs/backend/lib/python3.8/site-packages/tangelo/toolboxes/operators/__init__.py:17\u001b[0m\n\u001b[1;32m     15\u001b[0m \u001b[38;5;28;01mfrom\u001b[39;00m \u001b[38;5;21;01m.\u001b[39;00m\u001b[38;5;21;01moperators\u001b[39;00m \u001b[38;5;28;01mimport\u001b[39;00m FermionOperator, QubitOperator, QubitHamiltonian\n\u001b[1;32m     16\u001b[0m \u001b[38;5;28;01mfrom\u001b[39;00m \u001b[38;5;21;01m.\u001b[39;00m\u001b[38;5;21;01moperators\u001b[39;00m \u001b[38;5;28;01mimport\u001b[39;00m count_qubits, normal_ordered, squared_normal_ordered, list_to_fermionoperator, qubitop_to_qubitham\n\u001b[0;32m---> 17\u001b[0m \u001b[38;5;28;01mfrom\u001b[39;00m \u001b[38;5;21;01m.\u001b[39;00m\u001b[38;5;21;01mmultiformoperator\u001b[39;00m \u001b[38;5;28;01mimport\u001b[39;00m MultiformOperator\n",
      "File \u001b[0;32m~/Desktop/virtualenvs/backend/lib/python3.8/site-packages/tangelo/toolboxes/operators/multiformoperator.py:25\u001b[0m\n\u001b[1;32m     21\u001b[0m \u001b[38;5;28;01mfrom\u001b[39;00m \u001b[38;5;21;01moperator\u001b[39;00m \u001b[38;5;28;01mimport\u001b[39;00m itemgetter\n\u001b[1;32m     23\u001b[0m \u001b[38;5;28;01mimport\u001b[39;00m \u001b[38;5;21;01mnumpy\u001b[39;00m \u001b[38;5;28;01mas\u001b[39;00m \u001b[38;5;21;01mnp\u001b[39;00m\n\u001b[0;32m---> 25\u001b[0m \u001b[38;5;28;01mfrom\u001b[39;00m \u001b[38;5;21;01mtangelo\u001b[39;00m\u001b[38;5;21;01m.\u001b[39;00m\u001b[38;5;21;01mhelpers\u001b[39;00m\u001b[38;5;21;01m.\u001b[39;00m\u001b[38;5;21;01mmath\u001b[39;00m \u001b[38;5;28;01mimport\u001b[39;00m bool_col_echelon\n\u001b[1;32m     26\u001b[0m \u001b[38;5;28;01mfrom\u001b[39;00m \u001b[38;5;21;01mtangelo\u001b[39;00m\u001b[38;5;21;01m.\u001b[39;00m\u001b[38;5;21;01mtoolboxes\u001b[39;00m\u001b[38;5;21;01m.\u001b[39;00m\u001b[38;5;21;01moperators\u001b[39;00m \u001b[38;5;28;01mimport\u001b[39;00m QubitOperator, count_qubits\n\u001b[1;32m     29\u001b[0m \u001b[38;5;28;01mclass\u001b[39;00m \u001b[38;5;21;01mMultiformOperator\u001b[39;00m(QubitOperator):\n",
      "File \u001b[0;32m~/Desktop/virtualenvs/backend/lib/python3.8/site-packages/tangelo/helpers/__init__.py:16\u001b[0m\n\u001b[1;32m      1\u001b[0m \u001b[38;5;66;03m# Copyright 2021 Good Chemistry Company.\u001b[39;00m\n\u001b[1;32m      2\u001b[0m \u001b[38;5;66;03m#\u001b[39;00m\n\u001b[1;32m      3\u001b[0m \u001b[38;5;66;03m# Licensed under the Apache License, Version 2.0 (the \"License\");\u001b[39;00m\n\u001b[0;32m   (...)\u001b[0m\n\u001b[1;32m     12\u001b[0m \u001b[38;5;66;03m# See the License for the specific language governing permissions and\u001b[39;00m\n\u001b[1;32m     13\u001b[0m \u001b[38;5;66;03m# limitations under the License.\u001b[39;00m\n\u001b[1;32m     15\u001b[0m \u001b[38;5;28;01mfrom\u001b[39;00m \u001b[38;5;21;01m.\u001b[39;00m\u001b[38;5;21;01mutils\u001b[39;00m \u001b[38;5;28;01mimport\u001b[39;00m \u001b[38;5;241m*\u001b[39m\n\u001b[0;32m---> 16\u001b[0m \u001b[38;5;28;01mfrom\u001b[39;00m \u001b[38;5;21;01mtangelo\u001b[39;00m\u001b[38;5;21;01m.\u001b[39;00m\u001b[38;5;21;01mlinq\u001b[39;00m\u001b[38;5;21;01m.\u001b[39;00m\u001b[38;5;21;01mhelpers\u001b[39;00m \u001b[38;5;28;01mimport\u001b[39;00m \u001b[38;5;241m*\u001b[39m\n",
      "File \u001b[0;32m~/Desktop/virtualenvs/backend/lib/python3.8/site-packages/tangelo/linq/__init__.py:17\u001b[0m\n\u001b[1;32m     15\u001b[0m \u001b[38;5;28;01mfrom\u001b[39;00m \u001b[38;5;21;01m.\u001b[39;00m\u001b[38;5;21;01mgate\u001b[39;00m \u001b[38;5;28;01mimport\u001b[39;00m \u001b[38;5;241m*\u001b[39m\n\u001b[1;32m     16\u001b[0m \u001b[38;5;28;01mfrom\u001b[39;00m \u001b[38;5;21;01m.\u001b[39;00m\u001b[38;5;21;01mcircuit\u001b[39;00m \u001b[38;5;28;01mimport\u001b[39;00m Circuit, stack, remove_small_rotations, remove_redundant_gates\n\u001b[0;32m---> 17\u001b[0m \u001b[38;5;28;01mfrom\u001b[39;00m \u001b[38;5;21;01m.\u001b[39;00m\u001b[38;5;21;01mtranslator\u001b[39;00m \u001b[38;5;28;01mimport\u001b[39;00m \u001b[38;5;241m*\u001b[39m\n\u001b[1;32m     18\u001b[0m \u001b[38;5;28;01mfrom\u001b[39;00m \u001b[38;5;21;01m.\u001b[39;00m\u001b[38;5;21;01msimulator\u001b[39;00m \u001b[38;5;28;01mimport\u001b[39;00m get_backend\n\u001b[1;32m     19\u001b[0m \u001b[38;5;28;01mfrom\u001b[39;00m \u001b[38;5;21;01mtangelo\u001b[39;00m\u001b[38;5;21;01m.\u001b[39;00m\u001b[38;5;21;01mlinq\u001b[39;00m\u001b[38;5;21;01m.\u001b[39;00m\u001b[38;5;21;01mtarget\u001b[39;00m\u001b[38;5;21;01m.\u001b[39;00m\u001b[38;5;21;01mbackend\u001b[39;00m \u001b[38;5;28;01mimport\u001b[39;00m get_expectation_value_from_frequencies_oneterm\n",
      "File \u001b[0;32m~/Desktop/virtualenvs/backend/lib/python3.8/site-packages/tangelo/linq/translator/__init__.py:43\u001b[0m\n\u001b[1;32m     39\u001b[0m         supported_gates[v] \u001b[38;5;241m=\u001b[39m \u001b[38;5;28msorted\u001b[39m(\u001b[38;5;28meval\u001b[39m(\u001b[38;5;124mf\u001b[39m\u001b[38;5;124m'\u001b[39m\u001b[38;5;124mget_\u001b[39m\u001b[38;5;132;01m{\u001b[39;00mv\u001b[38;5;132;01m}\u001b[39;00m\u001b[38;5;124m_gates().keys()\u001b[39m\u001b[38;5;124m'\u001b[39m))\n\u001b[1;32m     40\u001b[0m     \u001b[38;5;28;01mreturn\u001b[39;00m supported_gates\n\u001b[0;32m---> 43\u001b[0m supported_gates \u001b[38;5;241m=\u001b[39m \u001b[43mget_supported_gates\u001b[49m\u001b[43m(\u001b[49m\u001b[43m)\u001b[49m\n",
      "File \u001b[0;32m~/Desktop/virtualenvs/backend/lib/python3.8/site-packages/tangelo/linq/translator/__init__.py:39\u001b[0m, in \u001b[0;36mget_supported_gates\u001b[0;34m()\u001b[0m\n\u001b[1;32m     36\u001b[0m supported_gates[\u001b[38;5;124m\"\u001b[39m\u001b[38;5;124mopenqasm\u001b[39m\u001b[38;5;124m\"\u001b[39m] \u001b[38;5;241m=\u001b[39m \u001b[38;5;28msorted\u001b[39m(get_openqasm_gates()\u001b[38;5;241m.\u001b[39mkeys())\n\u001b[1;32m     38\u001b[0m \u001b[38;5;28;01mfor\u001b[39;00m v \u001b[38;5;129;01min\u001b[39;00m installed_backends:\n\u001b[0;32m---> 39\u001b[0m     supported_gates[v] \u001b[38;5;241m=\u001b[39m \u001b[38;5;28msorted\u001b[39m(\u001b[38;5;28;43meval\u001b[39;49m\u001b[43m(\u001b[49m\u001b[38;5;124;43mf\u001b[39;49m\u001b[38;5;124;43m'\u001b[39;49m\u001b[38;5;124;43mget_\u001b[39;49m\u001b[38;5;132;43;01m{\u001b[39;49;00m\u001b[43mv\u001b[49m\u001b[38;5;132;43;01m}\u001b[39;49;00m\u001b[38;5;124;43m_gates().keys()\u001b[39;49m\u001b[38;5;124;43m'\u001b[39;49m\u001b[43m)\u001b[49m)\n\u001b[1;32m     40\u001b[0m \u001b[38;5;28;01mreturn\u001b[39;00m supported_gates\n",
      "File \u001b[0;32m<string>:1\u001b[0m\n",
      "File \u001b[0;32m~/Desktop/virtualenvs/backend/lib/python3.8/site-packages/tangelo/linq/translator/translate_braket.py:35\u001b[0m, in \u001b[0;36mget_braket_gates\u001b[0;34m()\u001b[0m\n\u001b[1;32m     29\u001b[0m \u001b[38;5;28;01mdef\u001b[39;00m \u001b[38;5;21mget_braket_gates\u001b[39m():\n\u001b[1;32m     30\u001b[0m     \u001b[38;5;124;03m\"\"\"Map gate name of the abstract format to the equivalent methods of the\u001b[39;00m\n\u001b[1;32m     31\u001b[0m \u001b[38;5;124;03m    braket.circuits.Circuit class API and supported gates:\u001b[39;00m\n\u001b[1;32m     32\u001b[0m \u001b[38;5;124;03m    https://amazon-braket-sdk-python.readthedocs.io/en/latest/_apidoc/braket.circuits.circuit.html\u001b[39;00m\n\u001b[1;32m     33\u001b[0m \u001b[38;5;124;03m    \"\"\"\u001b[39;00m\n\u001b[0;32m---> 35\u001b[0m     \u001b[38;5;28;01mfrom\u001b[39;00m \u001b[38;5;21;01mbraket\u001b[39;00m\u001b[38;5;21;01m.\u001b[39;00m\u001b[38;5;21;01mcircuits\u001b[39;00m \u001b[38;5;28;01mimport\u001b[39;00m Circuit \u001b[38;5;28;01mas\u001b[39;00m BraketCircuit\n\u001b[1;32m     37\u001b[0m     GATE_BRAKET \u001b[38;5;241m=\u001b[39m \u001b[38;5;28mdict\u001b[39m()\n\u001b[1;32m     38\u001b[0m     GATE_BRAKET[\u001b[38;5;124m\"\u001b[39m\u001b[38;5;124mH\u001b[39m\u001b[38;5;124m\"\u001b[39m] \u001b[38;5;241m=\u001b[39m BraketCircuit\u001b[38;5;241m.\u001b[39mh\n",
      "File \u001b[0;32m~/Desktop/virtualenvs/backend/lib/python3.8/site-packages/braket/circuits/__init__.py:14\u001b[0m\n\u001b[1;32m      1\u001b[0m \u001b[38;5;66;03m# Copyright Amazon.com Inc. or its affiliates. All Rights Reserved.\u001b[39;00m\n\u001b[1;32m      2\u001b[0m \u001b[38;5;66;03m#\u001b[39;00m\n\u001b[1;32m      3\u001b[0m \u001b[38;5;66;03m# Licensed under the Apache License, Version 2.0 (the \"License\"). You\u001b[39;00m\n\u001b[0;32m   (...)\u001b[0m\n\u001b[1;32m     11\u001b[0m \u001b[38;5;66;03m# ANY KIND, either express or implied. See the License for the specific\u001b[39;00m\n\u001b[1;32m     12\u001b[0m \u001b[38;5;66;03m# language governing permissions and limitations under the License.\u001b[39;00m\n\u001b[0;32m---> 14\u001b[0m \u001b[38;5;28;01mfrom\u001b[39;00m \u001b[38;5;21;01mbraket\u001b[39;00m\u001b[38;5;21;01m.\u001b[39;00m\u001b[38;5;21;01mcircuits\u001b[39;00m \u001b[38;5;28;01mimport\u001b[39;00m (  \u001b[38;5;66;03m# noqa: F401\u001b[39;00m\n\u001b[1;32m     15\u001b[0m     circuit,\n\u001b[1;32m     16\u001b[0m     compiler_directives,\n\u001b[1;32m     17\u001b[0m     gates,\n\u001b[1;32m     18\u001b[0m     noises,\n\u001b[1;32m     19\u001b[0m     observables,\n\u001b[1;32m     20\u001b[0m     result_types,\n\u001b[1;32m     21\u001b[0m )\n\u001b[1;32m     22\u001b[0m \u001b[38;5;28;01mfrom\u001b[39;00m \u001b[38;5;21;01mbraket\u001b[39;00m\u001b[38;5;21;01m.\u001b[39;00m\u001b[38;5;21;01mcircuits\u001b[39;00m\u001b[38;5;21;01m.\u001b[39;00m\u001b[38;5;21;01mangled_gate\u001b[39;00m \u001b[38;5;28;01mimport\u001b[39;00m AngledGate  \u001b[38;5;66;03m# noqa: F401\u001b[39;00m\n\u001b[1;32m     23\u001b[0m \u001b[38;5;28;01mfrom\u001b[39;00m \u001b[38;5;21;01mbraket\u001b[39;00m\u001b[38;5;21;01m.\u001b[39;00m\u001b[38;5;21;01mcircuits\u001b[39;00m\u001b[38;5;21;01m.\u001b[39;00m\u001b[38;5;21;01mascii_circuit_diagram\u001b[39;00m \u001b[38;5;28;01mimport\u001b[39;00m AsciiCircuitDiagram  \u001b[38;5;66;03m# noqa: F401\u001b[39;00m\n",
      "File \u001b[0;32m~/Desktop/virtualenvs/backend/lib/python3.8/site-packages/braket/circuits/circuit.py:51\u001b[0m\n\u001b[1;32m     44\u001b[0m \u001b[38;5;28;01mfrom\u001b[39;00m \u001b[38;5;21;01mbraket\u001b[39;00m\u001b[38;5;21;01m.\u001b[39;00m\u001b[38;5;21;01mcircuits\u001b[39;00m\u001b[38;5;21;01m.\u001b[39;00m\u001b[38;5;21;01mresult_type\u001b[39;00m \u001b[38;5;28;01mimport\u001b[39;00m ObservableResultType, ResultType\n\u001b[1;32m     45\u001b[0m \u001b[38;5;28;01mfrom\u001b[39;00m \u001b[38;5;21;01mbraket\u001b[39;00m\u001b[38;5;21;01m.\u001b[39;00m\u001b[38;5;21;01mcircuits\u001b[39;00m\u001b[38;5;21;01m.\u001b[39;00m\u001b[38;5;21;01mserialization\u001b[39;00m \u001b[38;5;28;01mimport\u001b[39;00m (\n\u001b[1;32m     46\u001b[0m     IRType,\n\u001b[1;32m     47\u001b[0m     OpenQASMSerializationProperties,\n\u001b[1;32m     48\u001b[0m     QubitReferenceType,\n\u001b[1;32m     49\u001b[0m     SerializationProperties,\n\u001b[1;32m     50\u001b[0m )\n\u001b[0;32m---> 51\u001b[0m \u001b[38;5;28;01mfrom\u001b[39;00m \u001b[38;5;21;01mbraket\u001b[39;00m\u001b[38;5;21;01m.\u001b[39;00m\u001b[38;5;21;01mcircuits\u001b[39;00m\u001b[38;5;21;01m.\u001b[39;00m\u001b[38;5;21;01munitary_calculation\u001b[39;00m \u001b[38;5;28;01mimport\u001b[39;00m calculate_unitary, calculate_unitary_big_endian\n\u001b[1;32m     52\u001b[0m \u001b[38;5;28;01mfrom\u001b[39;00m \u001b[38;5;21;01mbraket\u001b[39;00m\u001b[38;5;21;01m.\u001b[39;00m\u001b[38;5;21;01mir\u001b[39;00m\u001b[38;5;21;01m.\u001b[39;00m\u001b[38;5;21;01mjaqcd\u001b[39;00m \u001b[38;5;28;01mimport\u001b[39;00m Program \u001b[38;5;28;01mas\u001b[39;00m JaqcdProgram\n\u001b[1;32m     53\u001b[0m \u001b[38;5;28;01mfrom\u001b[39;00m \u001b[38;5;21;01mbraket\u001b[39;00m\u001b[38;5;21;01m.\u001b[39;00m\u001b[38;5;21;01mir\u001b[39;00m\u001b[38;5;21;01m.\u001b[39;00m\u001b[38;5;21;01mopenqasm\u001b[39;00m \u001b[38;5;28;01mimport\u001b[39;00m Program \u001b[38;5;28;01mas\u001b[39;00m OpenQasmProgram\n",
      "File \u001b[0;32m~/Desktop/virtualenvs/backend/lib/python3.8/site-packages/braket/circuits/unitary_calculation.py:21\u001b[0m\n\u001b[1;32m     19\u001b[0m \u001b[38;5;28;01mfrom\u001b[39;00m \u001b[38;5;21;01mbraket\u001b[39;00m\u001b[38;5;21;01m.\u001b[39;00m\u001b[38;5;21;01mcircuits\u001b[39;00m\u001b[38;5;21;01m.\u001b[39;00m\u001b[38;5;21;01minstruction\u001b[39;00m \u001b[38;5;28;01mimport\u001b[39;00m Instruction\n\u001b[1;32m     20\u001b[0m \u001b[38;5;28;01mfrom\u001b[39;00m \u001b[38;5;21;01mbraket\u001b[39;00m\u001b[38;5;21;01m.\u001b[39;00m\u001b[38;5;21;01mcircuits\u001b[39;00m\u001b[38;5;21;01m.\u001b[39;00m\u001b[38;5;21;01mqubit_set\u001b[39;00m \u001b[38;5;28;01mimport\u001b[39;00m QubitSet\n\u001b[0;32m---> 21\u001b[0m \u001b[38;5;28;01mfrom\u001b[39;00m \u001b[38;5;21;01mbraket\u001b[39;00m\u001b[38;5;21;01m.\u001b[39;00m\u001b[38;5;21;01mdefault_simulator\u001b[39;00m\u001b[38;5;21;01m.\u001b[39;00m\u001b[38;5;21;01mlinalg_utils\u001b[39;00m \u001b[38;5;28;01mimport\u001b[39;00m multiply_matrix\n\u001b[1;32m     24\u001b[0m \u001b[38;5;28;01mdef\u001b[39;00m \u001b[38;5;21m_einsum_subscripts\u001b[39m(targets: QubitSet, qubit_count: \u001b[38;5;28mint\u001b[39m) \u001b[38;5;241m-\u001b[39m\u001b[38;5;241m>\u001b[39m \u001b[38;5;28mstr\u001b[39m:\n\u001b[1;32m     25\u001b[0m     target_count \u001b[38;5;241m=\u001b[39m \u001b[38;5;28mlen\u001b[39m(targets)\n",
      "File \u001b[0;32m~/Desktop/virtualenvs/backend/lib/python3.8/site-packages/braket/default_simulator/__init__.py:23\u001b[0m\n\u001b[1;32m     16\u001b[0m \u001b[38;5;28;01mfrom\u001b[39;00m \u001b[38;5;21;01mbraket\u001b[39;00m\u001b[38;5;21;01m.\u001b[39;00m\u001b[38;5;21;01mdefault_simulator\u001b[39;00m \u001b[38;5;28;01mimport\u001b[39;00m (  \u001b[38;5;66;03m# noqa: F401\u001b[39;00m\n\u001b[1;32m     17\u001b[0m     gate_operations,\n\u001b[1;32m     18\u001b[0m     noise_operations,\n\u001b[1;32m     19\u001b[0m     observables,\n\u001b[1;32m     20\u001b[0m     result_types,\n\u001b[1;32m     21\u001b[0m )\n\u001b[1;32m     22\u001b[0m \u001b[38;5;28;01mfrom\u001b[39;00m \u001b[38;5;21;01mbraket\u001b[39;00m\u001b[38;5;21;01m.\u001b[39;00m\u001b[38;5;21;01mdefault_simulator\u001b[39;00m\u001b[38;5;21;01m.\u001b[39;00m\u001b[38;5;21;01mdensity_matrix_simulation\u001b[39;00m \u001b[38;5;28;01mimport\u001b[39;00m DensityMatrixSimulation  \u001b[38;5;66;03m# noqa: F401\u001b[39;00m\n\u001b[0;32m---> 23\u001b[0m \u001b[38;5;28;01mfrom\u001b[39;00m \u001b[38;5;21;01mbraket\u001b[39;00m\u001b[38;5;21;01m.\u001b[39;00m\u001b[38;5;21;01mdefault_simulator\u001b[39;00m\u001b[38;5;21;01m.\u001b[39;00m\u001b[38;5;21;01mdensity_matrix_simulator\u001b[39;00m \u001b[38;5;28;01mimport\u001b[39;00m DensityMatrixSimulator  \u001b[38;5;66;03m# noqa: F401\u001b[39;00m\n\u001b[1;32m     24\u001b[0m \u001b[38;5;28;01mfrom\u001b[39;00m \u001b[38;5;21;01mbraket\u001b[39;00m\u001b[38;5;21;01m.\u001b[39;00m\u001b[38;5;21;01mdefault_simulator\u001b[39;00m\u001b[38;5;21;01m.\u001b[39;00m\u001b[38;5;21;01moperation\u001b[39;00m \u001b[38;5;28;01mimport\u001b[39;00m (  \u001b[38;5;66;03m# noqa: F401\u001b[39;00m\n\u001b[1;32m     25\u001b[0m     GateOperation,\n\u001b[1;32m     26\u001b[0m     KrausOperation,\n\u001b[1;32m     27\u001b[0m     Observable,\n\u001b[1;32m     28\u001b[0m )\n\u001b[1;32m     29\u001b[0m \u001b[38;5;28;01mfrom\u001b[39;00m \u001b[38;5;21;01mbraket\u001b[39;00m\u001b[38;5;21;01m.\u001b[39;00m\u001b[38;5;21;01mdefault_simulator\u001b[39;00m\u001b[38;5;21;01m.\u001b[39;00m\u001b[38;5;21;01mstate_vector_simulation\u001b[39;00m \u001b[38;5;28;01mimport\u001b[39;00m StateVectorSimulation  \u001b[38;5;66;03m# noqa: F401\u001b[39;00m\n",
      "File \u001b[0;32m~/Desktop/virtualenvs/backend/lib/python3.8/site-packages/braket/default_simulator/density_matrix_simulator.py:22\u001b[0m\n\u001b[1;32m     16\u001b[0m \u001b[38;5;28;01mfrom\u001b[39;00m \u001b[38;5;21;01mbraket\u001b[39;00m\u001b[38;5;21;01m.\u001b[39;00m\u001b[38;5;21;01mdevice_schema\u001b[39;00m\u001b[38;5;21;01m.\u001b[39;00m\u001b[38;5;21;01msimulators\u001b[39;00m \u001b[38;5;28;01mimport\u001b[39;00m (\n\u001b[1;32m     17\u001b[0m     GateModelSimulatorDeviceCapabilities,\n\u001b[1;32m     18\u001b[0m     GateModelSimulatorDeviceParameters,\n\u001b[1;32m     19\u001b[0m )\n\u001b[1;32m     21\u001b[0m \u001b[38;5;28;01mfrom\u001b[39;00m \u001b[38;5;21;01mbraket\u001b[39;00m\u001b[38;5;21;01m.\u001b[39;00m\u001b[38;5;21;01mdefault_simulator\u001b[39;00m \u001b[38;5;28;01mimport\u001b[39;00m DensityMatrixSimulation\n\u001b[0;32m---> 22\u001b[0m \u001b[38;5;28;01mfrom\u001b[39;00m \u001b[38;5;21;01mbraket\u001b[39;00m\u001b[38;5;21;01m.\u001b[39;00m\u001b[38;5;21;01mdefault_simulator\u001b[39;00m\u001b[38;5;21;01m.\u001b[39;00m\u001b[38;5;21;01msimulator\u001b[39;00m \u001b[38;5;28;01mimport\u001b[39;00m BaseLocalSimulator\n\u001b[1;32m     25\u001b[0m \u001b[38;5;28;01mclass\u001b[39;00m \u001b[38;5;21;01mDensityMatrixSimulator\u001b[39;00m(BaseLocalSimulator):\n\u001b[1;32m     26\u001b[0m     DEVICE_ID \u001b[38;5;241m=\u001b[39m \u001b[38;5;124m\"\u001b[39m\u001b[38;5;124mbraket_dm\u001b[39m\u001b[38;5;124m\"\u001b[39m\n",
      "File \u001b[0;32m~/Desktop/virtualenvs/backend/lib/python3.8/site-packages/braket/default_simulator/simulator.py:31\u001b[0m\n\u001b[1;32m     29\u001b[0m \u001b[38;5;28;01mfrom\u001b[39;00m \u001b[38;5;21;01mbraket\u001b[39;00m\u001b[38;5;21;01m.\u001b[39;00m\u001b[38;5;21;01mdefault_simulator\u001b[39;00m\u001b[38;5;21;01m.\u001b[39;00m\u001b[38;5;21;01mobservables\u001b[39;00m \u001b[38;5;28;01mimport\u001b[39;00m Hermitian, TensorProduct\n\u001b[1;32m     30\u001b[0m \u001b[38;5;28;01mfrom\u001b[39;00m \u001b[38;5;21;01mbraket\u001b[39;00m\u001b[38;5;21;01m.\u001b[39;00m\u001b[38;5;21;01mdefault_simulator\u001b[39;00m\u001b[38;5;21;01m.\u001b[39;00m\u001b[38;5;21;01mopenqasm\u001b[39;00m\u001b[38;5;21;01m.\u001b[39;00m\u001b[38;5;21;01mcircuit\u001b[39;00m \u001b[38;5;28;01mimport\u001b[39;00m Circuit\n\u001b[0;32m---> 31\u001b[0m \u001b[38;5;28;01mfrom\u001b[39;00m \u001b[38;5;21;01mbraket\u001b[39;00m\u001b[38;5;21;01m.\u001b[39;00m\u001b[38;5;21;01mdefault_simulator\u001b[39;00m\u001b[38;5;21;01m.\u001b[39;00m\u001b[38;5;21;01mopenqasm\u001b[39;00m\u001b[38;5;21;01m.\u001b[39;00m\u001b[38;5;21;01minterpreter\u001b[39;00m \u001b[38;5;28;01mimport\u001b[39;00m Interpreter\n\u001b[1;32m     32\u001b[0m \u001b[38;5;28;01mfrom\u001b[39;00m \u001b[38;5;21;01mbraket\u001b[39;00m\u001b[38;5;21;01m.\u001b[39;00m\u001b[38;5;21;01mdefault_simulator\u001b[39;00m\u001b[38;5;21;01m.\u001b[39;00m\u001b[38;5;21;01moperation\u001b[39;00m \u001b[38;5;28;01mimport\u001b[39;00m Observable, Operation\n\u001b[1;32m     33\u001b[0m \u001b[38;5;28;01mfrom\u001b[39;00m \u001b[38;5;21;01mbraket\u001b[39;00m\u001b[38;5;21;01m.\u001b[39;00m\u001b[38;5;21;01mdefault_simulator\u001b[39;00m\u001b[38;5;21;01m.\u001b[39;00m\u001b[38;5;21;01moperation_helpers\u001b[39;00m \u001b[38;5;28;01mimport\u001b[39;00m from_braket_instruction\n",
      "File \u001b[0;32m~/Desktop/virtualenvs/backend/lib/python3.8/site-packages/braket/default_simulator/openqasm/interpreter.py:88\u001b[0m\n\u001b[1;32m     40\u001b[0m \u001b[38;5;28;01mfrom\u001b[39;00m \u001b[38;5;21;01m.\u001b[39;00m\u001b[38;5;21;01mcircuit\u001b[39;00m \u001b[38;5;28;01mimport\u001b[39;00m Circuit\n\u001b[1;32m     41\u001b[0m \u001b[38;5;28;01mfrom\u001b[39;00m \u001b[38;5;21;01m.\u001b[39;00m\u001b[38;5;21;01mparser\u001b[39;00m\u001b[38;5;21;01m.\u001b[39;00m\u001b[38;5;21;01mopenqasm_ast\u001b[39;00m \u001b[38;5;28;01mimport\u001b[39;00m (\n\u001b[1;32m     42\u001b[0m     AccessControl,\n\u001b[1;32m     43\u001b[0m     ArrayLiteral,\n\u001b[0;32m   (...)\u001b[0m\n\u001b[1;32m     86\u001b[0m     WhileLoop,\n\u001b[1;32m     87\u001b[0m )\n\u001b[0;32m---> 88\u001b[0m \u001b[38;5;28;01mfrom\u001b[39;00m \u001b[38;5;21;01m.\u001b[39;00m\u001b[38;5;21;01mparser\u001b[39;00m\u001b[38;5;21;01m.\u001b[39;00m\u001b[38;5;21;01mopenqasm_parser\u001b[39;00m \u001b[38;5;28;01mimport\u001b[39;00m parse\n\u001b[1;32m     89\u001b[0m \u001b[38;5;28;01mfrom\u001b[39;00m \u001b[38;5;21;01m.\u001b[39;00m\u001b[38;5;21;01mprogram_context\u001b[39;00m \u001b[38;5;28;01mimport\u001b[39;00m ProgramContext\n\u001b[1;32m     92\u001b[0m \u001b[38;5;28;01mclass\u001b[39;00m \u001b[38;5;21;01mInterpreter\u001b[39;00m:\n",
      "File \u001b[0;32m~/Desktop/virtualenvs/backend/lib/python3.8/site-packages/braket/default_simulator/openqasm/parser/openqasm_parser.py:54\u001b[0m\n\u001b[1;32m     48\u001b[0m     \u001b[38;5;28;01mraise\u001b[39;00m \u001b[38;5;167;01mImportError\u001b[39;00m(\n\u001b[1;32m     49\u001b[0m         \u001b[38;5;124m\"\u001b[39m\u001b[38;5;124mParsing is not available unless the [parser] extra is installed,\u001b[39m\u001b[38;5;124m\"\u001b[39m\n\u001b[1;32m     50\u001b[0m         \u001b[38;5;124m\"\u001b[39m\u001b[38;5;124m such as by \u001b[39m\u001b[38;5;124m'\u001b[39m\u001b[38;5;124mpip install openqasm3[parser]\u001b[39m\u001b[38;5;124m'\u001b[39m\u001b[38;5;124m.\u001b[39m\u001b[38;5;124m\"\u001b[39m\n\u001b[1;32m     51\u001b[0m     ) \u001b[38;5;28;01mfrom\u001b[39;00m \u001b[38;5;21;01mexc\u001b[39;00m\n\u001b[1;32m     53\u001b[0m \u001b[38;5;28;01mfrom\u001b[39;00m \u001b[38;5;21;01m.\u001b[39;00m \u001b[38;5;28;01mimport\u001b[39;00m openqasm_ast \u001b[38;5;28;01mas\u001b[39;00m ast\n\u001b[0;32m---> 54\u001b[0m \u001b[38;5;28;01mfrom\u001b[39;00m \u001b[38;5;21;01m.\u001b[39;00m\u001b[38;5;21;01mgenerated\u001b[39;00m\u001b[38;5;21;01m.\u001b[39;00m\u001b[38;5;21;01mqasm3Lexer\u001b[39;00m \u001b[38;5;28;01mimport\u001b[39;00m qasm3Lexer\n\u001b[1;32m     55\u001b[0m \u001b[38;5;28;01mfrom\u001b[39;00m \u001b[38;5;21;01m.\u001b[39;00m\u001b[38;5;21;01mgenerated\u001b[39;00m\u001b[38;5;21;01m.\u001b[39;00m\u001b[38;5;21;01mqasm3Parser\u001b[39;00m \u001b[38;5;28;01mimport\u001b[39;00m qasm3Parser\n\u001b[1;32m     56\u001b[0m \u001b[38;5;28;01mfrom\u001b[39;00m \u001b[38;5;21;01m.\u001b[39;00m\u001b[38;5;21;01mgenerated\u001b[39;00m\u001b[38;5;21;01m.\u001b[39;00m\u001b[38;5;21;01mqasm3ParserVisitor\u001b[39;00m \u001b[38;5;28;01mimport\u001b[39;00m qasm3ParserVisitor\n",
      "File \u001b[0;32m~/Desktop/virtualenvs/backend/lib/python3.8/site-packages/braket/default_simulator/openqasm/parser/generated/qasm3Lexer.py:588\u001b[0m\n\u001b[1;32m    584\u001b[0m         buf\u001b[38;5;241m.\u001b[39mwrite(\u001b[38;5;124m\"\u001b[39m\u001b[38;5;130;01m\\u037b\u001b[39;00m\u001b[38;5;130;01m\\6\u001b[39;00m\u001b[38;5;130;01m\\7\u001b[39;00m\u001b[38;5;130;01m\\3\u001b[39;00m\u001b[38;5;130;01m\\2\u001b[39;00m\u001b[38;5;130;01m\\7\u001b[39;00m\u001b[38;5;130;01m\\4\u001b[39;00m\u001b[38;5;130;01m\\2\u001b[39;00m\u001b[38;5;130;01m\\b\u001b[39;00m\u001b[38;5;130;01m\\2\u001b[39;00m\u001b[38;5;130;01m\\2\u001b[39;00m\u001b[38;5;130;01m\\6\u001b[39;00m\u001b[38;5;130;01m\\2\u001b[39;00m\u001b[38;5;130;01m\\2\u001b[39;00m\u001b[38;5;124m\"\u001b[39m)\n\u001b[1;32m    585\u001b[0m         \u001b[38;5;28;01mreturn\u001b[39;00m buf\u001b[38;5;241m.\u001b[39mgetvalue()\n\u001b[0;32m--> 588\u001b[0m \u001b[38;5;28;01mclass\u001b[39;00m \u001b[38;5;21;01mqasm3Lexer\u001b[39;00m(Lexer):\n\u001b[1;32m    590\u001b[0m     atn \u001b[38;5;241m=\u001b[39m ATNDeserializer()\u001b[38;5;241m.\u001b[39mdeserialize(serializedATN())\n\u001b[1;32m    592\u001b[0m     decisionsToDFA \u001b[38;5;241m=\u001b[39m [ DFA(ds, i) \u001b[38;5;28;01mfor\u001b[39;00m i, ds \u001b[38;5;129;01min\u001b[39;00m \u001b[38;5;28menumerate\u001b[39m(atn\u001b[38;5;241m.\u001b[39mdecisionToState) ]\n",
      "File \u001b[0;32m~/Desktop/virtualenvs/backend/lib/python3.8/site-packages/braket/default_simulator/openqasm/parser/generated/qasm3Lexer.py:590\u001b[0m, in \u001b[0;36mqasm3Lexer\u001b[0;34m()\u001b[0m\n\u001b[1;32m    588\u001b[0m \u001b[38;5;28;01mclass\u001b[39;00m \u001b[38;5;21;01mqasm3Lexer\u001b[39;00m(Lexer):\n\u001b[0;32m--> 590\u001b[0m     atn \u001b[38;5;241m=\u001b[39m \u001b[43mATNDeserializer\u001b[49m\u001b[43m(\u001b[49m\u001b[43m)\u001b[49m\u001b[38;5;241;43m.\u001b[39;49m\u001b[43mdeserialize\u001b[49m\u001b[43m(\u001b[49m\u001b[43mserializedATN\u001b[49m\u001b[43m(\u001b[49m\u001b[43m)\u001b[49m\u001b[43m)\u001b[49m\n\u001b[1;32m    592\u001b[0m     decisionsToDFA \u001b[38;5;241m=\u001b[39m [ DFA(ds, i) \u001b[38;5;28;01mfor\u001b[39;00m i, ds \u001b[38;5;129;01min\u001b[39;00m \u001b[38;5;28menumerate\u001b[39m(atn\u001b[38;5;241m.\u001b[39mdecisionToState) ]\n\u001b[1;32m    594\u001b[0m     VERSION_IDENTIFIER \u001b[38;5;241m=\u001b[39m \u001b[38;5;241m1\u001b[39m\n",
      "File \u001b[0;32m~/Desktop/virtualenvs/backend/lib/python3.8/site-packages/antlr4/atn/ATNDeserializer.py:28\u001b[0m, in \u001b[0;36mATNDeserializer.deserialize\u001b[0;34m(self, data)\u001b[0m\n\u001b[1;32m     26\u001b[0m \u001b[38;5;28mself\u001b[39m\u001b[38;5;241m.\u001b[39mdata \u001b[38;5;241m=\u001b[39m data\n\u001b[1;32m     27\u001b[0m \u001b[38;5;28mself\u001b[39m\u001b[38;5;241m.\u001b[39mpos \u001b[38;5;241m=\u001b[39m \u001b[38;5;241m0\u001b[39m\n\u001b[0;32m---> 28\u001b[0m \u001b[38;5;28;43mself\u001b[39;49m\u001b[38;5;241;43m.\u001b[39;49m\u001b[43mcheckVersion\u001b[49m\u001b[43m(\u001b[49m\u001b[43m)\u001b[49m\n\u001b[1;32m     29\u001b[0m atn \u001b[38;5;241m=\u001b[39m \u001b[38;5;28mself\u001b[39m\u001b[38;5;241m.\u001b[39mreadATN()\n\u001b[1;32m     30\u001b[0m \u001b[38;5;28mself\u001b[39m\u001b[38;5;241m.\u001b[39mreadStates(atn)\n",
      "File \u001b[0;32m~/Desktop/virtualenvs/backend/lib/python3.8/site-packages/antlr4/atn/ATNDeserializer.py:50\u001b[0m, in \u001b[0;36mATNDeserializer.checkVersion\u001b[0;34m(self)\u001b[0m\n\u001b[1;32m     48\u001b[0m version \u001b[38;5;241m=\u001b[39m \u001b[38;5;28mself\u001b[39m\u001b[38;5;241m.\u001b[39mreadInt()\n\u001b[1;32m     49\u001b[0m \u001b[38;5;28;01mif\u001b[39;00m version \u001b[38;5;241m!=\u001b[39m SERIALIZED_VERSION:\n\u001b[0;32m---> 50\u001b[0m     \u001b[38;5;28;01mraise\u001b[39;00m \u001b[38;5;167;01mException\u001b[39;00m(\u001b[38;5;124m\"\u001b[39m\u001b[38;5;124mCould not deserialize ATN with version \u001b[39m\u001b[38;5;124m\"\u001b[39m \u001b[38;5;241m+\u001b[39m \u001b[38;5;28mstr\u001b[39m(version) \u001b[38;5;241m+\u001b[39m \u001b[38;5;124m\"\u001b[39m\u001b[38;5;124m (expected \u001b[39m\u001b[38;5;124m\"\u001b[39m \u001b[38;5;241m+\u001b[39m \u001b[38;5;28mstr\u001b[39m(SERIALIZED_VERSION) \u001b[38;5;241m+\u001b[39m \u001b[38;5;124m\"\u001b[39m\u001b[38;5;124m).\u001b[39m\u001b[38;5;124m\"\u001b[39m)\n",
      "\u001b[0;31mException\u001b[0m: Could not deserialize ATN with version \u0003 (expected 4)."
     ]
    }
   ],
   "source": [
    "# Installation of tangelo if not already installed.\n",
    "try:\n",
    "    import tangelo\n",
    "except ModuleNotFoundError:\n",
    "    !pip install git+https://github.com/goodchemistryco/Tangelo.git@develop  --quiet\n",
    "    !pip install qiskit qulacs amazon-braket-sdk --quiet"
   ]
  },
  {
   "cell_type": "markdown",
   "metadata": {},
   "source": [
    "## 1. Abstract gate class <a class=\"anchor\" id=\"1\"></a>\n",
    "\n",
    "The `linq` submodule aims at providing users a straightforward and transparent way to represent a quantum gate operation, and by extension a quantum circuit. It represents a quantum gate operation acting on qubits as a simple python object. An abstract gate has:\n",
    "\n",
    "- A name\n",
    "- target qubit(s)  (only one qubit supported at the moment)\n",
    "- control qubit(s) (only one supported at the moment)\n",
    "- parameter(s)     (only one supported at the moment)\n",
    "- a tag saying whether or not it is \"variational\", to keep track of gates with variational parameters\n",
    "\n",
    "\n",
    "An abstract gate is pretty much just a dictionary, with the fields above. Some gates do not need all these fields to be populated in order to be clearly defined: not all of them require control qubits or parameters for instance. \n",
    "\n",
    "Let's have a look at how someone can define a gate and print it. You can see below that at instantiation, you can skip some fields or omit their name if the call is non-ambiguous. We always start with the name and the index of the target qubit, as all gates have them.\n",
    "\n",
    "**Note**: qubit indexing starts at 0.\n"
   ]
  },
  {
   "cell_type": "code",
   "execution_count": 2,
   "metadata": {},
   "outputs": [
    {
     "name": "stdout",
     "output_type": "stream",
     "text": [
      "H         target : [2]   \n",
      "CNOT      target : [1]   control : [0]   \n",
      "RX        target : [1]   parameter : 2.0\n",
      "RZ        target : [1]   parameter : an expression\t (variational)\n",
      "POTATO    target : [3]   \n"
     ]
    }
   ],
   "source": [
    "from tangelo.linq import Gate\n",
    "\n",
    "# Create a Hadamard gate acting on qubit 2\n",
    "H_gate = Gate(\"H\", 2)\n",
    "# Create a CNOT gate with control qubit 0 and target qubit 1\n",
    "CNOT_gate = Gate(\"CNOT\", target=1, control=0)\n",
    "# Create a parameterized rotation on qubit 1 with angle 2 radians\n",
    "RX_gate = Gate(\"RX\", 1, parameter=2.)\n",
    "# Create a parameterized rotation on qubit 1 , with an undefined angle, that will be tagged as variational\n",
    "RZ_gate = Gate(\"RZ\", 1, parameter=\"an expression\", is_variational=True)\n",
    "# Create a potato gate, acting on qubit 3.\n",
    "POTATO_gate = Gate(\"POTATO\", 3)\n",
    "\n",
    "for gate in [H_gate, CNOT_gate, RX_gate, RZ_gate, POTATO_gate]:\n",
    "    print(gate)"
   ]
  },
  {
   "cell_type": "markdown",
   "metadata": {},
   "source": [
    "What's that, you don't know about the POTATO gate?! Oof. Your imposter syndrom must be in full swing right now. It's ok. No one has noticed yet. Smile. Take another sip of that coffee. Keep reading.\n",
    "\n",
    "This abstract gate data structure simply stores information, and does not need to fully specify a valid gate operation that corresponds to, let's say, a very well-defined matrix representation of the operator. As you can see, the parameter for our `Rz` gate can be anything, and the actual existence of the POTATO gate is questionable. The gate set supported, the conventions on phases and parameters, are all backend-dependent. Therefore, the fields of your abstract gate only really need to make sense later on, once you have picked a target backend (qiskit, qulacs...).\n",
    "\n",
    "**Note**: The controlled gates, such as CNOT, expect that you first pass the target qubits and then the control ones, which may be counter-intuitive and trip you up."
   ]
  },
  {
   "cell_type": "markdown",
   "metadata": {},
   "source": [
    "## 2. Abstract circuit class <a class=\"anchor\" id=\"2\"></a>\n",
    "\n",
    "An abstract circuit can be simply seen as a list of abstract gates. This class has a few methods to help users know at a glance how many gates or qubits are in a quantum circuit, or if it contains gates tagged as variational for example. Other convenience methods to compute the depth of the circuit, identify unentangled registers or qubits that can be simulated separately, etc, are available.\n",
    "\n",
    "Users can instantiate abstract circuits by directly passing a list of gates, or using the `add_gate` method on an existing abstract circuit object. It is also possible to concatenate abstract circuits in a pythonic way using the $+$ or $*$ operators: useful to build more complex circuits using simpler ones as building blocks. Circuits are iterable objects, which means that you can traverse them in order to traverse the underlying list of gates they're made of.\n",
    "\n",
    "**Note**: It is more efficient to build circuits by using list comprehension and other python syntaxes to efficiently build a list of `Gate` objects, and then passing it to the `Circuit` class; rather than use `add_gate` or concatenate a lot of small `Circuit` objects with `+`.\n",
    "\n",
    "The number of qubits required by your circuit is automatically computed, based on the highest qubit index appearing in your gates. It is however possible to enforce a fixed-sized for your quantum circuit, that goes beyond this number.\n",
    "\n",
    "We're all grown-ups, and technically you could perform surgery on your quantum circuit, to directly modify the fields of some of its gates. This can be useful for instance, to change the parameters used in \"variational gates\" (i.e gates tagged as variational) in the context of variational algorithms. Use responsibly."
   ]
  },
  {
   "cell_type": "code",
   "execution_count": 3,
   "metadata": {},
   "outputs": [
    {
     "name": "stdout",
     "output_type": "stream",
     "text": [
      "Circuit object. Size 6 \n",
      "\n",
      "H         target : [2]   \n",
      "CNOT      target : [1]   control : [0]   \n",
      "CNOT      target : [2]   control : [1]   \n",
      "Y         target : [0]   \n",
      "RX        target : [1]   parameter : 2.0\n",
      "RZ        target : [4]   parameter : some angle\t (variational)\n",
      "\n",
      "The number of gates contained in circuit3 is 6\n",
      "The number of qubits in circuit3 is 5\n",
      "Does circuit have gates tagged as variational? True\n",
      "Gate counts: {'H': 1, 'CNOT': 2, 'Y': 1, 'RX': 1, 'RZ': 1}\n",
      "\n",
      "Circuit object. Size 6 \n",
      "\n",
      "H         target : [2]   \n",
      "CNOT      target : [1]   control : [0]   \n",
      "CNOT      target : [2]   control : [1]   \n",
      "Y         target : [0]   \n",
      "RX        target : [1]   parameter : 2.0\n",
      "RZ        target : [4]   parameter : 777.0\t (variational)\n",
      "\n"
     ]
    }
   ],
   "source": [
    "from tangelo.linq import Circuit\n",
    "\n",
    "# Here's a list of abstract gates\n",
    "mygates = [Gate(\"H\", 2), Gate(\"CNOT\", 1, control=0), Gate(\"CNOT\", target=2, control=1),\n",
    "           Gate(\"Y\", 0), Gate(\"RX\", 1, parameter=2.)]\n",
    "\n",
    "# Users can create empty circuit objects and use add_gate later on\n",
    "circuit1 = Circuit()\n",
    "for gate in mygates:\n",
    "    circuit1.add_gate(gate)\n",
    "    \n",
    "# Users can also directly instantiate a circuit with a list of gates (preferred)\n",
    "circuit2 = Circuit(mygates)\n",
    "\n",
    "# It is possible to concatenate abstract circuit objects\n",
    "circuit3 = Circuit(mygates) + Circuit([Gate(\"RZ\", 4, parameter=\"some angle\", is_variational=True)])\n",
    "\n",
    "# Printing a circuit prints gate list\n",
    "print(circuit3)\n",
    "\n",
    "# It is possible to examine properties of an abstract circuit directly\n",
    "print(f\"The number of gates contained in circuit3 is {circuit3.size}\")\n",
    "print(f\"The number of qubits in circuit3 is {circuit3.width}\")\n",
    "print(f\"Does circuit have gates tagged as variational? {circuit3.is_variational}\")\n",
    "\n",
    "# Even to have an overview of the type of gates it contains, and how many of them\n",
    "print(f\"Gate counts: {circuit3.counts}\")\n",
    "\n",
    "# Dark magic: update the parameters of the first variational gate in the circuit\n",
    "circuit3._variational_gates[0].parameter = 777.\n",
    "print(f\"\\n{circuit3}\")"
   ]
  },
  {
   "cell_type": "markdown",
   "metadata": {},
   "source": [
    "The abstract circuit can therefore be thought as a list of abstract gates, with some self-awareness: it knows what gate objects it contains, yet does not know what operation they actually implement on a quantum state. The latter is deferred to the translation step, which is different for each backend.\n",
    "\n",
    "In the future, we may provide other features to optimize or analyze abstract circuits. The advantage of doing so means that whatever benefit come out of it, it will carry to any of the target backends.\n",
    "\n",
    "**Note:** It is implied that qubits are measured in the computational basis at the end of the circuit. Users should NOT explicitly perform final measurements using the `MEASURE` instruction, which is designed to handle mid-circuit measurements, indicating that we intend to simulate a mixed state. As mixed states cannot be represented by statevectors, they are simulated differently and require to draw shots / samples, which may increase simulation time considerably."
   ]
  },
  {
   "cell_type": "markdown",
   "metadata": {},
   "source": [
    "### Helper functions to build circuits"
   ]
  },
  {
   "cell_type": "markdown",
   "metadata": {},
   "source": [
    "This package provides helper functions allowing users to put together more general circuits easily, without the need to reinvent the wheel when it comes to common patterns. In the future, users could contribute functions generating useful for benchmarking reasons, building blocks to form larger circuits, or well-known quantum circuits such as the QFT, for instance. These could be contributed as helper functions, or available in a separate folder aiming to gather a collection a circuits for different purposes. If you need to do something that seems fairly common, take a quick look around: you may have all the pieces already (or have the opportunity to design and contribute the pieces you need!).\n",
    "\n",
    "**Note:** Most functions do not yield a `Circuit` object, but a list of gates (see the convention used at the end of the function name). For performance reasons, it is better to concatenate a list of gates and then turn it into a Circuit, than to turn smaller lists of gates into `Circuit` objects and then use the `+` operator to concatenate them. This will not be an issue unless you are for example running an algorithm that requires a circuit to be rebuilt frequently and requiring many `Circuit` objects to be concatenated.\n",
    "\n",
    "Below, an example of how we can design a function to easily produce `Circuit` objects implementing a parameter sweep, working for any pauli measurement basis, which is not uncommon in hardware experiments: just a combination of loops and helper functions.\n",
    "\n",
    "The measurement basis is assumed to be passed as a list of 2-tuples of the form `(i, K)` where `i` is an integer denoting the qubit index and `K` a letter (string) that can take the value 'I', 'X', 'Y', or 'Z'; which also happens to be the format encountered while traversing a `QubitOperator` object in `Openfermion`."
   ]
  },
  {
   "cell_type": "code",
   "execution_count": 4,
   "metadata": {},
   "outputs": [
    {
     "name": "stdout",
     "output_type": "stream",
     "text": [
      "Circuit object. Size 3 \n",
      "\n",
      "CNOT      target : [0]   control : [1]   \n",
      "RX        target : [1]   parameter : 0.1\n",
      "CNOT      target : [0]   control : [1]   \n",
      "\n",
      "\n",
      "Circuit object. Size 3 \n",
      "\n",
      "CNOT      target : [0]   control : [1]   \n",
      "RX        target : [1]   parameter : 0.2\n",
      "CNOT      target : [0]   control : [1]   \n",
      "\n",
      "\n",
      "Circuit object. Size 5 \n",
      "\n",
      "CNOT      target : [0]   control : [1]   \n",
      "RX        target : [1]   parameter : 0.3\n",
      "CNOT      target : [0]   control : [1]   \n",
      "RY        target : [0]   parameter : -1.5707963267948966\n",
      "RX        target : [1]   parameter : 1.5707963267948966\n",
      "\n",
      "\n"
     ]
    }
   ],
   "source": [
    "from tangelo.linq.helpers.circuits import measurement_basis_gates, pauli_string_to_of\n",
    "\n",
    "def theta_sweep(theta, m_basis):\n",
    "    \"\"\" A single-parameter circuit, with change of basis at the end if needed \"\"\"\n",
    "    my_gates = [Gate('CNOT', target=0, control=1), \n",
    "                Gate('RX', target=1, parameter=theta), \n",
    "                Gate('CNOT', target=0, control=1)]\n",
    "    my_gates += measurement_basis_gates(pauli_string_to_of(m_basis))\n",
    "    return Circuit(my_gates)\n",
    "\n",
    "# It is easy with linq to move between string or Openfermion-style representations for Pauli words\n",
    "for theta, m_basis in [(0.1, 'ZZ'), (0.2, 'ZZ'), (0.3, 'XY')]:\n",
    "    c = theta_sweep(theta, m_basis)\n",
    "    print(f\"{c}\\n\")"
   ]
  },
  {
   "cell_type": "markdown",
   "metadata": {},
   "source": [
    "## 3. Translator module <a class=\"anchor\" id=\"3\"></a>\n",
    "\n",
    "In order to make use of the various compute backends available, the `translator` module provides users with functions that can translate from, and sometimes to, the abstract circuit format. Users can therefore import or export their quantum circuits to work with their favorite framework, using the umbrella function `translate_circuit` with the desired `target` and `source` parameters.\n",
    "\n",
    "A `translate_operator` function is also available, for doing the equivalent with qubit / Pauli operators.\n",
    "\n",
    "The `translator` module defines how the content of your abstract gates should be parsed, what gates are supported, the convention used, and is subject to error-checking: the contents must make sense for the target backend, otherwise you will get errors. At that point, your gates must be supported and their parameters correct.\n",
    "\n",
    "You can find in the translator module the dictionaries telling you what backends are supported, and what gates they currently support. As you can see, the exceptional `POTATO` gate is not yet supported by any available backend. You'd most certainly get an error if you tried to translate an abstract circuit containing such a gate into a given backend's format, unless a major breakthrough in toaster-oven technology happens and we integrate this disruptive compute platform."
   ]
  },
  {
   "cell_type": "code",
   "execution_count": 5,
   "metadata": {},
   "outputs": [
    {
     "name": "stdout",
     "output_type": "stream",
     "text": [
      "projectq : ['CNOT', 'H', 'MEASURE', 'PHASE', 'RX', 'RY', 'RZ', 'S', 'T', 'X', 'Y', 'Z']\n",
      "ionq : ['CNOT', 'CPHASE', 'CRX', 'CRY', 'CRZ', 'CX', 'CY', 'CZ', 'H', 'PHASE', 'RX', 'RY', 'RZ', 'S', 'SWAP', 'T', 'X', 'XX', 'Y', 'Z']\n",
      "qdk : ['CH', 'CNOT', 'CPHASE', 'CRX', 'CRY', 'CRZ', 'CS', 'CSWAP', 'CT', 'CX', 'CY', 'CZ', 'H', 'MEASURE', 'PHASE', 'RX', 'RY', 'RZ', 'S', 'SWAP', 'T', 'X', 'Y', 'Z']\n",
      "openqasm : ['CNOT', 'CPHASE', 'CRZ', 'CSWAP', 'CY', 'CZ', 'H', 'MEASURE', 'PHASE', 'RX', 'RY', 'RZ', 'S', 'SWAP', 'T', 'X', 'Y', 'Z']\n",
      "qiskit : ['CH', 'CNOT', 'CPHASE', 'CRX', 'CRY', 'CRZ', 'CSWAP', 'CX', 'CY', 'CZ', 'H', 'MEASURE', 'PHASE', 'RX', 'RY', 'RZ', 'S', 'SWAP', 'T', 'X', 'XX', 'Y', 'Z']\n",
      "cirq : ['CH', 'CNOT', 'CPHASE', 'CRX', 'CRY', 'CRZ', 'CSWAP', 'CX', 'CY', 'CZ', 'H', 'MEASURE', 'PHASE', 'RX', 'RY', 'RZ', 'S', 'SWAP', 'T', 'X', 'XX', 'Y', 'Z']\n",
      "qulacs : ['CH', 'CNOT', 'CPHASE', 'CRX', 'CRY', 'CRZ', 'CSWAP', 'CX', 'CY', 'CZ', 'H', 'MEASURE', 'PHASE', 'RX', 'RY', 'RZ', 'S', 'SWAP', 'T', 'X', 'XX', 'Y', 'Z']\n"
     ]
    }
   ],
   "source": [
    "from tangelo.linq import supported_gates\n",
    "\n",
    "for backend, gates in supported_gates.items():\n",
    "    print(f'{backend} : {gates}')"
   ]
  },
  {
   "cell_type": "markdown",
   "metadata": {},
   "source": [
    "The result of the translation step is specific to the given backend: some will return a quantum circuit object, some will return a string of instructions in their specific syntax & language, some a serialized JSON object...\n",
    "\n",
    "**Note**: Do not use the `MEASURE` Gate in your noiseless/shotless simulations, unless your circuit requires a mid-circuit measurement. This gate is intended for the simulation of **mixed states**. \n",
    "\n",
    "**Note**: Backends often have different conventions, operations may differ up to a phase or sign convention for parametrized gates for instance. Since the outcome of your simulation should not depend on the target backend, the translation step enforces a given convention, detailed in the documentation. In particular, this implies that the native circuit written for a given backend may not be equivalent to the same one written in abstract format, and then translated to this backend. Be mindful of that as you try to take some code written for a given backend, to port it to `tangelo`.\n",
    "\n",
    "Below, we show how `translate_circuit` returns backend-specific objects, all with their usual built-in functionalities. See how the print function behaves differently for each of them for instance, and remember that you can use their built-in methods to accomplish many things (ex: after translating your circuit into a `Qiskit.QuantumCircuit` object, you can use the `draw` method to export it in a nice format: https://qiskit.org/documentation/stubs/qiskit.circuit.QuantumCircuit.draw.html). \n",
    "\n",
    "Here are a few examples. Some cells may fail depending on what packages you have installed."
   ]
  },
  {
   "cell_type": "code",
   "execution_count": 19,
   "metadata": {
    "scrolled": true
   },
   "outputs": [
    {
     "name": "stdout",
     "output_type": "stream",
     "text": [
      "Allocate | Qureg[0]\n",
      "Allocate | Qureg[1]\n",
      "Allocate | Qureg[2]\n",
      "Allocate | Qureg[3]\n",
      "Allocate | Qureg[4]\n",
      "H | Qureg[2]\n",
      "CX | ( Qureg[0], Qureg[1] )\n",
      "CX | ( Qureg[1], Qureg[2] )\n",
      "Y | Qureg[0]\n",
      "Rx(2.0) | Qureg[1]\n",
      "Rz(777.0) | Qureg[4]\n",
      "\n",
      "\n",
      "{'qubits': 5, 'circuit': [{'gate': 'h', 'targets': [2]}, {'gate': 'x', 'targets': [1], 'controls': [0]}, {'gate': 'x', 'targets': [2], 'controls': [1]}, {'gate': 'y', 'targets': [0]}, {'gate': 'rx', 'targets': [1], 'rotation': 2.0}, {'gate': 'rz', 'targets': [4], 'rotation': 777.0}]}\n",
      "\n",
      "namespace MyNamespace\n",
      "{\n",
      "    open Microsoft.Quantum.Intrinsic;\n",
      "    open Microsoft.Quantum.Canon;\n",
      "    open Microsoft.Quantum.Arrays;\n",
      "    open Microsoft.Quantum.Extensions.Convert;\n",
      "    open Microsoft.Quantum.Characterization;\n",
      "    open Microsoft.Quantum.Measurement;\n",
      "\n",
      "\n",
      "    /// # Summary:\n",
      "    ///         Returns the estimated probabilities associated to the different measurements\n",
      "    ///         after applying the state-preparation provided by the user at runtime to the quantum state\n",
      "    operation EstimateFrequencies(nQubits : Int, nShots : Int) : Double[]\n",
      "    {\n",
      "        mutable frequencies = new Double[2^nQubits];\n",
      "\n",
      "        for (iShot in 1..nShots)\n",
      "        {\n",
      "            // Apply Q# operation (state preparation to measurements) to qubit register of size nQubits\n",
      "            mutable results = MyQsharpOperation();\n",
      "\n",
      "            // Update frequencies based on sample value\n",
      "            mutable index = 0;\n",
      "            for (iQubit in nQubits-1..-1..0)\n",
      "            {\n",
      "                if (results[iQubit] == One) {set index = index + 2^iQubit;}\n",
      "            }\n",
      "\n",
      "            set frequencies w/= index <- frequencies[index] + 1.0;\n",
      "        }\n",
      "\n",
      "        // Rescale to obtain frequencies observed\n",
      "        for (iFreq in 0..2^nQubits-1)\n",
      "        {\n",
      "            set frequencies w/= iFreq <- frequencies[iFreq] / ToDouble(nShots);\n",
      "        }\n",
      "\n",
      "        return frequencies;\n",
      "    }\n",
      "\n",
      "    /// INSERT TRANSLATED CIRCUIT HERE\n",
      "@EntryPoint()\n",
      "operation MyQsharpOperation() : Result[] {\n",
      "\tmutable c = new Result[5];\n",
      "\tusing (qreg = Qubit[5]) {\n",
      "\t\tH(qreg[2]);\n",
      "\t\tCNOT(qreg[0], qreg[1]);\n",
      "\t\tCNOT(qreg[1], qreg[2]);\n",
      "\t\tY(qreg[0]);\n",
      "\t\tRx(2.0, qreg[1]);\n",
      "\t\tRz(777.0, qreg[4]);\n",
      "\n",
      "\t\treturn ForEach(MResetZ, qreg);\n",
      "\t}\n",
      "}\n",
      "\n",
      "}\n",
      "\n",
      "\n"
     ]
    }
   ],
   "source": [
    "from tangelo.linq import translate_circuit\n",
    "\n",
    "# Using the Tangelo format as an intermediate, many combinations of source and target\n",
    "# formats are available. \n",
    "circ3_projectq = translate_circuit(circuit3, target=\"projectq\", source=\"tangelo\")\n",
    "print(f\"{circ3_projectq}\\n\")\n",
    "\n",
    "# We now use the shorthand for translating a circuit \n",
    "# implicitly from tangelo format, to something else.\n",
    "circ3_projectq = translate_circuit(circuit3, \"ionq\")\n",
    "print(f\"{circ3_projectq}\\n\")\n",
    "\n",
    "circ3_projectq = translate_circuit(circuit3, \"qdk\")\n",
    "print(f\"{circ3_projectq}\\n\")"
   ]
  },
  {
   "cell_type": "code",
   "execution_count": 14,
   "metadata": {},
   "outputs": [
    {
     "name": "stdout",
     "output_type": "stream",
     "text": [
      "                ┌───┐         \n",
      "q_0: ─────■─────┤ Y ├─────────\n",
      "        ┌─┴─┐   └───┘┌───────┐\n",
      "q_1: ───┤ X ├─────■──┤ Rx(2) ├\n",
      "        ├───┤   ┌─┴─┐└───────┘\n",
      "q_2: ───┤ H ├───┤ X ├─────────\n",
      "        └───┘   └───┘         \n",
      "q_3: ─────────────────────────\n",
      "     ┌─────────┐              \n",
      "q_4: ┤ Rz(777) ├──────────────\n",
      "     └─────────┘              \n",
      "c_0: ═════════════════════════\n",
      "                              \n",
      "c_1: ═════════════════════════\n",
      "                              \n",
      "c_2: ═════════════════════════\n",
      "                              \n",
      "c_3: ═════════════════════════\n",
      "                              \n",
      "c_4: ═════════════════════════\n",
      "                              \n",
      "\n",
      "OPENQASM 2.0;\n",
      "include \"qelib1.inc\";\n",
      "qreg q[5];\n",
      "creg c[5];\n",
      "h q[2];\n",
      "cx q[0],q[1];\n",
      "cx q[1],q[2];\n",
      "y q[0];\n",
      "rx(2) q[1];\n",
      "rz(777) q[4];\n",
      "\n",
      "\n"
     ]
    }
   ],
   "source": [
    "circ3_qiskit = translate_circuit(circuit3, \"qiskit\")\n",
    "print(f\"{circ3_qiskit}\\n\")\n",
    "\n",
    "circ3_openqasm = translate_circuit(circuit3, \"openqasm\")\n",
    "print(f\"{circ3_openqasm}\\n\")"
   ]
  },
  {
   "cell_type": "code",
   "execution_count": 15,
   "metadata": {},
   "outputs": [
    {
     "name": "stdout",
     "output_type": "stream",
     "text": [
      "*** Quantum Circuit Info ***\n",
      "# of qubit: 5\n",
      "# of step : 3\n",
      "# of gate : 6\n",
      "# of 1 qubit gate: 4\n",
      "# of 2 qubit gate: 2\n",
      "Clifford  : no\n",
      "Gaussian  : no\n",
      "\n",
      "\n",
      "\n"
     ]
    }
   ],
   "source": [
    "circ3_qulacs = translate_circuit(circuit3, \"qulacs\")\n",
    "print(f\"{circ3_qulacs}\\n\")"
   ]
  },
  {
   "cell_type": "code",
   "execution_count": 18,
   "metadata": {},
   "outputs": [
    {
     "name": "stdout",
     "output_type": "stream",
     "text": [
      "T  : |    0     |1|   2    |\n",
      "                            \n",
      "q0 : -C----------Y----------\n",
      "      |                     \n",
      "q1 : -X----------C-Rx(2.00)-\n",
      "                 |          \n",
      "q2 : -H----------X----------\n",
      "                            \n",
      "q4 : -Rz(777.00)------------\n",
      "\n",
      "T  : |    0     |1|   2    |\n"
     ]
    }
   ],
   "source": [
    "circ3_braket = translate_circuit(circuit3, \"braket\")\n",
    "print(f\"{circ3_braket}\")"
   ]
  },
  {
   "cell_type": "code",
   "execution_count": 10,
   "metadata": {},
   "outputs": [
    {
     "name": "stdout",
     "output_type": "stream",
     "text": [
      "0: ───I───@─────────────Y────────────────\n",
      "          │\n",
      "1: ───I───X─────────────@───Rx(0.637π)───\n",
      "                        │\n",
      "2: ───I───H─────────────X────────────────\n",
      "\n",
      "3: ───I──────────────────────────────────\n",
      "\n",
      "4: ───I───Rz(-0.673π)────────────────────\n"
     ]
    }
   ],
   "source": [
    "circ3_cirq = translate_circuit(circuit3, \"cirq\")\n",
    "print(f\"{circ3_cirq}\")"
   ]
  },
  {
   "cell_type": "markdown",
   "metadata": {},
   "source": [
    "**Note**: We provide limited support for translation from a backend-specific format to the abstract format, for convenience. Some of these formats are OpenQASM or projectq.\n",
    "\n",
    "### Saving, loading and sharing quantum circuits\n",
    "\n",
    "You may need to save, load or share quantum circuits or operators with collaborators, which may be used to working on other platforms.\n",
    "\n",
    "A first suggestion is to use the OpenQASM format, as it is a rather common human-readable format, supported by most framework. Tangelo proposes convertion to OPENQASM 2.0, and limited reverse convertion from a subset of OpenQASM to Tangelo format. \n",
    "\n",
    "Otherwise, python packages such as `pickle` or `json` may come in handy to export compatible non-string objects, but can be a bit tricky if version numbers of dependencies do not match."
   ]
  },
  {
   "cell_type": "markdown",
   "metadata": {},
   "source": [
    "## 4.  Backends <a class=\"anchor\" id=\"4\"></a>\n",
    "\n",
    "The `get_backend` function provides a common interface to all supported compute backends, allowing users to focus on the high-level details of their simulation (number of shots, noise model...) without writing low-level code for the target backend. It returns an object inheriting from the abstract `Backend` class, which can refer to a simulator or an actual QPU. There are built-in backends for various simulators (qiskit, qulacs, cirq...) and it's possible to define your own backend.\n",
    "\n",
    "The backend object handles all translation and quantum circuit simulation steps, directly returning the results to the user. Some post-processing methods, such as the computation of the expectation value of a qubit operator, are available as well.\n",
    "\n",
    "Not all backends provide the same features: some of them do not give access to a state-vector representation of the quantum state, or do not support noisy simulation for instance. Just like the `translator` module, the `simulator` module provides a data-structure containing the currently supported features and characteristics of some backends."
   ]
  },
  {
   "cell_type": "code",
   "execution_count": 20,
   "metadata": {},
   "outputs": [
    {
     "name": "stdout",
     "output_type": "stream",
     "text": [
      "qiskit : {'statevector_available': True, 'statevector_order': 'msq_first', 'noisy_simulation': True}\n",
      "cirq : {'statevector_available': True, 'statevector_order': 'lsq_first', 'noisy_simulation': True}\n",
      "qdk : {'statevector_available': False, 'statevector_order': None, 'noisy_simulation': False}\n",
      "qulacs : {'statevector_available': True, 'statevector_order': 'msq_first', 'noisy_simulation': True}\n"
     ]
    }
   ],
   "source": [
    "from tangelo.linq import get_backend, backend_info\n",
    "\n",
    "for backend, info in backend_info.items():\n",
    "    print(f'{backend} : {info}')"
   ]
  },
  {
   "cell_type": "markdown",
   "metadata": {},
   "source": [
    "### Noiseless simulation\n",
    "\n",
    "In the example below, we show how `get_backend` allows for switching backends easily, to perform quantum circuit simulation. We first show how to perform noiseless simulation with access to the exact amplitudes through the state-vector representation of the quantum state, and then show how a noiseless shot-based simulation can be performed.\n",
    "\n",
    "The `simulate` method returns a 2-tuple:\n",
    "\n",
    "- the first entry is a sparse histogram of frequencies associated to the different observed states, in least-significant qubit first order (e.g '01' means qubit 0 (resp 1) measured in $|0>$ (resp $|1>$) state). That is, it is to be read \"left-to-right\" in order to map each qubit to the basis state it was observed in.\n",
    "- the second entry contains the state-vector representation of the quantum state, if available on the target backend and if the user requires it using the `return_statevector` optional parameter. Watch out for the order of the amplitudes in the state vector: the `backend_info` data-structure described above helps with understanding how they map to the different basis states.\n",
    "\n",
    "The `simulate` method can also take the optional parameter `initial_statevector`, which allows to start the system in a given state and \"resume\" a simulation. It can in particular be useful to avoid resimulating something again and again, when the result is already known and could just be loaded instead. This is one of the perks of statevector simulators !"
   ]
  },
  {
   "cell_type": "code",
   "execution_count": 21,
   "metadata": {},
   "outputs": [
    {
     "name": "stdout",
     "output_type": "stream",
     "text": [
      "({'00': 0.2248275934887112, '10': 0.5453235594453588, '01': 0.06709898823771769, '11': 0.16274985882821247}, None)\n",
      "({'00': 0.2248275934887112, '01': 0.06709898823771769, '10': 0.5453235594453588, '11': 0.16274985882821247}, None)\n",
      "\n",
      "({'00': 0.2248275934887112, '10': 0.5453235594453588, '01': 0.06709898823771769, '11': 0.16274985882821247}, array([ 0.47415988+0.j        ,  0.        -0.73846026j,\n",
      "       -0.25903472+0.j        ,  0.        +0.40342268j]))\n"
     ]
    }
   ],
   "source": [
    "# Create a circuit object in abstract format\n",
    "c = Circuit([Gate(\"RX\", 0, parameter=2.), Gate(\"RY\", 1, parameter=-1.)])\n",
    "\n",
    "# Qiskit noiseless simulator (no shot count or noise model specified)\n",
    "sim_qiskit = get_backend(target=\"qiskit\")\n",
    "print(sim_qiskit.simulate(c))\n",
    "\n",
    "# cirq noiseless simulator (no shot count or noise model specified)\n",
    "sim_cirq = get_backend(target=\"cirq\")\n",
    "print(sim_cirq.simulate(c))\n",
    "\n",
    "# Qulacs noiseless simulator (no shot count or noise model specified)\n",
    "# Ask to return the state vector as well (exposes the complex amplitudes)\n",
    "sim_qulacs = get_backend(target=\"qulacs\")\n",
    "print(f\"\\n{sim_qulacs.simulate(c, return_statevector=True)}\")"
   ]
  },
  {
   "cell_type": "markdown",
   "metadata": {},
   "source": [
    "**Note**: If you do not specify any target when calling `get_backend`, the implementation defaults to either a qulacs simulator if the package found in your environment, or a cirq simulator otherwise."
   ]
  },
  {
   "cell_type": "markdown",
   "metadata": {},
   "source": [
    "**Note**: The native equivalents of this abstract circuit in Qulacs and Qiskit would not return the same results. This is due to the fact that $Rx_{qiskit}(\\theta) = Rx_{qulacs}(-\\theta)$ (e.g sign convention), which is also true for the $Ry$ and $Rz$ gates. This package however ensures consistent behavior across backends, by enforcing a specifying convention in the translator. For more information about conventions used, please refer to the documentation or check out the source code of the `translator` module.\n",
    "\n",
    "In the above cell, we called `get_backend` without specifying a number of shots or a noise model, but it is possible to do so. You can tweak the behavior of the `Backend` object by modifying -some- of its attributes after it has been instantied. In particular:\n",
    "\n",
    "- `freq_threshold` is the threshold used to discard negligible frequencies from the histogram returned by the `simulate` method, in order to avoid returning $2^{n\\_qubits}$ numbers and focus on the main observables.\n",
    "- `n_shots` and `noise_model` can be changed after the class has been instantiated\n",
    "\n",
    "In the cell below, we can see how instantiating a shot-based backend and increasing shot count yields results that are getting closer to the exact theoretical distribution."
   ]
  },
  {
   "cell_type": "code",
   "execution_count": 22,
   "metadata": {},
   "outputs": [
    {
     "name": "stdout",
     "output_type": "stream",
     "text": [
      "{'00': 0.2248275934887112, '01': 0.06709898823771769, '10': 0.5453235594453588, '11': 0.16274985882821247}\n",
      "{'11': 0.16, '10': 0.47, '00': 0.29, '01': 0.08}\n",
      "{'00': 0.225, '10': 0.5387, '01': 0.0696, '11': 0.1667}\n",
      "{'00': 0.224284, '10': 0.546611, '11': 0.162527, '01': 0.066578}\n"
     ]
    }
   ],
   "source": [
    "# Exact probabilities\n",
    "sim_qulacs = get_backend(target=\"cirq\")\n",
    "exact_freqs, _ = sim_qulacs.simulate(c)\n",
    "print(exact_freqs)\n",
    "\n",
    "# Approximation with different number of shots (higher=more accurate)\n",
    "sim_qulacs_shots = get_backend(target=\"cirq\", n_shots=100)\n",
    "freqs, _ = sim_qulacs_shots.simulate(c)\n",
    "print(freqs)\n",
    "\n",
    "sim_qulacs_shots.n_shots=10**4\n",
    "freqs, _ = sim_qulacs_shots.simulate(c)\n",
    "print(freqs)\n",
    "\n",
    "sim_qulacs_shots.n_shots=10**6\n",
    "freqs, _ = sim_qulacs_shots.simulate(c)\n",
    "print(freqs)"
   ]
  },
  {
   "cell_type": "markdown",
   "metadata": {},
   "source": [
    "### Mixed states\n",
    "\n",
    "The abstract circuit format provides a `MEASURE` instruction, supported by most compute backends, with the intent of simulating mixed states / mid-circuit measurements in the computational basis (e.g along the Z axis). As mixed states cannot be represented by a statevector, the statevector simulator backends default to simulating the quantum circuit with shots, in order to return a histogram of frequencies. Users thus must ensure the `n_shots` attribute of their `Backend` object has been set.\n",
    "\n",
    "Simulating a mixed state can be considerably slower than simulating a pure state (some backends are particularly **not** good at this). Including final measurements in your state-preparation circuit is not recommended, if you intend to use `linq` to simulate it."
   ]
  },
  {
   "cell_type": "code",
   "execution_count": 23,
   "metadata": {},
   "outputs": [
    {
     "name": "stdout",
     "output_type": "stream",
     "text": [
      "{'01': 0.49852, '10': 0.50148}\n"
     ]
    }
   ],
   "source": [
    "# This circuit prepares a Bell pair (superposition of states |00> and |11>), then measures and flips qubit 0.\n",
    "# Depending on the result of the measurement, the statevector describing the quantum state would be different.\n",
    "circuit_mixed = Circuit([Gate(\"H\", 0), Gate(\"CNOT\", target=1, control=0), Gate(\"MEASURE\", 0), Gate(\"X\", 0)])\n",
    "sim = get_backend(target=\"cirq\", n_shots=10**5)\n",
    "\n",
    "freqs, _ = sim.simulate(circuit_mixed)\n",
    "print(freqs)"
   ]
  },
  {
   "cell_type": "markdown",
   "metadata": {},
   "source": [
    "We provide compute backends that are more appropriate to simulate mixed states, relying on density matrices for example."
   ]
  },
  {
   "cell_type": "markdown",
   "metadata": {},
   "source": [
    "### Expectation values\n",
    "\n",
    "The `get_expectation_value`method can be used to compute the expectation value of a qubit / Pauli operator with regards to a state-preparation circuit, and `get_expectation_value_from_frequencies_oneterm` can directly take a sparse histogram of frequencies obtained by executing or simulating a quantum circuit on a backend (which could be resulting from a QPU experiment).\n",
    "\n",
    "**Note**: For now, users are to manually loop over terms and corresponding histograms if they intend to compute the expectation value of a linear combination of operators."
   ]
  },
  {
   "cell_type": "code",
   "execution_count": 24,
   "metadata": {},
   "outputs": [
    {
     "name": "stdout",
     "output_type": "stream",
     "text": [
      "-0.4161468365471424\n",
      "-0.4161468365471424\n"
     ]
    }
   ],
   "source": [
    "# Openfermion operators can be used\n",
    "from openfermion.ops import QubitOperator\n",
    "op = 1.0 * QubitOperator('Z0')\n",
    "\n",
    "# Option1: Directly through a simulator backend, providing the state-preparation circuit\n",
    "sim = get_backend(target=\"cirq\")\n",
    "expval1 = sim.get_expectation_value(op, c)\n",
    "print(expval1)\n",
    "\n",
    "# Option2: Assume quantum circuit simulation was performed separately (by this package or different services)\n",
    "freqs, _ = sim.simulate(c)  # circuit c must be consistent with operator, regarding measurement along non-z axes\n",
    "term, coef = tuple(op.terms.items())[0]  # This yields ((0, 'Z'),), 1.0\n",
    "expval2 = coef * sim.get_expectation_value_from_frequencies_oneterm(term, freqs)\n",
    "print(expval2)"
   ]
  },
  {
   "cell_type": "markdown",
   "metadata": {},
   "source": [
    "## Beyond that <a class=\"anchor\" id=\"end\"></a>"
   ]
  },
  {
   "cell_type": "markdown",
   "metadata": {},
   "source": [
    "This notebook provided a general introduction to the `linq` submodule, which hopefully helped you getting started with quantum circuits in Tangelo. There are many other notebooks available that illustrate quantum algorithms using these data structures, or more advanced features of `linq`.\n",
    "\n",
    "What will you do with Tangelo ?"
   ]
  }
 ],
 "metadata": {
  "kernelspec": {
   "display_name": "backend",
   "language": "python",
   "name": "backend"
  },
  "language_info": {
   "codemirror_mode": {
    "name": "ipython",
    "version": 3
   },
   "file_extension": ".py",
   "mimetype": "text/x-python",
   "name": "python",
   "nbconvert_exporter": "python",
   "pygments_lexer": "ipython3",
   "version": "3.8.10"
  }
 },
 "nbformat": 4,
 "nbformat_minor": 2
}
