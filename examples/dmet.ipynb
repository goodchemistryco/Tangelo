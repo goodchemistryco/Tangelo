{
 "cells": [
  {
   "cell_type": "markdown",
   "metadata": {},
   "source": [
    "# Density matrix embedding theory (DMET)"
   ]
  },
  {
   "cell_type": "markdown",
   "metadata": {},
   "source": [
    "## Table of contents:\n",
    "* [1. Introduction](#1)\n",
    "* [2. Theory of DMET](#2)\n",
    "* [3. First example: DMET-CCSD on Butane](#3)\n",
    "* [4. Second example: DMET-CCSD on an hydrogen ring](#4)\n",
    ">* [4.1 Why not only using VQE?](#41)\n",
    ">* [4.2 Section](#42)"
   ]
  },
  {
   "cell_type": "markdown",
   "metadata": {},
   "source": [
    "Before the introduction, let's do all imports needed in this notebook."
   ]
  },
  {
   "cell_type": "code",
   "execution_count": 16,
   "metadata": {},
   "outputs": [],
   "source": [
    "# Import for a pretty jupyter notebook...\n",
    "import json\n",
    "\n",
    "# The minimal import for DMET.\n",
    "from qsdk.problem_decomposition.dmet.dmet_problem_decomposition import DMETProblemDecomposition\n",
    "# Ability to change localization method.\n",
    "from qsdk.problem_decomposition.dmet.dmet_problem_decomposition import Localization\n",
    "# Use for VQE ressources estimation vs DMET.\n",
    "from qsdk.electronic_structure_solvers.vqe_solver import VQESolver"
   ]
  },
  {
   "cell_type": "markdown",
   "metadata": {},
   "source": [
    "## 1. Introduction <a class=\"anchor\" id=\"1\"></a>\n",
    "One of the main objectives of quantum chemistry calculations in the area of materials science is to solve the electronic structure problem, $H\\Psi=E\\Psi$, as accurately as possible, in order to accelerate the materials design process. In the first example, the butane molecule is shown as an example. \n",
    "\n",
    "<img src=\"img/exact.png\" alt=\"exact\" width=\"200\" />\n",
    "\n",
    "The computational cost for performing accurate calculations of the electronic structure of molecules, however, is usually very expensive. For example, the cost of performing the full CI calculation scales exponentially on a classical computer as the size of the system increases. Therefore, when we target large-sized molecules, those relevant for industry problems, it becomes essential to employ an appropriate strategy for reducing the computational cost. The difficulty is to employ a strategy that consolidate accuracy while reducing computational costs when performing electronic structure calculations. Next, we will developp one of such strategy called Density matrix embedding theory (DMET)."
   ]
  },
  {
   "cell_type": "markdown",
   "metadata": {},
   "source": [
    "## 2. Theory of DMET <a class=\"anchor\" id=\"2\"></a>\n",
    "\n",
    "The idea is to decompose a molecular system into its constituent fragments and its environment. Each fragment are treated independently and recombined at the end to recover the full molecular energy. This has the advantages of cutting down the maximal computational complexity depending on the biggest fragment and being naturally implemented on parrallel computer. On the other side, the fragmenting comes at the cost of reducing accuraccy of the computation.\n",
    "\n",
    "First, the environment is calculated using a less-accurate method than will be used to calculate the electronic structure of a fragment. Then, the electronic structure problem for a given fragment is solved to a high degree of accuracy, which includes the quantum mechanical effects of the environment. The quantum mechanical description is updated (i.e., solved iteratively as shown below) by incorporating the just-performed highly accurate calculation. In the following schematic illustration, the molecule shown above is decomposed into fragments. Each molecular fragment CH$_\\mathrm{3}$ and CH$_\\text{2}$ are the fragments chosen for the electronic structure calculation, with the rest of the molecular system being the surrounding environment.\n",
    "\n",
    "<img src=\"img/iterations.png\" alt=\"iterations\" width=\"600\" />\n",
    "\n",
    "One successful decomposition approach is the DMET method. The DMET method decomposes a molecule into fragments, and each fragment is treated as an open quantum system that is entangled with each of the other fragments, all taken together to be that fragment's surrounding environment (or \"bath\"). In this framework, the electronic structure of a given fragment is obtained by solving the following Hamiltonian, by using a highly accurate quantum chemistry method, such as the full CI method or a coupled-cluster method.\n",
    "\n",
    "$$ H_{I}=\\sum^{\\text{frag}+\\text{bath}}_{rs}  \\left[ h_{rs} + \\sum_{mn} \\left[ (rs|mn) - (rn|ms) \\right] D^{\\text{(mf)env}}_{mn} \\right] a_{r}^{\\dagger}a_{s} + \\sum_{pqrs}^{\\text{frag}+\\text{bath}} (pq|rs) a_{p}^{\\dagger}a_{r}^{\\dagger}a_{s}a_{q} - \\mu\\sum_{r}^{\\text{frag}} a_{r}^{\\dagger}a_{r} $$\n",
    "\n",
    "The expression $\\sum_{mn} \\left[ (rs|mn) - (rn|ms) \\right] D^{\\text{(mf)env}}_{mn}$ describes the quantum mechanical effects of the environment on the fragment, where $D^{\\text{(mf)env}}_{mn}$ is the mean-field electronic density obtained by solving the Hartree&ndash;Fock equation. The quantum mechanical effects from the environment are incorporated through the one-particle term of the Hamiltonian. The extra term $\\mu\\sum_{r}^{\\text{frag}} a_{r}^{\\dagger}a_{r}$ ensures, through the adjustment of $\\mu$, that the number of electrons in all of the fragments, taken together, becomes equal to the total number of electrons in the entire system."
   ]
  },
  {
   "cell_type": "markdown",
   "metadata": {},
   "source": [
    "## 3. First example: DMET-CCSD on Butane <a class=\"anchor\" id=\"3\"></a>\n",
    "\n",
    "The first example will show how to partition the system into fragments. A different method for solving electronic structures can be chosen for each fragments, but here we will stick with CCSD. The first thing to do is building the butane PySCF molecule object."
   ]
  },
  {
   "cell_type": "code",
   "execution_count": 42,
   "metadata": {
    "scrolled": true
   },
   "outputs": [
    {
     "data": {
      "text/plain": [
       "<pyscf.gto.mole.Mole at 0x7f76b4669e20>"
      ]
     },
     "execution_count": 42,
     "metadata": {},
     "output_type": "execute_result"
    }
   ],
   "source": [
    "butane = \"\"\"\n",
    "C   2.142   1.395  -8.932\n",
    "H   1.604   0.760  -8.260              \n",
    "H   1.745   2.388  -8.880\n",
    "H   2.043   1.024  -9.930\n",
    "C   3.631   1.416  -8.537\n",
    "H   4.169   2.051  -9.210\n",
    "H   3.731   1.788  -7.539             \n",
    "C   4.203  -0.012  -8.612\n",
    "H   3.665  -0.647  -7.940\n",
    "H   4.104  -0.384  -9.610\n",
    "C   5.691   0.009  -8.218  \n",
    "H   6.088  -0.983  -8.270\n",
    "H   5.791   0.381  -7.220\n",
    "H   6.230   0.644  -8.890\n",
    "\"\"\"\n",
    "\n",
    "# Building the PySCF object.\n",
    "mol = gto.Mole()\n",
    "mol.atom = butane\n",
    "mol.basis = \"minao\"\n",
    "mol.charge = 0\n",
    "mol.spin = 0\n",
    "mol.build()"
   ]
  },
  {
   "cell_type": "markdown",
   "metadata": {},
   "source": [
    "The options for the DMET decomposition method are stored in a python dictionary.\n",
    "* **molecule**: The PySCF molecule object.\n",
    "* **fragment_atoms**: List for the number of atoms in each fragment. Each atoms are chosen with their order in the coordinates definition (variable `butane`). Also, the sum of all number must be equal to total number of atom in the molecule.\n",
    "* **fragment_solvers**: A tring or a list of string representing the solver for each fragment. The number of items in the list must be equal to the number of fragment. There is one exception that is when a single string is defined. At this time, the solver is the same for all fragments.\n",
    "* **verbose**: Activate verbose output.\n",
    "\n",
    "The next step `dmet.build()` ensures that the fragments and envrionement orbitals are defined according to the localization scheme."
   ]
  },
  {
   "cell_type": "code",
   "execution_count": 39,
   "metadata": {},
   "outputs": [],
   "source": [
    "dmet_options = {\"molecule\": mol,\n",
    "               \"fragment_atoms\": [4, 3, 3, 4],\n",
    "               \"fragment_solvers\": \"ccsd\",\n",
    "               \"verbose\": True\n",
    "               }\n",
    "\n",
    "dmet = DMETProblemDecomposition(dmet_options)\n",
    "dmet.build()"
   ]
  },
  {
   "cell_type": "code",
   "execution_count": 40,
   "metadata": {},
   "outputs": [
    {
     "name": "stdout",
     "output_type": "stream",
     "text": [
      " \tIteration =  1\n",
      " \t----------------\n",
      " \n",
      "\t\tFragment Number : #  1\n",
      "\t\t------------------------\n",
      "\t\tFragment Energy                 =    -72.0540582760\n",
      "\t\tNumber of Electrons in Fragment =     16.0000000000\n",
      "\n",
      "\t\tFragment Number : #  2\n",
      "\t\t------------------------\n",
      "\t\tFragment Energy                 =    -72.4095411539\n",
      "\t\tNumber of Electrons in Fragment =     14.0000000000\n",
      "\n",
      "\t\tFragment Number : #  3\n",
      "\t\t------------------------\n",
      "\t\tFragment Energy                 =    -72.4172977137\n",
      "\t\tNumber of Electrons in Fragment =     14.0000000000\n",
      "\n",
      "\t\tFragment Number : #  4\n",
      "\t\t------------------------\n",
      "\t\tFragment Energy                 =    -72.0631745662\n",
      "\t\tNumber of Electrons in Fragment =     16.0000000000\n",
      "\n",
      " \tIteration =  2\n",
      " \t----------------\n",
      " \n",
      "\t\tFragment Number : #  1\n",
      "\t\t------------------------\n",
      "\t\tFragment Energy                 =    -72.0544828916\n",
      "\t\tNumber of Electrons in Fragment =     16.0000000000\n",
      "\n",
      "\t\tFragment Number : #  2\n",
      "\t\t------------------------\n",
      "\t\tFragment Energy                 =    -72.4103731263\n",
      "\t\tNumber of Electrons in Fragment =     14.0000000000\n",
      "\n",
      "\t\tFragment Number : #  3\n",
      "\t\t------------------------\n",
      "\t\tFragment Energy                 =    -72.4181294486\n",
      "\t\tNumber of Electrons in Fragment =     14.0000000000\n",
      "\n",
      "\t\tFragment Number : #  4\n",
      "\t\t------------------------\n",
      "\t\tFragment Energy                 =    -72.0635989219\n",
      "\t\tNumber of Electrons in Fragment =     16.0000000000\n",
      "\n",
      " \tIteration =  3\n",
      " \t----------------\n",
      " \n",
      "\t\tFragment Number : #  1\n",
      "\t\t------------------------\n",
      "\t\tFragment Energy                 =    -72.0523069408\n",
      "\t\tNumber of Electrons in Fragment =     16.0000000000\n",
      "\n",
      "\t\tFragment Number : #  2\n",
      "\t\t------------------------\n",
      "\t\tFragment Energy                 =    -72.4061095744\n",
      "\t\tNumber of Electrons in Fragment =     14.0000000000\n",
      "\n",
      "\t\tFragment Number : #  3\n",
      "\t\t------------------------\n",
      "\t\tFragment Energy                 =    -72.4138671131\n",
      "\t\tNumber of Electrons in Fragment =     14.0000000000\n",
      "\n",
      "\t\tFragment Number : #  4\n",
      "\t\t------------------------\n",
      "\t\tFragment Energy                 =    -72.0614243028\n",
      "\t\tNumber of Electrons in Fragment =     16.0000000000\n",
      "\n",
      " \t*** DMET Cycle Done *** \n",
      " \tDMET Energy ( a.u. ) =   -157.1137416754\n",
      " \tChemical Potential   =     -0.0004124578\n"
     ]
    }
   ],
   "source": [
    "dmet_energy = dmet.simulate()"
   ]
  },
  {
   "cell_type": "markdown",
   "metadata": {},
   "source": [
    "## 4. Second example: DMET-CCSD on an hydrogen ring <a class=\"anchor\" id=\"4\"></a>\n",
    "\n",
    "### 4.1 Why not only using VQE? <a class=\"anchor\" id=\"41\"></a>"
   ]
  },
  {
   "cell_type": "code",
   "execution_count": 31,
   "metadata": {},
   "outputs": [
    {
     "data": {
      "text/plain": [
       "<pyscf.gto.mole.Mole at 0x7f76b2265f70>"
      ]
     },
     "execution_count": 31,
     "metadata": {},
     "output_type": "execute_result"
    }
   ],
   "source": [
    "H10=\"\"\"\n",
    "H          1.6180339887          0.0000000000          0.0000000000\n",
    "H          1.3090169944          0.9510565163          0.0000000000\n",
    "H          0.5000000000          1.5388417686          0.0000000000\n",
    "H         -0.5000000000          1.5388417686          0.0000000000\n",
    "H         -1.3090169944          0.9510565163          0.0000000000\n",
    "H         -1.6180339887          0.0000000000          0.0000000000\n",
    "H         -1.3090169944         -0.9510565163          0.0000000000\n",
    "H         -0.5000000000         -1.5388417686          0.0000000000\n",
    "H          0.5000000000         -1.5388417686          0.0000000000\n",
    "H          1.3090169944         -0.9510565163          0.0000000000\n",
    "\"\"\"\n",
    "\n",
    "mol = gto.Mole()\n",
    "mol.atom = H10\n",
    "mol.basis = \"minao\"\n",
    "mol.charge = 0\n",
    "mol.spin = 0\n",
    "mol.build()"
   ]
  },
  {
   "cell_type": "code",
   "execution_count": 32,
   "metadata": {},
   "outputs": [],
   "source": [
    "vqe_options = {\"molecule\": mol,\n",
    "               \"qubit_mapping\": \"jw\",\n",
    "               \"verbose\": False\n",
    "               }"
   ]
  },
  {
   "cell_type": "code",
   "execution_count": 33,
   "metadata": {},
   "outputs": [],
   "source": [
    "vqe = VQESolver(vqe_options)"
   ]
  },
  {
   "cell_type": "code",
   "execution_count": 34,
   "metadata": {},
   "outputs": [],
   "source": [
    "vqe.build()"
   ]
  },
  {
   "cell_type": "code",
   "execution_count": 36,
   "metadata": {},
   "outputs": [
    {
     "name": "stdout",
     "output_type": "stream",
     "text": [
      "{\n",
      "  \"qubit_hamiltonian_terms\": 4745,\n",
      "  \"circuit_width\": 20,\n",
      "  \"circuit_gates\": 57126,\n",
      "  \"circuit_2qubit_gates\": 37248,\n",
      "  \"circuit_var_gates\": 2252,\n",
      "  \"vqe_variational_parameters\": 350\n",
      "}\n"
     ]
    }
   ],
   "source": [
    "vqe_resources = vqe.get_resources()\n",
    "print(json.dumps(vqe_resources, indent=2))"
   ]
  },
  {
   "cell_type": "markdown",
   "metadata": {},
   "source": [
    "### 4.2 Section <a class=\"anchor\" id=\"42\"></a>\n",
    "\n",
    "Here, we demonstrate how to perform  DMET calculations using 1QBit's OpenQEMIST software package. Harnessing the power of emerging quantum computing technologies combined with state-of-the-art classical techniques, OpenQEMIST is able to deliver either state-of-the-art classical solutions or, with the flip of a switch, map a computationally challenging problem onto quantum computing architectures without the need for any additional programming, neither by a user nor a developer.\n",
    "\n",
    "We have selected a ring of 10 hydrogen atoms as a simple example of a molecular system. The distance between adjacent hydrogen atoms has been set to 1$~$Å."
   ]
  },
  {
   "cell_type": "code",
   "execution_count": 28,
   "metadata": {},
   "outputs": [],
   "source": [
    "dmet_options = {\"molecule\": mol,\n",
    "               \"fragment_atoms\": [1]*10,\n",
    "               \"fragment_solvers\": \"vqe\",\n",
    "               \"verbose\": False\n",
    "               }\n",
    "\n",
    "dmet = DMETProblemDecomposition(dmet_options)\n",
    "dmet.build()"
   ]
  },
  {
   "cell_type": "code",
   "execution_count": 29,
   "metadata": {},
   "outputs": [
    {
     "name": "stdout",
     "output_type": "stream",
     "text": [
      "{\n",
      "  \"qubit_hamiltonian_terms\": 27,\n",
      "  \"circuit_width\": 4,\n",
      "  \"circuit_gates\": 158,\n",
      "  \"circuit_2qubit_gates\": 64,\n",
      "  \"circuit_var_gates\": 12,\n",
      "  \"vqe_variational_parameters\": 2\n",
      "}\n"
     ]
    }
   ],
   "source": [
    "dmet_resources = dmet.get_resources()\n",
    "print(json.dumps(dmet_resources[0], indent=2))"
   ]
  },
  {
   "cell_type": "code",
   "execution_count": null,
   "metadata": {},
   "outputs": [],
   "source": [
    "dmet_energy = dmet.simulate()"
   ]
  },
  {
   "cell_type": "code",
   "execution_count": 14,
   "metadata": {},
   "outputs": [],
   "source": [
    "#from openqemist.electronic_structure_solvers import FCISolver\n",
    "#from openqemist.electronic_structure_solvers import CCSDSolver"
   ]
  },
  {
   "cell_type": "markdown",
   "metadata": {},
   "source": [
    "The results obtained from the DMET-CCSD method (using problem decomposition) are almost identical to those of the Full CI method (without using problem decomposition). When we decompose the ring of atoms into fragments, one of which includes only one hydrogen atom, the DMET method creates a fragment orbital (left: the single orbital distribution is shown in both pink and blue, with the colours depicting the phases) and the bath orbital (right: the single orbital distribution of the remaining nine hydrogen atoms is shown in both pink and blue, with the colours depicting the phases). \n",
    "\n",
    "<img src=\"img/frag_and_bath.png\" alt=\"fragment_and_bath_orbitals\" width=\"450\"/>\n",
    "\n",
    "Then, the DMET Hamiltonian will consist of only two electrons and two (i.e., fragment and bath) orbitals. Therefore, the CCSD solver, which treats single- and double-excitations, will provide results equivalent to those of the Full CI solver. This is why the results of the DMET-CCSD and Full CI methods almost coincide.\n",
    "\n",
    "The DMET calculations require only about 0.6% of the amplitudes compared to the CCSD calculation for the full system consisting of 10 hydrogen atoms. The number of Hamiltonian terms in the DMET calculation in the spacial orbital basis is only 20% (17% in the spin orbital basis) of the full system. A large amount of computational resources are saved while maintaining the same level of accuracy in the calculations."
   ]
  }
 ],
 "metadata": {
  "kernelspec": {
   "display_name": "qSDK",
   "language": "python",
   "name": "qsdk"
  },
  "language_info": {
   "codemirror_mode": {
    "name": "ipython",
    "version": 3
   },
   "file_extension": ".py",
   "mimetype": "text/x-python",
   "name": "python",
   "nbconvert_exporter": "python",
   "pygments_lexer": "ipython3",
   "version": "3.8.7"
  }
 },
 "nbformat": 4,
 "nbformat_minor": 2
}
