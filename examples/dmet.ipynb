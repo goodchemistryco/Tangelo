{
 "cells": [
  {
   "cell_type": "markdown",
   "metadata": {},
   "source": [
    "# Density Matrix Embedding Theory (DMET)"
   ]
  },
  {
   "cell_type": "markdown",
   "metadata": {},
   "source": [
    "## Table of contents:\n",
    "* [1. Introduction](#1)\n",
    "* [2. Theory of DMET](#2)\n",
    "* [3. First example: DMET-CCSD on Butane](#3)\n",
    "* [4. Second example: DMET-VQE on an hydrogen ring](#4)\n",
    "* [5. DMET features](#5)\n",
    "* [6. Closing words](#6)"
   ]
  },
  {
   "cell_type": "markdown",
   "metadata": {},
   "source": [
    "Before the introduction, let's do all imports needed in this notebook."
   ]
  },
  {
   "cell_type": "code",
   "execution_count": 1,
   "metadata": {},
   "outputs": [
    {
     "name": "stderr",
     "output_type": "stream",
     "text": [
      "/home/alex/VirtEnvs/qsdk/lib/python3.8/site-packages/pyscf/lib/misc.py:46: H5pyDeprecationWarning: Using default_file_mode other than 'r' is deprecated. Pass the mode to h5py.File() instead.\n",
      "  h5py.get_config().default_file_mode = 'a'\n"
     ]
    }
   ],
   "source": [
    "# Import for a pretty jupyter notebook...\n",
    "import json\n",
    "\n",
    "# Molecule definition.\n",
    "from pyscf import gto\n",
    "\n",
    "# The minimal import for DMET.\n",
    "from qsdk.problem_decomposition.dmet.dmet_problem_decomposition import DMETProblemDecomposition\n",
    "# Ability to change localization method.\n",
    "from qsdk.problem_decomposition.dmet.dmet_problem_decomposition import Localization\n",
    "# Use for VQE ressources estimation vs DMET.\n",
    "from qsdk.electronic_structure_solvers.vqe_solver import VQESolver\n",
    "# Use for comparaison.\n",
    "from qsdk.electronic_structure_solvers import FCISolver"
   ]
  },
  {
   "cell_type": "markdown",
   "metadata": {},
   "source": [
    "## 1. Introduction <a class=\"anchor\" id=\"1\"></a>\n",
    "One of the main objectives of quantum chemistry calculations in the area of materials science is to solve the electronic structure problem, $H\\Psi=E\\Psi$, as accurately as possible, in order to accelerate the materials design process. In the first example, the butane molecule is shown as an example. \n",
    "\n",
    "<img src=\"img/exact.png\" alt=\"exact\" width=\"200\" />\n",
    "\n",
    "The computational cost for performing accurate calculations of the electronic structure of molecules, however, is usually very expensive. For example, the cost of performing the full CI calculation scales exponentially on a classical computer as the size of the system increases. Therefore, when we target large-sized molecules, those relevant for industry problems, it becomes essential to employ an appropriate strategy for reducing the computational cost. The difficulty is to employ a strategy that consolidate accuracy while reducing computational costs when performing electronic structure calculations. Next, we will developp one of such strategy called Density matrix embedding theory (DMET)."
   ]
  },
  {
   "cell_type": "markdown",
   "metadata": {},
   "source": [
    "## 2. Theory of DMET <a class=\"anchor\" id=\"2\"></a>\n",
    "\n",
    "The idea is to decompose a molecular system into its constituent fragments and its environment. Each fragment are treated independently and recombined at the end to recover the full molecular energy. This has the advantages of cutting down the maximal computational complexity depending on the biggest fragment and being naturally implemented on parrallel computer. On the other side, the fragmenting comes at the cost of reducing accuraccy of the computation.\n",
    "\n",
    "First, the environment is calculated using a less-accurate method than will be used to calculate the electronic structure of a fragment. Then, the electronic structure problem for a given fragment is solved to a high degree of accuracy, which includes the quantum mechanical effects of the environment. The quantum mechanical description is updated (i.e., solved iteratively as shown below) by incorporating the just-performed highly accurate calculation. In the following schematic illustration, the molecule shown above is decomposed into fragments. Each molecular fragment CH$_\\mathrm{3}$ and CH$_\\text{2}$ are the fragments chosen for the electronic structure calculation, with the rest of the molecular system being the surrounding environment.\n",
    "\n",
    "<img src=\"img/iterations.png\" alt=\"iterations\" width=\"600\" />\n",
    "\n",
    "One successful decomposition approach is the DMET method. The DMET method decomposes a molecule into fragments, and each fragment is treated as an open quantum system that is entangled with each of the other fragments, all taken together to be that fragment's surrounding environment (or \"bath\"). In this framework, the electronic structure of a given fragment is obtained by solving the following Hamiltonian, by using a highly accurate quantum chemistry method, such as the full CI method or a coupled-cluster method.\n",
    "\n",
    "$$ H_{I}=\\sum^{\\text{frag}+\\text{bath}}_{rs}  \\left[ h_{rs} + \\sum_{mn} \\left[ (rs|mn) - (rn|ms) \\right] D^{\\text{(mf)env}}_{mn} \\right] a_{r}^{\\dagger}a_{s} + \\sum_{pqrs}^{\\text{frag}+\\text{bath}} (pq|rs) a_{p}^{\\dagger}a_{r}^{\\dagger}a_{s}a_{q} - \\mu\\sum_{r}^{\\text{frag}} a_{r}^{\\dagger}a_{r} $$\n",
    "\n",
    "The expression $\\sum_{mn} \\left[ (rs|mn) - (rn|ms) \\right] D^{\\text{(mf)env}}_{mn}$ describes the quantum mechanical effects of the environment on the fragment, where $D^{\\text{(mf)env}}_{mn}$ is the mean-field electronic density obtained by solving the Hartree&ndash;Fock equation. The quantum mechanical effects from the environment are incorporated through the one-particle term of the Hamiltonian. The extra term $\\mu\\sum_{r}^{\\text{frag}} a_{r}^{\\dagger}a_{r}$ ensures, through the adjustment of $\\mu$, that the number of electrons in all of the fragments, taken together, becomes equal to the total number of electrons in the entire system."
   ]
  },
  {
   "cell_type": "markdown",
   "metadata": {},
   "source": [
    "## 3. First example: DMET-CCSD on Butane <a class=\"anchor\" id=\"3\"></a>\n",
    "\n",
    "The first example will show how to partition the system into fragments. A different method for solving electronic structures can be chosen for each fragment, but here we will stick with CCSD. The first thing to do is building the butane PySCF molecule object."
   ]
  },
  {
   "cell_type": "code",
   "execution_count": 2,
   "metadata": {
    "scrolled": true
   },
   "outputs": [
    {
     "data": {
      "text/plain": [
       "<pyscf.gto.mole.Mole at 0x7f9c491ef1c0>"
      ]
     },
     "execution_count": 2,
     "metadata": {},
     "output_type": "execute_result"
    }
   ],
   "source": [
    "butane = \"\"\"\n",
    "C   2.142   1.395  -8.932\n",
    "H   1.604   0.760  -8.260              \n",
    "H   1.745   2.388  -8.880\n",
    "H   2.043   1.024  -9.930\n",
    "C   3.631   1.416  -8.537\n",
    "H   4.169   2.051  -9.210\n",
    "H   3.731   1.788  -7.539             \n",
    "C   4.203  -0.012  -8.612\n",
    "H   3.665  -0.647  -7.940\n",
    "H   4.104  -0.384  -9.610\n",
    "C   5.691   0.009  -8.218  \n",
    "H   6.088  -0.983  -8.270\n",
    "H   5.791   0.381  -7.220\n",
    "H   6.230   0.644  -8.890\n",
    "\"\"\"\n",
    "\n",
    "# Building the PySCF object.\n",
    "mol_butane = gto.Mole()\n",
    "mol_butane.atom = butane\n",
    "mol_butane.basis = \"minao\"\n",
    "mol_butane.charge = 0\n",
    "mol_butane.spin = 0\n",
    "mol_butane.build()"
   ]
  },
  {
   "cell_type": "markdown",
   "metadata": {},
   "source": [
    "The options for the DMET decomposition method are stored in a python dictionary.\n",
    "* **molecule**: The PySCF molecule object.\n",
    "* **fragment_atoms**: List for the number of atoms in each fragment. Each atoms are chosen with their order in the coordinates definition (variable `butane`). Also, the sum of all number must be equal to total number of atom in the molecule.\n",
    "* **fragment_solvers**: A string or a list of string representing the solver for each fragment. The number of items in the list must be equal to the number of fragment. There is one exception: when a single string is defined, the solver is the same for all fragments.\n",
    "* **verbose**: Activate verbose output.\n",
    "\n",
    "The next step `dmet.build()` ensures that the fragments and envrionement orbitals are defined according to the electron localization scheme."
   ]
  },
  {
   "cell_type": "code",
   "execution_count": 3,
   "metadata": {},
   "outputs": [],
   "source": [
    "options_butane_dmet = {\"molecule\": mol_butane,\n",
    "                       # Fragment definition = CH3, CH2, CH2, CH3\n",
    "                       \"fragment_atoms\": [4, 3, 3, 4],\n",
    "                       \"fragment_solvers\": \"ccsd\",\n",
    "                       \"verbose\": True\n",
    "                       }\n",
    "\n",
    "dmet_butane = DMETProblemDecomposition(options_butane_dmet)\n",
    "dmet_butane.build()"
   ]
  },
  {
   "cell_type": "markdown",
   "metadata": {},
   "source": [
    "Finally, we can call the `dmet_butane.simulate()` method to do the computation."
   ]
  },
  {
   "cell_type": "code",
   "execution_count": 4,
   "metadata": {
    "scrolled": true
   },
   "outputs": [
    {
     "name": "stdout",
     "output_type": "stream",
     "text": [
      " \tIteration =  1\n",
      " \t----------------\n",
      " \n",
      "\t\tFragment Number : #  1\n",
      "\t\t------------------------\n",
      "\t\tFragment Energy                 =    -72.0540582760\n",
      "\t\tNumber of Electrons in Fragment =     16.0000000000\n",
      "\n",
      "\t\tFragment Number : #  2\n",
      "\t\t------------------------\n",
      "\t\tFragment Energy                 =    -72.4095411539\n",
      "\t\tNumber of Electrons in Fragment =     14.0000000000\n",
      "\n",
      "\t\tFragment Number : #  3\n",
      "\t\t------------------------\n",
      "\t\tFragment Energy                 =    -72.4172977137\n",
      "\t\tNumber of Electrons in Fragment =     14.0000000000\n",
      "\n",
      "\t\tFragment Number : #  4\n",
      "\t\t------------------------\n",
      "\t\tFragment Energy                 =    -72.0631745662\n",
      "\t\tNumber of Electrons in Fragment =     16.0000000000\n",
      "\n",
      " \tIteration =  2\n",
      " \t----------------\n",
      " \n",
      "\t\tFragment Number : #  1\n",
      "\t\t------------------------\n",
      "\t\tFragment Energy                 =    -72.0544828916\n",
      "\t\tNumber of Electrons in Fragment =     16.0000000000\n",
      "\n",
      "\t\tFragment Number : #  2\n",
      "\t\t------------------------\n",
      "\t\tFragment Energy                 =    -72.4103731263\n",
      "\t\tNumber of Electrons in Fragment =     14.0000000000\n",
      "\n",
      "\t\tFragment Number : #  3\n",
      "\t\t------------------------\n",
      "\t\tFragment Energy                 =    -72.4181294486\n",
      "\t\tNumber of Electrons in Fragment =     14.0000000000\n",
      "\n",
      "\t\tFragment Number : #  4\n",
      "\t\t------------------------\n",
      "\t\tFragment Energy                 =    -72.0635989219\n",
      "\t\tNumber of Electrons in Fragment =     16.0000000000\n",
      "\n",
      " \tIteration =  3\n",
      " \t----------------\n",
      " \n",
      "\t\tFragment Number : #  1\n",
      "\t\t------------------------\n",
      "\t\tFragment Energy                 =    -72.0523069408\n",
      "\t\tNumber of Electrons in Fragment =     16.0000000000\n",
      "\n",
      "\t\tFragment Number : #  2\n",
      "\t\t------------------------\n",
      "\t\tFragment Energy                 =    -72.4061095743\n",
      "\t\tNumber of Electrons in Fragment =     14.0000000000\n",
      "\n",
      "\t\tFragment Number : #  3\n",
      "\t\t------------------------\n",
      "\t\tFragment Energy                 =    -72.4138671131\n",
      "\t\tNumber of Electrons in Fragment =     14.0000000000\n",
      "\n",
      "\t\tFragment Number : #  4\n",
      "\t\t------------------------\n",
      "\t\tFragment Energy                 =    -72.0614243028\n",
      "\t\tNumber of Electrons in Fragment =     16.0000000000\n",
      "\n",
      " \t*** DMET Cycle Done *** \n",
      " \tDMET Energy ( a.u. ) =   -157.1137416753\n",
      " \tChemical Potential   =     -0.0004124578\n",
      "DMET energy (hartree): \t -157.11374167529894\n"
     ]
    }
   ],
   "source": [
    "energy_butane_dmet = dmet_butane.simulate()\n",
    "print(f\"DMET energy (hartree): \\t {energy_butane_dmet}\")"
   ]
  },
  {
   "cell_type": "markdown",
   "metadata": {},
   "source": [
    "As seen below, the correlation energy $E_{corr} = E_{DMET}-E_{HF}$ retrieved from this calculation is significant. "
   ]
  },
  {
   "cell_type": "code",
   "execution_count": 5,
   "metadata": {},
   "outputs": [
    {
     "name": "stdout",
     "output_type": "stream",
     "text": [
      "Correlation energy (hartree): \t 0.2645638723222419\n",
      "Correlation energy (kcal/mol): \t 166.01382988220678\n"
     ]
    }
   ],
   "source": [
    "energy_butane_hf = dmet_butane.mean_field.e_tot\n",
    "energy_corr_butane = abs(energy_butane_dmet - energy_butane_hf)\n",
    "\n",
    "print(f\"Correlation energy (hartree): \\t {energy_corr_butane}\")\n",
    "print(f\"Correlation energy (kcal/mol): \\t {627.5*energy_corr_butane}\")"
   ]
  },
  {
   "cell_type": "markdown",
   "metadata": {},
   "source": [
    "## 4. Second example: DMET-VQE on an hydrogen ring <a class=\"anchor\" id=\"4\"></a>"
   ]
  },
  {
   "cell_type": "markdown",
   "metadata": {},
   "source": [
    "### 4.1 Why not only using VQE?\n",
    "\n",
    "We saw in the last section that the computation of DMET fragments is able to get back a significant amount of correlation energy. A valid question that can be asked is: \"Why can't we just do the computation on the big molecule?\". As stated earlier, DMET breaks the system into its constituents. People who want to do quantum compution on NISQ devices can benefit from this scheme. In fact, performing VQE on an hydrogen ring is beyond the capability of current quantum computer.\n",
    "\n",
    "We have selected a ring of 10 hydrogen atoms as a simple example of a molecular system. The distance between adjacent hydrogen atoms has been set to 1$~$Å."
   ]
  },
  {
   "cell_type": "code",
   "execution_count": 6,
   "metadata": {},
   "outputs": [
    {
     "data": {
      "text/plain": [
       "<pyscf.gto.mole.Mole at 0x7f9c03d0ceb0>"
      ]
     },
     "execution_count": 6,
     "metadata": {},
     "output_type": "execute_result"
    }
   ],
   "source": [
    "H10=\"\"\"\n",
    "H          1.6180339887          0.0000000000          0.0000000000\n",
    "H          1.3090169944          0.9510565163          0.0000000000\n",
    "H          0.5000000000          1.5388417686          0.0000000000\n",
    "H         -0.5000000000          1.5388417686          0.0000000000\n",
    "H         -1.3090169944          0.9510565163          0.0000000000\n",
    "H         -1.6180339887          0.0000000000          0.0000000000\n",
    "H         -1.3090169944         -0.9510565163          0.0000000000\n",
    "H         -0.5000000000         -1.5388417686          0.0000000000\n",
    "H          0.5000000000         -1.5388417686          0.0000000000\n",
    "H          1.3090169944         -0.9510565163          0.0000000000\n",
    "\"\"\"\n",
    "\n",
    "mol_h10 = gto.Mole()\n",
    "mol_h10.atom = H10\n",
    "mol_h10.basis = \"minao\"\n",
    "mol_h10.charge = 0\n",
    "mol_h10.spin = 0\n",
    "mol_h10.build()"
   ]
  },
  {
   "cell_type": "markdown",
   "metadata": {},
   "source": [
    "We specifiy some standard parameters to show our point. Please note that other encoding could reduce the required resources, but resources would still be too much for current hardware."
   ]
  },
  {
   "cell_type": "code",
   "execution_count": 7,
   "metadata": {},
   "outputs": [],
   "source": [
    "options_h10_vqe = {\"molecule\": mol_h10,\n",
    "                   \"qubit_mapping\": \"jw\",\n",
    "                   \"verbose\": False\n",
    "                   }\n",
    "vqe_h10 = VQESolver(options_h10_vqe)\n",
    "vqe_h10.build()"
   ]
  },
  {
   "cell_type": "markdown",
   "metadata": {},
   "source": [
    "Here are some resources estimation that would be needed for a full VQE calculation."
   ]
  },
  {
   "cell_type": "code",
   "execution_count": 8,
   "metadata": {
    "scrolled": true
   },
   "outputs": [
    {
     "name": "stdout",
     "output_type": "stream",
     "text": [
      "{\n",
      "  \"qubit_hamiltonian_terms\": 4435,\n",
      "  \"circuit_width\": 20,\n",
      "  \"circuit_gates\": 50278,\n",
      "  \"circuit_2qubit_gates\": 32704,\n",
      "  \"circuit_var_gates\": 1996,\n",
      "  \"vqe_variational_parameters\": 350\n",
      "}\n"
     ]
    }
   ],
   "source": [
    "resources_h10_vqe = vqe_h10.get_resources()\n",
    "print(json.dumps(resources_h10_vqe, indent=2))"
   ]
  },
  {
   "cell_type": "markdown",
   "metadata": {},
   "source": [
    "### 4.2 DMET-VQE\n",
    "\n",
    "Here, we demonstrate how to perform  DMET-VQE calculations using qSDK package. The aim is to obtain improved results (vs HF energy) when compairing to the Full CI method (without using problem decomposition) and also using a quantum algorithm (VQE)."
   ]
  },
  {
   "cell_type": "code",
   "execution_count": 19,
   "metadata": {},
   "outputs": [],
   "source": [
    "options_h10_dmet = {\"molecule\": mol_h10,\n",
    "                    \"fragment_atoms\": [1]*10,\n",
    "                    \"fragment_solvers\": \"vqe\",\n",
    "                    \"verbose\": False\n",
    "                    }\n",
    "\n",
    "dmet_h10 = DMETProblemDecomposition(options_h10_dmet)\n",
    "dmet_h10.build()"
   ]
  },
  {
   "cell_type": "markdown",
   "metadata": {},
   "source": [
    "The `dmet.build()` method creates fragments (10) from the H10 molecule. When we decompose the ring of atoms into fragments, one of which includes only one hydrogen atom, the DMET method creates a fragment orbital (left: the single orbital distribution is shown in both pink and blue, with the colours depicting the phases) and the bath orbital (right: the single orbital distribution of the remaining nine hydrogen atoms is shown in both pink and blue, with the colours depicting the phases). \n",
    "\n",
    "<img src=\"img/frag_and_bath.png\" alt=\"fragment_and_bath_orbitals\" width=\"450\"/>\n",
    "\n",
    "Ressources estimations is done by calling `dmet_h10.get_resources()`. Here, a list of ten dictionaries is returned and stored in `resources_h10_dmet`. Each dictionary refers to a fragment. As every fragment is the same in this system (a single hydrogen atom), we only print one."
   ]
  },
  {
   "cell_type": "code",
   "execution_count": 20,
   "metadata": {},
   "outputs": [
    {
     "name": "stdout",
     "output_type": "stream",
     "text": [
      "{\n",
      "  \"qubit_hamiltonian_terms\": 27,\n",
      "  \"circuit_width\": 4,\n",
      "  \"circuit_gates\": 158,\n",
      "  \"circuit_2qubit_gates\": 64,\n",
      "  \"circuit_var_gates\": 12,\n",
      "  \"vqe_variational_parameters\": 2\n",
      "}\n"
     ]
    }
   ],
   "source": [
    "resources_h10_dmet = dmet_h10.get_resources()\n",
    "print(json.dumps(resources_h10_dmet[0], indent=2))"
   ]
  },
  {
   "cell_type": "markdown",
   "metadata": {},
   "source": [
    "Compared to an all VCQE algorithm, those resources are greatly reduced. Below, `dmet_h10.simulate()` computes the DMET-VQE energy."
   ]
  },
  {
   "cell_type": "code",
   "execution_count": 21,
   "metadata": {},
   "outputs": [
    {
     "name": "stdout",
     "output_type": "stream",
     "text": [
      " \tIteration =  1\n",
      " \t----------------\n",
      " \n",
      "\t\tFragment Number : #  1\n",
      "\t\t------------------------\n"
     ]
    },
    {
     "name": "stderr",
     "output_type": "stream",
     "text": [
      "/home/alex/Codes/QEMIST_qSDK/qsdk/toolboxes/ansatz_generator/uccsd.py:61: FutureWarning: elementwise comparison failed; returning scalar instead, but in the future will perform elementwise comparison\n",
      "  if var_params == \"ones\":\n",
      "/home/alex/Codes/QEMIST_qSDK/qsdk/toolboxes/ansatz_generator/uccsd.py:63: FutureWarning: elementwise comparison failed; returning scalar instead, but in the future will perform elementwise comparison\n",
      "  elif var_params == \"random\":\n",
      "/home/alex/Codes/QEMIST_qSDK/qsdk/toolboxes/ansatz_generator/uccsd.py:65: FutureWarning: elementwise comparison failed; returning scalar instead, but in the future will perform elementwise comparison\n",
      "  elif var_params == \"MP2\":\n"
     ]
    },
    {
     "name": "stdout",
     "output_type": "stream",
     "text": [
      "Optimization terminated successfully    (Exit mode 0)\n",
      "            Current function value: -1.6862371645340293\n",
      "            Iterations: 5\n",
      "            Function evaluations: 20\n",
      "            Gradient evaluations: 5\n",
      "\t\tFragment Energy                 =     -1.8000328075\n",
      "\t\tNumber of Electrons in Fragment =      2.0000000000\n",
      "\n",
      "\t\tFragment Number : #  2\n",
      "\t\t------------------------\n",
      "Optimization terminated successfully    (Exit mode 0)\n",
      "            Current function value: -1.6862371644300924\n",
      "            Iterations: 5\n",
      "            Function evaluations: 20\n",
      "            Gradient evaluations: 5\n",
      "\t\tFragment Energy                 =     -1.8001880724\n",
      "\t\tNumber of Electrons in Fragment =      2.0000000000\n",
      "\n",
      "\t\tFragment Number : #  3\n",
      "\t\t------------------------\n",
      "Optimization terminated successfully    (Exit mode 0)\n",
      "            Current function value: -1.6862371644960765\n",
      "            Iterations: 5\n",
      "            Function evaluations: 20\n",
      "            Gradient evaluations: 5\n",
      "\t\tFragment Energy                 =     -1.8000328074\n",
      "\t\tNumber of Electrons in Fragment =      2.0000000000\n",
      "\n",
      "\t\tFragment Number : #  4\n",
      "\t\t------------------------\n",
      "Optimization terminated successfully    (Exit mode 0)\n",
      "            Current function value: -1.6862371644270202\n",
      "            Iterations: 5\n",
      "            Function evaluations: 20\n",
      "            Gradient evaluations: 5\n",
      "\t\tFragment Energy                 =     -1.8001880723\n",
      "\t\tNumber of Electrons in Fragment =      2.0000000000\n",
      "\n",
      "\t\tFragment Number : #  5\n",
      "\t\t------------------------\n",
      "Optimization terminated successfully    (Exit mode 0)\n",
      "            Current function value: -1.6862371644300846\n",
      "            Iterations: 5\n",
      "            Function evaluations: 20\n",
      "            Gradient evaluations: 5\n",
      "\t\tFragment Energy                 =     -1.8001880724\n",
      "\t\tNumber of Electrons in Fragment =      2.0000000000\n",
      "\n",
      "\t\tFragment Number : #  6\n",
      "\t\t------------------------\n",
      "Optimization terminated successfully    (Exit mode 0)\n",
      "            Current function value: -1.6862371645340217\n",
      "            Iterations: 5\n",
      "            Function evaluations: 20\n",
      "            Gradient evaluations: 5\n",
      "\t\tFragment Energy                 =     -1.8000328075\n",
      "\t\tNumber of Electrons in Fragment =      2.0000000000\n",
      "\n",
      "\t\tFragment Number : #  7\n",
      "\t\t------------------------\n",
      "Optimization terminated successfully    (Exit mode 0)\n",
      "            Current function value: -1.6862371644300878\n",
      "            Iterations: 5\n",
      "            Function evaluations: 20\n",
      "            Gradient evaluations: 5\n",
      "\t\tFragment Energy                 =     -1.8001880724\n",
      "\t\tNumber of Electrons in Fragment =      2.0000000000\n",
      "\n",
      "\t\tFragment Number : #  8\n",
      "\t\t------------------------\n",
      "Optimization terminated successfully    (Exit mode 0)\n",
      "            Current function value: -1.6862371644270129\n",
      "            Iterations: 5\n",
      "            Function evaluations: 20\n",
      "            Gradient evaluations: 5\n",
      "\t\tFragment Energy                 =     -1.8001880724\n",
      "\t\tNumber of Electrons in Fragment =      2.0000000000\n",
      "\n",
      "\t\tFragment Number : #  9\n",
      "\t\t------------------------\n",
      "Optimization terminated successfully    (Exit mode 0)\n",
      "            Current function value: -1.6862371644960827\n",
      "            Iterations: 5\n",
      "            Function evaluations: 20\n",
      "            Gradient evaluations: 5\n",
      "\t\tFragment Energy                 =     -1.8000328076\n",
      "\t\tNumber of Electrons in Fragment =      2.0000000000\n",
      "\n",
      "\t\tFragment Number : #  10\n",
      "\t\t------------------------\n",
      "Optimization terminated successfully    (Exit mode 0)\n",
      "            Current function value: -1.686237164430086\n",
      "            Iterations: 5\n",
      "            Function evaluations: 20\n",
      "            Gradient evaluations: 5\n",
      "\t\tFragment Energy                 =     -1.8001880725\n",
      "\t\tNumber of Electrons in Fragment =      2.0000000000\n",
      "\n",
      " \tIteration =  2\n",
      " \t----------------\n",
      " \n",
      "\t\tFragment Number : #  1\n",
      "\t\t------------------------\n",
      "Optimization terminated successfully    (Exit mode 0)\n",
      "            Current function value: -1.6863371804140306\n",
      "            Iterations: 5\n",
      "            Function evaluations: 20\n",
      "            Gradient evaluations: 5\n",
      "\t\tFragment Energy                 =     -1.8001738751\n",
      "\t\tNumber of Electrons in Fragment =      2.0000000000\n",
      "\n",
      "\t\tFragment Number : #  2\n",
      "\t\t------------------------\n",
      "Optimization terminated successfully    (Exit mode 0)\n",
      "            Current function value: -1.6863371803791607\n",
      "            Iterations: 5\n",
      "            Function evaluations: 20\n",
      "            Gradient evaluations: 5\n",
      "\t\tFragment Energy                 =     -1.8001738752\n",
      "\t\tNumber of Electrons in Fragment =      2.0000000000\n",
      "\n",
      "\t\tFragment Number : #  3\n",
      "\t\t------------------------\n",
      "Optimization terminated successfully    (Exit mode 0)\n",
      "            Current function value: -1.6863371803760732\n",
      "            Iterations: 5\n",
      "            Function evaluations: 20\n",
      "            Gradient evaluations: 5\n",
      "\t\tFragment Energy                 =     -1.8001738749\n",
      "\t\tNumber of Electrons in Fragment =      2.0000000000\n",
      "\n",
      "\t\tFragment Number : #  4\n",
      "\t\t------------------------\n",
      "Optimization terminated successfully    (Exit mode 0)\n",
      "            Current function value: -1.6863371803092888\n",
      "            Iterations: 5\n",
      "            Function evaluations: 20\n",
      "            Gradient evaluations: 5\n",
      "\t\tFragment Energy                 =     -1.8003291329\n",
      "\t\tNumber of Electrons in Fragment =      2.0000000000\n",
      "\n",
      "\t\tFragment Number : #  5\n",
      "\t\t------------------------\n",
      "Optimization terminated successfully    (Exit mode 0)\n",
      "            Current function value: -1.6863371803791458\n",
      "            Iterations: 5\n",
      "            Function evaluations: 20\n",
      "            Gradient evaluations: 5\n",
      "\t\tFragment Energy                 =     -1.8001738749\n",
      "\t\tNumber of Electrons in Fragment =      2.0000000000\n",
      "\n",
      "\t\tFragment Number : #  6\n",
      "\t\t------------------------\n",
      "Optimization terminated successfully    (Exit mode 0)\n",
      "            Current function value: -1.6863371804140153\n",
      "            Iterations: 5\n",
      "            Function evaluations: 20\n",
      "            Gradient evaluations: 5\n",
      "\t\tFragment Energy                 =     -1.8001738749\n",
      "\t\tNumber of Electrons in Fragment =      2.0000000000\n",
      "\n",
      "\t\tFragment Number : #  7\n",
      "\t\t------------------------\n",
      "Optimization terminated successfully    (Exit mode 0)\n",
      "            Current function value: -1.686337180379139\n",
      "            Iterations: 5\n",
      "            Function evaluations: 20\n",
      "            Gradient evaluations: 5\n",
      "\t\tFragment Energy                 =     -1.8001738747\n",
      "\t\tNumber of Electrons in Fragment =      2.0000000000\n",
      "\n",
      "\t\tFragment Number : #  8\n",
      "\t\t------------------------\n",
      "Optimization terminated successfully    (Exit mode 0)\n",
      "            Current function value: -1.6863371803092786\n",
      "            Iterations: 5\n",
      "            Function evaluations: 20\n",
      "            Gradient evaluations: 5\n",
      "\t\tFragment Energy                 =     -1.8003291331\n",
      "\t\tNumber of Electrons in Fragment =      2.0000000000\n",
      "\n",
      "\t\tFragment Number : #  9\n",
      "\t\t------------------------\n",
      "Optimization terminated successfully    (Exit mode 0)\n",
      "            Current function value: -1.68633718037608\n",
      "            Iterations: 5\n",
      "            Function evaluations: 20\n",
      "            Gradient evaluations: 5\n",
      "\t\tFragment Energy                 =     -1.8001738751\n",
      "\t\tNumber of Electrons in Fragment =      2.0000000000\n",
      "\n",
      "\t\tFragment Number : #  10\n",
      "\t\t------------------------\n",
      "Optimization terminated successfully    (Exit mode 0)\n",
      "            Current function value: -1.686337180379161\n",
      "            Iterations: 5\n",
      "            Function evaluations: 20\n",
      "            Gradient evaluations: 5\n",
      "\t\tFragment Energy                 =     -1.8001738753\n",
      "\t\tNumber of Electrons in Fragment =      2.0000000000\n",
      "\n",
      " \tIteration =  3\n",
      " \t----------------\n",
      " \n",
      "\t\tFragment Number : #  1\n",
      "\t\t------------------------\n",
      "Optimization terminated successfully    (Exit mode 0)\n",
      "            Current function value: -1.6860329281263275\n",
      "            Iterations: 5\n",
      "            Function evaluations: 20\n",
      "            Gradient evaluations: 5\n",
      "\t\tFragment Energy                 =     -1.7998999556\n",
      "\t\tNumber of Electrons in Fragment =      2.0000000000\n",
      "\n",
      "\t\tFragment Number : #  2\n",
      "\t\t------------------------\n",
      "Optimization terminated successfully    (Exit mode 0)\n",
      "            Current function value: -1.6860329280914523\n",
      "            Iterations: 5\n",
      "            Function evaluations: 20\n",
      "            Gradient evaluations: 5\n",
      "\t\tFragment Energy                 =     -1.7998999557\n",
      "\t\tNumber of Electrons in Fragment =      2.0000000000\n",
      "\n",
      "\t\tFragment Number : #  3\n",
      "\t\t------------------------\n"
     ]
    },
    {
     "name": "stdout",
     "output_type": "stream",
     "text": [
      "Optimization terminated successfully    (Exit mode 0)\n",
      "            Current function value: -1.686032928088384\n",
      "            Iterations: 5\n",
      "            Function evaluations: 20\n",
      "            Gradient evaluations: 5\n",
      "\t\tFragment Energy                 =     -1.7998999556\n",
      "\t\tNumber of Electrons in Fragment =      2.0000000000\n",
      "\n",
      "\t\tFragment Number : #  4\n",
      "\t\t------------------------\n",
      "Optimization terminated successfully    (Exit mode 0)\n",
      "            Current function value: -1.6860329281620883\n",
      "            Iterations: 5\n",
      "            Function evaluations: 20\n",
      "            Gradient evaluations: 5\n",
      "\t\tFragment Energy                 =     -1.7997446762\n",
      "\t\tNumber of Electrons in Fragment =      2.0000000000\n",
      "\n",
      "\t\tFragment Number : #  5\n",
      "\t\t------------------------\n",
      "Optimization terminated successfully    (Exit mode 0)\n",
      "            Current function value: -1.6860329280914481\n",
      "            Iterations: 5\n",
      "            Function evaluations: 20\n",
      "            Gradient evaluations: 5\n",
      "\t\tFragment Energy                 =     -1.7998999558\n",
      "\t\tNumber of Electrons in Fragment =      2.0000000000\n",
      "\n",
      "\t\tFragment Number : #  6\n",
      "\t\t------------------------\n",
      "Optimization terminated successfully    (Exit mode 0)\n",
      "            Current function value: -1.6860329281263158\n",
      "            Iterations: 5\n",
      "            Function evaluations: 20\n",
      "            Gradient evaluations: 5\n",
      "\t\tFragment Energy                 =     -1.7998999559\n",
      "\t\tNumber of Electrons in Fragment =      2.0000000000\n",
      "\n",
      "\t\tFragment Number : #  7\n",
      "\t\t------------------------\n",
      "Optimization terminated successfully    (Exit mode 0)\n",
      "            Current function value: -1.6860329280914477\n",
      "            Iterations: 5\n",
      "            Function evaluations: 20\n",
      "            Gradient evaluations: 5\n",
      "\t\tFragment Energy                 =     -1.7998999557\n",
      "\t\tNumber of Electrons in Fragment =      2.0000000000\n",
      "\n",
      "\t\tFragment Number : #  8\n",
      "\t\t------------------------\n",
      "Optimization terminated successfully    (Exit mode 0)\n",
      "            Current function value: -1.686032928162078\n",
      "            Iterations: 5\n",
      "            Function evaluations: 20\n",
      "            Gradient evaluations: 5\n",
      "\t\tFragment Energy                 =     -1.7997446759\n",
      "\t\tNumber of Electrons in Fragment =      2.0000000000\n",
      "\n",
      "\t\tFragment Number : #  9\n",
      "\t\t------------------------\n",
      "Optimization terminated successfully    (Exit mode 0)\n",
      "            Current function value: -1.6860329280883823\n",
      "            Iterations: 5\n",
      "            Function evaluations: 20\n",
      "            Gradient evaluations: 5\n",
      "\t\tFragment Energy                 =     -1.7998999556\n",
      "\t\tNumber of Electrons in Fragment =      2.0000000000\n",
      "\n",
      "\t\tFragment Number : #  10\n",
      "\t\t------------------------\n",
      "Optimization terminated successfully    (Exit mode 0)\n",
      "            Current function value: -1.6860329280914543\n",
      "            Iterations: 5\n",
      "            Function evaluations: 20\n",
      "            Gradient evaluations: 5\n",
      "\t\tFragment Energy                 =     -1.7998999556\n",
      "\t\tNumber of Electrons in Fragment =      2.0000000000\n",
      "\n",
      " \tIteration =  4\n",
      " \t----------------\n",
      " \n",
      "\t\tFragment Number : #  1\n",
      "\t\t------------------------\n",
      "Optimization terminated successfully    (Exit mode 0)\n",
      "            Current function value: -1.6861196336894122\n",
      "            Iterations: 5\n",
      "            Function evaluations: 20\n",
      "            Gradient evaluations: 5\n",
      "\t\tFragment Energy                 =     -1.8000222823\n",
      "\t\tNumber of Electrons in Fragment =      2.0000000000\n",
      "\n",
      "\t\tFragment Number : #  2\n",
      "\t\t------------------------\n",
      "Optimization terminated successfully    (Exit mode 0)\n",
      "            Current function value: -1.6861196336545308\n",
      "            Iterations: 5\n",
      "            Function evaluations: 20\n",
      "            Gradient evaluations: 5\n",
      "\t\tFragment Energy                 =     -1.8000222825\n",
      "\t\tNumber of Electrons in Fragment =      2.0000000000\n",
      "\n",
      "\t\tFragment Number : #  3\n",
      "\t\t------------------------\n",
      "Optimization terminated successfully    (Exit mode 0)\n",
      "            Current function value: -1.686119633651466\n",
      "            Iterations: 5\n",
      "            Function evaluations: 20\n",
      "            Gradient evaluations: 5\n",
      "\t\tFragment Energy                 =     -1.8000222822\n",
      "\t\tNumber of Electrons in Fragment =      2.0000000000\n",
      "\n",
      "\t\tFragment Number : #  4\n",
      "\t\t------------------------\n",
      "Optimization terminated successfully    (Exit mode 0)\n",
      "            Current function value: -1.686119633723203\n",
      "            Iterations: 5\n",
      "            Function evaluations: 20\n",
      "            Gradient evaluations: 5\n",
      "\t\tFragment Energy                 =     -1.7998670088\n",
      "\t\tNumber of Electrons in Fragment =      2.0000000000\n",
      "\n",
      "\t\tFragment Number : #  5\n",
      "\t\t------------------------\n",
      "Optimization terminated successfully    (Exit mode 0)\n",
      "            Current function value: -1.6861196336545416\n",
      "            Iterations: 5\n",
      "            Function evaluations: 20\n",
      "            Gradient evaluations: 5\n",
      "\t\tFragment Energy                 =     -1.8000222822\n",
      "\t\tNumber of Electrons in Fragment =      2.0000000000\n",
      "\n",
      "\t\tFragment Number : #  6\n",
      "\t\t------------------------\n",
      "Optimization terminated successfully    (Exit mode 0)\n",
      "            Current function value: -1.686119633689414\n",
      "            Iterations: 5\n",
      "            Function evaluations: 20\n",
      "            Gradient evaluations: 5\n",
      "\t\tFragment Energy                 =     -1.8000222822\n",
      "\t\tNumber of Electrons in Fragment =      2.0000000000\n",
      "\n",
      "\t\tFragment Number : #  7\n",
      "\t\t------------------------\n",
      "Optimization terminated successfully    (Exit mode 0)\n",
      "            Current function value: -1.6861196336545317\n",
      "            Iterations: 5\n",
      "            Function evaluations: 20\n",
      "            Gradient evaluations: 5\n",
      "\t\tFragment Energy                 =     -1.8000222824\n",
      "\t\tNumber of Electrons in Fragment =      2.0000000000\n",
      "\n",
      "\t\tFragment Number : #  8\n",
      "\t\t------------------------\n",
      "Optimization terminated successfully    (Exit mode 0)\n",
      "            Current function value: -1.6861196337231914\n",
      "            Iterations: 5\n",
      "            Function evaluations: 20\n",
      "            Gradient evaluations: 5\n",
      "\t\tFragment Energy                 =     -1.7998670086\n",
      "\t\tNumber of Electrons in Fragment =      2.0000000000\n",
      "\n",
      "\t\tFragment Number : #  9\n",
      "\t\t------------------------\n",
      "Optimization terminated successfully    (Exit mode 0)\n",
      "            Current function value: -1.6861196336514643\n",
      "            Iterations: 5\n",
      "            Function evaluations: 20\n",
      "            Gradient evaluations: 5\n",
      "\t\tFragment Energy                 =     -1.8000222823\n",
      "\t\tNumber of Electrons in Fragment =      2.0000000000\n",
      "\n",
      "\t\tFragment Number : #  10\n",
      "\t\t------------------------\n",
      "Optimization terminated successfully    (Exit mode 0)\n",
      "            Current function value: -1.686119633654533\n",
      "            Iterations: 5\n",
      "            Function evaluations: 20\n",
      "            Gradient evaluations: 5\n",
      "\t\tFragment Energy                 =     -1.8000222824\n",
      "\t\tNumber of Electrons in Fragment =      2.0000000000\n",
      "\n",
      " \tIteration =  5\n",
      " \t----------------\n",
      " \n",
      "\t\tFragment Number : #  1\n",
      "\t\t------------------------\n",
      "Optimization terminated successfully    (Exit mode 0)\n",
      "            Current function value: -1.686100815621609\n",
      "            Iterations: 5\n",
      "            Function evaluations: 20\n",
      "            Gradient evaluations: 5\n",
      "\t\tFragment Energy                 =     -1.7999957346\n",
      "\t\tNumber of Electrons in Fragment =      2.0000000000\n",
      "\n",
      "\t\tFragment Number : #  2\n",
      "\t\t------------------------\n",
      "Optimization terminated successfully    (Exit mode 0)\n",
      "            Current function value: -1.6861008155867323\n",
      "            Iterations: 5\n",
      "            Function evaluations: 20\n",
      "            Gradient evaluations: 5\n",
      "\t\tFragment Energy                 =     -1.7999957346\n",
      "\t\tNumber of Electrons in Fragment =      2.0000000000\n",
      "\n",
      "\t\tFragment Number : #  3\n",
      "\t\t------------------------\n",
      "Optimization terminated successfully    (Exit mode 0)\n",
      "            Current function value: -1.6861008155836616\n",
      "            Iterations: 5\n",
      "            Function evaluations: 20\n",
      "            Gradient evaluations: 5\n",
      "\t\tFragment Energy                 =     -1.7999957346\n",
      "\t\tNumber of Electrons in Fragment =      2.0000000000\n",
      "\n",
      "\t\tFragment Number : #  4\n",
      "\t\t------------------------\n",
      "Optimization terminated successfully    (Exit mode 0)\n",
      "            Current function value: -1.6861008156558168\n",
      "            Iterations: 5\n",
      "            Function evaluations: 20\n",
      "            Gradient evaluations: 5\n",
      "\t\tFragment Energy                 =     -1.7998404595\n",
      "\t\tNumber of Electrons in Fragment =      2.0000000000\n",
      "\n",
      "\t\tFragment Number : #  5\n",
      "\t\t------------------------\n"
     ]
    },
    {
     "name": "stdout",
     "output_type": "stream",
     "text": [
      "Optimization terminated successfully    (Exit mode 0)\n",
      "            Current function value: -1.6861008155867336\n",
      "            Iterations: 5\n",
      "            Function evaluations: 20\n",
      "            Gradient evaluations: 5\n",
      "\t\tFragment Energy                 =     -1.7999957345\n",
      "\t\tNumber of Electrons in Fragment =      2.0000000000\n",
      "\n",
      "\t\tFragment Number : #  6\n",
      "\t\t------------------------\n",
      "Optimization terminated successfully    (Exit mode 0)\n",
      "            Current function value: -1.686100815621602\n",
      "            Iterations: 5\n",
      "            Function evaluations: 20\n",
      "            Gradient evaluations: 5\n",
      "\t\tFragment Energy                 =     -1.7999957347\n",
      "\t\tNumber of Electrons in Fragment =      2.0000000000\n",
      "\n",
      "\t\tFragment Number : #  7\n",
      "\t\t------------------------\n",
      "Optimization terminated successfully    (Exit mode 0)\n",
      "            Current function value: -1.6861008155867416\n",
      "            Iterations: 5\n",
      "            Function evaluations: 20\n",
      "            Gradient evaluations: 5\n",
      "\t\tFragment Energy                 =     -1.7999957344\n",
      "\t\tNumber of Electrons in Fragment =      2.0000000000\n",
      "\n",
      "\t\tFragment Number : #  8\n",
      "\t\t------------------------\n",
      "Optimization terminated successfully    (Exit mode 0)\n",
      "            Current function value: -1.6861008156558173\n",
      "            Iterations: 5\n",
      "            Function evaluations: 20\n",
      "            Gradient evaluations: 5\n",
      "\t\tFragment Energy                 =     -1.7998404596\n",
      "\t\tNumber of Electrons in Fragment =      2.0000000000\n",
      "\n",
      "\t\tFragment Number : #  9\n",
      "\t\t------------------------\n",
      "Optimization terminated successfully    (Exit mode 0)\n",
      "            Current function value: -1.6861008155836714\n",
      "            Iterations: 5\n",
      "            Function evaluations: 20\n",
      "            Gradient evaluations: 5\n",
      "\t\tFragment Energy                 =     -1.7999957342\n",
      "\t\tNumber of Electrons in Fragment =      2.0000000000\n",
      "\n",
      "\t\tFragment Number : #  10\n",
      "\t\t------------------------\n",
      "Optimization terminated successfully    (Exit mode 0)\n",
      "            Current function value: -1.6861008155867347\n",
      "            Iterations: 5\n",
      "            Function evaluations: 20\n",
      "            Gradient evaluations: 5\n",
      "\t\tFragment Energy                 =     -1.7999957345\n",
      "\t\tNumber of Electrons in Fragment =      2.0000000000\n",
      "\n",
      " \t*** DMET Cycle Done *** \n",
      " \tDMET Energy ( a.u. ) =     -5.3675236228\n",
      " \tChemical Potential   =     -0.0001363439\n",
      "DMET energy (hartree): \t -5.367523622772996\n"
     ]
    }
   ],
   "source": [
    "dmet_h10.verbose = True\n",
    "energy_h10_dmet = dmet_h10.simulate()\n",
    "\n",
    "print(f\"DMET energy (hartree): \\t {energy_h10_dmet}\")"
   ]
  },
  {
   "cell_type": "markdown",
   "metadata": {},
   "source": [
    "A compraison with an FCI calculation is then made."
   ]
  },
  {
   "cell_type": "code",
   "execution_count": 12,
   "metadata": {
    "scrolled": true
   },
   "outputs": [
    {
     "name": "stdout",
     "output_type": "stream",
     "text": [
      "FCI energy (hartree): \t -5.380926000730881\n"
     ]
    }
   ],
   "source": [
    "fci_h10 = FCISolver()\n",
    "energy_h10_fci = fci_h10.simulate(mol_h10)\n",
    "\n",
    "print(f\"FCI energy (hartree): \\t {energy_h10_fci}\")"
   ]
  },
  {
   "cell_type": "markdown",
   "metadata": {},
   "source": [
    "Lastly, we note that the DMET energy is closer to the FCI than the HF energy."
   ]
  },
  {
   "cell_type": "code",
   "execution_count": 13,
   "metadata": {},
   "outputs": [
    {
     "name": "stdout",
     "output_type": "stream",
     "text": [
      "Difference FCI vs HF energies (hartree): \t\t 0.11680533556176087\n",
      "Difference FCI vs DMET-VQE energies (hartree): \t\t 0.013393208289180336\n",
      "Difference FCI vs HF energies (kcal/mol): \t\t 73.29534806500494\n",
      "Difference FCI vs DMET-VQE energies (kcal/mol): \t 8.404238201460661\n"
     ]
    }
   ],
   "source": [
    "energy_h10_hf = dmet_h10.mean_field.e_tot\n",
    "delta_h10_fci_hf = abs(energy_h10_fci - energy_h10_hf)\n",
    "delta_h10_fci_dmet = abs(energy_h10_fci - energy_h10_dmet)\n",
    "\n",
    "print(f\"Difference FCI vs HF energies (hartree): \\t\\t {delta_h10_fci_hf}\")\n",
    "print(f\"Difference FCI vs DMET-VQE energies (hartree): \\t\\t {delta_h10_fci_dmet}\")\n",
    "print(f\"Difference FCI vs HF energies (kcal/mol): \\t\\t {627.5*delta_h10_fci_hf}\")\n",
    "print(f\"Difference FCI vs DMET-VQE energies (kcal/mol): \\t {627.5*delta_h10_fci_dmet}\")"
   ]
  },
  {
   "cell_type": "markdown",
   "metadata": {},
   "source": [
    "## 5. DMET features<a class=\"anchor\" id=\"5\"></a>\n",
    "\n",
    "In this section, some DMET features are shown. An four hydrogen atoms system is defined for this purpose."
   ]
  },
  {
   "cell_type": "code",
   "execution_count": 14,
   "metadata": {},
   "outputs": [
    {
     "data": {
      "text/plain": [
       "<pyscf.gto.mole.Mole at 0x7f9beeae3820>"
      ]
     },
     "execution_count": 14,
     "metadata": {},
     "output_type": "execute_result"
    }
   ],
   "source": [
    "H4 = \"\"\"\n",
    "H 0.7071 0.0 0.0\n",
    "H 0.0 0.7071 0.0\n",
    "H -1.0071 0.0 0.0\n",
    "H 0.0 -1.0071 0.0\n",
    "\"\"\"\n",
    "\n",
    "mol_h4 = gto.Mole()\n",
    "mol_h4.atom = H4\n",
    "mol_h4.basis = \"3-21g\"\n",
    "mol_h4.charge = 0\n",
    "mol_h4.spin = 0\n",
    "mol_h4.build()"
   ]
  },
  {
   "cell_type": "markdown",
   "metadata": {},
   "source": [
    "### 5.1 Localization method\n",
    "\n",
    "Electron localization are used to define the bath and the environment orbitals. There are two options available:\n",
    "- `Localization.meta_lowdin` (default): Described in Q. Sun et al., JCTC 10, 3784-3790 (2014).\n",
    "- `Localization.iao`: Described in G. Knizia, JCTC 9, 4834-4843 (2013). This algorithm maps the orbitals to an minao set. So, at least a double zeta basis set must be used with this localization method."
   ]
  },
  {
   "cell_type": "code",
   "execution_count": 15,
   "metadata": {},
   "outputs": [
    {
     "data": {
      "text/plain": [
       "{'molecule': <pyscf.gto.mole.Mole at 0x7f9beeae3820>,\n",
       " 'mean_field': None,\n",
       " 'electron_localization': <Localization.iao: 1>,\n",
       " 'fragment_atoms': [1, 1, 1, 1],\n",
       " 'fragment_solvers': ['ccsd', 'ccsd', 'ccsd', 'ccsd'],\n",
       " 'optimizer': <bound method DMETProblemDecomposition._default_optimizer of <qsdk.problem_decomposition.dmet.dmet_problem_decomposition.DMETProblemDecomposition object at 0x7f9beeaf0580>>,\n",
       " 'initial_chemical_potential': 0.0,\n",
       " 'solvers_options': [{}, {}, {}, {}],\n",
       " 'verbose': False,\n",
       " 'chemical_potential': None,\n",
       " 'dmet_energy': None,\n",
       " 'orbitals': None,\n",
       " 'orb_list': None,\n",
       " 'orb_list2': None,\n",
       " 'onerdm_low': None}"
      ]
     },
     "execution_count": 15,
     "metadata": {},
     "output_type": "execute_result"
    }
   ],
   "source": [
    "options_h4_dmet = {\"molecule\": mol_h4,\n",
    "                   \"fragment_atoms\": [1]*4,\n",
    "                   \"electron_localization\": Localization.iao,\n",
    "                   \"verbose\": False\n",
    "                   }\n",
    "\n",
    "dmet_h4 = DMETProblemDecomposition(options_h4_dmet)\n",
    "vars(dmet_h4)"
   ]
  },
  {
   "cell_type": "markdown",
   "metadata": {},
   "source": [
    "### 5.2 Fragment solvers\n",
    "\n",
    "A list of solvers can be passed to the DMET class. If a single solver is detected, it will be applied to every fragments. Here is an example where the first fragment is solved with VQE, the second one with CCSD, the third one with FCI and the last one with VQE."
   ]
  },
  {
   "cell_type": "code",
   "execution_count": 16,
   "metadata": {},
   "outputs": [
    {
     "data": {
      "text/plain": [
       "{'molecule': <pyscf.gto.mole.Mole at 0x7f9beeae3820>,\n",
       " 'mean_field': None,\n",
       " 'electron_localization': <Localization.meta_lowdin: 0>,\n",
       " 'fragment_atoms': [1, 1, 1, 1],\n",
       " 'fragment_solvers': ['vqe', 'ccsd', 'fci', 'vqe'],\n",
       " 'optimizer': <bound method DMETProblemDecomposition._default_optimizer of <qsdk.problem_decomposition.dmet.dmet_problem_decomposition.DMETProblemDecomposition object at 0x7f9beeae31c0>>,\n",
       " 'initial_chemical_potential': 0.0,\n",
       " 'solvers_options': [{'qubit_mapping': 'jw',\n",
       "   'initial_var_params': 'ones',\n",
       "   'verbose': False},\n",
       "  {},\n",
       "  {},\n",
       "  {'qubit_mapping': 'jw', 'initial_var_params': 'ones', 'verbose': False}],\n",
       " 'verbose': False,\n",
       " 'chemical_potential': None,\n",
       " 'dmet_energy': None,\n",
       " 'orbitals': None,\n",
       " 'orb_list': None,\n",
       " 'orb_list2': None,\n",
       " 'onerdm_low': None}"
      ]
     },
     "execution_count": 16,
     "metadata": {},
     "output_type": "execute_result"
    }
   ],
   "source": [
    "options_h4_dmet = {\"molecule\": mol_h4,\n",
    "                   \"fragment_atoms\": [1]*4,\n",
    "                   \"fragment_solvers\": [\"vqe\", \"ccsd\", \"fci\", \"vqe\"],\n",
    "                   \"verbose\": False\n",
    "                   }\n",
    "\n",
    "dmet_h4 = DMETProblemDecomposition(options_h4_dmet)\n",
    "vars(dmet_h4)"
   ]
  },
  {
   "cell_type": "markdown",
   "metadata": {},
   "source": [
    "### 5.3 Initial chemical potential\n",
    "\n",
    "The DMET optimize a parameter $\\mu$, the chemical potential. It ensures that the sum of all fragment electron are consistent with the whole molecule. As it is numerically optimized, the initial value can be important. Here is an example where the `initial_chemical_potential` is set to 0.1."
   ]
  },
  {
   "cell_type": "code",
   "execution_count": 17,
   "metadata": {},
   "outputs": [
    {
     "data": {
      "text/plain": [
       "{'molecule': <pyscf.gto.mole.Mole at 0x7f9beeae3820>,\n",
       " 'mean_field': None,\n",
       " 'electron_localization': <Localization.meta_lowdin: 0>,\n",
       " 'fragment_atoms': [1, 1, 1, 1],\n",
       " 'fragment_solvers': ['ccsd', 'ccsd', 'ccsd', 'ccsd'],\n",
       " 'optimizer': <bound method DMETProblemDecomposition._default_optimizer of <qsdk.problem_decomposition.dmet.dmet_problem_decomposition.DMETProblemDecomposition object at 0x7f9beeae3370>>,\n",
       " 'initial_chemical_potential': 0.1,\n",
       " 'solvers_options': [{}, {}, {}, {}],\n",
       " 'verbose': False,\n",
       " 'chemical_potential': None,\n",
       " 'dmet_energy': None,\n",
       " 'orbitals': None,\n",
       " 'orb_list': None,\n",
       " 'orb_list2': None,\n",
       " 'onerdm_low': None}"
      ]
     },
     "execution_count": 17,
     "metadata": {},
     "output_type": "execute_result"
    }
   ],
   "source": [
    "options_h4_dmet = {\"molecule\": mol_h4,\n",
    "                   \"fragment_atoms\": [1]*4,\n",
    "                   \"initial_chemical_potential\" : 0.1,\n",
    "                   \"verbose\": False\n",
    "                   }\n",
    "\n",
    "dmet_h4 = DMETProblemDecomposition(options_h4_dmet)\n",
    "vars(dmet_h4)"
   ]
  },
  {
   "cell_type": "markdown",
   "metadata": {},
   "source": [
    "### 5.3 Solvers options\n",
    "\n",
    "A list of options can be passed to the solvers. Each element of the list must be consistent with the appropriate value in `fragment_solvers`. If a single dictionary of options is detected, it is applied to all fragment solvers. Here is an example where one want to change the qubit mapping to the Bravyi-Kitaev method when performing VQE."
   ]
  },
  {
   "cell_type": "code",
   "execution_count": 18,
   "metadata": {},
   "outputs": [
    {
     "data": {
      "text/plain": [
       "{'molecule': <pyscf.gto.mole.Mole at 0x7f9beeae3820>,\n",
       " 'mean_field': None,\n",
       " 'electron_localization': <Localization.meta_lowdin: 0>,\n",
       " 'fragment_atoms': [1, 1, 1, 1],\n",
       " 'fragment_solvers': ['vqe', 'vqe', 'vqe', 'vqe'],\n",
       " 'optimizer': <bound method DMETProblemDecomposition._default_optimizer of <qsdk.problem_decomposition.dmet.dmet_problem_decomposition.DMETProblemDecomposition object at 0x7f9beeaf0c40>>,\n",
       " 'initial_chemical_potential': 0.0,\n",
       " 'solvers_options': [{'qubit_mapping': 'bk'},\n",
       "  {'qubit_mapping': 'bk'},\n",
       "  {'qubit_mapping': 'bk'},\n",
       "  {'qubit_mapping': 'bk'}],\n",
       " 'verbose': False,\n",
       " 'chemical_potential': None,\n",
       " 'dmet_energy': None,\n",
       " 'orbitals': None,\n",
       " 'orb_list': None,\n",
       " 'orb_list2': None,\n",
       " 'onerdm_low': None}"
      ]
     },
     "execution_count": 18,
     "metadata": {},
     "output_type": "execute_result"
    }
   ],
   "source": [
    "vqe_options = {\"qubit_mapping\": \"bk\"}\n",
    "\n",
    "options_h4_dmet = {\"molecule\": mol_h4,\n",
    "                   \"fragment_atoms\": [1]*4,\n",
    "                   \"fragment_solvers\": \"vqe\",\n",
    "                   \"solvers_options\": vqe_options, \n",
    "                   \"verbose\": False\n",
    "                   }\n",
    "\n",
    "dmet_h4 = DMETProblemDecomposition(options_h4_dmet)\n",
    "vars(dmet_h4)"
   ]
  },
  {
   "cell_type": "markdown",
   "metadata": {},
   "source": [
    "## 6. Closing words<a class=\"anchor\" id=\"6\"></a>\n",
    "\n",
    "This concludes our overview of `DMETProblemDecomposition`. There are many flavors of DMET and only one has been discussed here. Here we refer some papers relevant for the reader who wants more details:\n",
    "- S. Wouters, C.A. Jiménez-Hoyos, Q. Sun, and G.K.L. Chan, J. Chem. Theory Comput. 12, 2706 (2016).\n",
    "- G. Knizia and G.K.L. Chan, J. Chem. Theory Comput. 9, 1428 (2013).\n",
    "- G. Knizia and G.K.L. Chan, Phys. Rev. Lett. 109, 186404 (2012)."
   ]
  }
 ],
 "metadata": {
  "kernelspec": {
   "display_name": "qSDK",
   "language": "python",
   "name": "qsdk"
  },
  "language_info": {
   "codemirror_mode": {
    "name": "ipython",
    "version": 3
   },
   "file_extension": ".py",
   "mimetype": "text/x-python",
   "name": "python",
   "nbconvert_exporter": "python",
   "pygments_lexer": "ipython3",
   "version": "3.8.7"
  }
 },
 "nbformat": 4,
 "nbformat_minor": 2
}
