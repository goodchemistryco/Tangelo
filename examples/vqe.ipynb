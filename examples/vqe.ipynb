{
 "cells": [
  {
   "cell_type": "markdown",
   "metadata": {},
   "source": [
    "# VQE with qSDK\n",
    "\n",
    "The qSDK Python package provides various toolboxes, which can be leveraged to build quantum chemistry workflows relying on quantum computing. One example of such a workflow is the Variational Quantum Eigensolver (VQE). We provide an implementation of VQE that supports a variety of options, and may provide valuable help in your research and applications.\n",
    "\n",
    "This notebook assumes that you already have installed qSDK in your Python environment, or have updated your path so that the imports can be resolved."
   ]
  },
  {
   "cell_type": "markdown",
   "metadata": {},
   "source": [
    "## Table of contents:\n",
    "* [1. Overview of VQE](#1)\n",
    "* [2. VQESolver class](#2)\n",
    ">* [2.1 VQESolver instantiation](#21)\n",
    ">* [2.2 VQESolver.build](#22)\n",
    ">* [2.3 VQESolver.simulate](#23)\n",
    ">* [2.4 VQESolver.energy_estimation](#24)\n",
    ">* [2.5 VQESolver.get_resources](#25)\n",
    ">* [2.6 VQESolver.get_rdm](#26)\n",
    "* [3. Option: frozen orbitals](#3)\n",
    "* [4. Option: ansatz and qubit mapping](#4)\n",
    "* [5. Option: classical optimizers and initial parameters](#5)\n",
    "* [6. Option: compute backend](#6)"
   ]
  },
  {
   "cell_type": "code",
   "execution_count": null,
   "metadata": {},
   "outputs": [],
   "source": [
    "# TODO: this cell should be removed.\n",
    "import sys\n",
    "sys.path.append(\"../\")"
   ]
  },
  {
   "cell_type": "markdown",
   "metadata": {},
   "source": [
    "## 1. Overview of VQE <a class=\"anchor\" id=\"1\"></a>\n",
    "\n",
    "Explanation about VQE, classical optimization, parameterized ansatz circuit, expectation value related to a qubit operator, compute backend. Talk about agnostic simulator.\n",
    "\n",
    "Then, a diagram about how these pieces fit together in our design. Details of ansatz class etc to be deferred to custom ansatz notebook"
   ]
  },
  {
   "cell_type": "markdown",
   "metadata": {},
   "source": [
    "## 2. VQESolver class<a class=\"anchor\" id=\"2\"></a>\n",
    "\n",
    "In the following, we will demonstrate various features of the `VQESolver` class using a simple H2 molecule, defined with the `pyscf` python package. This molecule is built below:"
   ]
  },
  {
   "cell_type": "code",
   "execution_count": null,
   "metadata": {},
   "outputs": [],
   "source": [
    "from pyscf import gto\n",
    "\n",
    "H2 = [('H', (0, 0, 0)),('H', (0, 0, 0.74137727))]\n",
    "mol_H2 = gto.Mole()\n",
    "mol_H2.atom = H2\n",
    "mol_H2.basis = \"sto-3g\"\n",
    "mol_H2.charge = 0\n",
    "mol_H2.spin = 0\n",
    "mol_H2.build()"
   ]
  },
  {
   "cell_type": "markdown",
   "metadata": {},
   "source": [
    "The `VQESolver` class implements the VQE electronic structure solver and can be found under the `electronic_structure_solver` module, along with `FCISolver` and `CCSDSolver`, which are classical electronic structure solvers that we will only use here to compare reference results.\n",
    "\n",
    "In essence, VQE can simply be run using these 3 steps\n",
    "- Instantiate the `VQESolver` object with the desired options and molecule\n",
    "- Call the `build` method to build the underlying objects\n",
    "- Call the `simulate` method to perform the VQE algorithm\n",
    "\n",
    "In this section, we will go through these 3 steps, and introduce you to other useful functionalities.\n",
    "\n",
    "\n",
    "### VQESolver object instantiation<a class=\"anchor\" id=\"21\"></a>\n",
    "\n",
    "The `VQESolver` class can be instantiated by passing a dictionary. Currently, the **molecule** field **must** be provided, and everything else is optional. In the future, this constraint may be relaxed to support different workflows, relying directly on a precomputed qubit operator for example. \n",
    "\n",
    "In the cell below, we initiate a `VQESolver` object with this molecule, and display the various attributes of the objects. Notice that some of them have been filled with default values."
   ]
  },
  {
   "cell_type": "code",
   "execution_count": null,
   "metadata": {},
   "outputs": [],
   "source": [
    "from qsdk.electronic_structure_solvers import VQESolver\n",
    "\n",
    "vqe_options = {\"molecule\": mol_H2}\n",
    "vqe_solver = VQESolver(vqe_options)\n",
    "vars(vqe_solver)"
   ]
  },
  {
   "cell_type": "markdown",
   "metadata": {},
   "source": [
    "Our object's attributes have been populated using the dictionary provided by the user, and default values for the fields that had not been specified in there. Among these attributes, you will see a number of them related to classical optimization, ansatz circuits, qubit mappings or complementary information regarding the molecular system.\n",
    "\n",
    "The `VQESolver` class has several methods that are relevant to us, we'll go through them one by one.\n",
    "\n",
    "### VQESolver.build<a class=\"anchor\" id=\"22\"></a>\n",
    "\n",
    "This method builds all the internal objects required by VQE, based on the options provided during object instantiation. It will build the mean-field if necessary, the fermionic and qubit hamiltonians corresponding to your molecular system, as well as the ansatz circuit (for default values of variational parameters if none have been provided so far), and the backend performing quantum circuit simulation or execution (a classical simulator or quantum processor).\n",
    "\n",
    "After we run `build`, we can see that a number of objects have been built and are now populating the attributes of our `VQESolver` object."
   ]
  },
  {
   "cell_type": "code",
   "execution_count": null,
   "metadata": {},
   "outputs": [],
   "source": [
    "vqe_solver.build()\n",
    "vars(vqe_solver)"
   ]
  },
  {
   "cell_type": "markdown",
   "metadata": {},
   "source": [
    "In particular we notice:\n",
    "\n",
    "- **qubit Hamiltonian**: the qubit operator used for computing the expectation value in the energy estimation step of VQE\n",
    "- **backend** is a `Simulator` object that was defined in another Python module called `agnostic_simulator`, allowing us to define how a quantum circuit should be run. Currently, the default option is to run using an exact simulation (no noise) using the `qulacs` classical simulator.\n",
    "- **ansatz**: is now an object that implements the UCCSD ansatz. We go into more details about builtin and custom ansatze in a separate notebook. For now, it is useful to notice that one can peek at the UCCSD quantum circuit that was built, or the value of the variational parameters for this ansatz. This quantum circuit is in the format implemented in `agnostic_simulator`."
   ]
  },
  {
   "cell_type": "code",
   "execution_count": null,
   "metadata": {},
   "outputs": [],
   "source": [
    "print(f\"Variational parameters: {vqe_solver.ansatz.var_params}\\n\")\n",
    "print(vqe_solver.ansatz.circuit)"
   ]
  },
  {
   "cell_type": "markdown",
   "metadata": {},
   "source": [
    "> :warning: If you are not familiar with `agnostic_simulator`, we recommend you check at some point the [tutorial covering the basics](https://github.com/1QB-Information-Technologies/agnostic_simulator/tree/master/examples). You can however keep on going through this notebook without issues."
   ]
  },
  {
   "cell_type": "markdown",
   "metadata": {},
   "source": [
    "### VQE.simulate<a class=\"anchor\" id=\"23\"></a>\n",
    "\n",
    "After `VQE.build` has been run, we now have all the objects needed to run the VQE algorithm, which consists in a classical optimization loop over an energy estimation function. This energy estimation is obtained by computing the expectation value of our qubit Hamiltonian, with regards to the variational ansatz circuit.\n",
    "\n",
    "The classical loop is driven by the selected optimizer (we'll see a bit later how you can choose that), as well as the initial variational parameters.\n",
    "\n",
    "This method returns the optimal energy computed during the optimization process. As a byproduct, the attributes `optimal_energy` and `optimal_var_params` of our `VQESolver` object have been updated. If you have turned on the `verbose` option, your output will print more information about energy during the optimization process."
   ]
  },
  {
   "cell_type": "code",
   "execution_count": null,
   "metadata": {},
   "outputs": [],
   "source": [
    "energy_vqe = vqe_solver.simulate()\n",
    "print(f\"\\nOptimal energy: \\t {energy_vqe}\")\n",
    "print(f\"Optimal parameters: \\t {vqe_solver.optimal_var_params}\")"
   ]
  },
  {
   "cell_type": "markdown",
   "metadata": {},
   "source": [
    "That's it, we ran VQE ! We can quickly check whether or not it did well on this system, with the options we picked: let's compare that to what classical approaches like CCSD or FCI can do. UCCSD captures single and double excitations, and should be exact for a system like H2, assuming the classical optimization of the variational parameters was succesful.\n",
    "\n",
    "The `CCSDSolver` and `FCISolver` objects have a slightly different interface than `VQESolver` but are very straightforward. As we can see, the energies are in agreement, indicating that VQE did a good job."
   ]
  },
  {
   "cell_type": "code",
   "execution_count": null,
   "metadata": {},
   "outputs": [],
   "source": [
    "from qsdk.electronic_structure_solvers import FCISolver, CCSDSolver\n",
    "\n",
    "fci_solver = FCISolver()\n",
    "energy_fci = fci_solver.simulate(mol_H2)\n",
    "\n",
    "ccsd_solver = CCSDSolver()\n",
    "energy_ccsd = ccsd_solver.simulate(mol_H2)\n",
    "\n",
    "print(f\"FCI energy: \\t {energy_fci}\")\n",
    "print(f\"CCSD energy: \\t {energy_ccsd}\")\n",
    "print(f\"VQE energy: \\t {energy_vqe}\")"
   ]
  },
  {
   "cell_type": "markdown",
   "metadata": {},
   "source": [
    "### VQE.energy_estimation<a class=\"anchor\" id=\"24\"></a>\n",
    "\n",
    "The `VQE.energy_estimation` is a convenient method that allows you to run a single energy estimation, for some given variational parameters. \n",
    "\n",
    "This would allow you to compare maybe different (initial?) variational parameters, or could be used to rebuild the underlying ansatz circuit for specific values of the variational parameters, without involving the classical optimization.\n",
    "\n",
    "The UCCSD ansatz supports a few \"shortcut\" keywords for some parameters, such as \"MP2\", \"ones\" or \"random\". We can compare the energy they return: we see below that the mp2 parameters are a much better pick as initial parameters, but not as good as the optimal ones found by `simulate` earlier.\n",
    "\n",
    "Since this method builds the ansatz circuit for the input parameter, you can then grab the corresponding circuit. If you know the optimal parameters (from maybe a previous call to `simulate`), you can then grab the optimal circuit. Check out the [agnostic simulator tutorials](https://github.com/1QB-Information-Technologies/agnostic_simulator/tree/master/examples) to get an idea of how you could explore, export and send this circuit to a collaborator or a compute backend !"
   ]
  },
  {
   "cell_type": "code",
   "execution_count": null,
   "metadata": {},
   "outputs": [],
   "source": [
    "# Compare energies associated to different variational parameters\n",
    "energy = vqe_solver.energy_estimation(\"ones\")\n",
    "print(f\"{energy:.7f} (params = {vqe_solver.ansatz.var_params})\")\n",
    "\n",
    "energy = vqe_solver.energy_estimation(\"MP2\")\n",
    "print(f\"{energy:.7f} (params = {vqe_solver.ansatz.var_params})\")\n",
    "\n",
    "energy = vqe_solver.energy_estimation(vqe_solver.optimal_var_params)\n",
    "print(f\"{energy:.7f} (params = {vqe_solver.ansatz.var_params})\")\n",
    "\n",
    "# You can retrieve the circuit corresponding to the last parameters you have used\n",
    "optimal_circuit = vqe_solver.ansatz.circuit"
   ]
  },
  {
   "cell_type": "markdown",
   "metadata": {},
   "source": [
    "### VQE.get_resources<a class=\"anchor\" id=\"25\"></a>\n",
    "\n",
    "What we can or can't simulate on backends today (may they be classical simulators or QPUs) is essentially driven by resource requirements. Metrics that correlates to the number of qubits, gates or measurements an algorithm would require to be performed accurately tell a lot about its feasibility on NISQ hardware, and can be used to compare different approaches, without having to actually do any simulation.\n",
    "\n",
    "This method is able to grab the relevant information for our `VQESolver` by peeking into the underlying ansatz and qubit Hamiltonian objects. The information you receive is tied to the options you picked for VQE, and may not be true for all sets of variational parameters, depending on how the ansatz circuit is built, and potential optimizations done in the future to the circuit. We also return the number of variational parameters in VQE, as the difficulty of classical optimization plays an important role in the success of the algorithm.\n",
    "\n",
    "The support for information related to measurements; which are intrinsically related to the target accuracy of results; is not yet implemented and will be tackled in the future.\n",
    "\n",
    "Here's what our current example returns:"
   ]
  },
  {
   "cell_type": "code",
   "execution_count": null,
   "metadata": {},
   "outputs": [],
   "source": [
    "resources = vqe_solver.get_resources()\n",
    "print(resources)"
   ]
  },
  {
   "cell_type": "markdown",
   "metadata": {},
   "source": [
    "### VQE.get_rdm<a class=\"anchor\" id=\"26\"></a>\n",
    "\n",
    "The `get_rdm` method enables us to compute the one- and two-electron Reduced Density Matrices (RDM) using the ansatz circuit previously built by `VQESolver`, for some input variational parameters. This can come in handy, and is in particular used by the DMET problem decomposition technique, further detailed in another notebook.\n",
    "\n",
    "Below, we compute these RDMs using the optimal variational parameters found by a previous call to `simulate`, and only print the one-electron RDM."
   ]
  },
  {
   "cell_type": "code",
   "execution_count": null,
   "metadata": {},
   "outputs": [],
   "source": [
    "onerdm, twordm = vqe_solver.get_rdm(vqe_solver.optimal_var_params)\n",
    "print(onerdm)"
   ]
  },
  {
   "cell_type": "markdown",
   "metadata": {},
   "source": [
    "## 3. Option: frozen orbitals<a class=\"anchor\" id=\"3\"></a>\n",
    "\n",
    "The `VQESolver` class supports a `frozen_orbitals` option, allowing a user to pass either a list of indices (integers) referring to the orbitals to freeze, or a single integer indicating that all orbitals up to that index (excluded) must be frozen. For instance, just passing `3` would be equivalent to passing `[0, 1, 2]`.\n",
    "\n",
    "Internally, this information is parsed and allows us to track which orbitals are active or frozen and occupied or virtual, through an object carrying molecular data which is an attribute of the `VQESolver`.\n",
    "\n",
    "Let's have a look at this quickly, taking a H4 molecule in sto-3g basis as an example. We can compare the results provided by VQE to our classical CCSD amd FCI solvers, which also support frozen orbitals with a slightly different interface.\n",
    "\n",
    "> :warning: TODO: Uncomment / modify code below once this is supported. We may not need to reinstantiate FCISolver or CCSD solver if we can directly pass the frozen orbitals to simulate"
   ]
  },
  {
   "cell_type": "code",
   "execution_count": null,
   "metadata": {},
   "outputs": [],
   "source": [
    "H4 = [[\"H\", [0.7071067811865476, 0.0, 0.0]], [\"H\", [0.0, 0.7071067811865476, 0.0]],\n",
    "      [\"H\", [-1.0071067811865476, 0.0, 0.0]], [\"H\", [0.0, -1.0071067811865476, 0.0]]]\n",
    "\n",
    "mol_H4 = gto.Mole()\n",
    "mol_H4.atom = H4\n",
    "mol_H4.basis = \"sto-3g\"\n",
    "mol_H4.charge = 0\n",
    "mol_H4.spin = 0\n",
    "mol_H4.build()"
   ]
  },
  {
   "cell_type": "code",
   "execution_count": null,
   "metadata": {},
   "outputs": [],
   "source": [
    "vqe_options = {\"molecule\": mol_H4, \"frozen_orbitals\": [0]}\n",
    "vqe_solver_h4_frozen = VQESolver(vqe_options)\n",
    "vqe_solver_h4_frozen.build()\n",
    "\n",
    "energy_vqe_h4_frozen = vqe_solver_h4_frozen.simulate()\n",
    "# energy_ccsd_h4_frozen = ccsd_solver.simulate(mol_H2, frozen_orbitals)\n",
    "\n",
    "# print(f\"CCSD energy: \\t {energy_ccsd_h4_frozen}\")\n",
    "print(f\"VQE energy: \\t {energy_vqe_h4_frozen}\")\n",
    "\n",
    "print(\"\\n\", vqe_solver_h4_frozen.get_resources())"
   ]
  },
  {
   "cell_type": "markdown",
   "metadata": {},
   "source": [
    "Frozen orbitals offer a trade-off between resource requirements and accuracy. By freezing orbitals that seem not to contribute significantly to the computation, we may drastically reduce resource requirements. In this example, we sacrificed a noticeable amount of accuracy but also drastically reduced resource requirements and ended up with a formulation that was much easier to solve. Notice how `simulate` takes longer to execute here, and compare both energies and resource requirements to the previous cell."
   ]
  },
  {
   "cell_type": "code",
   "execution_count": null,
   "metadata": {},
   "outputs": [],
   "source": [
    "vqe_options = {\"molecule\": mol_H4}\n",
    "vqe_solver_h4 = VQESolver(vqe_options)\n",
    "vqe_solver_h4.build()\n",
    "\n",
    "energy_vqe_h4 = vqe_solver_h4.simulate()\n",
    "print(f\"VQE energy: \\t {energy_vqe_h4}\")\n",
    "print(\"\\n\", vqe_solver_h4.get_resources())"
   ]
  },
  {
   "cell_type": "markdown",
   "metadata": {},
   "source": [
    "### 4. Option: ansatz and qubit mapping<a class=\"anchor\" id=\"4\"></a>\n",
    "\n",
    "VQE relies on a qubit mapping in order to encode classical data related to the orbitals of the molecular system into qubits"
   ]
  },
  {
   "cell_type": "markdown",
   "metadata": {},
   "source": [
    "### 5. Option: classical optimizer and initial parameters<a class=\"anchor\" id=\"5\"></a>"
   ]
  },
  {
   "cell_type": "markdown",
   "metadata": {},
   "source": [
    "### 6. Option: compute backend<a class=\"anchor\" id=\"6\"></a>"
   ]
  }
 ],
 "metadata": {
  "kernelspec": {
   "display_name": "qSDK",
   "language": "python",
   "name": "qsdk"
  },
  "language_info": {
   "codemirror_mode": {
    "name": "ipython",
    "version": 3
   },
   "file_extension": ".py",
   "mimetype": "text/x-python",
   "name": "python",
   "nbconvert_exporter": "python",
   "pygments_lexer": "ipython3",
   "version": "3.8.0"
  }
 },
 "nbformat": 4,
 "nbformat_minor": 2
}
