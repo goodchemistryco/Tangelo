{
 "metadata": {
  "language_info": {
   "codemirror_mode": {
    "name": "ipython",
    "version": 3
   },
   "file_extension": ".py",
   "mimetype": "text/x-python",
   "name": "python",
   "nbconvert_exporter": "python",
   "pygments_lexer": "ipython3",
   "version": "3.7.0-final"
  },
  "orig_nbformat": 2,
  "kernelspec": {
   "name": "python370jvsc74a57bd0e534e48711db4d1e1c48977d0d14ff85b1f16d41bcc4fdfd88268a329b3c9d66",
   "display_name": "Python 3.7.0 64-bit"
  }
 },
 "nbformat": 4,
 "nbformat_minor": 2,
 "cells": [
  {
   "source": [
    "# ADAPT-VQE\n",
    "\n",
    "ADAPT-VQE was introduced by [Grimsley et al](https://www.nature.com/articles/s41467-019-10988-2) as a solution to the often impracticably deep, and not necessarily accurate, static VQE circuits. In ansatze like UCCSD, one easily reaches the order of thousands of gates, even for modestly sized molecules. In UCCSD and its generalized UCCGSD, the number of fermionic excitations in the ansatz scales like $\\mathcal{O}(N^2M^2)$, and $\\mathcal{O}(N^4)$ respectively. Here $N$ refers to the number of spin-orbitals in the problem basis, and $M$ the number of electrons.\n",
    "\n",
    "In ADAPT-VQE, an ansatz which approximates not UCCSD/UCCGSD, but in fact FCI, is built iteratively. Over a series of cycles, the ansatz circuit is grown to achieve an approximation to FCI with a minimal number of circuit elements. In this way, ADAPT-VQE is a meta-VQE. At each step, a new ansatz is defined, and its parameters optimized according to conventional VQE. As the cycles proceed, the ansatz grows in both complexity and expressibility. This algorithm comes at the expense of a significant increase in measurement overhead. In order to identify the best operator to append to the present ansatz circuit, a large number of measurements are performed to rank the available operators in order of their ability to further reduce the ansatz state energy.\n",
    "\n",
    "In this notebook, we'll explore the implementation of this algorithm, by taking advantage of the tools available through the qSDK. "
   ],
   "cell_type": "markdown",
   "metadata": {}
  },
  {
   "source": [
    "## Implementation Strategy\n",
    "\n",
    "ADAPT-VQE relies on three principal steps.\n",
    "\n",
    "1. Construct generator pool $\\{P_i\\}$, a set of available operators from which we will iteratively construct the ansatz.\n",
    "2. Rank operators by evaluating the gradient for each operator in the pool $\\frac{\\partial E^{(k)}}{\\partial \\theta_i} = \\langle \\psi_k|[H,P_i]|\\psi_k\\rangle$. Exit if the largest partial derivative is less than some cutoff.\n",
    "3. Append $U_k = \\mathrm{exp}[i\\theta_k P_k]$(index) to the ansatz $U=\\prod_k U_k(\\theta_k)$, and optimize $\\langle H\\rangle$ using VQE.\n",
    "4. Return to step 2.\n",
    "\n",
    "There are two obvious avenues along which one can be creative in the implementation of ADAPT-VQE--these are the selection of the operator pool $\\{P_i\\}$, and the ranking strategy. Above, we have specified that we are using the gradient to perform this ranking procedure. To my knowledge this is the only method which has been used previously, and we will continue to do so here. Regarding the choice of operator pool, the original authors used the elements of the UCCGSD, i.e. the single, double fermionic excitations. Subsequent work has focused on qubit-native operators, and we'll follow this strategy as well. Although the UCCGSD allows for high accuracy with a small number of cycles (and consequently very few variational parameters), the circuit remains very deep, as each excitation consists of many multi-qubit Pauli rotations. "
   ],
   "cell_type": "markdown",
   "metadata": {}
  },
  {
   "source": [
    "## Hamiltonian-Inspired Qubit-ADAPT\n",
    "We are going to use the Hamiltonian to establish a set of pool generators to use in our implementation of ADAPT-VQE. For each term in the Hamiltonian which acts on a distinct combination of qubits, we'll add a pool operator which is guaranteed to have a non-zero commutator with respect to H, and therefore a finite gradient. This will give us a fairly compact set of operators in the pool, all of which are likely to be useful in our ansatz construction. To do this, we will scan through all terms in the qubit Hamiltonian. For each, we will identify the Pauli operators associated with electronic excitation (X and Y gates). We discard Z gates from the Pauli string. If the number of Y gates in a string is even, we can use this to construct an excitation pool element that preserves T-symmetry, by flipping one of the other X gates to a Y, or a Y to an X. Below, we'll flip the first X or Y to its partner."
   ],
   "cell_type": "markdown",
   "metadata": {}
  },
  {
   "cell_type": "code",
   "execution_count": 30,
   "metadata": {},
   "outputs": [],
   "source": [
    "import numpy as np\n",
    "\n",
    "from qsdk.toolboxes.operators.operators import QubitOperator\n",
    "\n",
    "pauli_lookup = {'Z':1, 'X':2, 'Y':3}\n",
    "pauli_reverse_lookup = ['I', 'Z', 'X', 'Y']\n",
    "\n",
    "def get_pool(qubit_hamiltonian, n_qubits):\n",
    "    \"\"\"Use Hamiltonian to identify non-commuting Pauli strings to use as operator pool.\n",
    "    We identify terms with even number of Y-operators, in order to define excitations \n",
    "    which preserve T-reversal symmetry. We remove all Z operators, and we flip the first\n",
    "    X or Y to its partner (i.e. X <> Y).\n",
    "    Args:\n",
    "        qubit_hamiltonian (QubitOperator): input Hamiltonian\n",
    "        n_qubits (int): number of qubits for Hamiltonian\n",
    "    \n",
    "    Returns:\n",
    "        pool_generators (list of QubitOperator): list of generators\n",
    "    \"\"\"\n",
    "\n",
    "    pool_generators, pool_tuples = list(), list()\n",
    "    indices = list()\n",
    "\n",
    "    for term in qubit_hamiltonian.terms:\n",
    "        pauli_string = np.zeros(n_qubits, dtype=int)\n",
    "        \n",
    "        #identify all X or Y factors\n",
    "        for index, action in term:\n",
    "            if pauli_lookup[action] > 1:\n",
    "                pauli_string[index] = pauli_lookup[action]\n",
    "\n",
    "        #only allow one operator acting on a given set of qubits\n",
    "        action_mask = tuple(pauli_string > 1)\n",
    "        if action_mask in indices:\n",
    "            continue\n",
    "\n",
    "        #only consider terms with even number of Y\n",
    "        if sum(pauli_string) % 2 == 0 and sum(pauli_string) > 0:\n",
    "            #identify qubit operator to change X<>Y\n",
    "            flip_index = np.where(pauli_string > 1)[0][0]\n",
    "            pauli_string[flip_index] += (-1)**(pauli_string[flip_index] % 2) \n",
    "\n",
    "            #update set of used qubit combinations\n",
    "            indices.append(action_mask)\n",
    "            #create QubitOperator for the new generator\n",
    "            operator_tuple = tuple([(index,pauli_reverse_lookup[pauli]) for index, pauli in enumerate(pauli_string) if pauli > 0])\n",
    "            #We don't use the coefficients directly, so since we need to multiply by 1.j for evaluating gradients, \n",
    "            #I'm just instantiating these with that coefficient in place\n",
    "            pool_generators.append(QubitOperator(operator_tuple, 1.0j))\n",
    "            pool_tuples.append(operator_tuple)\n",
    "    \n",
    "    return pool_generators, pool_tuples"
   ]
  },
  {
   "source": [
    "To exemplify the generation of an operator pool, we will apply this method to a simple Hamiltonian consisting of a single fermionic excitation and its Hermitian conjugate."
   ],
   "cell_type": "markdown",
   "metadata": {}
  },
  {
   "cell_type": "code",
   "execution_count": 128,
   "metadata": {},
   "outputs": [
    {
     "output_type": "stream",
     "name": "stdout",
     "text": [
      "OPERATOR POOL: [((0, 'Y'), (1, 'X'), (2, 'Y'), (3, 'Y'))]\n"
     ]
    }
   ],
   "source": [
    "from qsdk.toolboxes.operators import QubitOperator\n",
    "qubit_hamiltonian = QubitOperator(((0, 'X'), (1, 'X'), (2, 'Y'), (3, 'Y')), -1.0) \\\n",
    "                  + QubitOperator(((0, 'X'), (1, 'Y'), (2, 'Y'), (3, 'X')), 1.0) \\\n",
    "                  + QubitOperator(((0, 'Y'), (1, 'X'), (2, 'X'), (3, 'Y')), 1.0) \\\n",
    "                  + QubitOperator(((0, 'Y'), (1, 'Y'), (2, 'X'), (3, 'X')), -1.0) \n",
    "pool_generators, pool_tuples = get_pool(qubit_hamiltonian, n_qubits=4)\n",
    "print(f'OPERATOR POOL: {pool_tuples}')"
   ]
  },
  {
   "source": [
    "We have used a qubit Hamiltonian where all operators act on the same qubit indices. This results in just a single generator pool element. As we traverse the `qubit_hamiltonian` in order, the generator corresponds to the first term in the Hamiltonian, with the first X operator switched to a Y operator. So from XXYY, we have YXYY. "
   ],
   "cell_type": "markdown",
   "metadata": {}
  },
  {
   "source": [
    "With the pool generators so defined, we will need to prepare an observable enabling us to get expectation values for: $\\frac{\\partial E^{(k)}}{\\partial \\theta_i} = i\\langle \\psi_k|[H,P_i]|\\psi_k\\rangle$. I'm going to use openfermion's *commutator* method to construct a set of observables associated with my generator pool."
   ],
   "cell_type": "markdown",
   "metadata": {}
  },
  {
   "cell_type": "code",
   "execution_count": 14,
   "metadata": {},
   "outputs": [],
   "source": [
    "from openfermion import commutator\n",
    "\n",
    "def get_commutators(qubit_hamiltonian, pool_generators):\n",
    "    gradient_operators = [commutator(qubit_hamiltonian, element) for element in pool_generators]\n",
    "    return gradient_operators\n"
   ]
  },
  {
   "source": [
    "We can use the same operator from above to have a look at the commutator for the single pool-element we generated."
   ],
   "cell_type": "markdown",
   "metadata": {}
  },
  {
   "cell_type": "code",
   "execution_count": 130,
   "metadata": {},
   "outputs": [
    {
     "output_type": "stream",
     "name": "stdout",
     "text": [
      "[(2+0j) [Z0] +\n(-2+0j) [Z0 Z1 Z3] +\n(2-0j) [Z1 Z2 Z3] +\n(-2+0j) [Z2]]\n"
     ]
    }
   ],
   "source": [
    "gradient = get_commutators(qubit_hamiltonian, pool_generators)\n",
    "print(gradient)"
   ]
  },
  {
   "source": [
    "We see that this operator can have finite expectation value for a product state -- which is essential to get the ADAPT-VQE algorithm started, when beginning with a Hartree-Fock product-state reference expressed in the computational basis. We can get a finite gradient, append to our ansatz and proceed. Let's go ahead and define a method to find the best operator to append to our circuit, in the non-trivial case where we have several pool elements to choose from."
   ],
   "cell_type": "markdown",
   "metadata": {}
  },
  {
   "cell_type": "code",
   "execution_count": 131,
   "metadata": {},
   "outputs": [],
   "source": [
    "def rank_pool(pool_commutators, circuit, backend, tolerance=1e-3):\n",
    "\n",
    "    gradient = [abs(backend.get_expectation_value(element, circuit)) for element in pool_commutators]\n",
    "    max_partial = max(gradient)\n",
    "    print(f'LARGEST PARTIAL DERIVATIVE: {max_partial :4E}')\n",
    "    return gradient.index(max_partial) if max_partial >= tolerance else -1\n"
   ]
  },
  {
   "source": [
    "## Adaptive-Ansatz\n",
    "Now that we have a method by which to rank our pool elements, we need to be able to update our ansatz circuit. Since I am going to be using the qSDK's `VQESolver` class as the kernel of my ADAPT-VQE calculation, I need to define my custom ansatz. For an introduction to defining your own ansatz, check out the tutorial in the qSDK [GitHub repository](https://github.com/1QB-Information-Technologies/QEMIST_qSDK/blob/main/examples/vqe_custom_ansatz.ipynb). In addition to the requisite methods to build the circuit and reference state, as well as set and update the variational parameters, we also define a method for adding a new operator to the ansatz circuit. This enables us to circumvent rebuilding our variational circuit from scratch on every cycle of ADAPT.\n",
    "\n",
    "In building our circuit, we'll make use of the `pauliword_to_circuit` method from the qSDK to construct the necessary gate sequence associated with a multi-qubit Pauli rotation $\\mathrm{exp}(i\\theta \\prod_j \\sigma_j)$."
   ],
   "cell_type": "markdown",
   "metadata": {}
  },
  {
   "cell_type": "code",
   "execution_count": 132,
   "metadata": {},
   "outputs": [],
   "source": [
    "from qsdk.toolboxes.qubit_mappings.statevector_mapping import get_reference_circuit\n",
    "from qsdk.toolboxes.ansatz_generator.ansatz_utils import pauliword_to_circuit\n",
    "from qsdk.toolboxes.ansatz_generator.ansatz import Ansatz\n",
    "from agnostic_simulator import Circuit\n",
    "\n",
    "class AdaptAnsatz(Ansatz):\n",
    "\n",
    "    def __init__(self, n_spinorbitals, n_electrons, operators):\n",
    "        \n",
    "        self.n_spinorbitals = n_spinorbitals\n",
    "        self.n_electrons = n_electrons\n",
    "        self.operators = operators\n",
    "        \n",
    "        self.n_var_params = len(self.operators)\n",
    "\n",
    "        self.var_params = None\n",
    "        self.circuit = None\n",
    "\n",
    "    def set_var_params(self, var_params=None):\n",
    "        \"\"\"Set initial variational parameter values\"\"\"\n",
    "        if var_params is None:\n",
    "            var_params = np.random.random(self.n_var_params)\n",
    "        elif var_params.size != self.n_var_params:\n",
    "            raise ValueError('Invalid number of parameters.')\n",
    "        self.var_params = var_params\n",
    "        return var_params\n",
    "\n",
    "    def update_var_params(self, var_params):\n",
    "        \"\"\"Update variational parameters (done repeatedly during VQE)\"\"\"\n",
    "        for param_index in range(self.n_var_params):\n",
    "            self.circuit._variational_gates[param_index].parameter = var_params[param_index]\n",
    "    \n",
    "    def prepare_reference_state(self):\n",
    "        \"\"\"Prepare a circuit generating the HF reference state.\"\"\"\n",
    "        return get_reference_circuit(n_spinorbitals=self.n_spinorbitals, n_electrons=self.n_electrons, mapping='JW')\n",
    "\n",
    "    def build_circuit(self, var_params=None):\n",
    "        \"\"\"Construct the variational circuit to be used as our ansatz.\"\"\"\n",
    "        self.set_var_params(var_params)\n",
    "\n",
    "        self.circuit = Circuit(n_qubits=self.n_spinorbitals)\n",
    "        self.circuit += self.prepare_reference_state()\n",
    "        adapt_circuit = Circuit()\n",
    "        for op in self.operators:\n",
    "            adapt_circuit += pauliword_to_circuit(op, 1.0)\n",
    "\n",
    "        if adapt_circuit.size != 0:   \n",
    "            self.circuit += adapt_circuit\n",
    "        return self.circuit\n",
    "    \n",
    "    def add_operator(self,pauli_tuple):\n",
    "        \"\"\"Add a new operator to our circuit\"\"\"\n",
    "        new_operator = Circuit(pauliword_to_circuit(pauli_tuple, 1.0))\n",
    "        self.circuit += new_operator\n",
    "        self.n_var_params += 1 "
   ]
  },
  {
   "source": [
    "In my experience, I get the best performance with ADAPT-VQE when I use the L-BFGS-B optimization algorithm. In the qSDK's `VQESolver`, the default optimizer uses SLSQP. This is pretty easy to change in the qSDK's `VQESolver`. I just define the following method, which can be passed as an input argument to `VQESolver`."
   ],
   "cell_type": "markdown",
   "metadata": {}
  },
  {
   "cell_type": "code",
   "execution_count": 134,
   "metadata": {},
   "outputs": [],
   "source": [
    "from scipy.optimize import minimize\n",
    "\n",
    "def LBFGSB_optimizer(func, var_params):\n",
    "    result = minimize(func, var_params, method=\"L-BFGS-B\", options={\"disp\": True, \"maxiter\": 100, 'gtol':1e-10})\n",
    "    \n",
    "    print(f\"\\tOptimal UCCSD energy: {result.fun}\")\n",
    "    print(f\"\\tOptimal UCCSD variational parameters: {result.x}\")\n",
    "    print(f\"\\tNumber of Function Evaluations : {result.nfev}\")\n",
    "    return result"
   ]
  },
  {
   "source": [
    "## Assembling the ADAPT Workflow\n",
    "With all of these tools prepared, we can proceed to define an ADAPT-VQE method. We'll continue to take advantage of the tools provided by the qSDK to minimize the overhead in prototyping this algorithm, utilizing the built-in `VQESolver` class to formulate the kernel of our workflow. We'll use the `MolecularData` class to construct our generator pool, and then wrap the `VQESolver` in a loop. For each cycle, we identify the best choice of generator, update the ansatz circuit, and run VQE again."
   ],
   "cell_type": "markdown",
   "metadata": {}
  },
  {
   "cell_type": "code",
   "execution_count": 135,
   "metadata": {},
   "outputs": [],
   "source": [
    "from qsdk.electronic_structure_solvers.vqe_solver import VQESolver\n",
    "\n",
    "def do_adapt_vqe(molecule, tol=1e-3, max_cycle=10):\n",
    "    \"\"\"Perform ADAPT-VQE using the Hamiltonian-based qubit pool.\n",
    "    The gradient is evaluated at the start of each step for all operators\n",
    "    in pool, and the element with the largest gradient is appended to the\n",
    "    ansatz. The continues until either the largest gradient drops below a\n",
    "    threshold tolerance, or, the number of cycles exceeds the stated maximum.\n",
    "    the tolerance. \n",
    "    Args:\n",
    "        molecule (pyscf's gto.Mole): objective molecule to solve for\n",
    "        tol (float): cutoff scale for largest gradient\n",
    "        max_cycle (int): cutoff number of iterations before terminating\n",
    "    \n",
    "    Returns:\n",
    "        energies (list of float): VQE energy at each cycle of ADAPT\n",
    "        operators (list of tuple): Pauli strings for each generator in the ADAPT ansatz\n",
    "        vqe (VQESolver): solver class\n",
    "    \"\"\"\n",
    "\n",
    "    operators = list()\n",
    "    energies = list()\n",
    "    params = np.array([0.0])\n",
    "    \n",
    "    converged = False\n",
    "    ansatz = AdaptAnsatz(n_spinorbitals=2*molecule.nbas, n_electrons=molecule.nelectron, operators=operators)\n",
    "    \n",
    "    vqe_options = {'molecule':molecule, 'qubit_mapping':'JW', 'ansatz':ansatz,'optimizer':LBFGSB_optimizer}\n",
    "    vqe = VQESolver(vqe_options)\n",
    "    vqe.build()\n",
    "    \n",
    "    pool_operators, pool_tuples = get_pool(vqe.qubit_hamiltonian, 2*molecule.nbas)\n",
    "    commutators = get_commutators(vqe.qubit_hamiltonian, pool_operators)\n",
    "\n",
    "    while not converged:\n",
    "        if len(operators) > max_cycle:\n",
    "            break\n",
    "        pool_select = rank_pool(commutators, vqe.ansatz.circuit, backend=vqe.backend, tolerance=tol)\n",
    "\n",
    "        if pool_select >-1:\n",
    "            operators.append(pool_tuples[pool_select])\n",
    "            vqe.ansatz.add_operator(operators[-1])\n",
    "            vqe.initial_var_params = params\n",
    "            optimal = vqe.simulate()\n",
    "            energies.append(optimal.fun)\n",
    "            params = np.concatenate([optimal.x, np.array([0])])\n",
    "        else:\n",
    "            converged = True\n",
    "\n",
    "    return energies, operators, vqe"
   ]
  },
  {
   "source": [
    "## ADAPT-VQE In Practice\n",
    "For the generator pool we've considered here, the smallest non-trivial problem to consider is H$_4$, as H$_2$ has only one generator and ADAPT terminates at FCI accuracy after a single iteration. So we'll apply this here to H$_4$ as a linear chain. We begin by instantiating the molecule object from pyscf's `gto.Mole` class, and feed this into the `do_adapt_vqe` method we defined above."
   ],
   "cell_type": "markdown",
   "metadata": {}
  },
  {
   "cell_type": "code",
   "execution_count": 142,
   "metadata": {
    "tags": []
   },
   "outputs": [
    {
     "output_type": "stream",
     "name": "stdout",
     "text": [
      "LARGEST PARTIAL DERIVATIVE: 2.745654E-01\n",
      "\tOptimal UCCSD energy: -2.122499869835747\n",
      "\tOptimal UCCSD variational parameters: [-0.34549446]\n",
      "\tNumber of Function Evaluations : 10\n",
      "LARGEST PARTIAL DERIVATIVE: 2.422185E-01\n",
      "\tOptimal UCCSD energy: -2.132839379197322\n",
      "\tOptimal UCCSD variational parameters: [-0.36933601 -0.1704421 ]\n",
      "\tNumber of Function Evaluations : 21\n",
      "LARGEST PARTIAL DERIVATIVE: 2.507048E-01\n",
      "\tOptimal UCCSD energy: -2.1439830966095133\n",
      "\tOptimal UCCSD variational parameters: [-0.39765266 -0.17750621 -0.17750635]\n",
      "\tNumber of Function Evaluations : 32\n",
      "LARGEST PARTIAL DERIVATIVE: 2.355767E-01\n",
      "\tOptimal UCCSD energy: -2.150427234468344\n",
      "\tOptimal UCCSD variational parameters: [-0.39615962 -0.18080608 -0.1848486  -0.10933224]\n",
      "\tNumber of Function Evaluations : 35\n",
      "LARGEST PARTIAL DERIVATIVE: 1.465512E-01\n",
      "\tOptimal UCCSD energy: -2.1543855334425612\n",
      "\tOptimal UCCSD variational parameters: [-0.36948384 -0.18437109 -0.18148065 -0.10194413 -0.10855794]\n",
      "\tNumber of Function Evaluations : 48\n",
      "LARGEST PARTIAL DERIVATIVE: 1.385444E-01\n",
      "\tOptimal UCCSD energy: -2.156843751360486\n",
      "\tOptimal UCCSD variational parameters: [-0.35095697 -0.18333183 -0.18240148 -0.09545607 -0.11006214 -0.07111897]\n",
      "\tNumber of Function Evaluations : 63\n",
      "LARGEST PARTIAL DERIVATIVE: 1.266355E-01\n",
      "\tOptimal UCCSD energy: -2.1595382757372685\n",
      "\tOptimal UCCSD variational parameters: [-0.35002185 -0.17850901 -0.17650492 -0.0981145  -0.12299152 -0.08286011\n",
      "  0.085099  ]\n",
      "\tNumber of Function Evaluations : 72\n",
      "LARGEST PARTIAL DERIVATIVE: 1.207846E-01\n",
      "\tOptimal UCCSD energy: -2.1619807318507807\n",
      "\tOptimal UCCSD variational parameters: [-0.3495825  -0.16892014 -0.16913419 -0.10174194 -0.13487989 -0.09043784\n",
      "  0.0894771   0.08096477]\n",
      "\tNumber of Function Evaluations : 81\n",
      "LARGEST PARTIAL DERIVATIVE: 1.090775E-01\n",
      "\tOptimal UCCSD energy: -2.164592074254364\n",
      "\tOptimal UCCSD variational parameters: [-0.35673783 -0.16839616 -0.15988733 -0.10694826 -0.14481573 -0.08430494\n",
      "  0.08742807  0.12194343  0.09586593]\n",
      "\tNumber of Function Evaluations : 100\n",
      "LARGEST PARTIAL DERIVATIVE: 6.574016E-02\n",
      "\tOptimal UCCSD energy: -2.165621417265962\n",
      "\tOptimal UCCSD variational parameters: [-0.36282046 -0.15485084 -0.15460346 -0.11129137 -0.14076667 -0.07458864\n",
      "  0.1126136   0.1212019   0.09725347  0.06268858]\n",
      "\tNumber of Function Evaluations : 110\n",
      "LARGEST PARTIAL DERIVATIVE: 5.727999E-02\n",
      "\tOptimal UCCSD energy: -2.1658598402118754\n",
      "\tOptimal UCCSD variational parameters: [-0.36474388 -0.15454786 -0.15238379 -0.1121034  -0.15150754 -0.07491154\n",
      "  0.10892023  0.12084169  0.09774301  0.06131482 -0.01666226]\n",
      "\tNumber of Function Evaluations : 108\n",
      "LARGEST PARTIAL DERIVATIVE: 2.855282E-02\n",
      "\tOptimal UCCSD energy: -2.1659130323618823\n",
      "\tOptimal UCCSD variational parameters: [-0.36465457 -0.15378333 -0.15223595 -0.11325927 -0.15213339 -0.07923928\n",
      "  0.1068216   0.12026002  0.09759672  0.06000056 -0.01698506 -0.00745146]\n",
      "\tNumber of Function Evaluations : 143\n",
      "LARGEST PARTIAL DERIVATIVE: 2.741705E-02\n",
      "\tOptimal UCCSD energy: -2.1661500842266594\n",
      "\tOptimal UCCSD variational parameters: [-0.36531884 -0.16524523 -0.15273342 -0.11699019 -0.14833741 -0.08157253\n",
      "  0.10597865  0.11880046  0.09707687  0.05733542 -0.01699602 -0.0085364\n",
      " -0.0345864 ]\n",
      "\tNumber of Function Evaluations : 154\n",
      "LARGEST PARTIAL DERIVATIVE: 1.245974E-02\n",
      "\tOptimal UCCSD energy: -2.16619807395974\n",
      "\tOptimal UCCSD variational parameters: [-0.36532674 -0.16423182 -0.15758155 -0.11784874 -0.14666991 -0.08281662\n",
      "  0.105408    0.11881265  0.09671863  0.05701517 -0.01707798 -0.0091936\n",
      " -0.03528052 -0.01540744]\n",
      "\tNumber of Function Evaluations : 150\n",
      "LARGEST PARTIAL DERIVATIVE: 9.519423E-03\n",
      "\tOptimal UCCSD energy: -2.1662224869397675\n",
      "\tOptimal UCCSD variational parameters: [-0.36661364 -0.1645948  -0.1570568  -0.11805475 -0.14628142 -0.08208325\n",
      "  0.10522264  0.11831122  0.0970455   0.05732775 -0.01715381 -0.00920729\n",
      " -0.03539574 -0.01538899 -0.01025956]\n",
      "\tNumber of Function Evaluations : 160\n",
      "LARGEST PARTIAL DERIVATIVE: 9.406506E-03\n",
      "\tOptimal UCCSD energy: -2.166246301995265\n",
      "\tOptimal UCCSD variational parameters: [-0.36787933 -0.16402414 -0.15744033 -0.11827624 -0.14592861 -0.08141061\n",
      "  0.10472936  0.11821548  0.09722173  0.0578525  -0.01723089 -0.00920788\n",
      " -0.03543663 -0.01554802 -0.01012541  0.01012826]\n",
      "\tNumber of Function Evaluations : 170\n"
     ]
    }
   ],
   "source": [
    "from pyscf import gto\n",
    "\n",
    "H4 = [('H', (0, 0, 0)), ('H', (0, 0, 1)), ('H', (0, 0, 2)), ('H', (0, 0, 3))]\n",
    "mol = gto.Mole()\n",
    "mol.atom = H4\n",
    "mol.basis = 'sto-3g'\n",
    "mol.build()\n",
    "\n",
    "energies, operators, adapt_vqe = do_adapt_vqe(mol, tol=1e-4, max_cycle=15)"
   ]
  },
  {
   "source": [
    "After 15 cycles, we force the cycle to terminate. At this point, the largest gradient is below the level of 0.01. We can now compare the results against the predictions of FCI."
   ],
   "cell_type": "markdown",
   "metadata": {}
  },
  {
   "cell_type": "code",
   "execution_count": 143,
   "metadata": {},
   "outputs": [
    {
     "output_type": "stream",
     "name": "stdout",
     "text": [
      "Final Error: 1.4115E-04\n"
     ]
    },
    {
     "output_type": "display_data",
     "data": {
      "text/plain": "<Figure size 432x288 with 1 Axes>",
      "image/svg+xml": "<?xml version=\"1.0\" encoding=\"utf-8\" standalone=\"no\"?>\n<!DOCTYPE svg PUBLIC \"-//W3C//DTD SVG 1.1//EN\"\n  \"http://www.w3.org/Graphics/SVG/1.1/DTD/svg11.dtd\">\n<!-- Created with matplotlib (https://matplotlib.org/) -->\n<svg height=\"277.31625pt\" version=\"1.1\" viewBox=\"0 0 393.378125 277.31625\" width=\"393.378125pt\" xmlns=\"http://www.w3.org/2000/svg\" xmlns:xlink=\"http://www.w3.org/1999/xlink\">\n <metadata>\n  <rdf:RDF xmlns:cc=\"http://creativecommons.org/ns#\" xmlns:dc=\"http://purl.org/dc/elements/1.1/\" xmlns:rdf=\"http://www.w3.org/1999/02/22-rdf-syntax-ns#\">\n   <cc:Work>\n    <dc:type rdf:resource=\"http://purl.org/dc/dcmitype/StillImage\"/>\n    <dc:date>2021-04-22T16:25:10.880602</dc:date>\n    <dc:format>image/svg+xml</dc:format>\n    <dc:creator>\n     <cc:Agent>\n      <dc:title>Matplotlib v3.3.2, https://matplotlib.org/</dc:title>\n     </cc:Agent>\n    </dc:creator>\n   </cc:Work>\n  </rdf:RDF>\n </metadata>\n <defs>\n  <style type=\"text/css\">*{stroke-linecap:butt;stroke-linejoin:round;}</style>\n </defs>\n <g id=\"figure_1\">\n  <g id=\"patch_1\">\n   <path d=\"M 0 277.31625 \nL 393.378125 277.31625 \nL 393.378125 0 \nL 0 0 \nz\n\" style=\"fill:none;\"/>\n  </g>\n  <g id=\"axes_1\">\n   <g id=\"patch_2\">\n    <path d=\"M 51.378125 239.76 \nL 386.178125 239.76 \nL 386.178125 22.32 \nL 51.378125 22.32 \nz\n\" style=\"fill:#ffffff;\"/>\n   </g>\n   <g id=\"matplotlib.axis_1\">\n    <g id=\"xtick_1\">\n     <g id=\"line2d_1\">\n      <defs>\n       <path d=\"M 0 0 \nL 0 3.5 \n\" id=\"m05dae02323\" style=\"stroke:#000000;stroke-width:0.8;\"/>\n      </defs>\n      <g>\n       <use style=\"stroke:#000000;stroke-width:0.8;\" x=\"66.596307\" xlink:href=\"#m05dae02323\" y=\"239.76\"/>\n      </g>\n     </g>\n     <g id=\"text_1\">\n      <!-- 0 -->\n      <g transform=\"translate(63.415057 254.358437)scale(0.1 -0.1)\">\n       <defs>\n        <path d=\"M 31.78125 66.40625 \nQ 24.171875 66.40625 20.328125 58.90625 \nQ 16.5 51.421875 16.5 36.375 \nQ 16.5 21.390625 20.328125 13.890625 \nQ 24.171875 6.390625 31.78125 6.390625 \nQ 39.453125 6.390625 43.28125 13.890625 \nQ 47.125 21.390625 47.125 36.375 \nQ 47.125 51.421875 43.28125 58.90625 \nQ 39.453125 66.40625 31.78125 66.40625 \nz\nM 31.78125 74.21875 \nQ 44.046875 74.21875 50.515625 64.515625 \nQ 56.984375 54.828125 56.984375 36.375 \nQ 56.984375 17.96875 50.515625 8.265625 \nQ 44.046875 -1.421875 31.78125 -1.421875 \nQ 19.53125 -1.421875 13.0625 8.265625 \nQ 6.59375 17.96875 6.59375 36.375 \nQ 6.59375 54.828125 13.0625 64.515625 \nQ 19.53125 74.21875 31.78125 74.21875 \nz\n\" id=\"DejaVuSans-48\"/>\n       </defs>\n       <use xlink:href=\"#DejaVuSans-48\"/>\n      </g>\n     </g>\n    </g>\n    <g id=\"xtick_2\">\n     <g id=\"line2d_2\">\n      <g>\n       <use style=\"stroke:#000000;stroke-width:0.8;\" x=\"107.178125\" xlink:href=\"#m05dae02323\" y=\"239.76\"/>\n      </g>\n     </g>\n     <g id=\"text_2\">\n      <!-- 2 -->\n      <g transform=\"translate(103.996875 254.358437)scale(0.1 -0.1)\">\n       <defs>\n        <path d=\"M 19.1875 8.296875 \nL 53.609375 8.296875 \nL 53.609375 0 \nL 7.328125 0 \nL 7.328125 8.296875 \nQ 12.9375 14.109375 22.625 23.890625 \nQ 32.328125 33.6875 34.8125 36.53125 \nQ 39.546875 41.84375 41.421875 45.53125 \nQ 43.3125 49.21875 43.3125 52.78125 \nQ 43.3125 58.59375 39.234375 62.25 \nQ 35.15625 65.921875 28.609375 65.921875 \nQ 23.96875 65.921875 18.8125 64.3125 \nQ 13.671875 62.703125 7.8125 59.421875 \nL 7.8125 69.390625 \nQ 13.765625 71.78125 18.9375 73 \nQ 24.125 74.21875 28.421875 74.21875 \nQ 39.75 74.21875 46.484375 68.546875 \nQ 53.21875 62.890625 53.21875 53.421875 \nQ 53.21875 48.921875 51.53125 44.890625 \nQ 49.859375 40.875 45.40625 35.40625 \nQ 44.1875 33.984375 37.640625 27.21875 \nQ 31.109375 20.453125 19.1875 8.296875 \nz\n\" id=\"DejaVuSans-50\"/>\n       </defs>\n       <use xlink:href=\"#DejaVuSans-50\"/>\n      </g>\n     </g>\n    </g>\n    <g id=\"xtick_3\">\n     <g id=\"line2d_3\">\n      <g>\n       <use style=\"stroke:#000000;stroke-width:0.8;\" x=\"147.759943\" xlink:href=\"#m05dae02323\" y=\"239.76\"/>\n      </g>\n     </g>\n     <g id=\"text_3\">\n      <!-- 4 -->\n      <g transform=\"translate(144.578693 254.358437)scale(0.1 -0.1)\">\n       <defs>\n        <path d=\"M 37.796875 64.3125 \nL 12.890625 25.390625 \nL 37.796875 25.390625 \nz\nM 35.203125 72.90625 \nL 47.609375 72.90625 \nL 47.609375 25.390625 \nL 58.015625 25.390625 \nL 58.015625 17.1875 \nL 47.609375 17.1875 \nL 47.609375 0 \nL 37.796875 0 \nL 37.796875 17.1875 \nL 4.890625 17.1875 \nL 4.890625 26.703125 \nz\n\" id=\"DejaVuSans-52\"/>\n       </defs>\n       <use xlink:href=\"#DejaVuSans-52\"/>\n      </g>\n     </g>\n    </g>\n    <g id=\"xtick_4\">\n     <g id=\"line2d_4\">\n      <g>\n       <use style=\"stroke:#000000;stroke-width:0.8;\" x=\"188.341761\" xlink:href=\"#m05dae02323\" y=\"239.76\"/>\n      </g>\n     </g>\n     <g id=\"text_4\">\n      <!-- 6 -->\n      <g transform=\"translate(185.160511 254.358437)scale(0.1 -0.1)\">\n       <defs>\n        <path d=\"M 33.015625 40.375 \nQ 26.375 40.375 22.484375 35.828125 \nQ 18.609375 31.296875 18.609375 23.390625 \nQ 18.609375 15.53125 22.484375 10.953125 \nQ 26.375 6.390625 33.015625 6.390625 \nQ 39.65625 6.390625 43.53125 10.953125 \nQ 47.40625 15.53125 47.40625 23.390625 \nQ 47.40625 31.296875 43.53125 35.828125 \nQ 39.65625 40.375 33.015625 40.375 \nz\nM 52.59375 71.296875 \nL 52.59375 62.3125 \nQ 48.875 64.0625 45.09375 64.984375 \nQ 41.3125 65.921875 37.59375 65.921875 \nQ 27.828125 65.921875 22.671875 59.328125 \nQ 17.53125 52.734375 16.796875 39.40625 \nQ 19.671875 43.65625 24.015625 45.921875 \nQ 28.375 48.1875 33.59375 48.1875 \nQ 44.578125 48.1875 50.953125 41.515625 \nQ 57.328125 34.859375 57.328125 23.390625 \nQ 57.328125 12.15625 50.6875 5.359375 \nQ 44.046875 -1.421875 33.015625 -1.421875 \nQ 20.359375 -1.421875 13.671875 8.265625 \nQ 6.984375 17.96875 6.984375 36.375 \nQ 6.984375 53.65625 15.1875 63.9375 \nQ 23.390625 74.21875 37.203125 74.21875 \nQ 40.921875 74.21875 44.703125 73.484375 \nQ 48.484375 72.75 52.59375 71.296875 \nz\n\" id=\"DejaVuSans-54\"/>\n       </defs>\n       <use xlink:href=\"#DejaVuSans-54\"/>\n      </g>\n     </g>\n    </g>\n    <g id=\"xtick_5\">\n     <g id=\"line2d_5\">\n      <g>\n       <use style=\"stroke:#000000;stroke-width:0.8;\" x=\"228.92358\" xlink:href=\"#m05dae02323\" y=\"239.76\"/>\n      </g>\n     </g>\n     <g id=\"text_5\">\n      <!-- 8 -->\n      <g transform=\"translate(225.74233 254.358437)scale(0.1 -0.1)\">\n       <defs>\n        <path d=\"M 31.78125 34.625 \nQ 24.75 34.625 20.71875 30.859375 \nQ 16.703125 27.09375 16.703125 20.515625 \nQ 16.703125 13.921875 20.71875 10.15625 \nQ 24.75 6.390625 31.78125 6.390625 \nQ 38.8125 6.390625 42.859375 10.171875 \nQ 46.921875 13.96875 46.921875 20.515625 \nQ 46.921875 27.09375 42.890625 30.859375 \nQ 38.875 34.625 31.78125 34.625 \nz\nM 21.921875 38.8125 \nQ 15.578125 40.375 12.03125 44.71875 \nQ 8.5 49.078125 8.5 55.328125 \nQ 8.5 64.0625 14.71875 69.140625 \nQ 20.953125 74.21875 31.78125 74.21875 \nQ 42.671875 74.21875 48.875 69.140625 \nQ 55.078125 64.0625 55.078125 55.328125 \nQ 55.078125 49.078125 51.53125 44.71875 \nQ 48 40.375 41.703125 38.8125 \nQ 48.828125 37.15625 52.796875 32.3125 \nQ 56.78125 27.484375 56.78125 20.515625 \nQ 56.78125 9.90625 50.3125 4.234375 \nQ 43.84375 -1.421875 31.78125 -1.421875 \nQ 19.734375 -1.421875 13.25 4.234375 \nQ 6.78125 9.90625 6.78125 20.515625 \nQ 6.78125 27.484375 10.78125 32.3125 \nQ 14.796875 37.15625 21.921875 38.8125 \nz\nM 18.3125 54.390625 \nQ 18.3125 48.734375 21.84375 45.5625 \nQ 25.390625 42.390625 31.78125 42.390625 \nQ 38.140625 42.390625 41.71875 45.5625 \nQ 45.3125 48.734375 45.3125 54.390625 \nQ 45.3125 60.0625 41.71875 63.234375 \nQ 38.140625 66.40625 31.78125 66.40625 \nQ 25.390625 66.40625 21.84375 63.234375 \nQ 18.3125 60.0625 18.3125 54.390625 \nz\n\" id=\"DejaVuSans-56\"/>\n       </defs>\n       <use xlink:href=\"#DejaVuSans-56\"/>\n      </g>\n     </g>\n    </g>\n    <g id=\"xtick_6\">\n     <g id=\"line2d_6\">\n      <g>\n       <use style=\"stroke:#000000;stroke-width:0.8;\" x=\"269.505398\" xlink:href=\"#m05dae02323\" y=\"239.76\"/>\n      </g>\n     </g>\n     <g id=\"text_6\">\n      <!-- 10 -->\n      <g transform=\"translate(263.142898 254.358437)scale(0.1 -0.1)\">\n       <defs>\n        <path d=\"M 12.40625 8.296875 \nL 28.515625 8.296875 \nL 28.515625 63.921875 \nL 10.984375 60.40625 \nL 10.984375 69.390625 \nL 28.421875 72.90625 \nL 38.28125 72.90625 \nL 38.28125 8.296875 \nL 54.390625 8.296875 \nL 54.390625 0 \nL 12.40625 0 \nz\n\" id=\"DejaVuSans-49\"/>\n       </defs>\n       <use xlink:href=\"#DejaVuSans-49\"/>\n       <use x=\"63.623047\" xlink:href=\"#DejaVuSans-48\"/>\n      </g>\n     </g>\n    </g>\n    <g id=\"xtick_7\">\n     <g id=\"line2d_7\">\n      <g>\n       <use style=\"stroke:#000000;stroke-width:0.8;\" x=\"310.087216\" xlink:href=\"#m05dae02323\" y=\"239.76\"/>\n      </g>\n     </g>\n     <g id=\"text_7\">\n      <!-- 12 -->\n      <g transform=\"translate(303.724716 254.358437)scale(0.1 -0.1)\">\n       <use xlink:href=\"#DejaVuSans-49\"/>\n       <use x=\"63.623047\" xlink:href=\"#DejaVuSans-50\"/>\n      </g>\n     </g>\n    </g>\n    <g id=\"xtick_8\">\n     <g id=\"line2d_8\">\n      <g>\n       <use style=\"stroke:#000000;stroke-width:0.8;\" x=\"350.669034\" xlink:href=\"#m05dae02323\" y=\"239.76\"/>\n      </g>\n     </g>\n     <g id=\"text_8\">\n      <!-- 14 -->\n      <g transform=\"translate(344.306534 254.358437)scale(0.1 -0.1)\">\n       <use xlink:href=\"#DejaVuSans-49\"/>\n       <use x=\"63.623047\" xlink:href=\"#DejaVuSans-52\"/>\n      </g>\n     </g>\n    </g>\n    <g id=\"text_9\">\n     <!-- ADAPT Iteration -->\n     <g transform=\"translate(179.308594 268.036562)scale(0.1 -0.1)\">\n      <defs>\n       <path d=\"M 34.1875 63.1875 \nL 20.796875 26.90625 \nL 47.609375 26.90625 \nz\nM 28.609375 72.90625 \nL 39.796875 72.90625 \nL 67.578125 0 \nL 57.328125 0 \nL 50.6875 18.703125 \nL 17.828125 18.703125 \nL 11.1875 0 \nL 0.78125 0 \nz\n\" id=\"DejaVuSans-65\"/>\n       <path d=\"M 19.671875 64.796875 \nL 19.671875 8.109375 \nL 31.59375 8.109375 \nQ 46.6875 8.109375 53.6875 14.9375 \nQ 60.6875 21.78125 60.6875 36.53125 \nQ 60.6875 51.171875 53.6875 57.984375 \nQ 46.6875 64.796875 31.59375 64.796875 \nz\nM 9.8125 72.90625 \nL 30.078125 72.90625 \nQ 51.265625 72.90625 61.171875 64.09375 \nQ 71.09375 55.28125 71.09375 36.53125 \nQ 71.09375 17.671875 61.125 8.828125 \nQ 51.171875 0 30.078125 0 \nL 9.8125 0 \nz\n\" id=\"DejaVuSans-68\"/>\n       <path d=\"M 19.671875 64.796875 \nL 19.671875 37.40625 \nL 32.078125 37.40625 \nQ 38.96875 37.40625 42.71875 40.96875 \nQ 46.484375 44.53125 46.484375 51.125 \nQ 46.484375 57.671875 42.71875 61.234375 \nQ 38.96875 64.796875 32.078125 64.796875 \nz\nM 9.8125 72.90625 \nL 32.078125 72.90625 \nQ 44.34375 72.90625 50.609375 67.359375 \nQ 56.890625 61.8125 56.890625 51.125 \nQ 56.890625 40.328125 50.609375 34.8125 \nQ 44.34375 29.296875 32.078125 29.296875 \nL 19.671875 29.296875 \nL 19.671875 0 \nL 9.8125 0 \nz\n\" id=\"DejaVuSans-80\"/>\n       <path d=\"M -0.296875 72.90625 \nL 61.375 72.90625 \nL 61.375 64.59375 \nL 35.5 64.59375 \nL 35.5 0 \nL 25.59375 0 \nL 25.59375 64.59375 \nL -0.296875 64.59375 \nz\n\" id=\"DejaVuSans-84\"/>\n       <path id=\"DejaVuSans-32\"/>\n       <path d=\"M 9.8125 72.90625 \nL 19.671875 72.90625 \nL 19.671875 0 \nL 9.8125 0 \nz\n\" id=\"DejaVuSans-73\"/>\n       <path d=\"M 18.3125 70.21875 \nL 18.3125 54.6875 \nL 36.8125 54.6875 \nL 36.8125 47.703125 \nL 18.3125 47.703125 \nL 18.3125 18.015625 \nQ 18.3125 11.328125 20.140625 9.421875 \nQ 21.96875 7.515625 27.59375 7.515625 \nL 36.8125 7.515625 \nL 36.8125 0 \nL 27.59375 0 \nQ 17.1875 0 13.234375 3.875 \nQ 9.28125 7.765625 9.28125 18.015625 \nL 9.28125 47.703125 \nL 2.6875 47.703125 \nL 2.6875 54.6875 \nL 9.28125 54.6875 \nL 9.28125 70.21875 \nz\n\" id=\"DejaVuSans-116\"/>\n       <path d=\"M 56.203125 29.59375 \nL 56.203125 25.203125 \nL 14.890625 25.203125 \nQ 15.484375 15.921875 20.484375 11.0625 \nQ 25.484375 6.203125 34.421875 6.203125 \nQ 39.59375 6.203125 44.453125 7.46875 \nQ 49.3125 8.734375 54.109375 11.28125 \nL 54.109375 2.78125 \nQ 49.265625 0.734375 44.1875 -0.34375 \nQ 39.109375 -1.421875 33.890625 -1.421875 \nQ 20.796875 -1.421875 13.15625 6.1875 \nQ 5.515625 13.8125 5.515625 26.8125 \nQ 5.515625 40.234375 12.765625 48.109375 \nQ 20.015625 56 32.328125 56 \nQ 43.359375 56 49.78125 48.890625 \nQ 56.203125 41.796875 56.203125 29.59375 \nz\nM 47.21875 32.234375 \nQ 47.125 39.59375 43.09375 43.984375 \nQ 39.0625 48.390625 32.421875 48.390625 \nQ 24.90625 48.390625 20.390625 44.140625 \nQ 15.875 39.890625 15.1875 32.171875 \nz\n\" id=\"DejaVuSans-101\"/>\n       <path d=\"M 41.109375 46.296875 \nQ 39.59375 47.171875 37.8125 47.578125 \nQ 36.03125 48 33.890625 48 \nQ 26.265625 48 22.1875 43.046875 \nQ 18.109375 38.09375 18.109375 28.8125 \nL 18.109375 0 \nL 9.078125 0 \nL 9.078125 54.6875 \nL 18.109375 54.6875 \nL 18.109375 46.1875 \nQ 20.953125 51.171875 25.484375 53.578125 \nQ 30.03125 56 36.53125 56 \nQ 37.453125 56 38.578125 55.875 \nQ 39.703125 55.765625 41.0625 55.515625 \nz\n\" id=\"DejaVuSans-114\"/>\n       <path d=\"M 34.28125 27.484375 \nQ 23.390625 27.484375 19.1875 25 \nQ 14.984375 22.515625 14.984375 16.5 \nQ 14.984375 11.71875 18.140625 8.90625 \nQ 21.296875 6.109375 26.703125 6.109375 \nQ 34.1875 6.109375 38.703125 11.40625 \nQ 43.21875 16.703125 43.21875 25.484375 \nL 43.21875 27.484375 \nz\nM 52.203125 31.203125 \nL 52.203125 0 \nL 43.21875 0 \nL 43.21875 8.296875 \nQ 40.140625 3.328125 35.546875 0.953125 \nQ 30.953125 -1.421875 24.3125 -1.421875 \nQ 15.921875 -1.421875 10.953125 3.296875 \nQ 6 8.015625 6 15.921875 \nQ 6 25.140625 12.171875 29.828125 \nQ 18.359375 34.515625 30.609375 34.515625 \nL 43.21875 34.515625 \nL 43.21875 35.40625 \nQ 43.21875 41.609375 39.140625 45 \nQ 35.0625 48.390625 27.6875 48.390625 \nQ 23 48.390625 18.546875 47.265625 \nQ 14.109375 46.140625 10.015625 43.890625 \nL 10.015625 52.203125 \nQ 14.9375 54.109375 19.578125 55.046875 \nQ 24.21875 56 28.609375 56 \nQ 40.484375 56 46.34375 49.84375 \nQ 52.203125 43.703125 52.203125 31.203125 \nz\n\" id=\"DejaVuSans-97\"/>\n       <path d=\"M 9.421875 54.6875 \nL 18.40625 54.6875 \nL 18.40625 0 \nL 9.421875 0 \nz\nM 9.421875 75.984375 \nL 18.40625 75.984375 \nL 18.40625 64.59375 \nL 9.421875 64.59375 \nz\n\" id=\"DejaVuSans-105\"/>\n       <path d=\"M 30.609375 48.390625 \nQ 23.390625 48.390625 19.1875 42.75 \nQ 14.984375 37.109375 14.984375 27.296875 \nQ 14.984375 17.484375 19.15625 11.84375 \nQ 23.34375 6.203125 30.609375 6.203125 \nQ 37.796875 6.203125 41.984375 11.859375 \nQ 46.1875 17.53125 46.1875 27.296875 \nQ 46.1875 37.015625 41.984375 42.703125 \nQ 37.796875 48.390625 30.609375 48.390625 \nz\nM 30.609375 56 \nQ 42.328125 56 49.015625 48.375 \nQ 55.71875 40.765625 55.71875 27.296875 \nQ 55.71875 13.875 49.015625 6.21875 \nQ 42.328125 -1.421875 30.609375 -1.421875 \nQ 18.84375 -1.421875 12.171875 6.21875 \nQ 5.515625 13.875 5.515625 27.296875 \nQ 5.515625 40.765625 12.171875 48.375 \nQ 18.84375 56 30.609375 56 \nz\n\" id=\"DejaVuSans-111\"/>\n       <path d=\"M 54.890625 33.015625 \nL 54.890625 0 \nL 45.90625 0 \nL 45.90625 32.71875 \nQ 45.90625 40.484375 42.875 44.328125 \nQ 39.84375 48.1875 33.796875 48.1875 \nQ 26.515625 48.1875 22.3125 43.546875 \nQ 18.109375 38.921875 18.109375 30.90625 \nL 18.109375 0 \nL 9.078125 0 \nL 9.078125 54.6875 \nL 18.109375 54.6875 \nL 18.109375 46.1875 \nQ 21.34375 51.125 25.703125 53.5625 \nQ 30.078125 56 35.796875 56 \nQ 45.21875 56 50.046875 50.171875 \nQ 54.890625 44.34375 54.890625 33.015625 \nz\n\" id=\"DejaVuSans-110\"/>\n      </defs>\n      <use xlink:href=\"#DejaVuSans-65\"/>\n      <use x=\"68.408203\" xlink:href=\"#DejaVuSans-68\"/>\n      <use x=\"143.660156\" xlink:href=\"#DejaVuSans-65\"/>\n      <use x=\"212.068359\" xlink:href=\"#DejaVuSans-80\"/>\n      <use x=\"272.371094\" xlink:href=\"#DejaVuSans-84\"/>\n      <use x=\"333.455078\" xlink:href=\"#DejaVuSans-32\"/>\n      <use x=\"365.242188\" xlink:href=\"#DejaVuSans-73\"/>\n      <use x=\"394.734375\" xlink:href=\"#DejaVuSans-116\"/>\n      <use x=\"433.943359\" xlink:href=\"#DejaVuSans-101\"/>\n      <use x=\"495.466797\" xlink:href=\"#DejaVuSans-114\"/>\n      <use x=\"536.580078\" xlink:href=\"#DejaVuSans-97\"/>\n      <use x=\"597.859375\" xlink:href=\"#DejaVuSans-116\"/>\n      <use x=\"637.068359\" xlink:href=\"#DejaVuSans-105\"/>\n      <use x=\"664.851562\" xlink:href=\"#DejaVuSans-111\"/>\n      <use x=\"726.033203\" xlink:href=\"#DejaVuSans-110\"/>\n     </g>\n    </g>\n   </g>\n   <g id=\"matplotlib.axis_2\">\n    <g id=\"ytick_1\">\n     <g id=\"line2d_9\">\n      <defs>\n       <path d=\"M 0 0 \nL -3.5 0 \n\" id=\"mc5eaa68cfc\" style=\"stroke:#000000;stroke-width:0.8;\"/>\n      </defs>\n      <g>\n       <use style=\"stroke:#000000;stroke-width:0.8;\" x=\"51.378125\" xlink:href=\"#mc5eaa68cfc\" y=\"162.443904\"/>\n      </g>\n     </g>\n     <g id=\"text_10\">\n      <!-- $\\mathdefault{10^{-3}}$ -->\n      <g transform=\"translate(20.878125 166.243122)scale(0.1 -0.1)\">\n       <defs>\n        <path d=\"M 10.59375 35.5 \nL 73.1875 35.5 \nL 73.1875 27.203125 \nL 10.59375 27.203125 \nz\n\" id=\"DejaVuSans-8722\"/>\n        <path d=\"M 40.578125 39.3125 \nQ 47.65625 37.796875 51.625 33 \nQ 55.609375 28.21875 55.609375 21.1875 \nQ 55.609375 10.40625 48.1875 4.484375 \nQ 40.765625 -1.421875 27.09375 -1.421875 \nQ 22.515625 -1.421875 17.65625 -0.515625 \nQ 12.796875 0.390625 7.625 2.203125 \nL 7.625 11.71875 \nQ 11.71875 9.328125 16.59375 8.109375 \nQ 21.484375 6.890625 26.8125 6.890625 \nQ 36.078125 6.890625 40.9375 10.546875 \nQ 45.796875 14.203125 45.796875 21.1875 \nQ 45.796875 27.640625 41.28125 31.265625 \nQ 36.765625 34.90625 28.71875 34.90625 \nL 20.21875 34.90625 \nL 20.21875 43.015625 \nL 29.109375 43.015625 \nQ 36.375 43.015625 40.234375 45.921875 \nQ 44.09375 48.828125 44.09375 54.296875 \nQ 44.09375 59.90625 40.109375 62.90625 \nQ 36.140625 65.921875 28.71875 65.921875 \nQ 24.65625 65.921875 20.015625 65.03125 \nQ 15.375 64.15625 9.8125 62.3125 \nL 9.8125 71.09375 \nQ 15.4375 72.65625 20.34375 73.4375 \nQ 25.25 74.21875 29.59375 74.21875 \nQ 40.828125 74.21875 47.359375 69.109375 \nQ 53.90625 64.015625 53.90625 55.328125 \nQ 53.90625 49.265625 50.4375 45.09375 \nQ 46.96875 40.921875 40.578125 39.3125 \nz\n\" id=\"DejaVuSans-51\"/>\n       </defs>\n       <use transform=\"translate(0 0.765625)\" xlink:href=\"#DejaVuSans-49\"/>\n       <use transform=\"translate(63.623047 0.765625)\" xlink:href=\"#DejaVuSans-48\"/>\n       <use transform=\"translate(128.203125 39.046875)scale(0.7)\" xlink:href=\"#DejaVuSans-8722\"/>\n       <use transform=\"translate(186.855469 39.046875)scale(0.7)\" xlink:href=\"#DejaVuSans-51\"/>\n      </g>\n     </g>\n    </g>\n    <g id=\"ytick_2\">\n     <g id=\"line2d_10\">\n      <g>\n       <use style=\"stroke:#000000;stroke-width:0.8;\" x=\"51.378125\" xlink:href=\"#mc5eaa68cfc\" y=\"83.142335\"/>\n      </g>\n     </g>\n     <g id=\"text_11\">\n      <!-- $\\mathdefault{10^{-2}}$ -->\n      <g transform=\"translate(20.878125 86.941554)scale(0.1 -0.1)\">\n       <use transform=\"translate(0 0.765625)\" xlink:href=\"#DejaVuSans-49\"/>\n       <use transform=\"translate(63.623047 0.765625)\" xlink:href=\"#DejaVuSans-48\"/>\n       <use transform=\"translate(128.203125 39.046875)scale(0.7)\" xlink:href=\"#DejaVuSans-8722\"/>\n       <use transform=\"translate(186.855469 39.046875)scale(0.7)\" xlink:href=\"#DejaVuSans-50\"/>\n      </g>\n     </g>\n    </g>\n    <g id=\"ytick_3\">\n     <g id=\"line2d_11\">\n      <defs>\n       <path d=\"M 0 0 \nL -2 0 \n\" id=\"m6c4fa54024\" style=\"stroke:#000000;stroke-width:0.6;\"/>\n      </defs>\n      <g>\n       <use style=\"stroke:#000000;stroke-width:0.6;\" x=\"51.378125\" xlink:href=\"#m6c4fa54024\" y=\"217.873322\"/>\n      </g>\n     </g>\n    </g>\n    <g id=\"ytick_4\">\n     <g id=\"line2d_12\">\n      <g>\n       <use style=\"stroke:#000000;stroke-width:0.6;\" x=\"51.378125\" xlink:href=\"#m6c4fa54024\" y=\"203.909008\"/>\n      </g>\n     </g>\n    </g>\n    <g id=\"ytick_5\">\n     <g id=\"line2d_13\">\n      <g>\n       <use style=\"stroke:#000000;stroke-width:0.6;\" x=\"51.378125\" xlink:href=\"#m6c4fa54024\" y=\"194.001171\"/>\n      </g>\n     </g>\n    </g>\n    <g id=\"ytick_6\">\n     <g id=\"line2d_14\">\n      <g>\n       <use style=\"stroke:#000000;stroke-width:0.6;\" x=\"51.378125\" xlink:href=\"#m6c4fa54024\" y=\"186.316055\"/>\n      </g>\n     </g>\n    </g>\n    <g id=\"ytick_7\">\n     <g id=\"line2d_15\">\n      <g>\n       <use style=\"stroke:#000000;stroke-width:0.6;\" x=\"51.378125\" xlink:href=\"#m6c4fa54024\" y=\"180.036858\"/>\n      </g>\n     </g>\n    </g>\n    <g id=\"ytick_8\">\n     <g id=\"line2d_16\">\n      <g>\n       <use style=\"stroke:#000000;stroke-width:0.6;\" x=\"51.378125\" xlink:href=\"#m6c4fa54024\" y=\"174.727872\"/>\n      </g>\n     </g>\n    </g>\n    <g id=\"ytick_9\">\n     <g id=\"line2d_17\">\n      <g>\n       <use style=\"stroke:#000000;stroke-width:0.6;\" x=\"51.378125\" xlink:href=\"#m6c4fa54024\" y=\"170.12902\"/>\n      </g>\n     </g>\n    </g>\n    <g id=\"ytick_10\">\n     <g id=\"line2d_18\">\n      <g>\n       <use style=\"stroke:#000000;stroke-width:0.6;\" x=\"51.378125\" xlink:href=\"#m6c4fa54024\" y=\"166.072544\"/>\n      </g>\n     </g>\n    </g>\n    <g id=\"ytick_11\">\n     <g id=\"line2d_19\">\n      <g>\n       <use style=\"stroke:#000000;stroke-width:0.6;\" x=\"51.378125\" xlink:href=\"#m6c4fa54024\" y=\"138.571753\"/>\n      </g>\n     </g>\n    </g>\n    <g id=\"ytick_12\">\n     <g id=\"line2d_20\">\n      <g>\n       <use style=\"stroke:#000000;stroke-width:0.6;\" x=\"51.378125\" xlink:href=\"#m6c4fa54024\" y=\"124.60744\"/>\n      </g>\n     </g>\n    </g>\n    <g id=\"ytick_13\">\n     <g id=\"line2d_21\">\n      <g>\n       <use style=\"stroke:#000000;stroke-width:0.6;\" x=\"51.378125\" xlink:href=\"#m6c4fa54024\" y=\"114.699602\"/>\n      </g>\n     </g>\n    </g>\n    <g id=\"ytick_14\">\n     <g id=\"line2d_22\">\n      <g>\n       <use style=\"stroke:#000000;stroke-width:0.6;\" x=\"51.378125\" xlink:href=\"#m6c4fa54024\" y=\"107.014486\"/>\n      </g>\n     </g>\n    </g>\n    <g id=\"ytick_15\">\n     <g id=\"line2d_23\">\n      <g>\n       <use style=\"stroke:#000000;stroke-width:0.6;\" x=\"51.378125\" xlink:href=\"#m6c4fa54024\" y=\"100.735289\"/>\n      </g>\n     </g>\n    </g>\n    <g id=\"ytick_16\">\n     <g id=\"line2d_24\">\n      <g>\n       <use style=\"stroke:#000000;stroke-width:0.6;\" x=\"51.378125\" xlink:href=\"#m6c4fa54024\" y=\"95.426303\"/>\n      </g>\n     </g>\n    </g>\n    <g id=\"ytick_17\">\n     <g id=\"line2d_25\">\n      <g>\n       <use style=\"stroke:#000000;stroke-width:0.6;\" x=\"51.378125\" xlink:href=\"#m6c4fa54024\" y=\"90.827451\"/>\n      </g>\n     </g>\n    </g>\n    <g id=\"ytick_18\">\n     <g id=\"line2d_26\">\n      <g>\n       <use style=\"stroke:#000000;stroke-width:0.6;\" x=\"51.378125\" xlink:href=\"#m6c4fa54024\" y=\"86.770976\"/>\n      </g>\n     </g>\n    </g>\n    <g id=\"ytick_19\">\n     <g id=\"line2d_27\">\n      <g>\n       <use style=\"stroke:#000000;stroke-width:0.6;\" x=\"51.378125\" xlink:href=\"#m6c4fa54024\" y=\"59.270184\"/>\n      </g>\n     </g>\n    </g>\n    <g id=\"ytick_20\">\n     <g id=\"line2d_28\">\n      <g>\n       <use style=\"stroke:#000000;stroke-width:0.6;\" x=\"51.378125\" xlink:href=\"#m6c4fa54024\" y=\"45.305871\"/>\n      </g>\n     </g>\n    </g>\n    <g id=\"ytick_21\">\n     <g id=\"line2d_29\">\n      <g>\n       <use style=\"stroke:#000000;stroke-width:0.6;\" x=\"51.378125\" xlink:href=\"#m6c4fa54024\" y=\"35.398033\"/>\n      </g>\n     </g>\n    </g>\n    <g id=\"ytick_22\">\n     <g id=\"line2d_30\">\n      <g>\n       <use style=\"stroke:#000000;stroke-width:0.6;\" x=\"51.378125\" xlink:href=\"#m6c4fa54024\" y=\"27.712917\"/>\n      </g>\n     </g>\n    </g>\n    <g id=\"text_12\">\n     <!-- Error (Ha) -->\n     <g transform=\"translate(14.798438 155.54)rotate(-90)scale(0.1 -0.1)\">\n      <defs>\n       <path d=\"M 9.8125 72.90625 \nL 55.90625 72.90625 \nL 55.90625 64.59375 \nL 19.671875 64.59375 \nL 19.671875 43.015625 \nL 54.390625 43.015625 \nL 54.390625 34.71875 \nL 19.671875 34.71875 \nL 19.671875 8.296875 \nL 56.78125 8.296875 \nL 56.78125 0 \nL 9.8125 0 \nz\n\" id=\"DejaVuSans-69\"/>\n       <path d=\"M 31 75.875 \nQ 24.46875 64.65625 21.28125 53.65625 \nQ 18.109375 42.671875 18.109375 31.390625 \nQ 18.109375 20.125 21.3125 9.0625 \nQ 24.515625 -2 31 -13.1875 \nL 23.1875 -13.1875 \nQ 15.875 -1.703125 12.234375 9.375 \nQ 8.59375 20.453125 8.59375 31.390625 \nQ 8.59375 42.28125 12.203125 53.3125 \nQ 15.828125 64.359375 23.1875 75.875 \nz\n\" id=\"DejaVuSans-40\"/>\n       <path d=\"M 9.8125 72.90625 \nL 19.671875 72.90625 \nL 19.671875 43.015625 \nL 55.515625 43.015625 \nL 55.515625 72.90625 \nL 65.375 72.90625 \nL 65.375 0 \nL 55.515625 0 \nL 55.515625 34.71875 \nL 19.671875 34.71875 \nL 19.671875 0 \nL 9.8125 0 \nz\n\" id=\"DejaVuSans-72\"/>\n       <path d=\"M 8.015625 75.875 \nL 15.828125 75.875 \nQ 23.140625 64.359375 26.78125 53.3125 \nQ 30.421875 42.28125 30.421875 31.390625 \nQ 30.421875 20.453125 26.78125 9.375 \nQ 23.140625 -1.703125 15.828125 -13.1875 \nL 8.015625 -13.1875 \nQ 14.5 -2 17.703125 9.0625 \nQ 20.90625 20.125 20.90625 31.390625 \nQ 20.90625 42.671875 17.703125 53.65625 \nQ 14.5 64.65625 8.015625 75.875 \nz\n\" id=\"DejaVuSans-41\"/>\n      </defs>\n      <use xlink:href=\"#DejaVuSans-69\"/>\n      <use x=\"63.183594\" xlink:href=\"#DejaVuSans-114\"/>\n      <use x=\"102.546875\" xlink:href=\"#DejaVuSans-114\"/>\n      <use x=\"141.410156\" xlink:href=\"#DejaVuSans-111\"/>\n      <use x=\"202.591797\" xlink:href=\"#DejaVuSans-114\"/>\n      <use x=\"243.705078\" xlink:href=\"#DejaVuSans-32\"/>\n      <use x=\"275.492188\" xlink:href=\"#DejaVuSans-40\"/>\n      <use x=\"314.505859\" xlink:href=\"#DejaVuSans-72\"/>\n      <use x=\"389.701172\" xlink:href=\"#DejaVuSans-97\"/>\n      <use x=\"450.980469\" xlink:href=\"#DejaVuSans-41\"/>\n     </g>\n    </g>\n   </g>\n   <g id=\"line2d_31\">\n    <path clip-path=\"url(#pd8415e0543)\" d=\"M 66.596307 32.203636 \nL 86.887216 41.456075 \nL 107.178125 55.360427 \nL 127.469034 67.041046 \nL 147.759943 76.857642 \nL 168.050852 84.750836 \nL 188.341761 96.176489 \nL 208.63267 111.364563 \nL 228.92358 142.289012 \nL 249.214489 171.623333 \nL 269.505398 184.46502 \nL 289.796307 188.124957 \nL 310.087216 211.974427 \nL 330.378125 219.753411 \nL 350.669034 224.506651 \nL 370.959943 229.876364 \n\" style=\"fill:none;stroke:#1f77b4;stroke-linecap:square;stroke-width:1.5;\"/>\n   </g>\n   <g id=\"patch_3\">\n    <path d=\"M 51.378125 239.76 \nL 51.378125 22.32 \n\" style=\"fill:none;stroke:#000000;stroke-linecap:square;stroke-linejoin:miter;stroke-width:0.8;\"/>\n   </g>\n   <g id=\"patch_4\">\n    <path d=\"M 386.178125 239.76 \nL 386.178125 22.32 \n\" style=\"fill:none;stroke:#000000;stroke-linecap:square;stroke-linejoin:miter;stroke-width:0.8;\"/>\n   </g>\n   <g id=\"patch_5\">\n    <path d=\"M 51.378125 239.76 \nL 386.178125 239.76 \n\" style=\"fill:none;stroke:#000000;stroke-linecap:square;stroke-linejoin:miter;stroke-width:0.8;\"/>\n   </g>\n   <g id=\"patch_6\">\n    <path d=\"M 51.378125 22.32 \nL 386.178125 22.32 \n\" style=\"fill:none;stroke:#000000;stroke-linecap:square;stroke-linejoin:miter;stroke-width:0.8;\"/>\n   </g>\n   <g id=\"text_13\">\n    <!-- qubit-ADAPT: H$_4$ -->\n    <g transform=\"translate(169.698125 16.32)scale(0.12 -0.12)\">\n     <defs>\n      <path d=\"M 14.796875 27.296875 \nQ 14.796875 17.390625 18.875 11.75 \nQ 22.953125 6.109375 30.078125 6.109375 \nQ 37.203125 6.109375 41.296875 11.75 \nQ 45.40625 17.390625 45.40625 27.296875 \nQ 45.40625 37.203125 41.296875 42.84375 \nQ 37.203125 48.484375 30.078125 48.484375 \nQ 22.953125 48.484375 18.875 42.84375 \nQ 14.796875 37.203125 14.796875 27.296875 \nz\nM 45.40625 8.203125 \nQ 42.578125 3.328125 38.25 0.953125 \nQ 33.9375 -1.421875 27.875 -1.421875 \nQ 17.96875 -1.421875 11.734375 6.484375 \nQ 5.515625 14.40625 5.515625 27.296875 \nQ 5.515625 40.1875 11.734375 48.09375 \nQ 17.96875 56 27.875 56 \nQ 33.9375 56 38.25 53.625 \nQ 42.578125 51.265625 45.40625 46.390625 \nL 45.40625 54.6875 \nL 54.390625 54.6875 \nL 54.390625 -20.796875 \nL 45.40625 -20.796875 \nz\n\" id=\"DejaVuSans-113\"/>\n      <path d=\"M 8.5 21.578125 \nL 8.5 54.6875 \nL 17.484375 54.6875 \nL 17.484375 21.921875 \nQ 17.484375 14.15625 20.5 10.265625 \nQ 23.53125 6.390625 29.59375 6.390625 \nQ 36.859375 6.390625 41.078125 11.03125 \nQ 45.3125 15.671875 45.3125 23.6875 \nL 45.3125 54.6875 \nL 54.296875 54.6875 \nL 54.296875 0 \nL 45.3125 0 \nL 45.3125 8.40625 \nQ 42.046875 3.421875 37.71875 1 \nQ 33.40625 -1.421875 27.6875 -1.421875 \nQ 18.265625 -1.421875 13.375 4.4375 \nQ 8.5 10.296875 8.5 21.578125 \nz\nM 31.109375 56 \nz\n\" id=\"DejaVuSans-117\"/>\n      <path d=\"M 48.6875 27.296875 \nQ 48.6875 37.203125 44.609375 42.84375 \nQ 40.53125 48.484375 33.40625 48.484375 \nQ 26.265625 48.484375 22.1875 42.84375 \nQ 18.109375 37.203125 18.109375 27.296875 \nQ 18.109375 17.390625 22.1875 11.75 \nQ 26.265625 6.109375 33.40625 6.109375 \nQ 40.53125 6.109375 44.609375 11.75 \nQ 48.6875 17.390625 48.6875 27.296875 \nz\nM 18.109375 46.390625 \nQ 20.953125 51.265625 25.265625 53.625 \nQ 29.59375 56 35.59375 56 \nQ 45.5625 56 51.78125 48.09375 \nQ 58.015625 40.1875 58.015625 27.296875 \nQ 58.015625 14.40625 51.78125 6.484375 \nQ 45.5625 -1.421875 35.59375 -1.421875 \nQ 29.59375 -1.421875 25.265625 0.953125 \nQ 20.953125 3.328125 18.109375 8.203125 \nL 18.109375 0 \nL 9.078125 0 \nL 9.078125 75.984375 \nL 18.109375 75.984375 \nz\n\" id=\"DejaVuSans-98\"/>\n      <path d=\"M 4.890625 31.390625 \nL 31.203125 31.390625 \nL 31.203125 23.390625 \nL 4.890625 23.390625 \nz\n\" id=\"DejaVuSans-45\"/>\n      <path d=\"M 11.71875 12.40625 \nL 22.015625 12.40625 \nL 22.015625 0 \nL 11.71875 0 \nz\nM 11.71875 51.703125 \nL 22.015625 51.703125 \nL 22.015625 39.3125 \nL 11.71875 39.3125 \nz\n\" id=\"DejaVuSans-58\"/>\n     </defs>\n     <use transform=\"translate(0 0.015625)\" xlink:href=\"#DejaVuSans-113\"/>\n     <use transform=\"translate(63.476562 0.015625)\" xlink:href=\"#DejaVuSans-117\"/>\n     <use transform=\"translate(126.855469 0.015625)\" xlink:href=\"#DejaVuSans-98\"/>\n     <use transform=\"translate(190.332031 0.015625)\" xlink:href=\"#DejaVuSans-105\"/>\n     <use transform=\"translate(218.115234 0.015625)\" xlink:href=\"#DejaVuSans-116\"/>\n     <use transform=\"translate(257.324219 0.015625)\" xlink:href=\"#DejaVuSans-45\"/>\n     <use transform=\"translate(293.408203 0.015625)\" xlink:href=\"#DejaVuSans-65\"/>\n     <use transform=\"translate(361.816406 0.015625)\" xlink:href=\"#DejaVuSans-68\"/>\n     <use transform=\"translate(438.818359 0.015625)\" xlink:href=\"#DejaVuSans-65\"/>\n     <use transform=\"translate(507.226562 0.015625)\" xlink:href=\"#DejaVuSans-80\"/>\n     <use transform=\"translate(567.529297 0.015625)\" xlink:href=\"#DejaVuSans-84\"/>\n     <use transform=\"translate(628.613281 0.015625)\" xlink:href=\"#DejaVuSans-58\"/>\n     <use transform=\"translate(662.304688 0.015625)\" xlink:href=\"#DejaVuSans-32\"/>\n     <use transform=\"translate(694.091797 0.015625)\" xlink:href=\"#DejaVuSans-72\"/>\n     <use transform=\"translate(770.244141 -16.390625)scale(0.7)\" xlink:href=\"#DejaVuSans-52\"/>\n    </g>\n   </g>\n  </g>\n </g>\n <defs>\n  <clipPath id=\"pd8415e0543\">\n   <rect height=\"217.44\" width=\"334.8\" x=\"51.378125\" y=\"22.32\"/>\n  </clipPath>\n </defs>\n</svg>\n",
      "image/png": "[encoded data removed]"
     },
     "metadata": {
      "needs_background": "light"
     }
    }
   ],
   "source": [
    "import matplotlib.pyplot as plt\n",
    "from qsdk.toolboxes.molecular_computation.molecular_data import MolecularData\n",
    "qem_mol = MolecularData(mol)\n",
    "exact = qem_mol.fci_energy\n",
    "errors = np.array(energies) - exact\n",
    "fig,ax = plt.subplots(1,1)\n",
    "ax.plot(errors)\n",
    "ax.set_xlabel('ADAPT Iteration')\n",
    "ax.set_ylabel('Error (Ha)')\n",
    "ax.set_title('qubit-ADAPT: H$_4$')\n",
    "ax.set_yscale('log')\n",
    "print(f'Final Error: {errors[-1] :.4E}')"
   ]
  },
  {
   "source": [
    "Ok so after 15 cycles, we have an error of 0.14 mHa, within chemical accuracy of FCI. How does this all compare against UCCSD-VQE?"
   ],
   "cell_type": "markdown",
   "metadata": {}
  },
  {
   "cell_type": "code",
   "execution_count": 144,
   "metadata": {},
   "outputs": [
    {
     "output_type": "stream",
     "name": "stderr",
     "text": [
      "/Users/ryanday/Documents/QComp/qSDK/QEMIST_qSDK/qsdk/toolboxes/ansatz_generator/uccsd.py:61: FutureWarning: elementwise comparison failed; returning scalar instead, but in the future will perform elementwise comparison\n",
      "  if var_params == \"ones\":\n",
      "/Users/ryanday/Documents/QComp/qSDK/QEMIST_qSDK/qsdk/toolboxes/ansatz_generator/uccsd.py:63: FutureWarning: elementwise comparison failed; returning scalar instead, but in the future will perform elementwise comparison\n",
      "  elif var_params == \"random\":\n",
      "/Users/ryanday/Documents/QComp/qSDK/QEMIST_qSDK/qsdk/toolboxes/ansatz_generator/uccsd.py:65: FutureWarning: elementwise comparison failed; returning scalar instead, but in the future will perform elementwise comparison\n",
      "  elif var_params == \"MP2\":\n",
      "Pauli words in qubit operator have changed, rebuilding UCCSD ansatz circuit.\n",
      "Pauli words in qubit operator have changed, rebuilding UCCSD ansatz circuit.\n",
      "Pauli words in qubit operator have changed, rebuilding UCCSD ansatz circuit.\n",
      "Pauli words in qubit operator have changed, rebuilding UCCSD ansatz circuit.\n",
      "Pauli words in qubit operator have changed, rebuilding UCCSD ansatz circuit.\n",
      "Pauli words in qubit operator have changed, rebuilding UCCSD ansatz circuit.\n",
      "Optimization terminated successfully.    (Exit mode 0)\n",
      "            Current function value: -2.166303877783326\n",
      "            Iterations: 8\n",
      "            Function evaluations: 137\n",
      "            Gradient evaluations: 8\n"
     ]
    },
    {
     "output_type": "execute_result",
     "data": {
      "text/plain": [
       "-2.166303877783326"
      ]
     },
     "metadata": {},
     "execution_count": 144
    }
   ],
   "source": [
    "vqe_uccsd = VQESolver({'molecule': mol})\n",
    "vqe_uccsd.build()\n",
    "vqe_uccsd.simulate()"
   ]
  },
  {
   "cell_type": "code",
   "execution_count": 145,
   "metadata": {},
   "outputs": [
    {
     "output_type": "stream",
     "name": "stdout",
     "text": [
      "ADAPT-VQE ERROR: 1.4115E-04 Ha\nUCCSD-VQE ERROR: 8.3571E-05 Ha\n"
     ]
    }
   ],
   "source": [
    "print(f'ADAPT-VQE ERROR: {energies[-1] - exact :0.4E} Ha')\n",
    "print(f'UCCSD-VQE ERROR: {vqe_uccsd.optimal_energy - exact :0.4E} Ha')"
   ]
  },
  {
   "source": [
    "From the perspective of energy accuracy, the two have reached very similar results, within a factor of two. The big advantage here however, are in the resources required for this ansatz circuit:"
   ],
   "cell_type": "markdown",
   "metadata": {}
  },
  {
   "cell_type": "code",
   "execution_count": 146,
   "metadata": {},
   "outputs": [
    {
     "output_type": "stream",
     "name": "stdout",
     "text": [
      "ADAPT RESOURCES:\n {'qubit_hamiltonian_terms': 185, 'circuit_width': 8, 'circuit_gates': 228, 'circuit_2qubit_gates': 88, 'circuit_var_gates': 16, 'vqe_variational_parameters': 16}\n\nUCCSD RESOURCES:\n {'qubit_hamiltonian_terms': 185, 'circuit_width': 8, 'circuit_gates': 2692, 'circuit_2qubit_gates': 1312, 'circuit_var_gates': 160, 'vqe_variational_parameters': 14}\n"
     ]
    }
   ],
   "source": [
    "print(f'ADAPT RESOURCES:\\n {adapt_vqe.get_resources()}\\n')\n",
    "print(f'UCCSD RESOURCES:\\n {vqe_uccsd.get_resources()}')"
   ]
  },
  {
   "source": [
    "We have managed here to reduce the total number of gates by a factor of 10, the number of 2-qubit gates by a factor of nearly 15, and variational gates by a factor of 10. \n",
    "\n",
    "We note that ADAPT-VQE has run with 2 more variational parameters than UCCSD-VQE. This introduces additional overhead to the classical optimizer, which must find an optimal solution within a higher-dimensional space. However, the number of variational parameters for ADAPT-VQE is directly dependent on the number of cycles over which ADAPT is run. We then have the opportunity to compromise between optimization complexity and ansatz expressivity by limiting the number of cycles, and therefore the number of variational parameters (and gate number and depth) associated with a computation. This flexibility in resource requirements is then an important advantage for the ADAPT-VQE algorithm over static ansatze."
   ],
   "cell_type": "markdown",
   "metadata": {}
  },
  {
   "source": [
    "## Conclusion\n",
    "\n",
    "In this notebook, we've explored a simple implementation of the ADAPT-VQE algorithm, using tools available through the qSDK. We have demonstrated how we can leverage these tools to reduce the effort involved in prototyping new quantum algorithms. This allows the user to focus exclusively on the specific components relevant to their research objectives, without getting bogged down in re-building standard infrastructure from scratch. \n",
    "\n",
    "The ADAPT-VQE algorithm provides the flexibility to explore different choices of generator pools, and ranking criteria. Feel free to try out alternative implementations to get a better sense of what this algorithm can do.\n",
    "\n",
    "RP Day\n"
   ],
   "cell_type": "markdown",
   "metadata": {}
  }
 ]
}