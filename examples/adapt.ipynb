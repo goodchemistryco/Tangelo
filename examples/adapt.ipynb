{
 "metadata": {
  "language_info": {
   "codemirror_mode": {
    "name": "ipython",
    "version": 3
   },
   "file_extension": ".py",
   "mimetype": "text/x-python",
   "name": "python",
   "nbconvert_exporter": "python",
   "pygments_lexer": "ipython3",
   "version": "3.7.0-final"
  },
  "orig_nbformat": 2,
  "kernelspec": {
   "name": "python370jvsc74a57bd0e534e48711db4d1e1c48977d0d14ff85b1f16d41bcc4fdfd88268a329b3c9d66",
   "display_name": "Python 3.7.0 64-bit"
  }
 },
 "nbformat": 4,
 "nbformat_minor": 2,
 "cells": [
  {
   "source": [
    "# ADAPT-VQE\n",
    "\n",
    "ADAPT-VQE was introduced by [Grimsley et al](https://www.nature.com/articles/s41467-019-10988-2) as a solution to the impracticably deep, and not necessarily accurate, static VQE circuits. In ansatze like UCCSD, one easily reaches the order of thousands of gates, even for modestly sized molecules. In UCCSD and its generalized UCCGSD, the number of fermionic excitations in the ansatz scales like $\\mathcal{O}(N^2M^2)$, and $\\mathcal{O}(N^4)$ respectively. Here $N$ refers to the number of spin-orbitals in the problem basis, and $M$ the number of electrons.\n",
    "\n",
    "In ADAPT-VQE, an ansatz which approximates not UCCSD/UCCGSD, but in fact FCI, is built iteratively. Over a series of cycles, the ansatz circuit is grown to achieve an approximation to FCI with a minimal number of circuit elements. In this way, ADAPT-VQE is a meta-VQE. At each step, a new ansatz is defined, and its parameters optimized according to conventional VQE. As the cycles proceed, the ansatz grows in both complexity and expressibility. This algorithm comes at the expense of a significant increase in measurement overhead. In order to identify the best operator to append to the present ansatz circuit, a large number of measurements are performed to rank the available operators in order of their ability to further reduce the ansatz state energy.\n",
    "\n",
    "In this notebook, we'll explore the implementation of this algorithm, by taking advantage of the tools available through the qSDK. "
   ],
   "cell_type": "markdown",
   "metadata": {}
  },
  {
   "source": [
    "## Implementation Strategy\n",
    "\n",
    "ADAPT-VQE relies on three principal steps.\n",
    "\n",
    "1. Construct generator pool $\\{P_i\\}$, a set of available operators from which we will iteratively construct the ansatz.\n",
    "2. Rank operators by evaluating the gradient for each operator in the pool $\\frac{\\partial E^{(k)}}{\\partial \\theta_i} = \\langle \\psi_k|[H,P_i]|\\psi_k\\rangle$. Exit if largest gradient is less than some cutoff.\n",
    "3. Append $U_k = \\mathrm{exp}[i\\theta_k P_k]$ to the ansatz $U=\\prod_k U_k(\\theta_k)$, and optimize $\\langle H\\rangle$ using VQE.\n",
    "4. Return to step 2.\n",
    "\n",
    "There are two obvious avenues along which one can be creative in the implementation of ADAPT-VQE--these are the selection of the operator pool $\\{P_i\\}$, and the ranking strategy. Above, we have specified that we are using the gradient to perform this ranking procedure. To my knowledge this is the only method which has been used previously, and we will continue to do so here. Regarding the choice of operator pool, the original authors used the elements of the UCCGSD, i.e. the single, double fermionic excitations. Subsequent work has focused on qubit-native operators, and we'll follow this strategy as well. Although the UCCGSD allows for high accuracy with a small number of cycles (and consequently very few variational parameters), it remains gate expensive, as each excitation consists of many multi-qubit Pauli rotations. "
   ],
   "cell_type": "markdown",
   "metadata": {}
  },
  {
   "source": [
    "## Hamiltonian-Inspired Qubit-ADAPT\n",
    "We are going to use the Hamiltonian to establish a set of pool generators to use in our implementation of ADAPT-VQE. For each term in the Hamiltonian which acts on a distinct combination of qubits, we'll add a pool operator which necessarily does not commute with H. This will give us a fairly compact set of operators in the pool, all of which are likely to be useful in our ansatz construction. To do this, we will scan through all terms in the qubit Hamiltonian. For each, we will identify the Pauli operators associated with excitation (X and Y gates). We discard Z gate information. If the number of Y gates in a string is even, we can use this to construct an excitation pool element that preserves T-symmetry, by flipping one of the other X gates to a Y, or a Y to an X. Below, we'll flip the first X or Y to its partner."
   ],
   "cell_type": "markdown",
   "metadata": {}
  },
  {
   "cell_type": "code",
   "execution_count": null,
   "metadata": {},
   "outputs": [],
   "source": [
    "import numpy as np\n",
    "\n",
    "from qsdk.toolboxes.operators.operators import QubitOperator\n",
    "\n",
    "pauli_lookup = {'Z':1, 'X':2, 'Y':3}\n",
    "pauli_reverse_lookup = ['I', 'Z', 'X', 'Y']\n",
    "def get_pool(qubit_hamiltonian, n_qubits):\n",
    "    \"\"\"Use Hamiltonian to identify non-commuting Pauli strings to use as operator pool.\n",
    "    We identify terms with even number of Y-operators, in order to define excitations \n",
    "    which preserve T-reversal symmetry. We remove all Z operators, and we flip the first\n",
    "    X or Y to its partner (i.e. X <> Y).\n",
    "    Args:\n",
    "        qubit_hamiltonian (QubitOperator): input Hamiltonian\n",
    "        n_qubits (int): number of qubits for Hamiltonian\n",
    "    \n",
    "    Returns:\n",
    "        pool_generators (list of QubitOperator): list of generators\n",
    "    \"\"\"\n",
    "    pool_generators, pool_tuples = list(), list()\n",
    "    indices = list()\n",
    "\n",
    "    for term in qubit_hamiltonian.terms:\n",
    "        pauli_string = np.zeros(n_qubits, dtype=int)\n",
    "        for index, action in term:\n",
    "            #identify all X or Y factors\n",
    "            if pauli_lookup[action] > 1:\n",
    "                pauli_string[index] = pauli_lookup[action]\n",
    "        action_mask = tuple(pauli_string > 1)\n",
    "        #only allow one operator acting on a given set of qubits\n",
    "        if action_mask in indices:\n",
    "            continue\n",
    "        #only consider terms with even number of Y\n",
    "        if np.mod(sum(pauli_string), 2) == 0 and sum(pauli_string) > 0:\n",
    "            #identify qubit operator to change X<>Y\n",
    "            flip_index = np.where(pauli_string > 1)[0][0]\n",
    "            pauli_string[flip_index] = (-1)**np.mod(pauli_string[flip_index],2) + pauli_string[flip_index]\n",
    "\n",
    "            #update set of used qubit combinations\n",
    "            indices.append(action_mask)\n",
    "            #create QubitOperator for the new generator\n",
    "            operator_tuple = tuple([(index,pauli_reverse_lookup[pauli]) for index, pauli in enumerate(pauli_string) if pauli>0])\n",
    "            #We don't use the coefficients directly, so since we need to multiply by 1.j for evaluating gradients, \n",
    "            #I'm just instantiating these with that coefficient in place\n",
    "            pool_generators.append(QubitOperator(operator_tuple, 1.0j))\n",
    "            pool_tuples.append(operator_tuple)\n",
    "    \n",
    "    return pool_generators, pool_tuples"
   ]
  },
  {
   "source": [
    "With the pool generators so defined, we will need to prepare an observable enabling us to get expectation values for: $\\frac{\\partial E^{(k)}}{\\partial \\theta_i} = i\\langle \\psi_k|[H,P_i]|\\psi_k\\rangle$. I'm going to use openfermion's *commutator* method to construct a set of observables associated with my generator pool."
   ],
   "cell_type": "markdown",
   "metadata": {}
  },
  {
   "cell_type": "code",
   "execution_count": null,
   "metadata": {},
   "outputs": [],
   "source": [
    "from openfermion import commutator\n",
    "\n",
    "def get_commutators(qubit_hamiltonian, pool_generators):\n",
    "    gradient_operators = [commutator(qubit_hamiltonian, element) for element in pool_generators]\n",
    "    return gradient_operators\n"
   ]
  },
  {
   "source": [
    "Next, I want a method that can take as input a quantum circuit, and my set of commutators, and return to me the index of the pool element which I can use in my next iterative cycle of ADAPT-VQE."
   ],
   "cell_type": "markdown",
   "metadata": {}
  },
  {
   "cell_type": "code",
   "execution_count": null,
   "metadata": {},
   "outputs": [],
   "source": [
    "def rank_pool(pool_commutators, circuit, backend, tolerance=1e-3):\n",
    "\n",
    "    gradients = np.array([backend.get_expectation_value(element, circuit) for element in pool_commutators])\n",
    "    print(f'LARGEST GRADIENT: {abs(gradients).max() :4E}')\n",
    "    if abs(gradients).max() < tolerance:\n",
    "        return -1\n",
    "    else:\n",
    "        return np.where(abs(gradients) == abs(gradients).max())[0][0]\n"
   ]
  },
  {
   "source": [
    "Now that we have a method by which to rank our pool elements, we need to be able to update our ansatz circuit. Since I am going to be using the qSDK's VQESolver class as the kernel of my ADAPT-VQE calculation, I need to define my custom ansatz, according to the usual way. For an introduction to defining your own ansatz, check out the tutorial in the qSDK [repo](https://github.com/1QB-Information-Technologies/QEMIST_qSDK/blob/main/examples/vqe_custom_ansatz.ipynb). In addition to the requisite methods to build the circuit and reference state, as well as set and update the variational parameters, we also define a method for adding a new operator to the ansatz circuit. This enables us to circumvent rebuilding our variational circuit from scratch on every cycle of ADAPT."
   ],
   "cell_type": "markdown",
   "metadata": {}
  },
  {
   "cell_type": "code",
   "execution_count": null,
   "metadata": {},
   "outputs": [],
   "source": [
    "from qsdk.toolboxes.qubit_mappings.statevector_mapping import get_reference_circuit\n",
    "from qsdk.toolboxes.ansatz_generator.ansatz_utils import pauliword_to_circuit\n",
    "from qsdk.toolboxes.ansatz_generator.ansatz import Ansatz\n",
    "from agnostic_simulator import Circuit\n",
    "\n",
    "class AdaptAnsatz(Ansatz):\n",
    "\n",
    "    def __init__(self, n_spinorbitals, n_electrons, operators):\n",
    "        \n",
    "        self.n_spinorbitals = n_spinorbitals\n",
    "        self.n_electrons = n_electrons\n",
    "        self.operators = operators\n",
    "        \n",
    "        self.n_var_params = len(self.operators)\n",
    "\n",
    "        self.var_params = None\n",
    "        self.circuit = None\n",
    "\n",
    "    def set_var_params(self, var_params=None):\n",
    "        \"\"\"Set initial variational parameter values\"\"\"\n",
    "        if var_params is None:\n",
    "            var_params = np.random.random(self.n_var_params)\n",
    "        elif var_params.size != self.n_var_params:\n",
    "            raise ValueError('Invalid number of parameters.')\n",
    "        self.var_params = var_params\n",
    "        return var_params\n",
    "\n",
    "    def update_var_params(self, var_params):\n",
    "        \"\"\"Update variational parameters (done repeatedly during VQE)\"\"\"\n",
    "        for param_index in range(self.n_var_params):\n",
    "            self.circuit._variational_gates[param_index].parameter = var_params[param_index]\n",
    "    \n",
    "    def prepare_reference_state(self):\n",
    "        \"\"\"Prepare a circuit generating the HF reference state.\"\"\"\n",
    "        return get_reference_circuit(n_spinorbitals=self.n_spinorbitals, n_electrons=self.n_electrons,mapping='JW')\n",
    "\n",
    "    def build_circuit(self, var_params=None):\n",
    "        \"\"\"Construct the variational circuit to be used as our ansatz.\"\"\"\n",
    "        self.var_params = self.set_var_params(var_params)\n",
    "\n",
    "        self.circuit = Circuit(n_qubits=self.n_spinorbitals)\n",
    "        self.circuit += self.prepare_reference_state()\n",
    "        adapt_circuit = Circuit()\n",
    "        for op in self.operators:\n",
    "            adapt_circuit += pauliword_to_circuit(op, 1.0)\n",
    "        if adapt_circuit.size != 0:\n",
    "            \n",
    "            self.circuit += adapt_circuit\n",
    "        return self.circuit\n",
    "    \n",
    "    def add_operator(self,pauli_tuple):\n",
    "        \"\"\"Add a new operator to our circuit\"\"\"\n",
    "        new_operator = Circuit(pauliword_to_circuit(pauli_tuple, 1.0))\n",
    "        self.circuit += new_operator\n",
    "        self.n_var_params +=1 "
   ]
  },
  {
   "source": [
    "## Assembling the ADAPT Workflow\n",
    "With all of these tools prepared, we can proceed to define an ADAPT-VQE method. We'll continue to take advantage of the tools provided by the qSDK to minimize the overhead in prototyping this algorithm, utilizing the built-in VQESolver class to formulate the kernel of our workflow. We'll use the MolecularData class to construct our generator pool, and then wrap the VQESolver in a loop. For each cycle, we identify the best choice of generator, update the ansatz circuit, and run VQE again."
   ],
   "cell_type": "markdown",
   "metadata": {}
  },
  {
   "cell_type": "code",
   "execution_count": null,
   "metadata": {},
   "outputs": [],
   "source": [
    "from qsdk.electronic_structure_solvers.vqe_solver import VQESolver\n",
    "\n",
    "def do_adapt_vqe(molecule, tol=1e-3, max_cycle=10):\n",
    "    \"\"\"Perform ADAPT-VQE using the Hamiltonian-based qubit pool.\n",
    "    The gradient is evaluated at the start of each step for all operators\n",
    "    in pool, and the element with the largest gradient is appended to the\n",
    "    ansatz. The continues until either the largest gradient drops below a\n",
    "    threshold tolerance, or, the number of cycles exceeds the stated maximum.\n",
    "    the tolerance. \n",
    "    Args:\n",
    "        molecule (MolecularData): objective molecule to solve for\n",
    "        tol (float): cutoff scale for largest gradient\n",
    "        max_cycle (int): cutoff number of iterations before terminating\n",
    "    \n",
    "    Returns:\n",
    "        energies (list of float): VQE energy at each cycle of ADAPT\n",
    "        operators (list of tuple): Pauli strings for each generator in the ADAPT ansatz\n",
    "        vqe (VQESolver): solver class\n",
    "    \"\"\"\n",
    "    operators = list()\n",
    "    energies = list()\n",
    "    params = np.array([0.0])\n",
    "    converged = False\n",
    "    ansatz = AdaptAnsatz(n_spinorbitals=2*molecule.nbas, n_electrons=molecule.nelectron, operators=operators)\n",
    "    \n",
    "    vqe_options = {'molecule':molecule, 'qubit_mapping':'JW', 'ansatz':ansatz}\n",
    "    vqe = VQESolver(vqe_options)\n",
    "    vqe.build()\n",
    "    pool_operators, pool_tuples = get_pool(vqe.qubit_hamiltonian, 2*molecule.nbas)\n",
    "    commutators = get_commutators(vqe.qubit_hamiltonian, pool_operators)\n",
    "    while not converged:\n",
    "        if len(operators) > max_cycle:\n",
    "            break\n",
    "        pool_select = rank_pool(commutators, vqe.ansatz.circuit, backend=vqe.backend, tolerance=tol)\n",
    "        if pool_select >-1:\n",
    "            operators.append(pool_tuples[pool_select])\n",
    "            vqe.ansatz.add_operator(operators[-1])\n",
    "            vqe.initial_var_params = params\n",
    "            vqe.simulate()\n",
    "            energies.append(vqe.optimal_energy)\n",
    "            params = np.concatenate([vqe.optimal_var_params,np.array([0])])\n",
    "        else:\n",
    "            converged = True\n",
    "\n",
    "    return energies, operators, vqe"
   ]
  },
  {
   "source": [
    "## ADAPT-VQE In Practice\n",
    "For the generator pool we've considered here, the smallest non-trivial problem to consider is H$_4$, as H$_2$ has only one generator and ADAPT terminates at FCI accuracy after a single iteration. So we'll apply this here to H$_4$ as a linear chain. We begin by instantiating the molecule object from pyscf's gto class, and feed this into the *do_adapt_vqe* method we defined above."
   ],
   "cell_type": "markdown",
   "metadata": {}
  },
  {
   "cell_type": "code",
   "execution_count": null,
   "metadata": {
    "tags": []
   },
   "outputs": [],
   "source": [
    "from pyscf import gto\n",
    "\n",
    "H4 = [('H',(0,0,0)),('H',(0,0,1)),('H',(0,0,2)),('H',(0,0,3))]\n",
    "mol = gto.Mole()\n",
    "mol.atom = H4\n",
    "mol.basis = 'sto-3g'\n",
    "mol.build()\n",
    "\n",
    "energies, operators, vqe = do_adapt_vqe(mol,tol=1e-3,max_cycle=15)"
   ]
  },
  {
   "source": [
    "After 15 cycles, we force the cycle to terminate. At this point, the largest gradient is below the level of 0.01. We can now compare the results against the predictions of FCI."
   ],
   "cell_type": "markdown",
   "metadata": {}
  },
  {
   "cell_type": "code",
   "execution_count": null,
   "metadata": {},
   "outputs": [],
   "source": [
    "import matplotlib.pyplot as plt\n",
    "qem_mol = MolecularData(mol)\n",
    "exact = qem_mol.fci_energy\n",
    "errors = np.array(energies) - exact\n",
    "fig,ax = plt.subplots(1,1)\n",
    "ax.plot(errors)\n",
    "ax.set_xlabel('ADAPT Iteration')\n",
    "ax.set_ylabel('Error (Ha)')\n",
    "ax.set_title('qubit-ADAPT: H$_4$')\n",
    "ax.set_yscale('log')\n",
    "print(f'Final Error: {errors[-1] :.4E}')"
   ]
  },
  {
   "source": [
    "Ok so after 15 cycles, we have an error of 0.14 mHa, within chemical accuracy of FCI. How does this all compare against UCCSD-VQE?"
   ],
   "cell_type": "markdown",
   "metadata": {}
  },
  {
   "cell_type": "code",
   "execution_count": null,
   "metadata": {},
   "outputs": [],
   "source": [
    "\n",
    "vqe_uccsd = VQESolver({'molecule': mol})\n",
    "vqe_uccsd.build()\n",
    "vqe_uccsd.simulate()"
   ]
  },
  {
   "cell_type": "code",
   "execution_count": null,
   "metadata": {},
   "outputs": [],
   "source": [
    "print(f'ADAPT-VQE ERROR: {energies[-1]-exact :0.4E} Ha')\n",
    "print(f'UCCSD-VQE ERROR: {vqe_uccsd.optimal_energy - exact :0.4E} Ha')"
   ]
  },
  {
   "source": [
    "From the perspective of energy accuracy, the two have reached very similar results, within a factor of two. The big advantage here however, are in the resources required for this ansatz circuit:"
   ],
   "cell_type": "markdown",
   "metadata": {}
  },
  {
   "cell_type": "code",
   "execution_count": null,
   "metadata": {},
   "outputs": [],
   "source": [
    "print(vqe.get_resources())\n",
    "print(vqe_uccsd.get_resources())"
   ]
  },
  {
   "source": [
    "We have managed here to reduce the total number of gates by a factor of 10, the number of 2-qubit gates by a factor of nearly 20, and variational gates by a factor of 10. We have introduced only two more variational parameters to the problem, adding a marginal additional overhead for the classical solver."
   ],
   "cell_type": "markdown",
   "metadata": {}
  },
  {
   "cell_type": "code",
   "execution_count": null,
   "metadata": {},
   "outputs": [],
   "source": []
  }
 ]
}