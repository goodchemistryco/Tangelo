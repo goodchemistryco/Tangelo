{
 "cells": [
  {
   "cell_type": "code",
   "execution_count": null,
   "metadata": {},
   "outputs": [],
   "source": [
    "try:\n",
    "    import tangelo\n",
    "except ImportError:\n",
    "    !pip install tangelo-gc"
   ]
  },
  {
   "cell_type": "markdown",
   "metadata": {},
   "source": [
    "# Quantum Chemistry\n",
    "\n",
    "Quantum chemistry aim to solve the Schrodïnger equation for many-electron molecules. As stated in the quantum mechanics postulates, the wavefunction $\\Psi$ encodes all the information of the system. One who knows the electronic wavefunction of a molecular system can therefore predict measurement outcomes of an experiment. This is a highly valuable asset for academia and indutrial purposes to accelerate research of new drugs or functional materials. For instance, bioinspired molecules are an efficient way of quickly designing new materials while taking into account the million years of evolution that nature had to optmize a process. \n",
    "\n",
    "One difficult thing to do in the laboratory is changing the spin state of a compound during a chemical reaction. Nature circumvents this problem by using transition metals: the oxygen fixation is done by the heme biomolecule, where an Fe(II) atom is involved in the spin state change mechanism (see figure below) [[10.1074/jbc.M314007200](https://doi.org/10.1074/jbc.M314007200)].\n",
    "\n",
    "![FeIIPorImO2 system](img/FeIIPorImO2.png \"FeIIPorImO2 system\")\n",
    "\n",
    "Fully understanding the mechanism of this system, that is to say knowing the rate constants for all elementary reaction) would lead to valuable insights for the design of chemical catalysts. Achieving this goal would lead us forward one step closer to *making the world cleaner, healthier, and more sustainable*. This is one of the main application of quantum chemistry; however, the Schrodïnger equation shown below cannot be solved exactly for systems beyond one electron, i.e. all relevant chemical systems for the sciencitif community.\n",
    "\n",
    "\\begin{equation}\n",
    "\\hat{H} \\Psi = E \\Psi\n",
    "\\end{equation}\n",
    "\n",
    "Where $\\hat{H}$ is expressed in the first quantization form as\n",
    "\n",
    "\\begin{equation} \\label{eq:H_first_quant}\n",
    "\\hat{H}_e = -\\frac{\\hbar^2}{2 m_e} \\sum_i \\nabla_i^2 -\\frac{e^2}{4 \\pi \\epsilon_0} \\sum_i \\sum_A \\frac{Z_A}{r_{iA}} + \\frac{e^2}{4 \\pi \\epsilon_0} \\sum_i \\sum_{j>i} \\frac{1}{r_{ij}}\n",
    "\\end{equation}\n",
    "\n",
    "Or, in the second quantization formalism,\n",
    "\n",
    "\\begin{equation}\n",
    "H = \\sum_{pq}h_{pq} a_p^{\\dagger}a_q + \\frac{1}{2}\\sum_{pqrs}h_{pqrs}a_p^{\\dagger}a_r^{\\dagger}a_s a_q\n",
    "\\end{equation}\n",
    "\n",
    "For more information about the theory and methods in quantum chemistry, see the references at the end of this notebook. We will provide clues on how to choose input parameters for modelling molecules on quantum computers with [Tangelo](https://github.com/goodchemistryco/Tangelo). As quantum resources are sill scarsed, we will start from a stripped down version of the Heme system, the dioxygen molecule."
   ]
  },
  {
   "cell_type": "code",
   "execution_count": 1,
   "metadata": {},
   "outputs": [],
   "source": [
    "xyz = [\n",
    "    (\"O\", (0., 0., 0.)),\n",
    "    (\"O\", (0., 0., 1.21))\n",
    "]"
   ]
  },
  {
   "cell_type": "markdown",
   "metadata": {},
   "source": [
    "## Computation of the Mean-Field\n",
    "\n",
    "Computation of the mean-field is usually the first step of all post Hartree-Fock approaches, which we will describe in  the [Consideration of Correlation Energy - Potential of Quantum Computing](#correlation_energy) section. The mean-field approaches impose the approximation where every electron in the system interacts with the total mean electron field in a self-consistent way. In other words, each electron does not explicitely interact with the other electrons. Depending on the molecular information, subject of the next section, different flavours of mean-field solution can be computed.\n",
    "\n",
    "### Molecular Information\n",
    "\n",
    "The chemical information is encapsulated in the `SecondQuantizedMolecule`. As the name suggests, the formalism used in Tangelo is the second quantization; however, the package is not restricted to this and data structures could be implemented in other formalism (like the first quantization).\n",
    "\n",
    "When defining a molecule, one must consider the molecular properties. One of them is the total charge of the system, i.e. the difference between the number of electrons and the total nuclear charge (default value is 0). This is an important property when dealing with oxydo-reduction reactions where cations (deficit in electrons) and anions (surplus in electrons) could be involved. The other important quantities to specify is the spin, defined by the difference between the number of alpha and beta electrons (default value is 0). This ensure radical reactions could be handled: a spin of 0 ensures a restricted-shell molecule while a spin different from 0 characterizes an open-shell system.\n",
    "\n",
    "In the next cell, the dioxygen molecule data structure is constructed. As you may know, the ground state of the dioxygen molecule is the triplet (spin=2) and neutral (q=0) molecule."
   ]
  },
  {
   "cell_type": "code",
   "execution_count": 2,
   "metadata": {},
   "outputs": [
    {
     "name": "stdout",
     "output_type": "stream",
     "text": [
      "8 active molecular orbitals\n",
      "12 active electrons\n"
     ]
    }
   ],
   "source": [
    "from tangelo import SecondQuantizedMolecule\n",
    "o2_sto3g = SecondQuantizedMolecule(xyz, q=0, spin=2)\n",
    "print(f\"{o2_sto3g.n_active_mos} active molecular orbitals\")\n",
    "print(f\"{o2_sto3g.n_active_electrons} active electrons\")"
   ]
  },
  {
   "cell_type": "markdown",
   "metadata": {},
   "source": [
    "In the next sections, the effect of those parameters on the quantum resources will be discussed. This will ensure that the users would be able to change those parameters for eventually contructing a chemical problem tractable for the available quantum hardware.\n",
    "\n",
    "### Restricted vs Unrestricted  Hartree-Fock (RHF/ROHF vs UHF)\n",
    "\n",
    "The mean-field solution is automatically computed when the `SecondQuantizedMolecule` is created. With the provided spin, it computes the relevant mean-field, that is to say the Restricted or Restricted Open-Shell Hatree-Fock solution (RH or ROHF). Using those methods, the spin-orbitals are treated by pairs, so each molecular orbital accepts two electrons. The unrestricted Hartree-Fock (UHF) mean-field calculation, where the spin-orbitals are considered individually, is another method that usually results in lower energies for open-shell systems. However, this last one is not implemented yet in Tangelo. Further theory and implementation details about the RHF, ROHF and UHF algorithms can be found in [Szabo & Ostlund].\n",
    "\n",
    "### Choice of the Basis Set\n",
    "\n",
    "The choice of the basis set is an important step in quantum chemistry. As the many-electron atoms and molecules cannot be treated exactly via the Schrodïnger equation, the orbitals for those problems are expressed as a Linear Combination of Atomic Orbitals (LCAO). These atomic orbitals are the analytical solution of the hydrogen atom [McQuarrie Chapter 7 and Engel Chapter 9]. Here are the functions, in spherical coordinates, of the few first hydrogen atom orbitals, namely the 1s, 2s and 2pz orbitals:\n",
    "\n",
    "$$\n",
    "\\begin{align*}\n",
    "    \\psi_{100} &= \\frac{1}{\\sqrt{\\pi}} \\left( \\frac{1}{a_0} \\right)^{3/2} e^{-r/a_0} \\\\\n",
    "    \\psi_{200} &= \\frac{1}{4\\sqrt{2\\pi}} \\left( \\frac{1}{a_0} \\right)^{3/2} \\left( 2-\\frac{r}{a_0} \\right) e^{-r/2a_0} \\\\\n",
    "    \\psi_{210} &= \\frac{1}{4\\sqrt{2\\pi}} \\left( \\frac{1}{a_0} \\right)^{3/2} \\frac{r}{a_0} e^{-r/2a_0} \\cos{\\theta} \\\\\n",
    "    &\\vdots\n",
    "\\end{align*}\n",
    "$$\n",
    "\n",
    "where $\\psi_{n l m_l}$ and $a_0$  are respectively the wavefunction for the atomic orbital with the principal quantum number $n$, the angular momentum quantum number $l$ and the magnetic quantum number $m_l$ and the Bohr radius. We can see that the atomic orbitals have an exponential term ($e^{-r/a_0}$). One can therefore choose to use a basis set based on decreasing exponential terms ($e^{-\\alpha r}$, where $\\alpha$ is a fitting constant). In early quantum chemistry, this scheme was refered to *Slater Type Orbitals* (STOs). With the increase of computational resources, the use of gaussian functions was popularized in the basis sets. In comparison with STOs, it is much more efficient to compute the numerous overlap integrals (needed in a quantum chemistry problem) with gaussian function ($e^{-\\alpha r^2}$). This is the origin of *Gaussian Type Orbitals* (GTOs) wavefunction.\n",
    "\n",
    "State-of-the-art basis sets regroup many gaussian terms. In the Pople notation:\n",
    "- The hyphen symbol (-) separates the reference to core and valence orbitals;\n",
    "- The figures represent the number of primitive gaussians in a function;\n",
    "- The number of figures represents the number of functions for each atomic orbital (zeta $\\zeta$);\n",
    "- The letter G refers to the use of gaussian functions. \n",
    "\n",
    "As an example, the `3-21G` double zeta basis set uses three gaussian primitives for every core orbitals and a set two plus one gaussian primitives for the valence orbitals. More information can be found in this [link](https://chem.libretexts.org/Courses/Pacific_Union_College/Quantum_Chemistry/11%3A_Computational_Quantum_Chemistry/11.02%3A_Gaussian_Basis_Sets). LCAO coefficients, used to construct molecular obtitals, are obtained through the minimization of the total energy and the account of the variational principle.\n",
    "\n",
    "Here are basis set examples used in quantum chemistry."
   ]
  },
  {
   "cell_type": "code",
   "execution_count": 3,
   "metadata": {},
   "outputs": [],
   "source": [
    "basis_sets = [\n",
    "    \"STO-3G\",       # Simple zeta, minimal basis.\n",
    "    \"3-21G\",        # Double zeta.\n",
    "    \"6-31G\",        # Double zeta with more gaussian primitives.\n",
    "    \"6-31G(d,p)\",   # Polarization functions (+ 5 d-orbitals for all atoms except H, +3 p-orbitals for H atoms) added.\n",
    "    \"6-311G(d,p)\",  # Triple zeta with polarization functions.\n",
    "    \"6-311+G(d,p)\", # Triple zeta with polarization functions and diffuse functions.\n",
    "    \"cc-pvqz\",      # Quadruple zeta.\n",
    "    \"cc-pv5z\"       # Quintuple zeta.\n",
    "]"
   ]
  },
  {
   "cell_type": "markdown",
   "metadata": {},
   "source": [
    "The wavefunction for a molecule is an approximation when using a finite basis,\n",
    "\n",
    "$$\n",
    "\\Phi_{\\text{approx}} = \\sum_{i=0}^N c_i |i \\rangle\n",
    "$$\n",
    "\n",
    "By the variational principle, considering $\\Phi_{\\text{approx}}$ is normalized, the approximated energy is greater or equals to the true ground-state energy.\n",
    "\n",
    "$$\n",
    "\\langle \\Phi_{\\text{approx}} | \\hat{H} | \\Phi_{\\text{approx}} \\rangle = \\epsilon_{\\text{approx}} \\geq  \\epsilon_{\\text{true}}\n",
    "$$\n",
    "\n",
    "With an infinite basis set, the approximation should be close to the real wavefunction.\n",
    "\n",
    "$$\n",
    "\\Phi_{\\text{approx}} = \\sum_{i=0}^{\\infty} c_i |i \\rangle \\approx \\Psi_{\\text{true}}\n",
    "$$\n",
    "\n",
    "We should retrieve the true energy $\\epsilon_{\\text{true}}$ from the computation. However, increasing the basis set size has the effect of increasing the number of parameters to optimize, therefore extending the needed computational resources in space (amount of memory) and in time (compute time). As we shall see shortly, it is often a good idea to balance the basis set size to optimize the time to solution versus the wanted precision ($|\\epsilon_{\\text{approx}} -  \\epsilon_{\\text{true}}|$), as the gain in precision reduces as the basis sets gets bigger.\n",
    "\n",
    "A full list of available basis set supported in PySCF(https://pyscf.org/) (therefore also in Tangelo) are available in this [link](https://pyscf.org/_modules/pyscf/gto/basis.html). Also, the [Basis Set Exchange](https://www.basissetexchange.org/) initiative hosts a collection of basis for every atom in the periodic table. With this constantly increasing number of basis available for the community, we aknowledge the basis choice can be a challenging task. The theory states that an infinite basis is the way of getting the true wavefunction. Nevertheless, it is not something possible to work with most of the time and one may prefer a basis on a per-problem feature. \n",
    "\n",
    "Here are some tips and tricks for the basis choice depending on the modelled system. \n",
    "- As a rule of thumb, a double zeta (e.g. `6-31G` or `cc-pvdz`) is the minimum basis size to get semi-quantitative energies. \n",
    "- For molecules with a high electronegativity difference between atoms, adding polarization functions (e.g. `6-31G**` or `6-31G(d,p)`) might be a necessity. \n",
    "- Diffuse functions (e.g. `6-31G+(d,p)`) should be part of the computation of anions. Diffusion functions are functions with small coefficients (small $\\alpha$ in $e^{-\\alpha r^2}$) that can fit the electronic density far from the nucleus.\n",
    "- Effective Core Potential (ECP) basis sets are needed when dealing with heavier atoms with relativistic and non-trivial effects (e.g. iodine atom is often modelled in the `LANDL2DZ` basis).\n",
    "\n",
    "In the next cell, we demonstrate the effect of the basis on the energy and time to solution."
   ]
  },
  {
   "cell_type": "code",
   "execution_count": 4,
   "metadata": {
    "scrolled": false
   },
   "outputs": [
    {
     "data": {
      "image/png": "[encoded data removed]",
      "text/plain": [
       "<Figure size 576x360 with 2 Axes>"
      ]
     },
     "metadata": {
      "needs_background": "light"
     },
     "output_type": "display_data"
    }
   ],
   "source": [
    "import time\n",
    "import matplotlib.pyplot as plt\n",
    "\n",
    "# Getting the energy vs basis set.\n",
    "mf_energies = list()\n",
    "mf_times = list()\n",
    "\n",
    "# Performing a Mean-Field calculation for every basis set.\n",
    "for bs in basis_sets:\n",
    "    \n",
    "    # Measuring execution time.\n",
    "    start = time.time()\n",
    "    scan_basis_mol = SecondQuantizedMolecule(xyz, q=0, spin=2, basis=bs)\n",
    "    end = time.time()\n",
    "    \n",
    "    mf_energies.append(scan_basis_mol.mf_energy)\n",
    "    mf_times.append(end-start)\n",
    "\n",
    "# Creating the matplotlib figure.\n",
    "fig, ax = plt.subplots(figsize=(8,5))\n",
    "\n",
    "# Plotting the energies.\n",
    "ax.set_xticks(range(len(basis_sets)), basis_sets, rotation=45)\n",
    "ax.set_xlabel(\"Basis set\")\n",
    "ax.set_ylabel(\"Energy / Hartree\", color=\"b\")\n",
    "ax.scatter(range(len(basis_sets)), mf_energies, marker=\"o\", s=50, color=\"b\")\n",
    "\n",
    "# Plotting the time to solution.\n",
    "ax_time = ax.twinx()\n",
    "ax_time.scatter(range(len(basis_sets)), mf_times, marker=\"s\", s=50, color=\"r\")\n",
    "ax_time.set_ylabel(\"Time to solution / s\", color=\"r\", rotation=270, va=\"bottom\")\n",
    "\n",
    "# Showing the graph.\n",
    "plt.tick_params(axis=\"both\", direction=\"in\")\n",
    "plt.show()"
   ]
  },
  {
   "cell_type": "markdown",
   "metadata": {},
   "source": [
    "We see in the previous graph that increasing the basis complexity brings the energy eigenvalue closer to the true Hartree-Fock energy. This trend can be generalized to other methods as well, like CCSD, MP2, FCI, ... although the time to solution would be longer for those post Hatree-Fock approaches. The take-home message is that even if an infite basis is required to converged to the true energy, there are diminishing returns at some point, especially when considering the time required for the calculation. In our case, `6-311G(d,p)` may appear as a good choice in terms of accuraccy and computational time.\n",
    "\n",
    "## Consideration of Correlation Energy - Potential of Quantum Computing\n",
    "<a id=\"correlation_energy\"></a>\n",
    "\n",
    "Post Hatree-Fock methods are meant to consider the electronic correlation energy. In many textbooks, the correlation energy is defined as\n",
    "\n",
    "$$\n",
    "\\epsilon_{\\text{corr}} = \\epsilon - \\epsilon_{\\text{HF}}\n",
    "$$\n",
    "\n",
    "Where $\\epsilon$ and $\\epsilon_{\\text{HF}}$ are the computed energy and the Hartree-Fock energy, respectively. This correlation energy can be split into two categories: static and dynamical correlation. To consider the former, one should use multi-configuration approaches. The latter can be tackled with post Hatree-Fock methods with a single reference state, like Configuration Interaction (CI), Coupled-Cluster (CC) or perturbative methods (MP2, MP3, ...). Going beyond this explanation is out of scope for this notebook, therefore we encourage the user to read on the subject in [Szabo & Ostlund].\n",
    "\n",
    "We saw in the previous section that the `6-311G(d,p)` may be a good compromise to compute the O2 ground state. In this basis, the dioxygen molecule is described by 72 bases (spinorbitals) and 16 electrons. To get the gihgest fidelity wavefunction versus the true wavefunction with the Full Configuration Interaction solution, we would need ${72 \\choose 16} \\approx 3 \\times 10^{13}$ configurations. By representing each configuration with a single byte (for the sake of this example), one would need 4.11 petabytes to store the full wavefunction of the dioxygen molecule. This effect is amplified when dealing with relevant industrial molecules like organometallic complexes or proteins. Going through the classical formalism of quantum chemistry is therefore not a viable long-term solution.\n",
    "\n",
    "With the occupation transformation (Jordan-Wigner) from the chemical problem to a qubit basis, this problem vanishes. In fact, by leveraging the quantum superposition principle, it is possible to map the O2 triplet ground state to 72 qubits (empty and filled spinorbitals are mapped to the $|0\\rangle$ and $|1\\rangle$ states, respectively). This fact is behind the emerging enthusiasm of the quantum computing community for chemistry applications. We should note that even if this space limitation is mitigated, no consensus is established for the time complexity (correlated to the number of gates required to construct a molecular wavefunction) [[arXiv:2009.12472](https://doi.org/10.48550/arXiv.2009.12472)].\n",
    "\n",
    "## Resource reduction\n",
    "\n",
    "Resource reduction refers to lowering of the computational requirements to run an algorithm. In conventional computing, this translates to less memory requirements and faster runtimes. The reduction of the number of qubits and shallower quantum circuits are the equivalent in quantum computing.\n",
    "\n",
    "Our starting example will be the O2 molecule in the `6-311G(d,p)` basis. We will focus our attention on the strategies to reduce the resource requirements before the algorithm definition. For other strategies, like switching the ansatz definition or fragmenting the molecules into many smaller fragments (problem decomposition), the user should refer to the relevant notebooks in the [Tangelo examples](https://github.com/goodchemistryco/Tangelo/tree/develop/examples) folder."
   ]
  },
  {
   "cell_type": "code",
   "execution_count": 4,
   "metadata": {},
   "outputs": [
    {
     "name": "stdout",
     "output_type": "stream",
     "text": [
      "36 active molecular orbitals\n",
      "16 active electrons\n"
     ]
    }
   ],
   "source": [
    "o2_6311gdp = SecondQuantizedMolecule(xyz, q=0, spin=2, basis=\"6-311G(d,p)\", frozen_orbitals=None)\n",
    "print(f\"{o2_6311gdp.n_active_mos} active molecular orbitals\")\n",
    "print(f\"{o2_6311gdp.n_active_electrons} active electrons\")"
   ]
  },
  {
   "cell_type": "markdown",
   "metadata": {},
   "source": [
    "The O2 molecule in the 6-311G(d,p) basis would require 72 qubits and inherently a deep quantum circuit. Decreasing the number of qubits required provides the first indirect way of constructing shallower circuits. The two methods discussed shortly are the reduction of the active space and the consideration of molecular symmetries.\n",
    "\n",
    "### Active Space Selection\n",
    "\n",
    "Active space selection is a trivial way to reduce the number of qubits by neglecting molecular orbitals in the post-Hartree-Fock calculation. Although applying this method is trivial, choosing which molecular orbitals to freeze is not. While there is no general algorithm to perform that operation, one can evaluate which orbitals to freeze by first printing the molecular orbital eigenvalues."
   ]
  },
  {
   "cell_type": "code",
   "execution_count": 6,
   "metadata": {
    "scrolled": true
   },
   "outputs": [
    {
     "data": {
      "text/plain": [
       "NPArrayWithTag([-20.72930408, -20.72835731,  -1.65179434,  -1.09915047,\n",
       "                 -0.73361153,  -0.70373253,  -0.70373253,  -0.21364599,\n",
       "                 -0.21364599,   0.45202177,   0.9186063 ,   0.9186063 ,\n",
       "                  0.92995258,   0.97314007,   1.02843356,   1.03307671,\n",
       "                  1.03307671,   1.51283558,   2.5973314 ,   2.5973314 ,\n",
       "                  2.93328917,   2.93328917,   3.22254778,   3.22254778,\n",
       "                  3.2344147 ,   3.83879572,   3.83879572,   4.21285284,\n",
       "                  5.08275099,   5.08275099,   5.21282539,   5.38969197,\n",
       "                  5.38969197,   6.540027  ,  51.17808751,  51.36755659])"
      ]
     },
     "execution_count": 6,
     "metadata": {},
     "output_type": "execute_result"
    }
   ],
   "source": [
    "o2_6311gdp.mo_energies"
   ]
  },
  {
   "cell_type": "markdown",
   "metadata": {},
   "source": [
    "One way of viewing this is to only consider frontier orbitals and their neighbors. The effect on the total energy when only considering a subsset of the full active space might be small. For example, freezing low-lying occupied molecular orbitals is known as the *frozen-core approximation* while doing the same thing for virtual orbitals is more difficult. Despite the fact that choosing an active space is not a well-known recipe and can be specific to a problem, it can help reducing quantum resources *a priori*.\n",
    "\n",
    "This manual manipulation results in the consideration of molecular orbitals near the HOMO-LUMO level. The `get_orbitals_excluding_homo_lumo` function can help to get those orbitals."
   ]
  },
  {
   "cell_type": "code",
   "execution_count": 5,
   "metadata": {},
   "outputs": [
    {
     "name": "stdout",
     "output_type": "stream",
     "text": [
      "8 active molecular orbitals\n",
      "6 active electrons\n"
     ]
    }
   ],
   "source": [
    "from tangelo.toolboxes.molecular_computation.frozen_orbitals import get_orbitals_excluding_homo_lumo\n",
    "\n",
    "# Selecting HOMO-3 to LUMO+3 orbitals.\n",
    "frozen = get_orbitals_excluding_homo_lumo(o2_6311gdp, homo_minus_n=3, lumo_plus_n=3)\n",
    "\n",
    "o2_6311gdp_frozen = SecondQuantizedMolecule(xyz, q=0, spin=2, basis=\"6-311G(d,p)\", frozen_orbitals=frozen)\n",
    "print(f\"{o2_6311gdp_frozen.n_active_mos} active molecular orbitals\")\n",
    "print(f\"{o2_6311gdp_frozen.n_active_electrons} active electrons\")"
   ]
  },
  {
   "cell_type": "markdown",
   "metadata": {},
   "source": [
    "We decrease the number of considered orbitals from 36 to 8! With conventional fermionic to qubit term mapping processes, it would reduce the number of required qubit from 72 to 16. This is an impressive reduction, but it comes at a significant cost. Every configurations involving orbital below HOMO-4 and above LUMO+4 are not considered; it should be reflected in an energy further away from the true energy as there is nothing telling us that those terms are irrelevant *a priori*. We consider in the next code cell the CCSD calculation of O2 with and without those orbitals."
   ]
  },
  {
   "cell_type": "code",
   "execution_count": 6,
   "metadata": {},
   "outputs": [
    {
     "name": "stdout",
     "output_type": "stream",
     "text": [
      "Energy difference: 226.51013348398706 kcal/mol.\n"
     ]
    }
   ],
   "source": [
    "from tangelo.algorithms.classical import CCSDSolver\n",
    "\n",
    "# CCSD energy with all the orbitals.\n",
    "e_o2_6311gdp = CCSDSolver(o2_6311gdp).simulate()\n",
    "\n",
    "# CCSD energy with HOMO-3 to LUMO+3 orbitals.\n",
    "e_o2_6311gdp_frozen = CCSDSolver(o2_6311gdp_frozen).simulate()\n",
    "\n",
    "print(f\"Energy difference: {abs(e_o2_6311gdp-e_o2_6311gdp_frozen)*627.5} kcal/mol.\")"
   ]
  },
  {
   "cell_type": "markdown",
   "metadata": {},
   "source": [
    "The difference is indeed significant: 226 kcal/mol. Therefore, the lower bound with the reduced active space is higher than the CCSD ground state. The take-home message is therefore to be careful and aware of this effect when choosing an active space for a molecule. Some algorithms exist to freeze virtual orbitals in a post Hatree-Fock calculation, like the Frozen Natural Orbitals (FNO) truncation method [[Collect. Czech. Chem. Commun. 2005, 70, 837-850](https://doi.org/10.1135/cccc20050837) and [J. Chem. Phys. 2008, 128, 164101](https://doi.org/10.1063/1.2902285)].\n",
    "\n",
    "### Considering Symmetries\n",
    "\n",
    "Molecular symmetries are reflected in the Hamiltonian structure. The number of electrons in the molecule should be consistent before and after the ansatz has been applied onto the initial state. Electronic configurations not respecting this symmetry can therefore be neglected without lost of accuracy. For our purpose in quantum chemistry, it is reflected in lesser computational time or qubit requirements.\n",
    "\n",
    "The code cell below shows an example of Z2-symmetries qubit tapering with Tangelo."
   ]
  },
  {
   "cell_type": "code",
   "execution_count": 10,
   "metadata": {},
   "outputs": [
    {
     "name": "stdout",
     "output_type": "stream",
     "text": [
      "Number of qubits: 16\n",
      "Number of qubits after tapering: 12\n",
      "4 Z2 symmetries detected\n"
     ]
    }
   ],
   "source": [
    "from tangelo.toolboxes.qubit_mappings.mapping_transform import fermion_to_qubit_mapping\n",
    "from tangelo.toolboxes.operators import count_qubits\n",
    "from tangelo.toolboxes.operators.taper_qubits import QubitTapering\n",
    "\n",
    "hamiltonian = fermion_to_qubit_mapping(o2_6311gdp_frozen.fermionic_hamiltonian, \"JW\")\n",
    "n_qubits = count_qubits(hamiltonian)\n",
    "taper = QubitTapering(hamiltonian, n_qubits, n_electrons=o2_6311gdp_frozen.n_active_electrons)\n",
    "hamiltonian_taper = taper.z2_tapered_op\n",
    "n_qubits_tapered = count_qubits(hamiltonian_taper)\n",
    "\n",
    "print(f\"Number of qubits: {n_qubits}\")\n",
    "print(f\"Number of qubits after tapering: {n_qubits_tapered}\")\n",
    "print(f\"{n_qubits - n_qubits_tapered} Z2 symmetries detected\")"
   ]
  },
  {
   "cell_type": "markdown",
   "metadata": {},
   "source": [
    "## Advanced Usage of PySCF\n",
    "\n",
    "At the time of writing those lines, [PySCF](https://pyscf.org/) is a Tangelo's dependency. Advanced usage of this open-source quantum chemistry package enables many analysis tools not explicitly supported by Tangelo. Shortly, we will show a couple of examples where advanced users can extract more information from a computation.\n",
    "\n",
    "A `pyscf.gto.Mole` can be exported from the `SecondQuantizedMolecule`. From that point, anything implemented in `PySCF` can be applied to this data structure. The next line shows how to do this operation.\n",
    "\n",
    "```python\n",
    "pyscf_mol = sec_mol.to_pyscf(sec_mol.basis)\n",
    "```\n",
    "\n",
    "### Extracting Mean-Field Quantities\n",
    "\n",
    "The first trick is the extraction of the molecular orbital eigenvalues and coefficients. This can done with the `analyze` method, and it can be called from the mean-field object to print relevant molecular properties. The output prints many sections, described in the table below.\n",
    "\n",
    "| Section | Decription |\n",
    "| :- | :- |\n",
    "| `SCF Summaries` | Self-consistent field energy contributions |\n",
    "| `MO energy` | Molecular orbital eigenvalues |\n",
    "| `MO coefficients` | Linear Combination of Atomic Orbitals (LCAO) coefficients |\n",
    "| `Mulliken pop` | Mulliken electron population |\n",
    "| `Mulliken atomic charges` | Partial charges on each atom and dipole moment |"
   ]
  },
  {
   "cell_type": "code",
   "execution_count": 10,
   "metadata": {
    "scrolled": true
   },
   "outputs": [
    {
     "name": "stdout",
     "output_type": "stream",
     "text": [
      "**** SCF Summaries ****\n",
      "Total Energy =                        -147.632274661317865\n",
      "Nuclear Repulsion Energy =              27.989538428826449\n",
      "One-electron Energy =                 -260.148728081504998\n",
      "Two-electron Energy =                   84.526914991360684\n",
      "**** MO energy ****\n",
      "                Roothaan           | alpha              | beta\n",
      "MO #1   energy= -20.4249798600401  | -20.4400185052847  | -20.4099412147954  occ= 2\n",
      "MO #2   energy= -20.424364897337   | -20.4389300606558  | -20.4097997340182  occ= 2\n",
      "MO #3   energy= -1.55251062929102  | -1.61345571756454  | -1.4915655410175   occ= 2\n",
      "MO #4   energy= -0.99324246955896  | -1.09010934627351  | -0.896375592844408 occ= 2\n",
      "MO #5   energy= -0.581544505580078 | -0.616775236948377 | -0.546313774211778 occ= 2\n",
      "MO #6   energy= -0.579365900007768 | -0.71407161141429  | -0.444660188601243 occ= 2\n",
      "MO #7   energy= -0.579365900007767 | -0.71407161141429  | -0.444660188601243 occ= 2\n",
      "MO #8   energy= -0.07158887413119  | -0.412074886861297 | 0.268897138598921  occ= 1\n",
      "MO #9   energy= -0.071588874131189 | -0.412074886861299 | 0.268897138598921  occ= 1\n",
      "MO #10  energy= 0.73033550676964   | 0.689507257614016  | 0.771163755925253  occ= 0\n",
      " ** MO coefficients (expansion on meta-Lowdin AOs) **\n",
      "               #1        #2        #3        #4        #5       \n",
      "  0 O 1s       0.70708   0.70711  -0.00060  -0.00323   0.00005\n",
      "  0 O 2s       0.00483   0.00057   0.65237   0.65105  -0.27278\n",
      "  0 O 2px      0.00000   0.00000   0.00000  -0.00000  -0.00000\n",
      "  0 O 2py      0.00000  -0.00000  -0.00000   0.00000  -0.00000\n",
      "  0 O 2pz      0.00311   0.00019   0.27278  -0.27591   0.65237\n",
      "  1 O 1s      -0.70708   0.70711  -0.00060   0.00323   0.00005\n",
      "  1 O 2s      -0.00483   0.00057   0.65237  -0.65105  -0.27278\n",
      "  1 O 2px     -0.00000   0.00000   0.00000  -0.00000  -0.00000\n",
      "  1 O 2py      0.00000  -0.00000  -0.00000   0.00000  -0.00000\n",
      "  1 O 2pz      0.00311  -0.00019  -0.27278  -0.27591  -0.65237\n",
      "               #6        #7        #8        #9        #10      \n",
      "  0 O 1s       0.00000  -0.00000  -0.00000   0.00000  -0.00475\n",
      "  0 O 2s      -0.00000  -0.00000   0.00000   0.00000   0.27589\n",
      "  0 O 2px      0.05854   0.70468  -0.05919  -0.70463  -0.00000\n",
      "  0 O 2py      0.70468  -0.05854  -0.70463   0.05919   0.00000\n",
      "  0 O 2pz      0.00000   0.00000  -0.00000  -0.00000   0.65105\n",
      "  1 O 1s       0.00000   0.00000  -0.00000   0.00000   0.00475\n",
      "  1 O 2s      -0.00000  -0.00000   0.00000   0.00000  -0.27589\n",
      "  1 O 2px      0.05854   0.70468   0.05919   0.70463   0.00000\n",
      "  1 O 2py      0.70468  -0.05854   0.70463  -0.05919  -0.00000\n",
      "  1 O 2pz     -0.00000  -0.00000   0.00000   0.00000   0.65105\n",
      " ** Mulliken pop on meta-lowdin orthogonal AOs  **\n",
      " ** Mulliken pop  **\n",
      "pop of  0 O 1s        1.99995\n",
      "pop of  0 O 2s        1.84777\n",
      "pop of  0 O 2px       1.50000\n",
      "pop of  0 O 2py       1.50000\n",
      "pop of  0 O 2pz       1.15227\n",
      "pop of  1 O 1s        1.99995\n",
      "pop of  1 O 2s        1.84777\n",
      "pop of  1 O 2px       1.50000\n",
      "pop of  1 O 2py       1.50000\n",
      "pop of  1 O 2pz       1.15227\n",
      " ** Mulliken atomic charges  **\n",
      "charge of  0O =     -0.00000\n",
      "charge of  1O =      0.00000\n",
      "Dipole moment(X, Y, Z, Debye):  0.00000, -0.00000,  0.00000\n"
     ]
    }
   ],
   "source": [
    "o2_sto3g.mean_field.analyze(verbose=5);"
   ]
  },
  {
   "cell_type": "markdown",
   "metadata": {},
   "source": [
    "### Outputting Cube Files\n",
    "\n",
    "Nextly, visualization of molecular orbitals can be something needed for analysis purposes or making figures. For example, those few lines create a `cube` file, compatible with many chemical visualization software, for the `MO #10`.\n",
    "\n",
    "```python\n",
    "from pyscf import tools\n",
    "tools.cubegen.orbital(pyscf_mol, f\"MO10.cube\", sec_mol.mean_field.mo_coeff[:,9]) # Python indices start with 0.\n",
    "```\n",
    "\n",
    "## Closing Words\n",
    "\n",
    "- Defining a problem\n",
    "- Tractable with freezing orbitals or symmetries\n",
    "- Pyscf as a backend, implicitly supported\n",
    "\n",
    "## References\n",
    "\n",
    "- McQuarrie, D. A. Quantum Chemistry, University Science Books 2nd ed. (2007)\n",
    "- Engel, T. Quantum chemistry & spectroscopy. Pearson 3rd ed. (2012)\n",
    "- Szabo, A. & Ostlund, N. S. Modern quantum chemistry: Introduction to advanced electronic structure theory. Mineola, Dover Publications 1st ed. (1996).\n",
    "\n",
    "Other...\n",
    "- https://www.youtube.com/c/TMPChem\n",
    "- https://chem.libretexts.org/Courses/Pacific_Union_College/Quantum_Chemistry/11%3A_Computational_Quantum_Chemistry"
   ]
  }
 ],
 "metadata": {
  "kernelspec": {
   "display_name": "qsdk",
   "language": "python",
   "name": "qsdk"
  },
  "language_info": {
   "codemirror_mode": {
    "name": "ipython",
    "version": 3
   },
   "file_extension": ".py",
   "mimetype": "text/x-python",
   "name": "python",
   "nbconvert_exporter": "python",
   "pygments_lexer": "ipython3",
   "version": "3.9.9"
  }
 },
 "nbformat": 4,
 "nbformat_minor": 4
}
