{
 "cells": [
  {
   "cell_type": "markdown",
   "metadata": {},
   "source": [
    "# Importing MI-FNO fragments from QEMIST Cloud\n",
    "\n",
    "(Most of this blob comes from the paper's abstract)\n",
    "The method of increment (MI) approach expresses the electron correlation energy of a molecular system as a truncated many-body expansion in terms of orbitals, atoms, molecules, or fragments. The electron correlation of the system is expanded in terms of occupied orbitals, and the MI approach is employed to systematically reduce the occupied orbital space. At the same time, the virtual orbital space is reduced based on the frozen natural orbitals (FNO), which are obtained using a one-particle density matrix from second-order, many-body perturbation theory. In this way, a method referred to as the MI-FNO approach is available for the systematic reduction of both the occupied space and the virtual space in quantum chemistry simulations. \n",
    "\n",
    "The MI method, first introduced in quantum chemistry by Nesbet ([Phys. Rev. 1967, 155, 51](https://doi.org/10.1103/PhysRev.155.51), [Phys. Rev. 1967, 155, 56](https://doi.org/10.1103/PhysRev.155.56) and [Phys. Rev. 1968, 175, 2](https://doi.org/10.1103/PhysRev.175.2)), is based upon the n-body Bethe–Goldstone expansion ([Proc. R. Soc. A, 1957, 238, 551](https://doi.org/10.1098/rspa.1957.0017)) of the correlation energy of a molecule. The correlation energy ($E_c$), defined as the difference between the exact ($E_{\\text{exact}}$) and the Hartree–Fock (mean-field) energy ($E_{\\text{HF}}$), can be expanded as\n",
    "\n",
    "$$\n",
    "\\begin{align*}\n",
    "E_c &= E_{\\text{exact}} - E_{\\text{HF}} \\\\\n",
    "&= \\sum_i \\epsilon_i + \\sum_{i>j} \\epsilon_{ij} + \\sum_{i>j>k} \\epsilon_{ijk} + \\sum_{i>j>k>l} \\epsilon_{ijkl} + \\dots\n",
    "\\end{align*}\n",
    "$$\n",
    "\n",
    "where $\\epsilon_i$, $\\epsilon_{ij}$, $\\epsilon_{ijk}$, and $\\epsilon_{ijkl}$ are, respectively, the one-, two-, three-, and four-body increments (expansions) defined as\n",
    "\n",
    "$$\n",
    "\\begin{align*}\n",
    "\\epsilon_i &= E_c(i) \\\\\n",
    "\\epsilon_{ij} &= E_c(ij) - \\epsilon_i - \\epsilon_j \\\\\n",
    "\\epsilon_{ijk} &= E_c(ijk) - \\epsilon_{ij} - \\epsilon_{ik} - \\epsilon_{jk} - \\epsilon_{i} - \\epsilon_{j} - \\epsilon_{k} \\\\\n",
    "\\epsilon_{ijkl} &= E_c(ijkl) - \\epsilon_{ijk} - \\epsilon_{ijl} - \\epsilon_{jkl} - \\dots \\\\\n",
    "&\\vdots\n",
    "\\end{align*}\n",
    "$$\n",
    "\n",
    "The following figure, taken from [J. Chem. Phys. 2021, 155, 034110](https://doi.org/10.1063/5.0054647), illustrates this problem decomposition scheme in terms of 1-body and many-body interactions. On each subproblem, an FNO truncation\n",
    "is applied to reduce their virtual space. The subproblems resulting from the MI-FNO reduction can then be solved by any algorithm, including quantum algorithms such as the phase estimation algorithm and the variational quantum eigensolver, to predict the correlation energies of a molecular system.\n",
    "\n",
    "<div>\n",
    "<img src=\"img/mifno.png\" width=\"600\"/>\n",
    "</div>\n",
    "\n",
    "This problem decomposition pipeline is available in QEMIST Cloud. Here in this notebook, we will go through the steps of how to export MI-FNO fragment data and import them in Tangelo for further treatment."
   ]
  },
  {
   "cell_type": "markdown",
   "metadata": {},
   "source": [
    "## System definition\n",
    "\n",
    "We will take as an exemple the hydrogen fluoride (HF) system in the `cc-pvdz` basis."
   ]
  },
  {
   "cell_type": "code",
   "execution_count": null,
   "metadata": {},
   "outputs": [],
   "source": [
    "HF_coordinates = \"\"\"\n",
    "    F    0.0000   0.0000   0.0000\n",
    "    H    0.0000   0.0000   0.9168\n",
    "\"\"\"\n",
    "basis = \"cc-pvdz\"\n",
    "charge = 0 \n",
    "spin = 0"
   ]
  },
  {
   "cell_type": "markdown",
   "metadata": {},
   "source": [
    "Nextly, we will demonstrate the pipeline from start to finish with a working python environment with both `qemist_client` and `tangelo` installed."
   ]
  },
  {
   "cell_type": "markdown",
   "metadata": {},
   "source": [
    "## MI-FNO calculation\n",
    "\n",
    "With the `qemist_client` python module, it is possible to send conventional quantum chemistry problem to the QEMIST Cloud infrastructure. Here we do not assume that you ahve `qemist_client` installed, so we provide a code snipplet used to generate the results. \n",
    "```python\n",
    "import os\n",
    "os.environ['QEMIST_PROJECT_ID'] = \"your_project_id_string\"\n",
    "os.environ['QEMIST_AUTH_TOKEN'] = \"your_qemist_authentication_token\"\n",
    "\n",
    "import qemist_client\n",
    "from qemist.problem_decomposition import IncrementalDecomposition\n",
    "from qemist.problem_reduction import FNO\n",
    "from qemist.electronic_structure_solvers import HBCI\n",
    "\n",
    "# Creating the QEMIST molecule object.\n",
    "HF_mol = qemist_client.molecule.Molecule(atom=HF_coordinates)\n",
    "HF_mol.basis = basis\n",
    "HF_mol.charge = charge\n",
    "HF_mol.spin = spin\n",
    "\n",
    "# Defining the solvers, Heath-Bath Configuration Interaction (HBCI), \n",
    "# Frozen Natural Orbitals (FNO), and the problem decomposition approach,\n",
    "# Method of Increments (MI).\n",
    "hbci_solver = HBCI()\n",
    "fno = FNO(hbci_solver, export_fragment_data=True)\n",
    "mi_solver = IncrementalDecomposition(electronic_structure_solver=fno,\n",
    "                                     truncation_order=2)\n",
    "# Submitting the problem to the cloud.\n",
    "HF_handle = mi_solver.simulate(system=HF_mol)\n",
    "print(f\"\\nHF handle: {HF_handle}\")\n",
    "\n",
    "# Retrieving the results.\n",
    "HF_result = mi_solver.get_result()\n",
    "```\n",
    "\n",
    "For more information about the `qemist_client` API and QEMIST Cloud feature set, we refer the reader to the [QEMIST Cloud documentation](https://alpha-api.qemist.cloud/#/docs). The `HF_result` python dictionary can be saved in a json file (for further treatment in `tangelo` or for archiving purposes) with the following code snipplet.\n",
    "```python\n",
    "import json\n",
    "with open(\"your_file_path\", \"w\") as f:\n",
    "    json.dump(HF_result, f)\n",
    "```"
   ]
  },
  {
   "cell_type": "markdown",
   "metadata": {},
   "source": [
    "## Import MI-FNO fragments into Tangelo\n",
    "\n",
    "In the `tangelo` package, the `MIFNOHelper` serves the function of importing the `HF_result` generated from QEMIST Cloud."
   ]
  },
  {
   "cell_type": "code",
   "execution_count": 1,
   "metadata": {},
   "outputs": [],
   "source": [
    "from tangelo.problem_decomposition import MIFNOHelper"
   ]
  },
  {
   "cell_type": "markdown",
   "metadata": {},
   "source": [
    "For this example, the `HF_results` has been saved in `./data/HF_MIFNO_trunc2.json`. During runtime of the QEMIST Cloud script, a user could have called `MIFNOHelper(results_object=HF_result)` and it would have ended with the same results."
   ]
  },
  {
   "cell_type": "code",
   "execution_count": 2,
   "metadata": {},
   "outputs": [
    {
     "ename": "AssertionError",
     "evalue": "The file ./data/HF_MIFNO_trunc2.json does not exist.",
     "output_type": "error",
     "traceback": [
      "\u001b[0;31m---------------------------------------------------------------------------\u001b[0m",
      "\u001b[0;31mAssertionError\u001b[0m                            Traceback (most recent call last)",
      "Input \u001b[0;32mIn [2]\u001b[0m, in \u001b[0;36m<module>\u001b[0;34m\u001b[0m\n\u001b[0;32m----> 1\u001b[0m fno_fragments \u001b[38;5;241m=\u001b[39m \u001b[43mMIFNOHelper\u001b[49m\u001b[43m(\u001b[49m\u001b[43mjson_file\u001b[49m\u001b[38;5;241;43m=\u001b[39;49m\u001b[38;5;124;43m\"\u001b[39;49m\u001b[38;5;124;43m./data/HF_MIFNO_trunc2.json\u001b[39;49m\u001b[38;5;124;43m\"\u001b[39;49m\u001b[43m)\u001b[49m\n\u001b[1;32m      2\u001b[0m \u001b[38;5;28mprint\u001b[39m(fno_fragments)\n",
      "File \u001b[0;32m~/Codes/Tangelo/tangelo/problem_decomposition/incremental/mifno_helper.py:79\u001b[0m, in \u001b[0;36mMIFNOHelper.__init__\u001b[0;34m(self, json_file, results_object)\u001b[0m\n\u001b[1;32m     76\u001b[0m     \u001b[38;5;28;01mraise\u001b[39;00m \u001b[38;5;167;01mValueError\u001b[39;00m(\u001b[38;5;124mf\u001b[39m\u001b[38;5;124m\"\u001b[39m\u001b[38;5;124mA json file path OR a dictionary object must be provided when instantiating \u001b[39m\u001b[38;5;132;01m{\u001b[39;00m\u001b[38;5;28mself\u001b[39m\u001b[38;5;241m.\u001b[39m\u001b[38;5;18m__class__\u001b[39m\u001b[38;5;241m.\u001b[39m\u001b[38;5;18m__name__\u001b[39m\u001b[38;5;132;01m}\u001b[39;00m\u001b[38;5;124m.\u001b[39m\u001b[38;5;124m\"\u001b[39m)\n\u001b[1;32m     78\u001b[0m \u001b[38;5;28;01mif\u001b[39;00m json_file:\n\u001b[0;32m---> 79\u001b[0m     \u001b[38;5;28;01massert\u001b[39;00m os\u001b[38;5;241m.\u001b[39mpath\u001b[38;5;241m.\u001b[39misfile(json_file), \u001b[38;5;124mf\u001b[39m\u001b[38;5;124m\"\u001b[39m\u001b[38;5;124mThe file \u001b[39m\u001b[38;5;132;01m{\u001b[39;00mjson_file\u001b[38;5;132;01m}\u001b[39;00m\u001b[38;5;124m does not exist.\u001b[39m\u001b[38;5;124m\"\u001b[39m\n\u001b[1;32m     81\u001b[0m     \u001b[38;5;28;01mwith\u001b[39;00m \u001b[38;5;28mopen\u001b[39m(json_file, \u001b[38;5;124m\"\u001b[39m\u001b[38;5;124mr\u001b[39m\u001b[38;5;124m\"\u001b[39m) \u001b[38;5;28;01mas\u001b[39;00m f:\n\u001b[1;32m     82\u001b[0m         results_object \u001b[38;5;241m=\u001b[39m json\u001b[38;5;241m.\u001b[39mloads(f\u001b[38;5;241m.\u001b[39mread())\n",
      "\u001b[0;31mAssertionError\u001b[0m: The file ./data/HF_MIFNO_trunc2.json does not exist."
     ]
    }
   ],
   "source": [
    "fno_fragments = MIFNOHelper(json_file=\"./data/HF_MIFNO_trunc2.json\")\n",
    "print(fno_fragments)"
   ]
  },
  {
   "cell_type": "markdown",
   "metadata": {},
   "source": [
    "### Downloading molecular coefficients files"
   ]
  },
  {
   "cell_type": "code",
   "execution_count": null,
   "metadata": {},
   "outputs": [],
   "source": [
    "# Creating of a mo_coeff folder.\n",
    "os.mkdir(\"./mo_coeff\")\n",
    "\n",
    "# Downloading the HDF5 files to the \n",
    "fno_fragments.retrieve_mo_coeff(\"./mo_coeff\")"
   ]
  },
  {
   "cell_type": "markdown",
   "metadata": {},
   "source": [
    "### Reconstructing a fragment Hamiltonian"
   ]
  },
  {
   "cell_type": "code",
   "execution_count": null,
   "metadata": {},
   "outputs": [],
   "source": [
    "from tangelo import SecondQuantizedMolecule\n",
    "from tangelo.toolboxes.qubit_mappings.mapping_transform import fermion_to_qubit_mapping\n",
    "\n",
    "mol = SecondQuantizedMolecule(HF_coordinates, q=charge, spin=spin, basis=basis)\n",
    "\n",
    "ferm_op = fno_fragments.compute_fermionoperator(mol, \"(1, 2)\")\n",
    "qu_op = fermion_to_qubit_mapping(ferm_op, mapping=\"JW\")"
   ]
  },
  {
   "cell_type": "code",
   "execution_count": null,
   "metadata": {},
   "outputs": [],
   "source": [
    "#e = fno_fragments.mi_summation()#{\"(1, 2)\": -15.56})\n",
    "#print(e)"
   ]
  },
  {
   "cell_type": "markdown",
   "metadata": {},
   "source": [
    "## VQE on a Fragment"
   ]
  },
  {
   "cell_type": "code",
   "execution_count": null,
   "metadata": {},
   "outputs": [],
   "source": [
    "from openfermion.linalg import qubit_operator_sparse"
   ]
  }
 ],
 "metadata": {
  "kernelspec": {
   "display_name": "qsdk",
   "language": "python",
   "name": "qsdk"
  },
  "language_info": {
   "codemirror_mode": {
    "name": "ipython",
    "version": 3
   },
   "file_extension": ".py",
   "mimetype": "text/x-python",
   "name": "python",
   "nbconvert_exporter": "python",
   "pygments_lexer": "ipython3",
   "version": "3.9.9"
  }
 },
 "nbformat": 4,
 "nbformat_minor": 4
}
