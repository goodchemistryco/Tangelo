{
 "cells": [
  {
   "cell_type": "markdown",
   "metadata": {},
   "source": [
    "TODOs:\n",
    "- Update the code with the proper example (HF or Ne)\n",
    "- Move QEMIST Cloud code at the end in an extra section?\n",
    "- Concluding remarks\n",
    "- Proper review"
   ]
  },
  {
   "cell_type": "markdown",
   "metadata": {},
   "source": [
    "# Importing MI-FNO fragments from QEMIST Cloud\n",
    "\n",
    "The method of increment (MI) approach expresses the electron correlation energy of a molecular system as a truncated many-body expansion in terms of orbitals, atoms, molecules, or fragments. The electron correlation of the system is expanded in terms of occupied orbitals, and the MI approach is employed to systematically reduce the occupied orbital space. At the same time, the virtual orbital space is reduced based on the frozen natural orbitals (FNO), which are obtained using a one-particle density matrix from second-order, many-body perturbation theory. In this way, a method referred to as the MI-FNO approach is available for the systematic reduction of both the occupied space and the virtual space in quantum chemistry simulations. \n",
    "\n",
    "The MI method, first introduced in quantum chemistry by Nesbet ([Phys. Rev. 1967, 155, 51](https://doi.org/10.1103/PhysRev.155.51), [Phys. Rev. 1967, 155, 56](https://doi.org/10.1103/PhysRev.155.56) and [Phys. Rev. 1968, 175, 2](https://doi.org/10.1103/PhysRev.175.2)), is based upon the n-body Bethe–Goldstone expansion ([Proc. R. Soc. A, 1957, 238, 551](https://doi.org/10.1098/rspa.1957.0017)) of the correlation energy of a molecule. The correlation energy ($E_c$), defined as the difference between the exact ($E_{\\text{exact}}$) and the Hartree–Fock (mean-field) energy ($E_{\\text{HF}}$), can be expanded as\n",
    "\n",
    "$$\n",
    "\\begin{align*}\n",
    "E_c &= E_{\\text{exact}} - E_{\\text{HF}} \\\\\n",
    "&= \\sum_i \\epsilon_i + \\sum_{i>j} \\epsilon_{ij} + \\sum_{i>j>k} \\epsilon_{ijk} + \\sum_{i>j>k>l} \\epsilon_{ijkl} + \\dots\n",
    "\\end{align*}\n",
    "$$\n",
    "\n",
    "where $\\epsilon_i$, $\\epsilon_{ij}$, $\\epsilon_{ijk}$, and $\\epsilon_{ijkl}$ are, respectively, the one-, two-, three-, and four-body increments (expansions) defined as\n",
    "\n",
    "$$\n",
    "\\begin{align*}\n",
    "\\epsilon_i &= E_c(i) \\\\\n",
    "\\epsilon_{ij} &= E_c(ij) - \\epsilon_i - \\epsilon_j \\\\\n",
    "\\epsilon_{ijk} &= E_c(ijk) - \\epsilon_{ij} - \\epsilon_{ik} - \\epsilon_{jk} - \\epsilon_{i} - \\epsilon_{j} - \\epsilon_{k} \\\\\n",
    "\\epsilon_{ijkl} &= E_c(ijkl) - \\epsilon_{ijk} - \\epsilon_{ijl} - \\epsilon_{jkl} - \\dots \\\\\n",
    "&\\vdots\n",
    "\\end{align*}\n",
    "$$\n",
    "\n",
    "The following figure, taken from [J. Chem. Phys. 2021, 155, 034110](https://doi.org/10.1063/5.0054647), illustrates this problem decomposition scheme in terms of 1-body and many-body interactions. On each subproblem, an FNO truncation\n",
    "is applied to reduce their virtual space. The subproblems resulting from the MI-FNO reduction can then be solved by any algorithm, including quantum algorithms such as the phase estimation algorithm and the variational quantum eigensolver, to predict the correlation energies of a molecular system.\n",
    "\n",
    "<div>\n",
    "<img src=\"img/mifno.png\" width=\"600\"/>\n",
    "</div>\n",
    "\n",
    "This problem decomposition pipeline is available in QEMIST Cloud. Here in this notebook, we will go through the steps of how to export MI-FNO fragment data and import them in Tangelo for further treatment.\n",
    "\n",
    "## System definition\n",
    "\n",
    "We will take as an exemple the hydrogen fluoride (HF) system in the `cc-pvdz` basis."
   ]
  },
  {
   "cell_type": "code",
   "execution_count": 6,
   "metadata": {},
   "outputs": [],
   "source": [
    "HF_coordinates = \"\"\"\n",
    "    F    0.0000   0.0000   0.0000\n",
    "    H    0.0000   0.0000   0.9168\n",
    "\"\"\"\n",
    "basis = \"cc-pvdz\"\n",
    "charge = 0 \n",
    "spin = 0"
   ]
  },
  {
   "cell_type": "markdown",
   "metadata": {},
   "source": [
    "Nextly, we will demonstrate the pipeline from start to finish with a working python environment with both `qemist_client` and `tangelo` installed.\n",
    "\n",
    "## MI-FNO calculation\n",
    "\n",
    "With the `qemist_client` python module, it is possible to send conventional quantum chemistry problem to the QEMIST Cloud infrastructure. [QEMIST Cloud](https://goodchemistry.com/qemist-cloud/), as stated on the product webpage, is an engine that enables faster, more accurate, and scalable ways to perform computational chemistry simulations. This platform leverages easily and readily accessible computers on the cloud to perform chemistry simulations that were previously intractable even on expensive, high-performance computing environments. \n",
    "\n",
    "We do not assume that you have `qemist_client` installed, so we provide a code snipplet used to generate the problem decomposition results. Each fragment's virtual space has been truncated to keep only one virtual orbital with the highest occupation number.\n",
    "```python\n",
    "import os\n",
    "os.environ['QEMIST_PROJECT_ID'] = \"your_project_id_string\"\n",
    "os.environ['QEMIST_AUTH_TOKEN'] = \"your_qemist_authentication_token\"\n",
    "\n",
    "import qemist_client\n",
    "from qemist_client.problem_decomposition import IncrementalDecomposition\n",
    "from qemist_client.util.natural_orbitals import TruncationMethod\n",
    "from qemist_client.problem_reduction import FNO\n",
    "from qemist_client.electronic_structure_solvers import HBCI\n",
    "\n",
    "HF_coordinates = \"\"\"\n",
    "    F    0.0000   0.0000   0.0000\n",
    "    H    0.0000   0.0000   0.9168\n",
    "\"\"\"\n",
    "basis = \"cc-pvdz\"\n",
    "charge = 0\n",
    "spin = 0\n",
    "\n",
    "# Creating the QEMIST molecule object.\n",
    "HF_mol = qemist_client.molecule.Molecule(HF_coordinates, basis=basis, charge=charge, spin=spin)\n",
    "\n",
    "# Defining the solvers, Heath-Bath Configuration Interaction (HBCI),\n",
    "# Frozen Natural Orbitals (FNO), and the problem decomposition approach,\n",
    "# Method of Increments (MI).\n",
    "hbci_solver = HBCI()\n",
    "fno = FNO(hbci_solver, \n",
    "          export_fragment_data=True, \n",
    "          method_of_truncation=TruncationMethod.COUNT, \n",
    "          method_of_truncation_threshold=1)\n",
    "mi_solver = IncrementalDecomposition(solver=fno,\n",
    "                                     truncation_order=2)\n",
    "# Submitting the problem to the cloud.\n",
    "HF_handle = mi_solver.simulate(molecule=HF_mol)\n",
    "print(f\"\\nHF handle: {HF_handle}\")\n",
    "\n",
    "# Retrieving the results.\n",
    "HF_result = mi_solver.get_result()\n",
    "print(HF_result)\n",
    "```\n",
    "\n",
    "For more information about the `qemist_client` API and QEMIST Cloud feature set, we refer the reader to the [QEMIST Cloud documentation](https://alpha-api.qemist.cloud/#/docs). The `HF_result` python dictionary can be saved in a json file (for further treatment in `tangelo` or for archiving purposes) with the following code.\n",
    "```python\n",
    "import json\n",
    "with open(\"your_file_path\", \"w\") as f:\n",
    "    json.dump(HF_result, f)\n",
    "```\n",
    "\n",
    "## MI-FNO fragments into Tangelo\n",
    "\n",
    "### Importation\n",
    "\n",
    "In the `tangelo` package, the `MIFNOHelper` serves the function of importing the `HF_result` generated from QEMIST Cloud."
   ]
  },
  {
   "cell_type": "code",
   "execution_count": 8,
   "metadata": {},
   "outputs": [],
   "source": [
    "from tangelo.problem_decomposition import MIFNOHelper"
   ]
  },
  {
   "cell_type": "markdown",
   "metadata": {},
   "source": [
    "For this example, the `HF_results` has been saved in `./data/HF_MIFNO_trunc2.json`. During the runtime of the QEMIST Cloud script, a user could have called `MIFNOHelper(results_object=HF_result)` and it would have ended with the same results."
   ]
  },
  {
   "cell_type": "code",
   "execution_count": 33,
   "metadata": {},
   "outputs": [
    {
     "name": "stdout",
     "output_type": "stream",
     "text": [
      "(All the energy values are in hartree)\n",
      "Total MI-FNO energy = -100.2187315187088\n",
      "Correlation energy = -0.19931281562172387\n",
      "Mean-field energy = -100.01941870308707\n",
      "        correction                          frozen_orbitals_truncated  \\\n",
      "(1,)     -0.006195  [0, 2, 3, 4, 6, 7, 8, 9, 10, 11, 12, 13, 14, 1...   \n",
      "(2,)     -0.007127  [0, 1, 3, 4, 6, 7, 8, 9, 10, 11, 12, 13, 14, 1...   \n",
      "(3,)     -0.008654  [0, 1, 2, 4, 6, 7, 8, 9, 10, 11, 12, 13, 14, 1...   \n",
      "(4,)     -0.008654  [0, 1, 2, 3, 6, 7, 8, 9, 10, 11, 12, 13, 14, 1...   \n",
      "(1, 2)   -0.030123  [0, 3, 4, 6, 7, 8, 9, 10, 11, 12, 13, 14, 15, ...   \n",
      "(1, 3)   -0.040116  [0, 2, 4, 6, 7, 8, 9, 10, 11, 12, 13, 14, 15, ...   \n",
      "(1, 4)   -0.040116  [0, 2, 3, 6, 7, 8, 9, 10, 11, 12, 13, 14, 15, ...   \n",
      "(2, 3)   -0.048697  [0, 1, 4, 6, 7, 8, 9, 10, 11, 12, 13, 14, 15, ...   \n",
      "(2, 4)   -0.048697  [0, 1, 3, 6, 7, 8, 9, 10, 11, 12, 13, 14, 15, ...   \n",
      "(3, 4)   -0.056031  [0, 1, 2, 6, 7, 8, 9, 10, 11, 12, 13, 14, 15, ...   \n",
      "\n",
      "         epsilon  energy_correlation  energy_total  \n",
      "(1,)   -0.014083           -0.014083   -100.033502  \n",
      "(2,)   -0.027232           -0.027232   -100.046650  \n",
      "(3,)   -0.019299           -0.019299   -100.038718  \n",
      "(4,)   -0.019299           -0.019299   -100.038718  \n",
      "(1, 2) -0.011862           -0.053177   -100.072596  \n",
      "(1, 3) -0.017496           -0.050878   -100.070297  \n",
      "(1, 4) -0.017496           -0.050878   -100.070297  \n",
      "(2, 3) -0.022187           -0.068718   -100.088137  \n",
      "(2, 4) -0.022187           -0.068718   -100.088137  \n",
      "(3, 4) -0.028172           -0.066770   -100.086189  \n"
     ]
    }
   ],
   "source": [
    "fno_fragments = MIFNOHelper(json_file=\"./data/HF_MIFNO_trunc2.json\")\n",
    "print(fno_fragments)"
   ]
  },
  {
   "cell_type": "markdown",
   "metadata": {},
   "source": [
    "### Downloading molecular coefficients files"
   ]
  },
  {
   "cell_type": "code",
   "execution_count": 15,
   "metadata": {},
   "outputs": [],
   "source": [
    "# Downloading and/or reading the HDF5 files in the data folder.\n",
    "# If a download request is made, a message is printed.\n",
    "fno_fragments.retrieve_mo_coeff(\"./data\")"
   ]
  },
  {
   "cell_type": "markdown",
   "metadata": {},
   "source": [
    "### Reconstructing a fragment Hamiltonian"
   ]
  },
  {
   "cell_type": "code",
   "execution_count": 19,
   "metadata": {},
   "outputs": [
    {
     "name": "stdout",
     "output_type": "stream",
     "text": [
      "The qubit operator for the (3, 4) fragment is mapped to 6 qubits.\n"
     ]
    }
   ],
   "source": [
    "from tangelo import SecondQuantizedMolecule\n",
    "from tangelo.toolboxes.operators import count_qubits\n",
    "\n",
    "mol = SecondQuantizedMolecule(HF_coordinates, q=charge, spin=spin, basis=basis)\n",
    "\n",
    "selected_fragment = \"(3, 4)\"\n",
    "\n",
    "ferm_op = fno_fragments.compute_fermionoperator(mol, selected_fragment)\n",
    "qu_op = fermion_to_qubit_mapping(ferm_op, mapping=\"JW\")\n",
    "\n",
    "print(f\"The qubit operator for the {selected_fragment} fragment is mapped to {count_qubits(qu_op)} qubits.\")"
   ]
  },
  {
   "cell_type": "markdown",
   "metadata": {},
   "source": [
    "### QITE on a Fragment"
   ]
  },
  {
   "cell_type": "code",
   "execution_count": 29,
   "metadata": {},
   "outputs": [
    {
     "name": "stdout",
     "output_type": "stream",
     "text": [
      "Iteration 1 of QITE with starting energy -100.01941870308727\n",
      "Iteration 2 of QITE with starting energy -100.02286250399173\n",
      "Iteration 3 of QITE with starting energy -100.02520229253774\n",
      "Iteration 4 of QITE with starting energy -100.02679118526885\n",
      "Iteration 5 of QITE with starting energy -100.0278699048825\n",
      "Iteration 6 of QITE with starting energy -100.02860223507179\n",
      "Iteration 7 of QITE with starting energy -100.02909946796684\n",
      "Iteration 8 of QITE with starting energy -100.0294371651163\n",
      "Iteration 9 of QITE with starting energy -100.0296666029956\n",
      "Iteration 10 of QITE with starting energy -100.02982256841632\n",
      "Iteration 11 of QITE with starting energy -100.02992865864991\n",
      "Iteration 12 of QITE with starting energy -100.03000088085165\n",
      "Iteration 13 of QITE with starting energy -100.03005009467229\n",
      "Iteration 14 of QITE with starting energy -100.03008366905831\n",
      "Iteration 15 of QITE with starting energy -100.03010660572828\n",
      "Iteration 16 of QITE with starting energy -100.03012230089017\n",
      "Iteration 17 of QITE with starting energy -100.03013306166494\n",
      "Iteration 18 of QITE with starting energy -100.03014045621764\n",
      "Iteration 19 of QITE with starting energy -100.03014555116735\n",
      "Iteration 20 of QITE with starting energy -100.03014907259029\n",
      "Iteration 21 of QITE with starting energy -100.03015151522835\n",
      "Iteration 22 of QITE with starting energy -100.03015321658633\n",
      "Iteration 23 of QITE with starting energy -100.03015440722253\n",
      "Iteration 24 of QITE with starting energy -100.03015524489386\n",
      "Iteration 25 of QITE with starting energy -100.03015583775208\n",
      "Iteration 26 of QITE with starting energy -100.0301562601097\n",
      "Iteration 27 of QITE with starting energy -100.03015656316265\n",
      "Iteration 28 of QITE with starting energy -100.03015678229087\n",
      "Iteration 29 of QITE with starting energy -100.03015694203108\n",
      "Iteration 30 of QITE with starting energy -100.0301570594705\n",
      "Final energy of QITE is -100.03015714656397\n"
     ]
    },
    {
     "data": {
      "text/plain": [
       "-100.03015714656397"
      ]
     },
     "execution_count": 29,
     "metadata": {},
     "output_type": "execute_result"
    }
   ],
   "source": [
    "from tangelo.algorithms.projective import QITESolver\n",
    "from tangelo.toolboxes.operators import qubitop_to_qubitham\n",
    "\n",
    "qubit_ham = qubitop_to_qubitham(qu_op, mapping=\"JW\", up_then_down=False)\n",
    "\n",
    "qite = QITESolver({\"qubit_hamiltonian\": qubit_ham, \"n_electrons\": 4, \"n_spinorbitals\": 6})\n",
    "qite.build()\n",
    "qite.simulate()"
   ]
  },
  {
   "cell_type": "markdown",
   "metadata": {},
   "source": [
    "### Summation of the incremental energy\n",
    "- Mp2 correction automatically added."
   ]
  },
  {
   "cell_type": "code",
   "execution_count": 30,
   "metadata": {},
   "outputs": [
    {
     "name": "stdout",
     "output_type": "stream",
     "text": [
      "-100.21873123150789\n"
     ]
    }
   ],
   "source": [
    "e = fno_fragments.mi_summation({\"(3, 4)\": qite.final_energy})\n",
    "print(e)"
   ]
  },
  {
   "cell_type": "code",
   "execution_count": 32,
   "metadata": {},
   "outputs": [
    {
     "name": "stdout",
     "output_type": "stream",
     "text": [
      "-100.2187315187088\n"
     ]
    }
   ],
   "source": [
    "print(fno_fragments.e_tot)"
   ]
  },
  {
   "cell_type": "markdown",
   "metadata": {},
   "source": [
    "## Closing words\n",
    "\n",
    "- Combiner PD at scale dans le cloud (professionnel), avec tangelo, regarder l'impact du calcul quantique sur des plus gros problèmes (plus gros use case).\n",
    "- MI-FNO fragment, see the impact on the incremental sum\n",
    "- The algo is the user choice! (custom?!)"
   ]
  }
 ],
 "metadata": {
  "kernelspec": {
   "display_name": "qsdk",
   "language": "python",
   "name": "qsdk"
  },
  "language_info": {
   "codemirror_mode": {
    "name": "ipython",
    "version": 3
   },
   "file_extension": ".py",
   "mimetype": "text/x-python",
   "name": "python",
   "nbconvert_exporter": "python",
   "pygments_lexer": "ipython3",
   "version": "3.9.9"
  }
 },
 "nbformat": 4,
 "nbformat_minor": 4
}
