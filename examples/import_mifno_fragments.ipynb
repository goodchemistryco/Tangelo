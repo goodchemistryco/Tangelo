{
 "cells": [
  {
   "cell_type": "markdown",
   "metadata": {},
   "source": [
    "# Importing MI-FNO fragments from QEMIST Cloud\n",
    "\n",
    "(Copy/paste from abstract)\n",
    "The method of increment (MI) approach expresses the electron correlation energy of a molecular system as a truncated many-body expansion in terms of orbitals, atoms, molecules, or fragments. The electron correlation of the system is expanded in terms of occupied orbitals, and the MI approach is employed to systematically reduce the occupied orbital space. At the same time, the virtual orbital space is reduced based on the frozen natural orbitals (FNO), which are obtained using a one-particle density matrix from second-order, many-body perturbation theory. In this way, a method referred to as the MI-FNO approach is available for the systematic reduction of both the occupied space and the virtual space in quantum chemistry simulations. \n",
    "\n",
    "<div>\n",
    "<img src=\"img/mifno.png\" width=\"700\"/>\n",
    "</div>\n",
    "\n",
    "The MI approach, first introduced in quantum chemistry by Nesbet ([Phys. Rev. 1967, 155, 51](https://doi.org/10.1103/PhysRev.155.51), [Phys. Rev. 1967, 155, 56](https://doi.org/10.1103/PhysRev.155.56) and [Phys. Rev. 1968, 175, 2](https://doi.org/10.1103/PhysRev.175.2)), is based upon the n-body Bethe–Goldstone expansion ([Proc. R. Soc. A, 1957, 238, 551](https://doi.org/10.1098/rspa.1957.0017)) of the correlation energy of a molecule. The correlation energy ($E_c$), defined as the difference between the exact ($E_{\\text{exact}}$) and the Hartree–Fock (mean-field) energy ($E_{\\text{HF}}$), can be expanded as\n",
    "$$\n",
    "\\begin{align*}\n",
    "E_c &= E_{\\text{exact}} - E_{\\text{HF}} \\\\\n",
    "&= \\sum_i \\epsilon_i + \\sum_{i>j} \\epsilon_{ij} + \\sum_{i>j>k} \\epsilon_{ijk} + \\sum_{i>j>k>l} \\epsilon_{ijkl} + \\dots\n",
    "\\end{align*}\n",
    "$$\n",
    "\n",
    "where $\\epsilon_i$, $\\epsilon_{ij}$, $\\epsilon_{ijk}$, and $\\epsilon_{ijkl}$ are, respectively, the one-, two-, three-, and four-body increments (expansions) defined as\n",
    "$$\n",
    "\\begin{align*}\n",
    "\\epsilon_i &= E_c(i) \\\\\n",
    "\\epsilon_{ij} &= E_c(ij) - \\epsilon_i - \\epsilon_j \\\\\n",
    "\\epsilon_{ijk} &= E_c(ijk) - \\epsilon_{ij} - \\epsilon_{ik} - \\epsilon_{jk} - \\epsilon_{i} - \\epsilon_{j} - \\epsilon_{k} \\\\\n",
    "\\epsilon_{ijkl} &= E_c(ijkl) - \\epsilon_{ijk} - \\epsilon_{ijl} - \\epsilon_{jkl} - \\dots \\\\\n",
    "&\\vdots\n",
    "\\end{align*}\n",
    "$$\n",
    "\n",
    "The subproblems resulting from the MI-FNO reduction can then be solved by any algorithm, including quantum algorithms such as the phase estimation algorithm and the variational quantum eigensolver, to predict the correlation energies of a molecular system.\n",
    "\n",
    "QEMIST Cloud a pipeline "
   ]
  },
  {
   "cell_type": "markdown",
   "metadata": {},
   "source": [
    "## System definition\n",
    "\n",
    "- Definition of the molecular system\n",
    "- HF 10é system"
   ]
  },
  {
   "cell_type": "code",
   "execution_count": null,
   "metadata": {},
   "outputs": [],
   "source": [
    "HF_coordinates = \"\"\"\n",
    "    F    0.0000   0.0000   0.0000\n",
    "    H    0.0000   0.0000   0.9168\n",
    "\"\"\"\n",
    "basis = \"cc-pvdz\"\n",
    "charge = 0 \n",
    "spin = 0"
   ]
  },
  {
   "cell_type": "markdown",
   "metadata": {},
   "source": [
    "## MI-FNO calculation\n",
    "\n",
    "- Installation of qemist + tangelo\n",
    "- Setting up env variables\n",
    "- Doc of qemist https://alpha-api.qemist.cloud/#/docs (I am writing a page)\n",
    "- Not executed now, retrieving a json dictionary.\n",
    "\n",
    "```python\n",
    "import os\n",
    "os.environ['QEMIST_PROJECT_ID'] = \"your_project_id_string\"\n",
    "os.environ['QEMIST_AUTH_TOKEN'] = \"your_qemist_authentication_token\"\n",
    "\n",
    "import qemist_client\n",
    "from qemist.problem_decomposition import IncrementalDecomposition\n",
    "from qemist.problem_reduction import FNO\n",
    "from qemist.electronic_structure_solvers import HBCI\n",
    "\n",
    "# Create the QEMIST molecule object.\n",
    "HF_mol = qemist_client.molecule.Molecule(atom=HF_coordinates)\n",
    "HF_mol.basis = basis\n",
    "HF_mol.charge = charge\n",
    "HF_mol.spin = spin\n",
    "\n",
    "# Defining the solvers. For more information, refer to the QEMIST Cloud documentation.\n",
    "hbci_solver = HBCI()\n",
    "fno = FNO(hbci_solver, export_fragment_data=True)\n",
    "mi_solver = IncrementalDecomposition(electronic_structure_solver=fno,\n",
    "                                     truncation_order=2)\n",
    "# Submit the problem to the cloud.\n",
    "HF_handle = mi_solver.simulate(system=HF_mol)\n",
    "print(f\"\\nHF handle: {HF_handle}\")\n",
    "\n",
    "# Retrieving the results.\n",
    "HF_result = mi_solver.get_result()\n",
    "```\n",
    "\n",
    "The `HF_result` can be saved in a json file with the following code snipplet.\n",
    "```python\n",
    "import json\n",
    "with open(\"your_file_path\", \"w\") as f:\n",
    "    json.dump(HF_result, f)\n",
    "```"
   ]
  },
  {
   "cell_type": "markdown",
   "metadata": {},
   "source": [
    "## Import MI-FNO fragments into Tangelo"
   ]
  },
  {
   "cell_type": "code",
   "execution_count": null,
   "metadata": {},
   "outputs": [],
   "source": [
    "from tangelo.problem_decomposition import MIFNOHelper"
   ]
  },
  {
   "cell_type": "code",
   "execution_count": null,
   "metadata": {},
   "outputs": [],
   "source": [
    "fno_fragments = MIFNOHelper(json_file=\"./data/HF_MIFNO_trunc2.json\")\n",
    "print(fno_fragments)"
   ]
  },
  {
   "cell_type": "markdown",
   "metadata": {},
   "source": [
    "### Downloading molecular coefficients files"
   ]
  },
  {
   "cell_type": "code",
   "execution_count": null,
   "metadata": {},
   "outputs": [],
   "source": [
    "# Creating of a mo_coeff folder.\n",
    "os.mkdir(\"./mo_coeff\")\n",
    "\n",
    "# Downloading the HDF5 files to the \n",
    "fno_fragments.retrieve_mo_coeff(\"./mo_coeff\")"
   ]
  },
  {
   "cell_type": "markdown",
   "metadata": {},
   "source": [
    "### Reconstructing a fragment Hamiltonian"
   ]
  },
  {
   "cell_type": "code",
   "execution_count": null,
   "metadata": {},
   "outputs": [],
   "source": [
    "from tangelo import SecondQuantizedMolecule\n",
    "from tangelo.toolboxes.qubit_mappings.mapping_transform import fermion_to_qubit_mapping\n",
    "\n",
    "mol = SecondQuantizedMolecule(HF_coordinates, q=charge, spin=spin, basis=basis)\n",
    "\n",
    "ferm_op = fno_fragments.compute_fermionoperator(mol, \"(1, 2)\")\n",
    "qu_op = fermion_to_qubit_mapping(ferm_op, mapping=\"JW\")"
   ]
  },
  {
   "cell_type": "code",
   "execution_count": null,
   "metadata": {},
   "outputs": [],
   "source": [
    "#e = fno_fragments.mi_summation()#{\"(1, 2)\": -15.56})\n",
    "#print(e)"
   ]
  },
  {
   "cell_type": "markdown",
   "metadata": {},
   "source": [
    "## VQE on a Fragment"
   ]
  },
  {
   "cell_type": "code",
   "execution_count": null,
   "metadata": {},
   "outputs": [],
   "source": [
    "from openfermion.linalg import qubit_operator_sparse"
   ]
  }
 ],
 "metadata": {
  "kernelspec": {
   "display_name": "qsdk",
   "language": "python",
   "name": "qsdk"
  },
  "language_info": {
   "codemirror_mode": {
    "name": "ipython",
    "version": 3
   },
   "file_extension": ".py",
   "mimetype": "text/x-python",
   "name": "python",
   "nbconvert_exporter": "python",
   "pygments_lexer": "ipython3",
   "version": "3.9.9"
  }
 },
 "nbformat": 4,
 "nbformat_minor": 4
}
