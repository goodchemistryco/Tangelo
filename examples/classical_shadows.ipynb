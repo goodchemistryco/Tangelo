{
 "cells": [
  {
   "cell_type": "markdown",
   "metadata": {},
   "source": [
    "# Classical Shadows\n",
    "\n",
    "The output of a quantum computer is a histogram of measurements, corresponding to the different outcomes observed, usually expressed as bitstrings. The cost and duration of a quantum experiment is roughly linear with the number of shots used to build such histograms, which also correlates with the accuracy of the results. The emergent method classical shadows ([Nat. Phys. 2020, 16, 1050–1057](https://arxiv.org/abs/2002.08953)) have been developed to mitigate the measurement overhead by offloading quantum tasks to the pre- and post-processing steps. This prediction protocol exhibits logarithmic scaling with the number of shots to evaluate observables within a wanted accuracy.\n",
    "\n",
    "In short, gates representing a unitary are appended to the state encoded in a quantum circuit. An experiment is carried out and the output bitstring (100101..) is stored in a conventional register. This is repeated $N$ times, where $N$ defines the shadow size. Observables are computed from this representation called a \"classical shadow\". Different classical shadow flavours exist, as they come with a specific protocol for choosing a set of unitaries. The figure below, taken from  taken from [Nat. Phys. 16, 1050–1057 (2020)](https://arxiv.org/abs/2002.08953), illustrates the protocol.\n",
    "\n",
    "![Classical Shadows overview](img/classical_shadow_overview.png \"Classical Shadow\")\n",
    "\n",
    "Users can leverage this protocol by performing the relevant pre- and post-processing functions, as introduced in this notebook. The randomized, derandomized and adaptive single-qubit Pauli basis classical shadows are currently available in Tangelo."
   ]
  },
  {
   "cell_type": "markdown",
   "metadata": {},
   "source": [
    "## System\n",
    "To demonstrate the classical shadow capabilities, we first define a molecular system composed of two hydrogen atoms in the 3-21G basis. When translated a qubit-compatible language, the scBK-Hamiltonian acts on 6 qubits."
   ]
  },
  {
   "cell_type": "code",
   "execution_count": 1,
   "metadata": {},
   "outputs": [
    {
     "name": "stdout",
     "output_type": "stream",
     "text": [
      "Number of qubits to describe the system: 6\n"
     ]
    }
   ],
   "source": [
    "from tangelo.molecule_library import mol_H2_321g\n",
    "from tangelo.toolboxes.qubit_mappings.mapping_transform import fermion_to_qubit_mapping\n",
    "from tangelo.toolboxes.operators import count_qubits\n",
    "\n",
    "# Encoding options.\n",
    "encoding = \"scBK\"\n",
    "up_then_down = True\n",
    "\n",
    "# Converting the fermionic Hamiltonian according to the encoding options.\n",
    "qubit_ham = fermion_to_qubit_mapping(mol_H2_321g.fermionic_hamiltonian, \n",
    "                                     encoding, \n",
    "                                     n_spinorbitals=mol_H2_321g.n_active_sos, \n",
    "                                     n_electrons=mol_H2_321g.n_active_electrons, \n",
    "                                     up_then_down=up_then_down)\n",
    "\n",
    "print(f\"Number of qubits to describe the system: {count_qubits(qubit_ham)}\")"
   ]
  },
  {
   "cell_type": "markdown",
   "metadata": {},
   "source": [
    "For this example, the qubit coupled-cluster (QCC) ansatz have been chosen ([J. Chem. Theory Comput. 2018, 14(12), 6317–6326](https://pubs.acs.org/doi/10.1021/acs.jctc.8b00932)). While the depth of the circuit rapidly increases as the size of the molecule increases, the QCC ansatz admits a low-depth quantum circuit compared to a widely used unitary coupled-cluster single and double (UCCSD) ansatz. "
   ]
  },
  {
   "cell_type": "code",
   "execution_count": 2,
   "metadata": {
    "scrolled": true
   },
   "outputs": [
    {
     "name": "stdout",
     "output_type": "stream",
     "text": [
      "Number of gates in the circuit: 79\n"
     ]
    }
   ],
   "source": [
    "from tangelo.toolboxes.ansatz_generator.qcc import QCC\n",
    "\n",
    "ansatz = QCC(mol_H2_321g, mapping=encoding, up_then_down=up_then_down)\n",
    "ansatz.build_circuit()\n",
    "\n",
    "print(f\"Number of gates in the circuit: {ansatz.circuit.size}\")"
   ]
  },
  {
   "cell_type": "markdown",
   "metadata": {},
   "source": [
    "The Variational Quantum Eigensolver (VQE) has been introduced in another notebook as a hybrid quantum–classical algorithm for simulating quantum systems. In the next cell, we focus on VQE within the context of minimizing the QCC variational parameters in respect to the 3-21G dihydrogen energy."
   ]
  },
  {
   "cell_type": "code",
   "execution_count": 3,
   "metadata": {},
   "outputs": [
    {
     "name": "stdout",
     "output_type": "stream",
     "text": [
      "Energy from statevector simulation: -1.1475 hartree\n"
     ]
    }
   ],
   "source": [
    "from tangelo.algorithms.variational import VQESolver\n",
    "\n",
    "vqe = VQESolver({\"qubit_hamiltonian\": qubit_ham, \"ansatz\": ansatz.circuit})\n",
    "vqe.build()\n",
    "energy_ref = vqe.simulate()\n",
    "print(f\"Energy from statevector simulation: {energy_ref:.4f} hartree\")"
   ]
  },
  {
   "cell_type": "markdown",
   "metadata": {},
   "source": [
    "Now, we can refer to the optimized circuit with the `vqe.optimal_circuit` keyword and we know that with the provided Hamiltonian, the ideal energy is -1.1475 hartree. A visual representation of the circuit is shown below.\n",
    "\n",
    "![QCC circuit for H2 in 3-21G basis](img/H2_321g_QCC.png \"QCC circuit\")"
   ]
  },
  {
   "cell_type": "markdown",
   "metadata": {},
   "source": [
    "## Reference values\n",
    "We want to acquire a reference value to evaluate the efficacy of classical shadows. One of the state-of-the-art method is the qubitwise commutativity accessible with the `group_qwc` function. It defines the minimal number of basis to measure by identifying commutating terms. Then, the number of shots can be distributed equally or according to a heuristic that considers the term coefficients.\n",
    "\n",
    "The reference value compute in the next cell only contains statistical errors and no quantum noise, \n",
    "even though it is always present in hardware. This shot-based simulation culminates with an energy containing an  error $\\epsilon$, inherent to the finite numbers of measurements. This error $\\epsilon$ will be compared to the ones coming from classical shadow protocols. A user who wants to compare noisy values can do it so by providing the appropriate `noise_model` to the `Simulator` defined in the next cell. "
   ]
  },
  {
   "cell_type": "code",
   "execution_count": 4,
   "metadata": {},
   "outputs": [
    {
     "name": "stdout",
     "output_type": "stream",
     "text": [
      "Energy with qubit-wie commutativity and equally distributed shots: -1.1507 hartree\n",
      "Error vs statevector simulation: 0.003 hartree\n"
     ]
    }
   ],
   "source": [
    "from tangelo.toolboxes.operators import QubitOperator\n",
    "from tangelo.toolboxes.measurements import group_qwc, exp_value_from_measurement_bases\n",
    "from tangelo.linq import Simulator, Circuit\n",
    "from tangelo.linq.helpers import measurement_basis_gates\n",
    "\n",
    "# Performing qubit-wise commutativity.\n",
    "qubitwise_measurements = group_qwc(qubit_ham)\n",
    "\n",
    "# Dividing the available number of shots equally for the amount of identified basis.\n",
    "n_shots_budget = 10000\n",
    "n_shots_per_basis = round(n_shots_budget / len(qubitwise_measurements))\n",
    "\n",
    "# Shot-based backend.\n",
    "backend = Simulator(\"cirq\", n_shots=n_shots_per_basis, noise_model=None)\n",
    "\n",
    "# Computing the histograms for the grouped basis.\n",
    "qubitwise_results = dict()\n",
    "for basis in qubitwise_measurements.keys():\n",
    "    basis_circuit = Circuit(measurement_basis_gates(basis))\n",
    "    qubitwise_results[basis], _ = backend.simulate(vqe.optimal_circuit + basis_circuit)\n",
    "\n",
    "# Computing the energy from the histograms.\n",
    "energy_shots = exp_value_from_measurement_bases(qubitwise_measurements, qubitwise_results)\n",
    "\n",
    "print(f\"Energy with qubit-wie commutativity and equally distributed shots: {energy_shots:.4f} hartree\")\n",
    "print(f\"Error vs statevector simulation: {abs(energy_ref-energy_shots):.3f} hartree\")"
   ]
  },
  {
   "cell_type": "markdown",
   "metadata": {},
   "source": [
    "## Classical Shadows\n",
    "In this section, we will revisit the computation of the 3-21G dihydrogen energy with the QCC ansatz with the classical shadow protocols. Firstly, we change the number of shots in the backend to 1. Although it not required, a warning would appear and the number will be changed automatically."
   ]
  },
  {
   "cell_type": "code",
   "execution_count": 5,
   "metadata": {
    "scrolled": true
   },
   "outputs": [],
   "source": [
    "backend.n_shots = 1"
   ]
  },
  {
   "cell_type": "markdown",
   "metadata": {},
   "source": [
    "As stated at the beginning of this notebook, three classical shadow flavours are available in Tangelo. Each flavour has a distinct class: `RandomizedClassicalShadow`, `DerandomizedClassicalShadow` and `AdaptiveClassicalShadow`. Common methods `build` and `simulate` are defined to respectively construct the unitaries set and simulate results with a given backend."
   ]
  },
  {
   "cell_type": "markdown",
   "metadata": {},
   "source": [
    "### Randomized Single-Qubit Pauli Classical Shadows\n",
    "Randomized classical shadows come from the original report. Random basis are constructed from the tensor product of random single-qubit Pauli gates ($X$, $Y$ or $Z$). The samples can then be inverted with a simple quantum channel\n",
    "\n",
    "$$\n",
    "\\mathcal{M}_p^{-1} = \\bigotimes_{i=1}^n \\mathcal{M}_i^{-1}\n",
    "$$\n",
    "\n",
    "Observables can then be predicted from the median of means. More details can be found in [Nat. Phys. 16, 1050–1057 (2020)](https://arxiv.org/abs/2002.08953)."
   ]
  },
  {
   "cell_type": "code",
   "execution_count": 6,
   "metadata": {},
   "outputs": [
    {
     "name": "stdout",
     "output_type": "stream",
     "text": [
      "Energy from randomized single-Pauli classical shadow: -0.8917 hartree\n",
      "Error vs statevector simulation: 0.256 hartree\n"
     ]
    }
   ],
   "source": [
    "from tangelo.toolboxes.measurements import RandomizedClassicalShadow\n",
    "\n",
    "random_cs = RandomizedClassicalShadow(vqe.optimal_circuit)\n",
    "random_cs.build(n_shots_budget)\n",
    "random_cs.simulate(backend)\n",
    "\n",
    "energy_random = random_cs.get_observable(qubit_ham)\n",
    "print(f\"Energy from randomized single-Pauli classical shadow: {energy_random:.4f} hartree\")\n",
    "print(f\"Error vs statevector simulation: {abs(energy_ref-energy_random):.3f} hartree\")"
   ]
  },
  {
   "cell_type": "markdown",
   "metadata": {},
   "source": [
    "### Derandomized Single-Qubit Pauli Classical Shadows\n",
    "The derandomized procedure comes to fix a problem with the randomized procedure. As the number of qubits increases, the probability of hitting long Pauli words in a qubit Hamiltonian decrease greatly. Therefore, bigger shadows are needed to compute an osbervable within a reasonable accuracy. The derandomized procedure uses a provided qubit operator to steer the basis choices, thus removing the randomness. This results in basis hitting the relevant operator systematically. More details on this algorithm can be found in [Phys. Rev. Lett. 127, 030503](https://arxiv.org/abs/2103.07510)."
   ]
  },
  {
   "cell_type": "code",
   "execution_count": 7,
   "metadata": {},
   "outputs": [
    {
     "name": "stdout",
     "output_type": "stream",
     "text": [
      "Energy from derandomized single-Pauli classical shadow: -1.1530 hartree\n",
      "Error vs statevector simulation: 0.006 hartree\n"
     ]
    }
   ],
   "source": [
    "from tangelo.toolboxes.measurements import DerandomizedClassicalShadow\n",
    "\n",
    "derandom_cs = DerandomizedClassicalShadow(vqe.optimal_circuit)\n",
    "derandom_cs.build(n_shots_budget, qubit_ham)\n",
    "derandom_cs.simulate(backend)\n",
    "\n",
    "energy_derandom = derandom_cs.get_observable(qubit_ham)\n",
    "print(f\"Energy from derandomized single-Pauli classical shadow: {energy_derandom:.4f} hartree\")\n",
    "print(f\"Error vs statevector simulation: {abs(energy_ref-energy_derandom):.3f} hartree\")"
   ]
  },
  {
   "cell_type": "markdown",
   "metadata": {},
   "source": [
    "### Adaptive Single-Qubit Pauli Classical Shadows\n",
    "Another procedure for choosing single-qubit Pauli basis is an adaptive one. It uses an iterative process to draw a Pauli gate for each qubit, one at the time. The probability distributions are built so the next single-qubit Pauli gates drawn will depend on the measurement bases already assigned to previous qubits. This shifts the single-qubit Pauli basis choice towards terms hitting a provided operator, while keeping a fair amount of randomness to extent the state characterization coverage. For more details on this algorithm, we refer to [arXiv:2105.12207](https://arxiv.org/abs/2105.12207)."
   ]
  },
  {
   "cell_type": "code",
   "execution_count": 8,
   "metadata": {},
   "outputs": [
    {
     "name": "stdout",
     "output_type": "stream",
     "text": [
      "Energy from adaptive single-Pauli classical shadow: -1.1505 hartree\n",
      "Error vs statevector simulation: 0.003 hartree\n"
     ]
    }
   ],
   "source": [
    "from tangelo.toolboxes.measurements import AdaptiveClassicalShadow\n",
    "\n",
    "adaptive_cs = AdaptiveClassicalShadow(vqe.optimal_circuit)\n",
    "adaptive_cs.build(n_shots_budget, qubit_ham)\n",
    "adaptive_cs.simulate(backend)\n",
    "\n",
    "energy_adaptive = adaptive_cs.get_observable(qubit_ham)\n",
    "print(f\"Energy from adaptive single-Pauli classical shadow: {energy_adaptive:.4f} hartree\")\n",
    "print(f\"Error vs statevector simulation: {abs(energy_ref-energy_adaptive):.3f} hartree\")"
   ]
  },
  {
   "cell_type": "markdown",
   "metadata": {},
   "source": [
    "## More data...\n",
    "Due to the nature of the classical shadow processes, there is a random component during evaluation of observables. This is why your mileage may vary if you try to rerun all code cells in this notebook. To better portray the situation, we preran 10 simulations of 10 000 shots for all the methods and the results (energy in hartree vs the FCI value) are shown in the plot below. The ideal energy (0.0 vs FCI) is represented by the dashed line."
   ]
  },
  {
   "cell_type": "code",
   "execution_count": 9,
   "metadata": {},
   "outputs": [
    {
     "data": {
      "image/png": "[encoded data removed]",
      "text/plain": [
       "<Figure size 720x432 with 1 Axes>"
      ]
     },
     "metadata": {
      "needs_background": "light"
     },
     "output_type": "display_data"
    }
   ],
   "source": [
    "import matplotlib.pyplot as plt\n",
    "import numpy as np\n",
    "\n",
    "data = np.array([\n",
    "    [ 0.00508,  0.02309, -0.03742, -0.02013],\n",
    "    [ 0.01601, -0.16360, -0.02321, -0.02002],\n",
    "    [ 0.04252,  0.03412,  0.00546, -0.05518],\n",
    "    [ 0.01322,  0.10274,  0.00458,  0.02129],\n",
    "    [ 0.05665, -0.01826, -0.00687, -0.01218],\n",
    "    [ 0.05709, -0.08834, -0.01307,  0.00555],\n",
    "    [-0.00185,  0.07029,  0.00910, -0.02183],\n",
    "    [ 0.03663,  0.09825, -0.00555,  0.00459],\n",
    "    [-0.00593,  0.09175, -0.00332, -0.04029],\n",
    "    [ 0.00574, -0.03616,  0.00986, -0.02638]\n",
    "])\n",
    "\n",
    "_, ax = plt.subplots(figsize=(10,6))\n",
    "VP = ax.boxplot(data, positions=[2, 4, 6, 8], \n",
    "                labels=[\"Qubitwise commutativity\", \"Randomized\", \"Derandomized\", \"Adaptive\"],\n",
    "                widths=1.5, patch_artist=True,\n",
    "                showmeans=False, showfliers=False,\n",
    "                medianprops={\"color\": \"white\", \"linewidth\": 2},\n",
    "                boxprops={\"facecolor\": \"#003262\", \"edgecolor\": \"white\", \"linewidth\": 1},\n",
    "                whiskerprops={\"color\": \"#003262\", \"linewidth\": 3},\n",
    "                capprops={\"color\": \"#003262\", \"linewidth\": 3})\n",
    "\n",
    "ax.set(ylim=(-.18, .15), xlim=(1, 9))\n",
    "ax.hlines(y=0., xmin=0, xmax=10, linewidth=2, color=\"k\", linestyles=\"dashed\")\n",
    "\n",
    "ax.set_ylabel(r\"(Noiseless Energy - FCI Energy) / Hartree\")\n",
    "plt.show()"
   ]
  },
  {
   "cell_type": "markdown",
   "metadata": {},
   "source": [
    "For the noiseless case, the plot shows an advantage of using the derandomized and adaptive single-qubit Pauli classical shadows for a given number of shots. The case is not so clear regarding randomized classical shadows. Several studies have taken a look at the noise implication of predicting observables with shadows ([arXiv:2011.09636](https://arxiv.org/abs/2011.09636) and [arXiv:2011.11580](https://arxiv.org/abs/2011.11580)). Those evidences point to a noise robustness inherent to this mesaurement procedure, especially when in comparison with the simpler qubitwise commutativity protocol."
   ]
  },
  {
   "cell_type": "markdown",
   "metadata": {},
   "source": [
    "## Closing words\n",
    "We demonstrated the use of several classical shadow protocols in this notebook. As their theoretical scaling is logarithmic with the number of shots, their potential is significant. In this notebook, we witness that this scaling advantage may not be noticeable with the small system studied here (6 qubits). Nevertheless, some studies relate resilience of classical shadows in respect to noise. \n",
    "\n",
    "## References\n",
    "1. Chen, S., Yu, W., Zeng, P. & Flammia, S. T. Robust shadow estimation. arXiv:2011.09636 [quant-ph] (2020).\n",
    "2. Koh, D. E. & Grewal, S. Classical Shadows with Noise. arXiv:2011.11580 [math-ph, physics:quant-ph] (2020).\n",
    "3. Huang, H.-Y., Kueng, R. & Preskill, J. Efficient estimation of Pauli observables by derandomization. arXiv:2103.07510 [quant-ph] (2021).\n",
    "4. Hadfield, C. Adaptive Pauli Shadows for Energy Estimation. arXiv:2105.12207 [quant-ph] (2021).\n",
    "5. Huang, H. Y., Kueng, R. & Preskill, J. Predicting many properties of a quantum system from very few measurements. Nature Physics 16, 1050–1057 (2020)."
   ]
  }
 ],
 "metadata": {
  "kernelspec": {
   "display_name": "qsdk",
   "language": "python",
   "name": "qsdk"
  },
  "language_info": {
   "codemirror_mode": {
    "name": "ipython",
    "version": 3
   },
   "file_extension": ".py",
   "mimetype": "text/x-python",
   "name": "python",
   "nbconvert_exporter": "python",
   "pygments_lexer": "ipython3",
   "version": "3.9.9"
  }
 },
 "nbformat": 4,
 "nbformat_minor": 4
}
