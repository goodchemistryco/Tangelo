{
 "cells": [
  {
   "cell_type": "markdown",
   "metadata": {},
   "source": [
    "# Classical Shadows\n",
    "\n",
    "The output of a quantum computer is a histogram of measurements, corresponding to the different outcomes observed, usually expressed as bitstrings. The cost and duration of a quantum experiment is roughly linear with the number of shots used to build such histograms, which also correlates with the accuracy of the results. The emergent method of classical shadows ([Nat. Phys. 16, 1050–1057 (2020)](https://arxiv.org/abs/2002.08953)) have been developed to mitigate the measurement overhead by offloading quantum tasks to the pre- and post-processing steps. This prediction protocol exhibits logarithmic scaling with the number of shots to evaluate observables within a wanted accuracy. \n",
    "\n",
    "Tangelo users can leverage this protocol by performing the relevant pre- and post-processing functions, as introduced in this notebook."
   ]
  },
  {
   "cell_type": "markdown",
   "metadata": {},
   "source": [
    "## System\n",
    "\n",
    "To demonstrate the classical shadow capabilities, we first define a molecular system composed of two hydrogen atoms in the 3-21G basis. When translated to a qubit language, it  "
   ]
  },
  {
   "cell_type": "code",
   "execution_count": 7,
   "metadata": {},
   "outputs": [
    {
     "name": "stdout",
     "output_type": "stream",
     "text": [
      "Number of qubits to describe the system: 6\n"
     ]
    }
   ],
   "source": [
    "from tangelo.molecule_library import mol_H2_321g\n",
    "from tangelo.toolboxes.qubit_mappings.mapping_transform import fermion_to_qubit_mapping\n",
    "from tangelo.toolboxes.operators import count_qubits\n",
    "\n",
    "encoding = \"scBK\"\n",
    "up_then_down = True\n",
    "\n",
    "n_spinorbs = mol_H2_321g.n_active_sos\n",
    "n_elecs = mol_H2_321g.n_active_electrons\n",
    "\n",
    "qubit_ham = fermion_to_qubit_mapping(mol_H2_321g.fermionic_hamiltonian, \n",
    "                                     encoding, \n",
    "                                     n_spinorbitals=n_spinorbs, \n",
    "                                     n_electrons=n_elecs, \n",
    "                                     up_then_down=up_then_down)\n",
    "\n",
    "print(f\"Number of qubits to describe the system: {count_qubits(qubit_ham)}\")"
   ]
  },
  {
   "cell_type": "markdown",
   "metadata": {},
   "source": [
    "For this example, the qubit coupled-cluster (QCC) ansatz have been chosen (Journal of Chemical Theory and Computation 2018 14 (12), 6317-6326. 10.1021/acs.jctc.8b00932). The QCC ansatz operator $\\hat{U}(\\tau)$ is specified according to the equation\n",
    "$$\n",
    "\\hat{U}(\\tau) = \\prod_k^{n_g} \\exp{-\\frac{i\\tau_k \\hat{P}_k}{2}}\n",
    "$$\n",
    "\n",
    "While the depth of the circuit rapidly increases as the size of the molecule increases, the QCC ansatz admits a low-depth quantum circuit compared to a widely used unitary coupled-cluster single and double ansatz. "
   ]
  },
  {
   "cell_type": "code",
   "execution_count": 8,
   "metadata": {
    "scrolled": true
   },
   "outputs": [
    {
     "name": "stdout",
     "output_type": "stream",
     "text": [
      "Number of gates in the circuit: 79\n"
     ]
    }
   ],
   "source": [
    "from tangelo.toolboxes.ansatz_generator.qcc import QCC\n",
    "\n",
    "ansatz = QCC(mol_H2_321g, mapping=encoding, up_then_down=up_then_down)\n",
    "ansatz.build_circuit()\n",
    "\n",
    "print(f\"Number of gates in the circuit: {ansatz.circuit.size}\")"
   ]
  },
  {
   "cell_type": "markdown",
   "metadata": {},
   "source": [
    "The Variational Quantum Eigensolver (VQE) has been introduced in another notebook as a hybrid quantum–classical algorithm for simulating quantum systems. In the next cell, we focus on VQE within the context of solving the molecular electronic structure problem for the dihydrogen ground-state energy in the 3-21G basis described by the QCC ansatz."
   ]
  },
  {
   "cell_type": "code",
   "execution_count": 10,
   "metadata": {},
   "outputs": [
    {
     "name": "stdout",
     "output_type": "stream",
     "text": [
      "Energy from statevector simulation: -1.1475 hartree\n"
     ]
    }
   ],
   "source": [
    "from tangelo.algorithms.variational import VQESolver\n",
    "\n",
    "vqe = VQESolver({\"qubit_hamiltonian\": qubit_ham, \"ansatz\": ansatz.circuit})\n",
    "vqe.build()\n",
    "energy_ref = vqe.simulate()\n",
    "print(f\"Energy from statevector simulation: {energy_ref:.4f} hartree\")"
   ]
  },
  {
   "cell_type": "markdown",
   "metadata": {},
   "source": [
    "We can then refer to the optimized circuit with the `vqe.optimal_circuit` keyword and we know that with the provided Hamiltonian, the ideal energy is -1.1475 hartree."
   ]
  },
  {
   "cell_type": "markdown",
   "metadata": {},
   "source": [
    "## Visualization\n",
    "\n",
    "- Visualization of the circuit with the qiskit module\n",
    "- specify no qiskit, no viz. Try cirq.\n",
    "- \"Hardcode\" the png\n",
    "\n",
    "![QCC circuit for H2 in 3-21G basis](img/H2_321g_QCC.png \"QCC circuit\")"
   ]
  },
  {
   "cell_type": "markdown",
   "metadata": {},
   "source": [
    "## Reference values\n",
    "\n",
    "- Without Noise, tell how it should be easy to test\n",
    "- Equally distributed (easiest method)\n",
    "- Research is done to allocate number of measurements depending of the coefficients / variances in a qubit Hamiltonian\n",
    "- We provide qubit-wise commutativity at the time of writing this notebook\n",
    "- Assume number opf terms is large...."
   ]
  },
  {
   "cell_type": "code",
   "execution_count": 6,
   "metadata": {},
   "outputs": [
    {
     "name": "stdout",
     "output_type": "stream",
     "text": [
      "6 shots per term when equally distributed.\n"
     ]
    }
   ],
   "source": [
    "from tangelo.linq import Simulator\n",
    "from tangelo.toolboxes.operators import QubitOperator\n",
    "\n",
    "# qubit-wise?\n",
    "n_shots_per_term = round(n_shots_budget / len(qubit_ham.terms))\n",
    "shots_backend = Simulator(\"cirq\", n_shots=n_shots_per_term, noise_model=None)\n",
    "print(f\"{n_shots_per_term} shots per term when equally distributed.\")"
   ]
  },
  {
   "cell_type": "code",
   "execution_count": 7,
   "metadata": {},
   "outputs": [
    {
     "name": "stdout",
     "output_type": "stream",
     "text": [
      "Energy from equally distributed shots simulation: -1.0465 hartree\n",
      "Error vs statevector simulation: 0.101 hartree\n"
     ]
    }
   ],
   "source": [
    "energy_shots = 0.\n",
    "for term, coeff in qubit_ham.terms.items():\n",
    "    qubit_term = QubitOperator(term, coeff)    \n",
    "    energy_shots += shots_backend.get_expectation_value(qubit_term, vqe.optimal_circuit)\n",
    "\n",
    "print(f\"Energy from equally distributed shots simulation: {energy_shots:.4f} hartree\")\n",
    "print(f\"Error vs statevector simulation: {abs(energy_ref-energy_shots):.3f} hartree\")"
   ]
  },
  {
   "cell_type": "markdown",
   "metadata": {},
   "source": [
    "## Classical Shadows\n",
    "\n",
    "- Talk about defining the backend (without or with noise)\n",
    "- Tell about the warning if n_shots =/= 1 (explain the process behind)\n",
    "- Data structure and important function in our implementation.\n",
    "- Scaling (in what situation good or bad)"
   ]
  },
  {
   "cell_type": "code",
   "execution_count": 8,
   "metadata": {},
   "outputs": [],
   "source": [
    "cs_backend = Simulator(\"cirq\", n_shots=1, noise_model=None)"
   ]
  },
  {
   "cell_type": "markdown",
   "metadata": {},
   "source": [
    "### Randomized Single-Pauli Classical Shadows\n",
    "\n",
    "- Summarize procedure of random sampling."
   ]
  },
  {
   "cell_type": "code",
   "execution_count": 9,
   "metadata": {},
   "outputs": [
    {
     "name": "stdout",
     "output_type": "stream",
     "text": [
      "Energy from randomized single-Pauli classical shadow: -1.0131 hartree\n",
      "Error vs statevector simulation: 0.134 hartree\n"
     ]
    }
   ],
   "source": [
    "from tangelo.toolboxes.measurements import RandomizedClassicalShadow\n",
    "\n",
    "random_cs = RandomizedClassicalShadow(vqe.optimal_circuit)\n",
    "random_cs.build(n_shots_budget)\n",
    "random_cs.simulate(cs_backend)\n",
    "\n",
    "energy_random = random_cs.get_observable(qubit_ham)\n",
    "print(f\"Energy from randomized single-Pauli classical shadow: {energy_random:.4f} hartree\")\n",
    "print(f\"Error vs statevector simulation: {abs(energy_ref-energy_random):.3f} hartree\")"
   ]
  },
  {
   "cell_type": "markdown",
   "metadata": {},
   "source": [
    "### Derandomized Single-Pauli Classical Shadows\n",
    "\n",
    "- Summarize procedure of derandom sampling."
   ]
  },
  {
   "cell_type": "code",
   "execution_count": 10,
   "metadata": {},
   "outputs": [
    {
     "name": "stdout",
     "output_type": "stream",
     "text": [
      "Energy from derandomized single-Pauli classical shadow: -1.1578 hartree\n",
      "Error vs statevector simulation: 0.010 hartree\n"
     ]
    }
   ],
   "source": [
    "from tangelo.toolboxes.measurements import DerandomizedClassicalShadow\n",
    "\n",
    "derandom_cs = DerandomizedClassicalShadow(vqe.optimal_circuit)\n",
    "derandom_cs.build(n_shots_budget, qubit_ham)\n",
    "derandom_cs.simulate(cs_backend)\n",
    "\n",
    "energy_derandom = derandom_cs.get_observable(qubit_ham)\n",
    "print(f\"Energy from derandomized single-Pauli classical shadow: {energy_derandom:.4f} hartree\")\n",
    "print(f\"Error vs statevector simulation: {abs(energy_ref-energy_derandom):.3f} hartree\")"
   ]
  },
  {
   "cell_type": "markdown",
   "metadata": {},
   "source": [
    "### Adaptive Single-Pauli Classical Shadows\n",
    "\n",
    "- Summarize procedure of adaptive sampling."
   ]
  },
  {
   "cell_type": "code",
   "execution_count": 11,
   "metadata": {},
   "outputs": [
    {
     "name": "stdout",
     "output_type": "stream",
     "text": [
      "Energy from adaptive single-Pauli classical shadow: -1.2486 hartree\n",
      "Error vs statevector simulation: 0.101 hartree\n"
     ]
    }
   ],
   "source": [
    "from tangelo.toolboxes.measurements import AdaptiveClassicalShadow\n",
    "\n",
    "adaptive_cs = AdaptiveClassicalShadow(vqe.optimal_circuit)\n",
    "adaptive_cs.build(n_shots_budget, qubit_ham)\n",
    "adaptive_cs.simulate(cs_backend)\n",
    "\n",
    "energy_adaptive = adaptive_cs.get_observable(qubit_ham)\n",
    "print(f\"Energy from adaptive single-Pauli classical shadow: {energy_adaptive:.4f} hartree\")\n",
    "print(f\"Error vs statevector simulation: {abs(energy_ref-energy_adaptive):.3f} hartree\")"
   ]
  },
  {
   "cell_type": "markdown",
   "metadata": {},
   "source": [
    "## More data...\n",
    "\n",
    "- There are some randomness in the classical shadows protocol. Therefore, your mileage may vary.\n",
    "- We have ran 10 simulations, with JW and scBK encoding (8 or 6 qubits).\n",
    "- Plot of abs(e_shadow - e_statevector).\n",
    "![Alt Text](img/draft_classical_shadow_flavours.png \"Plot\")\n",
    "\n",
    "- Discussion about the plot: classical shadow gives a probability of computing an observable within a given accuracy vs the number fo shots.\n",
    "- Talk about the noise resistance -> classical shadows is more robust."
   ]
  },
  {
   "cell_type": "markdown",
   "metadata": {},
   "source": [
    "## Closing words\n",
    "\n",
    "- Closing words...\n",
    "- Summarize what has been learnt"
   ]
  }
 ],
 "metadata": {
  "kernelspec": {
   "display_name": "qsdk",
   "language": "python",
   "name": "qsdk"
  },
  "language_info": {
   "codemirror_mode": {
    "name": "ipython",
    "version": 3
   },
   "file_extension": ".py",
   "mimetype": "text/x-python",
   "name": "python",
   "nbconvert_exporter": "python",
   "pygments_lexer": "ipython3",
   "version": "3.9.9"
  }
 },
 "nbformat": 4,
 "nbformat_minor": 4
}
