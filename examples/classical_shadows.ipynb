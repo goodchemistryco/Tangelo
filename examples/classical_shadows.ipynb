{
 "cells": [
  {
   "cell_type": "markdown",
   "metadata": {},
   "source": [
    "# Classical Shadows\n",
    "\n",
    "The output of a quantum computer is a histogram of measurements, corresponding to the different outcomes observed, usually expressed as bitstrings. The cost and duration of a quantum experiment is roughly linear with the number of shots used to build such histograms, which also correlates with the accuracy of the results. The emergent method of classical shadows ([Nat. Phys. 16, 1050–1057 (2020)](https://arxiv.org/abs/2002.08953)) have been developed to mitigate the measurement overhead by offloading quantum tasks to the pre- and post-processing steps. This prediction protocol exhibits logarithmic scaling with the number of shots to evaluate observables within a wanted accuracy.\n",
    "\n",
    "In short, gates representing a unitary are appended to the state encoded in a quantum circuit. An experiment is carried out and the output bitstring (100101..) is stored in a conventional register. This is repeated $N$ times, where $N$ is defnied as the shadow size. Observables are computed from this representation called a \"classical shadow\". Different classical shadow flavours exist, as they each comes with a specific protocol for choosing a set of unitaries to append.\n",
    "\n",
    "![Classical Shadows overview](img/classical_shadow_overview.png \"Classical Shadow\")\n",
    "(Cite the original paper)\n",
    "\n",
    "Users can leverage this protocol by performing the relevant pre- and post-processing functions, as introduced in this notebook. The randomized, derandomized and adaptive single-qubit Pauli basis classical shadows are currently available in Tangelo."
   ]
  },
  {
   "cell_type": "markdown",
   "metadata": {},
   "source": [
    "## System\n",
    "\n",
    "To demonstrate the classical shadow capabilities, we first define a molecular system composed of two hydrogen atoms in the 3-21G basis. When translated to a qubit language, it  "
   ]
  },
  {
   "cell_type": "code",
   "execution_count": 1,
   "metadata": {},
   "outputs": [
    {
     "name": "stdout",
     "output_type": "stream",
     "text": [
      "Number of qubits to describe the system: 6\n"
     ]
    }
   ],
   "source": [
    "from tangelo.molecule_library import mol_H2_321g\n",
    "from tangelo.toolboxes.qubit_mappings.mapping_transform import fermion_to_qubit_mapping\n",
    "from tangelo.toolboxes.operators import count_qubits\n",
    "\n",
    "# Encoding options.\n",
    "encoding = \"scBK\"\n",
    "up_then_down = True\n",
    "\n",
    "# Converting the fermionic Hamiltonian according to the encoding options.\n",
    "qubit_ham = fermion_to_qubit_mapping(mol_H2_321g.fermionic_hamiltonian, \n",
    "                                     encoding, \n",
    "                                     n_spinorbitals=mol_H2_321g.n_active_sos, \n",
    "                                     n_electrons=mol_H2_321g.n_active_electrons, \n",
    "                                     up_then_down=up_then_down)\n",
    "\n",
    "print(f\"Number of qubits to describe the system: {count_qubits(qubit_ham)}\")"
   ]
  },
  {
   "cell_type": "markdown",
   "metadata": {},
   "source": [
    "For this example, the qubit coupled-cluster (QCC) ansatz have been chosen (Journal of Chemical Theory and Computation 2018 14 (12), 6317-6326. 10.1021/acs.jctc.8b00932). The QCC ansatz operator $\\hat{U}(\\tau)$ is specified according to the equation\n",
    "$$\n",
    "\\hat{U}(\\tau) = \\prod_k^{n_g} \\exp{-\\frac{i\\tau_k \\hat{P}_k}{2}}\n",
    "$$\n",
    "\n",
    "While the depth of the circuit rapidly increases as the size of the molecule increases, the QCC ansatz admits a low-depth quantum circuit compared to a widely used unitary coupled-cluster single and double ansatz. "
   ]
  },
  {
   "cell_type": "code",
   "execution_count": 2,
   "metadata": {
    "scrolled": true
   },
   "outputs": [
    {
     "name": "stdout",
     "output_type": "stream",
     "text": [
      "Number of gates in the circuit: 79\n"
     ]
    }
   ],
   "source": [
    "from tangelo.toolboxes.ansatz_generator.qcc import QCC\n",
    "\n",
    "ansatz = QCC(mol_H2_321g, mapping=encoding, up_then_down=up_then_down)\n",
    "ansatz.build_circuit()\n",
    "\n",
    "print(f\"Number of gates in the circuit: {ansatz.circuit.size}\")"
   ]
  },
  {
   "cell_type": "markdown",
   "metadata": {},
   "source": [
    "The Variational Quantum Eigensolver (VQE) has been introduced in another notebook as a hybrid quantum–classical algorithm for simulating quantum systems. In the next cell, we focus on VQE within the context of solving the molecular electronic structure problem for the dihydrogen ground-state energy in the 3-21G basis described by the QCC ansatz."
   ]
  },
  {
   "cell_type": "code",
   "execution_count": 3,
   "metadata": {},
   "outputs": [
    {
     "name": "stdout",
     "output_type": "stream",
     "text": [
      "Energy from statevector simulation: -1.1475 hartree\n"
     ]
    }
   ],
   "source": [
    "from tangelo.algorithms.variational import VQESolver\n",
    "\n",
    "vqe = VQESolver({\"qubit_hamiltonian\": qubit_ham, \"ansatz\": ansatz.circuit})\n",
    "vqe.build()\n",
    "energy_ref = vqe.simulate()\n",
    "print(f\"Energy from statevector simulation: {energy_ref:.4f} hartree\")"
   ]
  },
  {
   "cell_type": "markdown",
   "metadata": {},
   "source": [
    "Now, we can refer to the optimized circuit with the `vqe.optimal_circuit` keyword and we know that with the provided Hamiltonian, the ideal energy is -1.1475 hartree. A visual representation of the circuit is shown below.\n",
    "\n",
    "![QCC circuit for H2 in 3-21G basis](img/H2_321g_QCC.png \"QCC circuit\")"
   ]
  },
  {
   "cell_type": "markdown",
   "metadata": {},
   "source": [
    "## Reference values\n",
    "\n",
    "- Without Noise, tell how it should be easy to test\n",
    "- Equally distributed (easiest method)\n",
    "- Research is done to allocate number of measurements depending of the coefficients / variances in a qubit Hamiltonian\n",
    "- We provide qubit-wise commutativity at the time of writing this notebook\n",
    "- Assume number of terms is large....\n",
    "\n",
    "Nextly, we want to acquire a reference value to evaluate the efficacy of classical shadows. One of the state-of-the-art method is the qubitwise commutativity accessible with the `group_qwc` function. It defines the minimal number of basis to measure by identifying commutating terms. Then, the number of shots can be distributed equally or according to an heuristic that considers the term coefficients.\n",
    "\n",
    "The reference value compute in the next cell only contains statistical error and no quantum noise present in hardware. This shot-based simulation culminates with an energy containing an  error $\\epsilon$, inherent to the finite numbers of measurements. This error $\\epsilon$ will be compared to the ones coming from classical shadow protocols. A user who wants to compare noisy values can do it so by providing the appropriate `noise_model` to the `Simulator` defined in the few next cells. "
   ]
  },
  {
   "cell_type": "code",
   "execution_count": 4,
   "metadata": {},
   "outputs": [
    {
     "name": "stdout",
     "output_type": "stream",
     "text": [
      "Energy with qubit-wie commutativity and equally distributed shots: -1.1948 hartree\n",
      "Error vs statevector simulation: 0.047 hartree\n"
     ]
    }
   ],
   "source": [
    "from tangelo.toolboxes.operators import QubitOperator\n",
    "from tangelo.toolboxes.measurements import group_qwc, exp_value_from_measurement_bases\n",
    "from tangelo.linq import Simulator, Circuit\n",
    "from tangelo.linq.helpers import measurement_basis_gates\n",
    "\n",
    "# Performing qubit-wise commutativity.\n",
    "qubitwise_measurements = group_qwc(qubit_ham)\n",
    "\n",
    "# Dividing the available number of shots equally for the amount of identified basis.\n",
    "n_shots_budget = 10000\n",
    "n_shots_per_basis = round(n_shots_budget / len(qubitwise_measurements))\n",
    "\n",
    "# Shot-based backend.\n",
    "backend = Simulator(\"cirq\", n_shots=n_shots_per_basis, noise_model=None)\n",
    "\n",
    "# Computing the histograms for the grouped basis.\n",
    "qubitwise_results = dict()\n",
    "for basis in qubitwise_measurements.keys():\n",
    "    basis_circuit = Circuit(measurement_basis_gates(basis))\n",
    "    qubitwise_results[basis], _ = backend.simulate(vqe.optimal_circuit + basis_circuit)\n",
    "\n",
    "# Computing the energy from the histograms.\n",
    "energy_shots = exp_value_from_measurement_bases(qubitwise_measurements, qubitwise_results)\n",
    "\n",
    "print(f\"Energy with qubit-wie commutativity and equally distributed shots: {energy_shots:.4f} hartree\")\n",
    "print(f\"Error vs statevector simulation: {abs(energy_ref-energy_shots):.3f} hartree\")"
   ]
  },
  {
   "cell_type": "markdown",
   "metadata": {},
   "source": [
    "## Classical Shadows\n",
    "\n",
    "- Talk about defining the backend (without or with noise)\n",
    "- Tell about the warning if n_shots =/= 1 (explain the process behind)\n",
    "- Data structure and important function in our implementation.\n",
    "\n",
    "Firstly, we change the number of shots in the backend to 1. It is not necessary, but a warning would appear and the number will be changed automatically."
   ]
  },
  {
   "cell_type": "code",
   "execution_count": 5,
   "metadata": {
    "scrolled": true
   },
   "outputs": [],
   "source": [
    "backend.n_shots = 1"
   ]
  },
  {
   "cell_type": "markdown",
   "metadata": {},
   "source": [
    "As stated earlier, three classical shadow flavours are available in Tangelo. Each flavour has a distinct class: `RandomizedClassicalShadow`, `DerandomizedClassicalShadow` and `AdaptiveClassicalShadow`. Common methods `build` and `simulate` are defined to respectively construct the unitaries set and simulate results with a given backend."
   ]
  },
  {
   "cell_type": "markdown",
   "metadata": {},
   "source": [
    "### Randomized Single-Qubit Pauli Classical Shadows\n",
    "\n",
    "Randomized procedure comes from the original report on classical shadows. Random basis are constructed from the tensor product of random Pauli single-qubit gates (X, Y or Z). Those samples can then be inverted with the quantum channel\n",
    "\n",
    "$$\n",
    "\\mathcal{M}_p^{-1} = \\bigotimes_{i=1}^n \\mathcal{M}_i^{-1}\n",
    "$$\n",
    "\n",
    "Observables can then be predicted from the median of means. More details can be found in [Nat. Phys. 16, 1050–1057 (2020)](https://arxiv.org/abs/2002.08953)."
   ]
  },
  {
   "cell_type": "code",
   "execution_count": 6,
   "metadata": {},
   "outputs": [
    {
     "name": "stdout",
     "output_type": "stream",
     "text": [
      "Energy from randomized single-Pauli classical shadow: -1.0549 hartree\n",
      "Error vs statevector simulation: 0.093 hartree\n"
     ]
    }
   ],
   "source": [
    "from tangelo.toolboxes.measurements import RandomizedClassicalShadow\n",
    "\n",
    "random_cs = RandomizedClassicalShadow(vqe.optimal_circuit)\n",
    "random_cs.build(n_shots_budget)\n",
    "random_cs.simulate(backend)\n",
    "\n",
    "energy_random = random_cs.get_observable(qubit_ham)\n",
    "print(f\"Energy from randomized single-Pauli classical shadow: {energy_random:.4f} hartree\")\n",
    "print(f\"Error vs statevector simulation: {abs(energy_ref-energy_random):.3f} hartree\")"
   ]
  },
  {
   "cell_type": "markdown",
   "metadata": {},
   "source": [
    "### Derandomized Single-Qubit Pauli Classical Shadows\n",
    "\n",
    "The derandomized procedure comes to fix a problem with the randomized procedure. As the number of qubits increase, the probability of hitting long Pauli words in a qubit Hamiltonian decrease greatly. Therefore, a bigger shadow are needed. The derandomized procedure uses a provided qubit operator to steer the basis choices. This results in basis that hits systematically the relevant operator. An elaboration on this algorikthm is written in [Phys. Rev. Lett. 127, 030503](https://arxiv.org/abs/2103.07510)."
   ]
  },
  {
   "cell_type": "code",
   "execution_count": 7,
   "metadata": {},
   "outputs": [
    {
     "name": "stdout",
     "output_type": "stream",
     "text": [
      "Energy from derandomized single-Pauli classical shadow: -1.1585 hartree\n",
      "Error vs statevector simulation: 0.011 hartree\n"
     ]
    }
   ],
   "source": [
    "from tangelo.toolboxes.measurements import DerandomizedClassicalShadow\n",
    "\n",
    "derandom_cs = DerandomizedClassicalShadow(vqe.optimal_circuit)\n",
    "derandom_cs.build(n_shots_budget, qubit_ham)\n",
    "derandom_cs.simulate(backend)\n",
    "\n",
    "energy_derandom = derandom_cs.get_observable(qubit_ham)\n",
    "print(f\"Energy from derandomized single-Pauli classical shadow: {energy_derandom:.4f} hartree\")\n",
    "print(f\"Error vs statevector simulation: {abs(energy_ref-energy_derandom):.3f} hartree\")"
   ]
  },
  {
   "cell_type": "markdown",
   "metadata": {},
   "source": [
    "### Adaptive Single-Qubit Pauli Classical Shadows\n",
    "\n",
    "Another procedure for chosing basis is the adaptive procedure. It uses an iterative process to draw single-qubit Pauli gates for each qubit, one at the time. The probability distributions are built so the next single-qubit Pauli gates drawn will depend on the measurement bases already assigned to previous qubits. For more details on this algorithm, we refer to [arXiv:2105.12207](https://arxiv.org/abs/2105.12207)."
   ]
  },
  {
   "cell_type": "code",
   "execution_count": 8,
   "metadata": {},
   "outputs": [
    {
     "name": "stdout",
     "output_type": "stream",
     "text": [
      "Energy from adaptive single-Pauli classical shadow: -1.1684 hartree\n",
      "Error vs statevector simulation: 0.021 hartree\n"
     ]
    }
   ],
   "source": [
    "from tangelo.toolboxes.measurements import AdaptiveClassicalShadow\n",
    "\n",
    "adaptive_cs = AdaptiveClassicalShadow(vqe.optimal_circuit)\n",
    "adaptive_cs.build(n_shots_budget, qubit_ham)\n",
    "adaptive_cs.simulate(backend)\n",
    "\n",
    "energy_adaptive = adaptive_cs.get_observable(qubit_ham)\n",
    "print(f\"Energy from adaptive single-Pauli classical shadow: {energy_adaptive:.4f} hartree\")\n",
    "print(f\"Error vs statevector simulation: {abs(energy_ref-energy_adaptive):.3f} hartree\")"
   ]
  },
  {
   "cell_type": "markdown",
   "metadata": {},
   "source": [
    "## More data...\n",
    "\n",
    "- There are some randomness in the classical shadows protocol. Therefore, your mileage may vary.\n",
    "- We have ran 10 simulations, with JW and scBK encoding (8 or 6 qubits).\n",
    "- Plot of abs(e_shadow - e_statevector).\n",
    "![Alt Text](img/draft_classical_shadow_flavours.png \"Plot\")\n",
    "\n",
    "- Discussion about the plot: classical shadow gives a probability of computing an observable within a given accuracy vs the number fo shots.\n",
    "- Talk about the noise resistance -> classical shadows is more robust."
   ]
  },
  {
   "cell_type": "code",
   "execution_count": 62,
   "metadata": {},
   "outputs": [
    {
     "data": {
      "image/png": "[encoded data removed]",
      "text/plain": [
       "<Figure size 720x432 with 1 Axes>"
      ]
     },
     "metadata": {
      "needs_background": "light"
     },
     "output_type": "display_data"
    }
   ],
   "source": [
    "import matplotlib.pyplot as plt\n",
    "import numpy as np\n",
    "\n",
    "# make data:\n",
    "np.random.seed(10)\n",
    "D = np.random.normal((3, 5, 4), (1.25, 1.00, 0.5), (100, 3))\n",
    "\n",
    "# plot\n",
    "fig, ax = plt.subplots(figsize=(10,6))\n",
    "VP = ax.boxplot(D, positions=[2, 4, 6], labels=[\"Randomized\", \"Derandomized\", \"Adaptive\"],\n",
    "                widths=1.5, patch_artist=True,\n",
    "                showmeans=False, showfliers=False,\n",
    "                medianprops={\"color\": \"white\", \"linewidth\": 0.5},\n",
    "                boxprops={\"facecolor\": \"C0\", \"edgecolor\": \"white\",\n",
    "                          \"linewidth\": 0.5},\n",
    "                whiskerprops={\"color\": \"C0\", \"linewidth\": 1.5},\n",
    "                capprops={\"color\": \"C0\", \"linewidth\": 1.5})\n",
    "\n",
    "ax.set(ylim=(0, 8), yticks=np.arange(0, 9))\n",
    "\n",
    "plt.show()"
   ]
  },
  {
   "cell_type": "markdown",
   "metadata": {},
   "source": [
    "## Closing words\n",
    "\n",
    "- Closing words...\n",
    "- Summarize what has been learnt\n",
    "- Scaling (in what situation good or bad)"
   ]
  }
 ],
 "metadata": {
  "kernelspec": {
   "display_name": "qsdk",
   "language": "python",
   "name": "qsdk"
  },
  "language_info": {
   "codemirror_mode": {
    "name": "ipython",
    "version": 3
   },
   "file_extension": ".py",
   "mimetype": "text/x-python",
   "name": "python",
   "nbconvert_exporter": "python",
   "pygments_lexer": "ipython3",
   "version": "3.9.9"
  }
 },
 "nbformat": 4,
 "nbformat_minor": 4
}
