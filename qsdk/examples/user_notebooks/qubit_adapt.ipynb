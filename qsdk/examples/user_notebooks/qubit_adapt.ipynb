{
 "metadata": {
  "language_info": {
   "codemirror_mode": {
    "name": "ipython",
    "version": 3
   },
   "file_extension": ".py",
   "mimetype": "text/x-python",
   "name": "python",
   "nbconvert_exporter": "python",
   "pygments_lexer": "ipython3",
   "version": "3.8.10"
  },
  "orig_nbformat": 2,
  "kernelspec": {
   "name": "python3",
   "display_name": "Python 3.8.10 64-bit ('agnostic': venv)"
  },
  "interpreter": {
   "hash": "fd77f6ebaf3d18999f00320d0aca64091b39e7847b653c69719c9ddc4e72c63f"
  }
 },
 "nbformat": 4,
 "nbformat_minor": 2,
 "cells": [
  {
   "cell_type": "markdown",
   "source": [
    "# ADAPT-VQE\n",
    "\n",
    "ADAPT-VQE was introduced by [Grimsley et al](https://www.nature.com/articles/s41467-019-10988-2) as a solution to the often impracticably deep, and not necessarily accurate, static VQE circuits. In ansatze like UCCSD, one easily reaches the order of thousands of gates, even for modestly sized molecules. In UCCSD and its generalized UCCGSD, the number of fermionic excitations in the ansatz scales like $\\mathcal{O}(N^2M^2)$, and $\\mathcal{O}(N^4)$ respectively. Here $N$ refers to the number of spin-orbitals in the problem basis, and $M$ the number of electrons.\n",
    "\n",
    "In ADAPT-VQE, an ansatz which approximates not UCCSD/UCCGSD, but in fact FCI, is built iteratively. Over a series of cycles, the ansatz circuit is grown to achieve an approximation to FCI with a minimal number of circuit elements. In this way, ADAPT-VQE is a meta-VQE. At each step, a new ansatz is defined, and its parameters optimized according to conventional VQE. As the cycles proceed, the ansatz grows in both complexity and expressibility. This algorithm comes at the expense of a significant increase in measurement overhead. In order to identify the best operator to append to the present ansatz circuit, a large number of measurements are performed to rank the available operators in order of their ability to further reduce the ansatz state energy.\n",
    "\n",
    "In this notebook, we'll explore the implementation of this algorithm, by taking advantage of the tools available through the qSDK. "
   ],
   "metadata": {}
  },
  {
   "cell_type": "markdown",
   "source": [
    "## Implementation Strategy\n",
    "\n",
    "ADAPT-VQE relies on three principal steps.\n",
    "\n",
    "1. Construct generator pool $\\{P_i\\}$, a set of available operators from which we will iteratively construct the ansatz.\n",
    "2. Rank operators by evaluating the gradient for each operator in the pool $\\frac{\\partial E^{(k)}}{\\partial \\theta_i} = \\langle \\psi_k|[H,P_i]|\\psi_k\\rangle$. Exit if the largest partial derivative is less than some cutoff.\n",
    "3. Append $U_k = \\mathrm{exp}[i\\theta_k P_k]$(index) to the ansatz $U=\\prod_k U_k(\\theta_k)$, and optimize $\\langle H\\rangle$ using VQE.\n",
    "4. Return to step 2.\n",
    "\n",
    "There are two obvious avenues along which one can be creative in the implementation of ADAPT-VQE--these are the selection of the operator pool $\\{P_i\\}$, and the ranking strategy. Above, we have specified that we are using the gradient to perform this ranking procedure. To my knowledge this is the only method which has been used previously, and we will continue to do so here. Regarding the choice of operator pool, the original authors used the elements of the UCCGSD, i.e. the single, double fermionic excitations. Subsequent work has focused on qubit-native operators, and we'll follow this strategy as well. Although the UCCGSD allows for high accuracy with a small number of cycles (and consequently very few variational parameters), the circuit remains very deep, as each excitation consists of many multi-qubit Pauli rotations. "
   ],
   "metadata": {}
  },
  {
   "cell_type": "markdown",
   "source": [
    "## Hamiltonian-Inspired Qubit-ADAPT\n",
    "We are going to use the Hamiltonian to establish a set of pool generators to use in our implementation of ADAPT-VQE. For each term in the Hamiltonian which acts on a distinct combination of qubits, we'll add a pool operator which is guaranteed to have a non-zero commutator with respect to H, and therefore a finite gradient. This will give us a fairly compact set of operators in the pool, all of which are likely to be useful in our ansatz construction. To do this, we will scan through all terms in the qubit Hamiltonian. For each, we will identify the Pauli operators associated with electronic excitation (X and Y gates). We discard Z gates from the Pauli string. If the number of Y gates in a string is even, we can use this to construct an excitation pool element that preserves T-symmetry, by flipping one of the other X gates to a Y, or a Y to an X. Below, we'll flip the first X or Y to its partner."
   ],
   "metadata": {}
  },
  {
   "cell_type": "code",
   "execution_count": null,
   "source": [
    "def get_pool(qubit_hamiltonian, n_qubits):\n",
    "    \"\"\"Use Hamiltonian to identify non-commuting Pauli strings to use as operator pool.\n",
    "    We identify terms with even number of Y-operators, in order to define excitations \n",
    "    which preserve T-reversal symmetry. We remove all Z operators, and we flip the first\n",
    "    X or Y to its partner (i.e. X <> Y).\n",
    "    Args:\n",
    "        qubit_hamiltonian (QubitOperator): input Hamiltonian\n",
    "        n_qubits (int): number of qubits for Hamiltonian\n",
    "    \n",
    "    Returns:\n",
    "        pool_generators (list of QubitOperator): list of generators\n",
    "    \"\"\"\n",
    "    import numpy as np\n",
    "    from qsdk.toolboxes.operators.operators import QubitOperator\n",
    "\n",
    "    pauli_lookup = {'Z':1, 'X':2, 'Y':3}\n",
    "    pauli_reverse_lookup = ['I', 'Z', 'X', 'Y']\n",
    "    pool_generators, pool_tuples = list(), list()\n",
    "    indices = list()\n",
    "\n",
    "    for term in qubit_hamiltonian.terms:\n",
    "        pauli_string = np.zeros(n_qubits, dtype=int)\n",
    "        \n",
    "        #identify all X or Y factors\n",
    "        for index, action in term:\n",
    "            if pauli_lookup[action] > 1:\n",
    "                pauli_string[index] = pauli_lookup[action]\n",
    "\n",
    "        #only allow one operator acting on a given set of qubits\n",
    "        action_mask = tuple(pauli_string > 1)\n",
    "        if action_mask in indices:\n",
    "            continue\n",
    "\n",
    "        #only consider terms with even number of Y\n",
    "        if sum(pauli_string) % 2 == 0 and sum(pauli_string) > 0:\n",
    "            #identify qubit operator to change X<>Y\n",
    "            flip_index = np.where(pauli_string > 1)[0][0]\n",
    "            pauli_string[flip_index] += (-1)**(pauli_string[flip_index] % 2) \n",
    "\n",
    "            #update set of used qubit combinations\n",
    "            indices.append(action_mask)\n",
    "            #create QubitOperator for the new generator\n",
    "            operator_tuple = tuple([(index,pauli_reverse_lookup[pauli]) for index, pauli in enumerate(pauli_string) if pauli > 0])\n",
    "            #We don't use the coefficients directly, so since we need to multiply by 1.j for evaluating gradients, \n",
    "            #I'm just instantiating these with that coefficient in place\n",
    "            pool_generators.append(QubitOperator(operator_tuple, 1.0j))\n",
    "            pool_tuples.append(operator_tuple)\n",
    "    \n",
    "    return pool_generators"
   ],
   "outputs": [],
   "metadata": {}
  },
  {
   "cell_type": "markdown",
   "source": [
    "To exemplify the generation of an operator pool, we will apply this method to a simple Hamiltonian consisting of a single fermionic excitation and its Hermitian conjugate."
   ],
   "metadata": {}
  },
  {
   "cell_type": "code",
   "execution_count": null,
   "source": [
    "from qsdk.toolboxes.operators import QubitOperator\n",
    "qubit_operator = QubitOperator(((0, 'X'), (1, 'X'), (2, 'Y'), (3, 'Y')), -1.0) \\\n",
    "                  + QubitOperator(((0, 'X'), (1, 'Y'), (2, 'Y'), (3, 'X')), 1.0) \\\n",
    "                  + QubitOperator(((0, 'Y'), (1, 'X'), (2, 'X'), (3, 'Y')), 1.0) \\\n",
    "                  + QubitOperator(((0, 'Y'), (1, 'Y'), (2, 'X'), (3, 'X')), -1.0) \n",
    "pool_generators = get_pool(qubit_operator, n_qubits=4)\n",
    "print(f'OPERATOR POOL: {pool_generators}')"
   ],
   "outputs": [],
   "metadata": {}
  },
  {
   "cell_type": "markdown",
   "source": [
    "We have used a qubit Hamiltonian where all operators act on the same qubit indices. This results in just a single generator pool element. As we traverse the `qubit_hamiltonian` in order, the generator corresponds to the first term in the Hamiltonian, with the first X operator switched to a Y operator. So from XXYY, we have YXYY. "
   ],
   "metadata": {}
  },
  {
   "cell_type": "markdown",
   "source": [
    "## Defining the problem\n",
    "For the generator pool we've considered here, the smallest non-trivial problem to consider is H$_4$, as H$_2$ has only one generator and ADAPT terminates at FCI accuracy after a single iteration. So we'll apply this here to H$_4$ as a linear chain. We begin by instantiating the molecule object from qSDKs `SecondQuantizedMolecule` class, and obtain the qubit_operator using `fermion_to_qubit_mapping` to make use the pool function defined above."
   ],
   "metadata": {}
  },
  {
   "cell_type": "code",
   "execution_count": null,
   "source": [
    "from qsdk import SecondQuantizedMolecule\n",
    "from qsdk.toolboxes.qubit_mappings.mapping_transform import fermion_to_qubit_mapping\n",
    "from qsdk.toolboxes.operators import count_qubits\n",
    "\n",
    "H4 = [('H', (0, 0, 0)), ('H', (0, 0, 1.41)), ('H', (0, 0, 2.82)), ('H', (0, 0, 4.23))]\n",
    "mol = SecondQuantizedMolecule(H4, q=0, spin=0, basis=\"sto-3g\")\n",
    "fermion_operator = mol._get_fermionic_hamiltonian()\n",
    "qubit_operator = fermion_to_qubit_mapping(fermion_operator, 'jw', mol.n_active_sos, mol.n_electrons)\n",
    "n_qubits = count_qubits(qubit_operator)"
   ],
   "outputs": [],
   "metadata": {}
  },
  {
   "cell_type": "markdown",
   "source": [
    "## Assembling the ADAPT Workflow\n",
    "With the problem defined and the get_pool function prepared, we can proceed to initiate the ADAPT-VQE method. This is as simple as defining the problem with a dictionary and initiating the `ADAPTSolver` class."
   ],
   "metadata": {}
  },
  {
   "cell_type": "code",
   "execution_count": null,
   "source": [
    "from qsdk.electronic_structure_solvers import ADAPTSolver\n",
    "\n",
    "opt_dict = {\"molecule\": mol,\n",
    "            \"frozen_orbitals\": 0,\n",
    "            \"pool\": get_pool,\n",
    "            \"pool_args\": (qubit_operator, n_qubits),\n",
    "            \"tol\": 0.01,\n",
    "            \"max_cycles\": 12,\n",
    "            \"verbose\": False}\n",
    "\n",
    "adapt_solver = ADAPTSolver(opt_dict)\n",
    "adapt_solver.build()"
   ],
   "outputs": [],
   "metadata": {}
  },
  {
   "cell_type": "code",
   "execution_count": null,
   "source": [
    "adapt_solver.simulate()"
   ],
   "outputs": [],
   "metadata": {
    "tags": []
   }
  },
  {
   "cell_type": "markdown",
   "source": [
    "After 12 cycles, we force the cycle to terminate. We can now compare the results against the predictions of FCI."
   ],
   "metadata": {}
  },
  {
   "cell_type": "code",
   "execution_count": null,
   "source": [
    "import matplotlib.pyplot as plt\n",
    "import numpy as np\n",
    "from qsdk.electronic_structure_solvers.fci_solver import FCISolver\n",
    "solver = FCISolver(mol)\n",
    "exact = solver.simulate()\n",
    "errors = np.array(adapt_solver.energies) - exact\n",
    "fig,ax = plt.subplots(1,1)\n",
    "ax.plot(errors)\n",
    "ax.set_xlabel('ADAPT Iteration')\n",
    "ax.set_ylabel('Error (Ha)')\n",
    "ax.set_title('qubit-ADAPT: H$_4$')\n",
    "ax.set_yscale('log')\n",
    "print(f'Final Error: {errors[-1] :.4E}')"
   ],
   "outputs": [],
   "metadata": {}
  },
  {
   "cell_type": "markdown",
   "source": [
    "Ok so after 15 cycles, we have an error of 0.14 mHa, within chemical accuracy of FCI. How does this all compare against UCCSD-VQE?"
   ],
   "metadata": {}
  },
  {
   "cell_type": "code",
   "execution_count": null,
   "source": [
    "from qsdk.electronic_structure_solvers import VQESolver\n",
    "vqe_solver = VQESolver({'molecule': mol, 'qubit_mapping': 'jw'})\n",
    "vqe_solver.build()\n",
    "vqe_solver.simulate()"
   ],
   "outputs": [],
   "metadata": {}
  },
  {
   "cell_type": "code",
   "execution_count": null,
   "source": [
    "print(f'ADAPT-VQE ERROR: {adapt_solver.energies[-1] - exact :0.4E} Ha')\n",
    "print(f'UCCSD-VQE ERROR: {vqe_solver.optimal_energy - exact :0.4E} Ha')"
   ],
   "outputs": [],
   "metadata": {}
  },
  {
   "cell_type": "markdown",
   "source": [
    "From the perspective of energy accuracy, the two have reached very similar results, within a factor of two. The big advantage here however, are in the resources required for this ansatz circuit:"
   ],
   "metadata": {}
  },
  {
   "cell_type": "code",
   "execution_count": null,
   "source": [
    "print(f'ADAPT RESOURCES:\\n {adapt_solver.get_resources()}\\n')\n",
    "print(f'UCCSD RESOURCES:\\n {vqe_solver.get_resources()}')"
   ],
   "outputs": [],
   "metadata": {}
  },
  {
   "cell_type": "markdown",
   "source": [
    "\n",
    "We have managed here to reduce the total number of gates by a factor of 10, the number of 2-qubit gates by a factor of nearly 15, and variational gates by a factor of 10. \n",
    "\n",
    "We note that ADAPT-VQE has run with 2 more variational parameters than UCCSD-VQE. This introduces additional overhead to the classical optimizer, which must find an optimal solution within a higher-dimensional space. However, the number of variational parameters for ADAPT-VQE is directly dependent on the number of cycles over which ADAPT is run. We then have the opportunity to compromise between optimization complexity and ansatz expressivity by limiting the number of cycles, and therefore the number of variational parameters (and gate number and depth) associated with a computation. This flexibility in resource requirements is then an important advantage for the ADAPT-VQE algorithm over static ansatze.\n",
    "\n",
    "There is one small problem with qubit inspired ansatz. They do not generally respect the symmetry of the problem. We can now examing the operators $\\hat{S}^2$, $\\hat{S}_Z$ and the $\\hat{N}$ operators to determine if any loss of symmetry has occured. "
   ],
   "metadata": {}
  },
  {
   "cell_type": "code",
   "execution_count": null,
   "source": [
    "from qsdk.toolboxes.ansatz_generator.fermionic_operators import number_operator, spinz_operator, spin2_operator\n",
    "from qsdk.toolboxes.qubit_mappings.mapping_transform import fermion_to_qubit_mapping\n",
    "s2hat_fermion_op = spin2_operator(mol.n_active_mos)\n",
    "szhat_fermion_op = spinz_operator(mol.n_active_mos)\n",
    "nhat_fermion_op = number_operator(mol.n_active_mos)\n",
    "s2hat_qubit_op = fermion_to_qubit_mapping(s2hat_fermion_op, 'jw')\n",
    "szhat_qubit_op = fermion_to_qubit_mapping(szhat_fermion_op, 'jw')\n",
    "nhat_qubit_op = fermion_to_qubit_mapping(nhat_fermion_op, 'jw')\n",
    "adapt_s2 = adapt_solver.vqe_solver.operator_expectation(s2hat_qubit_op)\n",
    "adapt_sz = adapt_solver.vqe_solver.operator_expectation(szhat_qubit_op)\n",
    "adapt_n = adapt_solver.vqe_solver.operator_expectation(nhat_qubit_op)\n",
    "uccsd_s2 = vqe_solver.operator_expectation(s2hat_qubit_op)\n",
    "uccsd_sz = vqe_solver.operator_expectation(szhat_qubit_op)\n",
    "uccsd_n = vqe_solver.operator_expectation(nhat_qubit_op)\n",
    "\n",
    "print(f'Adapt quantum numbers: N = {adapt_n:6.4f}, Sz = {adapt_sz:6.4f}, S^2 = {adapt_s2:6.4f}')\n",
    "print(f'UCCSD quantum numbers: N = {uccsd_n:6.4f}, Sz = {uccsd_sz:6.4f}, S^2 = {uccsd_s2:6.4f}')"
   ],
   "outputs": [],
   "metadata": {}
  },
  {
   "cell_type": "markdown",
   "source": [
    "As you can see, there are small errors in the desired quantum numbers so the resulting state is not exactly what we wanted. To address this problem we can add a penalty term to the qubit hamiltonian and minimize this qubit_hamiltonian directly using Adapt-VQE instead of the molecular hamiltonian."
   ],
   "metadata": {}
  },
  {
   "cell_type": "code",
   "execution_count": null,
   "source": [
    "from qsdk.toolboxes.ansatz_generator.penalty_terms import combined_penalty\n",
    "from qsdk.toolboxes.operators.operators import qubitop_to_qubitham\n",
    "qubit_hamiltonian = qubitop_to_qubitham(qubit_operator, mapping='jw', up_then_down=False)\n",
    "pen_qubit_operator = fermion_to_qubit_mapping(combined_penalty(mol.n_active_mos,\n",
    "                                                               opt_penalty_terms={'N': [1/2, mol.n_electrons],\n",
    "                                                                                  'Sz': [1/2, 0.0],\n",
    "                                                                                  'S^2': [1/2, 0.0]}),\n",
    "                                                mapping='jw',\n",
    "                                                n_spinorbitals=mol.n_active_sos,\n",
    "                                                n_electrons=mol.n_electrons)\n",
    "pen_qubit_hamiltonian = qubitop_to_qubitham(pen_qubit_operator, mapping='jw', up_then_down=False)\n",
    "qubit_hamiltonian_with_pen = qubit_hamiltonian + pen_qubit_hamiltonian\n",
    "opt_dict = {\"qubit_hamiltonian\": qubit_hamiltonian_with_pen,\n",
    "            \"n_electrons\": mol.n_electrons,\n",
    "            \"n_spinorbitals\": mol.n_active_sos, \n",
    "            \"pool\": get_pool,\n",
    "            \"pool_args\": (qubit_hamiltonian_with_pen, n_qubits),\n",
    "            \"tol\": 0.01,\n",
    "            \"max_cycles\": 12,\n",
    "            \"verbose\": False}\n",
    "\n",
    "adapt_solver_with_pen = ADAPTSolver(opt_dict)\n",
    "adapt_solver_with_pen.build()\n",
    "adapt_solver_with_pen.simulate()"
   ],
   "outputs": [],
   "metadata": {}
  },
  {
   "cell_type": "code",
   "execution_count": null,
   "source": [
    "adapt_s2 = adapt_solver_with_pen.vqe_solver.operator_expectation(s2hat_qubit_op)\n",
    "adapt_sz = adapt_solver_with_pen.vqe_solver.operator_expectation(szhat_qubit_op)\n",
    "adapt_n = adapt_solver_with_pen.vqe_solver.operator_expectation(nhat_qubit_op)\n",
    "\n",
    "print(f'ADAPT-VQE ERROR: {adapt_solver.vqe_solver.operator_expectation(qubit_operator) - exact :0.4E} Ha')\n",
    "print(f'UCCSD-VQE ERROR: {vqe_solver.optimal_energy - exact :0.4E} Ha\\n')\n",
    "print(f'ADAPT RESOURCES:\\n {adapt_solver.get_resources()}\\n')\n",
    "print(f'UCCSD RESOURCES:\\n {vqe_solver.get_resources()}\\n')\n",
    "print(f'Adapt quantum numbers:\\n N = {adapt_n:6.4f}, Sz = {adapt_sz:6.4f}, S^2 = {adapt_s2:6.4f}\\n')\n",
    "print(f'UCCSD quantum numbers:\\n N = {uccsd_n:6.4f}, Sz = {uccsd_sz:6.4f}, S^2 = {uccsd_s2:6.4f}')"
   ],
   "outputs": [],
   "metadata": {}
  },
  {
   "cell_type": "markdown",
   "source": [
    "As you can see, we have now found a state that has the correct symmetry properties with almost no change in energy."
   ],
   "metadata": {}
  },
  {
   "cell_type": "markdown",
   "source": [
    "## Conclusion\n",
    "\n",
    "In this notebook, we've explored a simple implementation of the ADAPT-VQE algorithm, using tools available through the qSDK. We have demonstrated how we can leverage these tools to reduce the effort involved in prototyping new quantum algorithms. This allows the user to focus exclusively on the specific components relevant to their research objectives, without getting bogged down in re-building standard infrastructure from scratch. \n",
    "\n",
    "The ADAPT-VQE algorithm provides the flexibility to explore different choices of generator pools, and ranking criteria. Feel free to try out alternative implementations to get a better sense of what this algorithm can do."
   ],
   "metadata": {}
  }
 ]
}