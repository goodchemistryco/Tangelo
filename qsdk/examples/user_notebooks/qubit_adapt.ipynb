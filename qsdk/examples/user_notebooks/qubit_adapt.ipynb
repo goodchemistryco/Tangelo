{
 "metadata": {
  "language_info": {
   "codemirror_mode": {
    "name": "ipython",
    "version": 3
   },
   "file_extension": ".py",
   "mimetype": "text/x-python",
   "name": "python",
   "nbconvert_exporter": "python",
   "pygments_lexer": "ipython3",
   "version": "3.8.10"
  },
  "orig_nbformat": 2,
  "kernelspec": {
   "name": "python3",
   "display_name": "Python 3.8.10 64-bit ('agnostic': venv)"
  },
  "interpreter": {
   "hash": "fd77f6ebaf3d18999f00320d0aca64091b39e7847b653c69719c9ddc4e72c63f"
  }
 },
 "nbformat": 4,
 "nbformat_minor": 2,
 "cells": [
  {
   "cell_type": "markdown",
   "source": [
    "# ADAPT-VQE\n",
    "\n",
    "ADAPT-VQE was introduced by [Grimsley et al](https://www.nature.com/articles/s41467-019-10988-2) as a solution to the often impracticably deep, and not necessarily accurate, static VQE circuits. In ansatze like UCCSD, one easily reaches the order of thousands of gates, even for modestly sized molecules. In UCCSD and its generalized UCCGSD, the number of fermionic excitations in the ansatz scales like $\\mathcal{O}(N^2M^2)$, and $\\mathcal{O}(N^4)$ respectively. Here $N$ refers to the number of spin-orbitals in the problem basis, and $M$ the number of electrons.\n",
    "\n",
    "In ADAPT-VQE, an ansatz which approximates not UCCSD/UCCGSD, but in fact FCI, is built iteratively. Over a series of cycles, the ansatz circuit is grown to achieve an approximation to FCI with a minimal number of circuit elements. In this way, ADAPT-VQE is a meta-VQE. At each step, a new ansatz is defined, and its parameters optimized according to conventional VQE. As the cycles proceed, the ansatz grows in both complexity and expressibility. This algorithm comes at the expense of a significant increase in measurement overhead. In order to identify the best operator to append to the present ansatz circuit, a large number of measurements are performed to rank the available operators in order of their ability to further reduce the ansatz state energy.\n",
    "\n",
    "In this notebook, we'll explore the implementation of this algorithm, by taking advantage of the tools available through the qSDK. "
   ],
   "metadata": {}
  },
  {
   "cell_type": "markdown",
   "source": [
    "## Implementation Strategy\n",
    "\n",
    "ADAPT-VQE relies on three principal steps.\n",
    "\n",
    "1. Construct generator pool $\\{P_i\\}$, a set of available operators from which we will iteratively construct the ansatz.\n",
    "2. Rank operators by evaluating the gradient for each operator in the pool $\\frac{\\partial E^{(k)}}{\\partial \\theta_i} = \\langle \\psi_k|[H,P_i]|\\psi_k\\rangle$. Exit if the largest partial derivative is less than some cutoff.\n",
    "3. Append $U_k = \\mathrm{exp}[i\\theta_k P_k]$(index) to the ansatz $U=\\prod_k U_k(\\theta_k)$, and optimize $\\langle H\\rangle$ using VQE.\n",
    "4. Return to step 2.\n",
    "\n",
    "There are two obvious avenues along which one can be creative in the implementation of ADAPT-VQE--these are the selection of the operator pool $\\{P_i\\}$, and the ranking strategy. Above, we have specified that we are using the gradient to perform this ranking procedure. To my knowledge this is the only method which has been used previously, and we will continue to do so here. Regarding the choice of operator pool, the original authors used the elements of the UCCGSD, i.e. the single, double fermionic excitations. Subsequent work has focused on qubit-native operators, and we'll follow this strategy as well. Although the UCCGSD allows for high accuracy with a small number of cycles (and consequently very few variational parameters), the circuit remains very deep, as each excitation consists of many multi-qubit Pauli rotations. "
   ],
   "metadata": {}
  },
  {
   "cell_type": "markdown",
   "source": [
    "## Hamiltonian-Inspired Qubit-ADAPT\n",
    "We are going to use the Hamiltonian to establish a set of pool generators to use in our implementation of ADAPT-VQE. For each term in the Hamiltonian which acts on a distinct combination of qubits, we'll add a pool operator which is guaranteed to have a non-zero commutator with respect to H, and therefore a finite gradient. This will give us a fairly compact set of operators in the pool, all of which are likely to be useful in our ansatz construction. To do this, we will scan through all terms in the qubit Hamiltonian. For each, we will identify the Pauli operators associated with electronic excitation (X and Y gates). We discard Z gates from the Pauli string. If the number of Y gates in a string is even, we can use this to construct an excitation pool element that preserves T-symmetry, by flipping one of the other X gates to a Y, or a Y to an X. Below, we'll flip the first X or Y to its partner."
   ],
   "metadata": {}
  },
  {
   "cell_type": "code",
   "execution_count": 2,
   "source": [
    "def get_pool(qubit_hamiltonian, n_qubits):\n",
    "    \"\"\"Use Hamiltonian to identify non-commuting Pauli strings to use as operator pool.\n",
    "    We identify terms with even number of Y-operators, in order to define excitations \n",
    "    which preserve T-reversal symmetry. We remove all Z operators, and we flip the first\n",
    "    X or Y to its partner (i.e. X <> Y).\n",
    "    Args:\n",
    "        qubit_hamiltonian (QubitOperator): input Hamiltonian\n",
    "        n_qubits (int): number of qubits for Hamiltonian\n",
    "    \n",
    "    Returns:\n",
    "        pool_generators (list of QubitOperator): list of generators\n",
    "    \"\"\"\n",
    "    import numpy as np\n",
    "    from qsdk.toolboxes.operators.operators import QubitOperator\n",
    "\n",
    "    pauli_lookup = {'Z':1, 'X':2, 'Y':3}\n",
    "    pauli_reverse_lookup = ['I', 'Z', 'X', 'Y']\n",
    "    pool_generators, pool_tuples = list(), list()\n",
    "    indices = list()\n",
    "\n",
    "    for term in qubit_hamiltonian.terms:\n",
    "        pauli_string = np.zeros(n_qubits, dtype=int)\n",
    "        \n",
    "        #identify all X or Y factors\n",
    "        for index, action in term:\n",
    "            if pauli_lookup[action] > 1:\n",
    "                pauli_string[index] = pauli_lookup[action]\n",
    "\n",
    "        #only allow one operator acting on a given set of qubits\n",
    "        action_mask = tuple(pauli_string > 1)\n",
    "        if action_mask in indices:\n",
    "            continue\n",
    "\n",
    "        #only consider terms with even number of Y\n",
    "        if sum(pauli_string) % 2 == 0 and sum(pauli_string) > 0:\n",
    "            #identify qubit operator to change X<>Y\n",
    "            flip_index = np.where(pauli_string > 1)[0][0]\n",
    "            pauli_string[flip_index] += (-1)**(pauli_string[flip_index] % 2) \n",
    "\n",
    "            #update set of used qubit combinations\n",
    "            indices.append(action_mask)\n",
    "            #create QubitOperator for the new generator\n",
    "            operator_tuple = tuple([(index,pauli_reverse_lookup[pauli]) for index, pauli in enumerate(pauli_string) if pauli > 0])\n",
    "            #We don't use the coefficients directly, so since we need to multiply by 1.j for evaluating gradients, \n",
    "            #I'm just instantiating these with that coefficient in place\n",
    "            pool_generators.append(QubitOperator(operator_tuple, 1.0j))\n",
    "            pool_tuples.append(operator_tuple)\n",
    "    \n",
    "    return pool_generators"
   ],
   "outputs": [],
   "metadata": {}
  },
  {
   "cell_type": "markdown",
   "source": [
    "To exemplify the generation of an operator pool, we will apply this method to a simple Hamiltonian consisting of a single fermionic excitation and its Hermitian conjugate."
   ],
   "metadata": {}
  },
  {
   "cell_type": "code",
   "execution_count": 3,
   "source": [
    "from qsdk.toolboxes.operators import QubitOperator\n",
    "qubit_hamiltonian = QubitOperator(((0, 'X'), (1, 'X'), (2, 'Y'), (3, 'Y')), -1.0) \\\n",
    "                  + QubitOperator(((0, 'X'), (1, 'Y'), (2, 'Y'), (3, 'X')), 1.0) \\\n",
    "                  + QubitOperator(((0, 'Y'), (1, 'X'), (2, 'X'), (3, 'Y')), 1.0) \\\n",
    "                  + QubitOperator(((0, 'Y'), (1, 'Y'), (2, 'X'), (3, 'X')), -1.0) \n",
    "pool_generators = get_pool(qubit_hamiltonian, n_qubits=4)\n",
    "print(f'OPERATOR POOL: {pool_generators}')"
   ],
   "outputs": [
    {
     "output_type": "stream",
     "name": "stdout",
     "text": [
      "OPERATOR POOL: [1j [Y0 X1 Y2 Y3]]\n"
     ]
    }
   ],
   "metadata": {}
  },
  {
   "cell_type": "markdown",
   "source": [
    "We have used a qubit Hamiltonian where all operators act on the same qubit indices. This results in just a single generator pool element. As we traverse the `qubit_hamiltonian` in order, the generator corresponds to the first term in the Hamiltonian, with the first X operator switched to a Y operator. So from XXYY, we have YXYY. "
   ],
   "metadata": {}
  },
  {
   "cell_type": "markdown",
   "source": [
    "## Defining the problem\n",
    "For the generator pool we've considered here, the smallest non-trivial problem to consider is H$_4$, as H$_2$ has only one generator and ADAPT terminates at FCI accuracy after a single iteration. So we'll apply this here to H$_4$ as a linear chain. We begin by instantiating the molecule object from pyscf's `gto.Mole` class, and feed this into the `do_adapt_vqe` method we defined above."
   ],
   "metadata": {}
  },
  {
   "cell_type": "code",
   "execution_count": 121,
   "source": [
    "from pyscf import gto\n",
    "\n",
    "H4 = [('H', (0, 0, 0)), ('H', (0, 0, 1.41)), ('H', (0, 0, 2.82)), ('H', (0, 0, 4.23))]\n",
    "mol = gto.Mole()\n",
    "mol.atom = H4\n",
    "mol.basis = 'sto-3g'\n",
    "mol.build()\n",
    "\n",
    "uccsd_solver = VQESolver({'molecule': mol})\n",
    "uccsd_solver.build()\n",
    "\n",
    "qubit_hamiltonian = uccsd_solver.qubit_hamiltonian\n",
    "n_qubits = uccsd_solver.ansatz.circuit.width"
   ],
   "outputs": [],
   "metadata": {}
  },
  {
   "cell_type": "markdown",
   "source": [
    "## Assembling the ADAPT Workflow\n",
    "With the problem defined and the get_pool function prepared, we can proceed to initiate the ADAPT-VQE method. This is as simple as defining the problem with a dictionary and initiating the `ADAPTSolver` class."
   ],
   "metadata": {}
  },
  {
   "cell_type": "code",
   "execution_count": 131,
   "source": [
    "from qsdk.electronic_structure_solvers import ADAPTSolver\n",
    "\n",
    "opt_dict = {\"molecule\": mol,\n",
    "            \"frozen_orbitals\": 0,\n",
    "            \"pool\": get_pool,\n",
    "            \"pool_args\": (qubit_hamiltonian, n_qubits),\n",
    "            \"tol\": 0.01,\n",
    "            \"max_cycles\": 12,\n",
    "            \"verbose\": False}\n",
    "\n",
    "adapt_solver = ADAPTSolver(opt_dict)\n",
    "adapt_solver.build()"
   ],
   "outputs": [],
   "metadata": {}
  },
  {
   "cell_type": "code",
   "execution_count": 123,
   "source": [
    "adapt_solver.simulate()"
   ],
   "outputs": [
    {
     "output_type": "stream",
     "name": "stdout",
     "text": [
      "Iteration 1 of ADAPT-VQE.\n",
      "Iteration 2 of ADAPT-VQE.\n",
      "Iteration 3 of ADAPT-VQE.\n",
      "Iteration 4 of ADAPT-VQE.\n",
      "Iteration 5 of ADAPT-VQE.\n",
      "Iteration 6 of ADAPT-VQE.\n",
      "Iteration 7 of ADAPT-VQE.\n",
      "Iteration 8 of ADAPT-VQE.\n",
      "Iteration 9 of ADAPT-VQE.\n",
      "Iteration 10 of ADAPT-VQE.\n",
      "Iteration 11 of ADAPT-VQE.\n",
      "Iteration 12 of ADAPT-VQE.\n"
     ]
    },
    {
     "output_type": "execute_result",
     "data": {
      "text/plain": [
       "-2.024136449751694"
      ]
     },
     "metadata": {},
     "execution_count": 123
    }
   ],
   "metadata": {
    "tags": []
   }
  },
  {
   "cell_type": "markdown",
   "source": [
    "After 15 cycles, we force the cycle to terminate. At this point, the largest gradient is below the level of 0.01. We can now compare the results against the predictions of FCI."
   ],
   "metadata": {}
  },
  {
   "cell_type": "code",
   "execution_count": 124,
   "source": [
    "import matplotlib.pyplot as plt\n",
    "import numpy as np\n",
    "from qsdk.toolboxes.molecular_computation.molecular_data import MolecularData\n",
    "from qsdk.electronic_structure_solvers.fci_solver import FCISolver\n",
    "solver = FCISolver()\n",
    "exact = solver.simulate(mol)\n",
    "errors = np.array(adapt_solver.energies) - exact\n",
    "fig,ax = plt.subplots(1,1)\n",
    "ax.plot(errors)\n",
    "ax.set_xlabel('ADAPT Iteration')\n",
    "ax.set_ylabel('Error (Ha)')\n",
    "ax.set_title('qubit-ADAPT: H$_4$')\n",
    "ax.set_yscale('log')\n",
    "print(f'Final Error: {errors[-1] :.4E}')"
   ],
   "outputs": [
    {
     "output_type": "stream",
     "name": "stdout",
     "text": [
      "Final Error: 1.4719E-03\n"
     ]
    },
    {
     "output_type": "display_data",
     "data": {
      "text/plain": [
       "<Figure size 432x288 with 1 Axes>"
      ],
      "image/svg+xml": "<?xml version=\"1.0\" encoding=\"utf-8\" standalone=\"no\"?>\n<!DOCTYPE svg PUBLIC \"-//W3C//DTD SVG 1.1//EN\"\n  \"http://www.w3.org/Graphics/SVG/1.1/DTD/svg11.dtd\">\n<svg height=\"277.31625pt\" version=\"1.1\" viewBox=\"0 0 393.378125 277.31625\" width=\"393.378125pt\" xmlns=\"http://www.w3.org/2000/svg\" xmlns:xlink=\"http://www.w3.org/1999/xlink\">\n <metadata>\n  <rdf:RDF xmlns:cc=\"http://creativecommons.org/ns#\" xmlns:dc=\"http://purl.org/dc/elements/1.1/\" xmlns:rdf=\"http://www.w3.org/1999/02/22-rdf-syntax-ns#\">\n   <cc:Work>\n    <dc:type rdf:resource=\"http://purl.org/dc/dcmitype/StillImage\"/>\n    <dc:date>1970-01-01T20:32:31.129877</dc:date>\n    <dc:format>image/svg+xml</dc:format>\n    <dc:creator>\n     <cc:Agent>\n      <dc:title>Matplotlib v3.4.2, https://matplotlib.org/</dc:title>\n     </cc:Agent>\n    </dc:creator>\n   </cc:Work>\n  </rdf:RDF>\n </metadata>\n <defs>\n  <style type=\"text/css\">*{stroke-linecap:butt;stroke-linejoin:round;}</style>\n </defs>\n <g id=\"figure_1\">\n  <g id=\"patch_1\">\n   <path d=\"M 0 277.31625 \nL 393.378125 277.31625 \nL 393.378125 0 \nL 0 0 \nz\n\" style=\"fill:none;\"/>\n  </g>\n  <g id=\"axes_1\">\n   <g id=\"patch_2\">\n    <path d=\"M 51.378125 239.76 \nL 386.178125 239.76 \nL 386.178125 22.32 \nL 51.378125 22.32 \nz\n\" style=\"fill:#ffffff;\"/>\n   </g>\n   <g id=\"matplotlib.axis_1\">\n    <g id=\"xtick_1\">\n     <g id=\"line2d_1\">\n      <defs>\n       <path d=\"M 0 0 \nL 0 3.5 \n\" id=\"ma9fefa77ac\" style=\"stroke:#000000;stroke-width:0.8;\"/>\n      </defs>\n      <g>\n       <use style=\"stroke:#000000;stroke-width:0.8;\" x=\"66.596307\" xlink:href=\"#ma9fefa77ac\" y=\"239.76\"/>\n      </g>\n     </g>\n     <g id=\"text_1\">\n      <!-- 0 -->\n      <g transform=\"translate(63.415057 254.358437)scale(0.1 -0.1)\">\n       <defs>\n        <path d=\"M 2034 4250 \nQ 1547 4250 1301 3770 \nQ 1056 3291 1056 2328 \nQ 1056 1369 1301 889 \nQ 1547 409 2034 409 \nQ 2525 409 2770 889 \nQ 3016 1369 3016 2328 \nQ 3016 3291 2770 3770 \nQ 2525 4250 2034 4250 \nz\nM 2034 4750 \nQ 2819 4750 3233 4129 \nQ 3647 3509 3647 2328 \nQ 3647 1150 3233 529 \nQ 2819 -91 2034 -91 \nQ 1250 -91 836 529 \nQ 422 1150 422 2328 \nQ 422 3509 836 4129 \nQ 1250 4750 2034 4750 \nz\n\" id=\"DejaVuSans-30\" transform=\"scale(0.015625)\"/>\n       </defs>\n       <use xlink:href=\"#DejaVuSans-30\"/>\n      </g>\n     </g>\n    </g>\n    <g id=\"xtick_2\">\n     <g id=\"line2d_2\">\n      <g>\n       <use style=\"stroke:#000000;stroke-width:0.8;\" x=\"121.93515\" xlink:href=\"#ma9fefa77ac\" y=\"239.76\"/>\n      </g>\n     </g>\n     <g id=\"text_2\">\n      <!-- 2 -->\n      <g transform=\"translate(118.7539 254.358437)scale(0.1 -0.1)\">\n       <defs>\n        <path d=\"M 1228 531 \nL 3431 531 \nL 3431 0 \nL 469 0 \nL 469 531 \nQ 828 903 1448 1529 \nQ 2069 2156 2228 2338 \nQ 2531 2678 2651 2914 \nQ 2772 3150 2772 3378 \nQ 2772 3750 2511 3984 \nQ 2250 4219 1831 4219 \nQ 1534 4219 1204 4116 \nQ 875 4013 500 3803 \nL 500 4441 \nQ 881 4594 1212 4672 \nQ 1544 4750 1819 4750 \nQ 2544 4750 2975 4387 \nQ 3406 4025 3406 3419 \nQ 3406 3131 3298 2873 \nQ 3191 2616 2906 2266 \nQ 2828 2175 2409 1742 \nQ 1991 1309 1228 531 \nz\n\" id=\"DejaVuSans-32\" transform=\"scale(0.015625)\"/>\n       </defs>\n       <use xlink:href=\"#DejaVuSans-32\"/>\n      </g>\n     </g>\n    </g>\n    <g id=\"xtick_3\">\n     <g id=\"line2d_3\">\n      <g>\n       <use style=\"stroke:#000000;stroke-width:0.8;\" x=\"177.273993\" xlink:href=\"#ma9fefa77ac\" y=\"239.76\"/>\n      </g>\n     </g>\n     <g id=\"text_3\">\n      <!-- 4 -->\n      <g transform=\"translate(174.092743 254.358437)scale(0.1 -0.1)\">\n       <defs>\n        <path d=\"M 2419 4116 \nL 825 1625 \nL 2419 1625 \nL 2419 4116 \nz\nM 2253 4666 \nL 3047 4666 \nL 3047 1625 \nL 3713 1625 \nL 3713 1100 \nL 3047 1100 \nL 3047 0 \nL 2419 0 \nL 2419 1100 \nL 313 1100 \nL 313 1709 \nL 2253 4666 \nz\n\" id=\"DejaVuSans-34\" transform=\"scale(0.015625)\"/>\n       </defs>\n       <use xlink:href=\"#DejaVuSans-34\"/>\n      </g>\n     </g>\n    </g>\n    <g id=\"xtick_4\">\n     <g id=\"line2d_4\">\n      <g>\n       <use style=\"stroke:#000000;stroke-width:0.8;\" x=\"232.612836\" xlink:href=\"#ma9fefa77ac\" y=\"239.76\"/>\n      </g>\n     </g>\n     <g id=\"text_4\">\n      <!-- 6 -->\n      <g transform=\"translate(229.431586 254.358437)scale(0.1 -0.1)\">\n       <defs>\n        <path d=\"M 2113 2584 \nQ 1688 2584 1439 2293 \nQ 1191 2003 1191 1497 \nQ 1191 994 1439 701 \nQ 1688 409 2113 409 \nQ 2538 409 2786 701 \nQ 3034 994 3034 1497 \nQ 3034 2003 2786 2293 \nQ 2538 2584 2113 2584 \nz\nM 3366 4563 \nL 3366 3988 \nQ 3128 4100 2886 4159 \nQ 2644 4219 2406 4219 \nQ 1781 4219 1451 3797 \nQ 1122 3375 1075 2522 \nQ 1259 2794 1537 2939 \nQ 1816 3084 2150 3084 \nQ 2853 3084 3261 2657 \nQ 3669 2231 3669 1497 \nQ 3669 778 3244 343 \nQ 2819 -91 2113 -91 \nQ 1303 -91 875 529 \nQ 447 1150 447 2328 \nQ 447 3434 972 4092 \nQ 1497 4750 2381 4750 \nQ 2619 4750 2861 4703 \nQ 3103 4656 3366 4563 \nz\n\" id=\"DejaVuSans-36\" transform=\"scale(0.015625)\"/>\n       </defs>\n       <use xlink:href=\"#DejaVuSans-36\"/>\n      </g>\n     </g>\n    </g>\n    <g id=\"xtick_5\">\n     <g id=\"line2d_5\">\n      <g>\n       <use style=\"stroke:#000000;stroke-width:0.8;\" x=\"287.951679\" xlink:href=\"#ma9fefa77ac\" y=\"239.76\"/>\n      </g>\n     </g>\n     <g id=\"text_5\">\n      <!-- 8 -->\n      <g transform=\"translate(284.770429 254.358437)scale(0.1 -0.1)\">\n       <defs>\n        <path d=\"M 2034 2216 \nQ 1584 2216 1326 1975 \nQ 1069 1734 1069 1313 \nQ 1069 891 1326 650 \nQ 1584 409 2034 409 \nQ 2484 409 2743 651 \nQ 3003 894 3003 1313 \nQ 3003 1734 2745 1975 \nQ 2488 2216 2034 2216 \nz\nM 1403 2484 \nQ 997 2584 770 2862 \nQ 544 3141 544 3541 \nQ 544 4100 942 4425 \nQ 1341 4750 2034 4750 \nQ 2731 4750 3128 4425 \nQ 3525 4100 3525 3541 \nQ 3525 3141 3298 2862 \nQ 3072 2584 2669 2484 \nQ 3125 2378 3379 2068 \nQ 3634 1759 3634 1313 \nQ 3634 634 3220 271 \nQ 2806 -91 2034 -91 \nQ 1263 -91 848 271 \nQ 434 634 434 1313 \nQ 434 1759 690 2068 \nQ 947 2378 1403 2484 \nz\nM 1172 3481 \nQ 1172 3119 1398 2916 \nQ 1625 2713 2034 2713 \nQ 2441 2713 2670 2916 \nQ 2900 3119 2900 3481 \nQ 2900 3844 2670 4047 \nQ 2441 4250 2034 4250 \nQ 1625 4250 1398 4047 \nQ 1172 3844 1172 3481 \nz\n\" id=\"DejaVuSans-38\" transform=\"scale(0.015625)\"/>\n       </defs>\n       <use xlink:href=\"#DejaVuSans-38\"/>\n      </g>\n     </g>\n    </g>\n    <g id=\"xtick_6\">\n     <g id=\"line2d_6\">\n      <g>\n       <use style=\"stroke:#000000;stroke-width:0.8;\" x=\"343.290522\" xlink:href=\"#ma9fefa77ac\" y=\"239.76\"/>\n      </g>\n     </g>\n     <g id=\"text_6\">\n      <!-- 10 -->\n      <g transform=\"translate(336.928022 254.358437)scale(0.1 -0.1)\">\n       <defs>\n        <path d=\"M 794 531 \nL 1825 531 \nL 1825 4091 \nL 703 3866 \nL 703 4441 \nL 1819 4666 \nL 2450 4666 \nL 2450 531 \nL 3481 531 \nL 3481 0 \nL 794 0 \nL 794 531 \nz\n\" id=\"DejaVuSans-31\" transform=\"scale(0.015625)\"/>\n       </defs>\n       <use xlink:href=\"#DejaVuSans-31\"/>\n       <use x=\"63.623047\" xlink:href=\"#DejaVuSans-30\"/>\n      </g>\n     </g>\n    </g>\n    <g id=\"text_7\">\n     <!-- ADAPT Iteration -->\n     <g transform=\"translate(179.308594 268.036562)scale(0.1 -0.1)\">\n      <defs>\n       <path d=\"M 2188 4044 \nL 1331 1722 \nL 3047 1722 \nL 2188 4044 \nz\nM 1831 4666 \nL 2547 4666 \nL 4325 0 \nL 3669 0 \nL 3244 1197 \nL 1141 1197 \nL 716 0 \nL 50 0 \nL 1831 4666 \nz\n\" id=\"DejaVuSans-41\" transform=\"scale(0.015625)\"/>\n       <path d=\"M 1259 4147 \nL 1259 519 \nL 2022 519 \nQ 2988 519 3436 956 \nQ 3884 1394 3884 2338 \nQ 3884 3275 3436 3711 \nQ 2988 4147 2022 4147 \nL 1259 4147 \nz\nM 628 4666 \nL 1925 4666 \nQ 3281 4666 3915 4102 \nQ 4550 3538 4550 2338 \nQ 4550 1131 3912 565 \nQ 3275 0 1925 0 \nL 628 0 \nL 628 4666 \nz\n\" id=\"DejaVuSans-44\" transform=\"scale(0.015625)\"/>\n       <path d=\"M 1259 4147 \nL 1259 2394 \nL 2053 2394 \nQ 2494 2394 2734 2622 \nQ 2975 2850 2975 3272 \nQ 2975 3691 2734 3919 \nQ 2494 4147 2053 4147 \nL 1259 4147 \nz\nM 628 4666 \nL 2053 4666 \nQ 2838 4666 3239 4311 \nQ 3641 3956 3641 3272 \nQ 3641 2581 3239 2228 \nQ 2838 1875 2053 1875 \nL 1259 1875 \nL 1259 0 \nL 628 0 \nL 628 4666 \nz\n\" id=\"DejaVuSans-50\" transform=\"scale(0.015625)\"/>\n       <path d=\"M -19 4666 \nL 3928 4666 \nL 3928 4134 \nL 2272 4134 \nL 2272 0 \nL 1638 0 \nL 1638 4134 \nL -19 4134 \nL -19 4666 \nz\n\" id=\"DejaVuSans-54\" transform=\"scale(0.015625)\"/>\n       <path id=\"DejaVuSans-20\" transform=\"scale(0.015625)\"/>\n       <path d=\"M 628 4666 \nL 1259 4666 \nL 1259 0 \nL 628 0 \nL 628 4666 \nz\n\" id=\"DejaVuSans-49\" transform=\"scale(0.015625)\"/>\n       <path d=\"M 1172 4494 \nL 1172 3500 \nL 2356 3500 \nL 2356 3053 \nL 1172 3053 \nL 1172 1153 \nQ 1172 725 1289 603 \nQ 1406 481 1766 481 \nL 2356 481 \nL 2356 0 \nL 1766 0 \nQ 1100 0 847 248 \nQ 594 497 594 1153 \nL 594 3053 \nL 172 3053 \nL 172 3500 \nL 594 3500 \nL 594 4494 \nL 1172 4494 \nz\n\" id=\"DejaVuSans-74\" transform=\"scale(0.015625)\"/>\n       <path d=\"M 3597 1894 \nL 3597 1613 \nL 953 1613 \nQ 991 1019 1311 708 \nQ 1631 397 2203 397 \nQ 2534 397 2845 478 \nQ 3156 559 3463 722 \nL 3463 178 \nQ 3153 47 2828 -22 \nQ 2503 -91 2169 -91 \nQ 1331 -91 842 396 \nQ 353 884 353 1716 \nQ 353 2575 817 3079 \nQ 1281 3584 2069 3584 \nQ 2775 3584 3186 3129 \nQ 3597 2675 3597 1894 \nz\nM 3022 2063 \nQ 3016 2534 2758 2815 \nQ 2500 3097 2075 3097 \nQ 1594 3097 1305 2825 \nQ 1016 2553 972 2059 \nL 3022 2063 \nz\n\" id=\"DejaVuSans-65\" transform=\"scale(0.015625)\"/>\n       <path d=\"M 2631 2963 \nQ 2534 3019 2420 3045 \nQ 2306 3072 2169 3072 \nQ 1681 3072 1420 2755 \nQ 1159 2438 1159 1844 \nL 1159 0 \nL 581 0 \nL 581 3500 \nL 1159 3500 \nL 1159 2956 \nQ 1341 3275 1631 3429 \nQ 1922 3584 2338 3584 \nQ 2397 3584 2469 3576 \nQ 2541 3569 2628 3553 \nL 2631 2963 \nz\n\" id=\"DejaVuSans-72\" transform=\"scale(0.015625)\"/>\n       <path d=\"M 2194 1759 \nQ 1497 1759 1228 1600 \nQ 959 1441 959 1056 \nQ 959 750 1161 570 \nQ 1363 391 1709 391 \nQ 2188 391 2477 730 \nQ 2766 1069 2766 1631 \nL 2766 1759 \nL 2194 1759 \nz\nM 3341 1997 \nL 3341 0 \nL 2766 0 \nL 2766 531 \nQ 2569 213 2275 61 \nQ 1981 -91 1556 -91 \nQ 1019 -91 701 211 \nQ 384 513 384 1019 \nQ 384 1609 779 1909 \nQ 1175 2209 1959 2209 \nL 2766 2209 \nL 2766 2266 \nQ 2766 2663 2505 2880 \nQ 2244 3097 1772 3097 \nQ 1472 3097 1187 3025 \nQ 903 2953 641 2809 \nL 641 3341 \nQ 956 3463 1253 3523 \nQ 1550 3584 1831 3584 \nQ 2591 3584 2966 3190 \nQ 3341 2797 3341 1997 \nz\n\" id=\"DejaVuSans-61\" transform=\"scale(0.015625)\"/>\n       <path d=\"M 603 3500 \nL 1178 3500 \nL 1178 0 \nL 603 0 \nL 603 3500 \nz\nM 603 4863 \nL 1178 4863 \nL 1178 4134 \nL 603 4134 \nL 603 4863 \nz\n\" id=\"DejaVuSans-69\" transform=\"scale(0.015625)\"/>\n       <path d=\"M 1959 3097 \nQ 1497 3097 1228 2736 \nQ 959 2375 959 1747 \nQ 959 1119 1226 758 \nQ 1494 397 1959 397 \nQ 2419 397 2687 759 \nQ 2956 1122 2956 1747 \nQ 2956 2369 2687 2733 \nQ 2419 3097 1959 3097 \nz\nM 1959 3584 \nQ 2709 3584 3137 3096 \nQ 3566 2609 3566 1747 \nQ 3566 888 3137 398 \nQ 2709 -91 1959 -91 \nQ 1206 -91 779 398 \nQ 353 888 353 1747 \nQ 353 2609 779 3096 \nQ 1206 3584 1959 3584 \nz\n\" id=\"DejaVuSans-6f\" transform=\"scale(0.015625)\"/>\n       <path d=\"M 3513 2113 \nL 3513 0 \nL 2938 0 \nL 2938 2094 \nQ 2938 2591 2744 2837 \nQ 2550 3084 2163 3084 \nQ 1697 3084 1428 2787 \nQ 1159 2491 1159 1978 \nL 1159 0 \nL 581 0 \nL 581 3500 \nL 1159 3500 \nL 1159 2956 \nQ 1366 3272 1645 3428 \nQ 1925 3584 2291 3584 \nQ 2894 3584 3203 3211 \nQ 3513 2838 3513 2113 \nz\n\" id=\"DejaVuSans-6e\" transform=\"scale(0.015625)\"/>\n      </defs>\n      <use xlink:href=\"#DejaVuSans-41\"/>\n      <use x=\"68.408203\" xlink:href=\"#DejaVuSans-44\"/>\n      <use x=\"143.660156\" xlink:href=\"#DejaVuSans-41\"/>\n      <use x=\"212.068359\" xlink:href=\"#DejaVuSans-50\"/>\n      <use x=\"272.371094\" xlink:href=\"#DejaVuSans-54\"/>\n      <use x=\"333.455078\" xlink:href=\"#DejaVuSans-20\"/>\n      <use x=\"365.242188\" xlink:href=\"#DejaVuSans-49\"/>\n      <use x=\"394.734375\" xlink:href=\"#DejaVuSans-74\"/>\n      <use x=\"433.943359\" xlink:href=\"#DejaVuSans-65\"/>\n      <use x=\"495.466797\" xlink:href=\"#DejaVuSans-72\"/>\n      <use x=\"536.580078\" xlink:href=\"#DejaVuSans-61\"/>\n      <use x=\"597.859375\" xlink:href=\"#DejaVuSans-74\"/>\n      <use x=\"637.068359\" xlink:href=\"#DejaVuSans-69\"/>\n      <use x=\"664.851562\" xlink:href=\"#DejaVuSans-6f\"/>\n      <use x=\"726.033203\" xlink:href=\"#DejaVuSans-6e\"/>\n     </g>\n    </g>\n   </g>\n   <g id=\"matplotlib.axis_2\">\n    <g id=\"ytick_1\">\n     <g id=\"line2d_7\">\n      <defs>\n       <path d=\"M 0 0 \nL -3.5 0 \n\" id=\"m375b0db066\" style=\"stroke:#000000;stroke-width:0.8;\"/>\n      </defs>\n      <g>\n       <use style=\"stroke:#000000;stroke-width:0.8;\" x=\"51.378125\" xlink:href=\"#m375b0db066\" y=\"140.869061\"/>\n      </g>\n     </g>\n     <g id=\"text_8\">\n      <!-- $\\mathdefault{10^{-2}}$ -->\n      <g transform=\"translate(20.878125 144.66828)scale(0.1 -0.1)\">\n       <defs>\n        <path d=\"M 678 2272 \nL 4684 2272 \nL 4684 1741 \nL 678 1741 \nL 678 2272 \nz\n\" id=\"DejaVuSans-2212\" transform=\"scale(0.015625)\"/>\n       </defs>\n       <use transform=\"translate(0 0.765625)\" xlink:href=\"#DejaVuSans-31\"/>\n       <use transform=\"translate(63.623047 0.765625)\" xlink:href=\"#DejaVuSans-30\"/>\n       <use transform=\"translate(128.203125 39.046875)scale(0.7)\" xlink:href=\"#DejaVuSans-2212\"/>\n       <use transform=\"translate(186.855469 39.046875)scale(0.7)\" xlink:href=\"#DejaVuSans-32\"/>\n      </g>\n     </g>\n    </g>\n    <g id=\"ytick_2\">\n     <g id=\"line2d_8\">\n      <g>\n       <use style=\"stroke:#000000;stroke-width:0.8;\" x=\"51.378125\" xlink:href=\"#m375b0db066\" y=\"33.90666\"/>\n      </g>\n     </g>\n     <g id=\"text_9\">\n      <!-- $\\mathdefault{10^{-1}}$ -->\n      <g transform=\"translate(20.878125 37.705879)scale(0.1 -0.1)\">\n       <use transform=\"translate(0 0.684375)\" xlink:href=\"#DejaVuSans-31\"/>\n       <use transform=\"translate(63.623047 0.684375)\" xlink:href=\"#DejaVuSans-30\"/>\n       <use transform=\"translate(128.203125 38.965625)scale(0.7)\" xlink:href=\"#DejaVuSans-2212\"/>\n       <use transform=\"translate(186.855469 38.965625)scale(0.7)\" xlink:href=\"#DejaVuSans-31\"/>\n      </g>\n     </g>\n    </g>\n    <g id=\"ytick_3\">\n     <g id=\"line2d_9\">\n      <defs>\n       <path d=\"M 0 0 \nL -2 0 \n\" id=\"m455cc76616\" style=\"stroke:#000000;stroke-width:0.6;\"/>\n      </defs>\n      <g>\n       <use style=\"stroke:#000000;stroke-width:0.6;\" x=\"51.378125\" xlink:href=\"#m455cc76616\" y=\"215.632571\"/>\n      </g>\n     </g>\n    </g>\n    <g id=\"ytick_4\">\n     <g id=\"line2d_10\">\n      <g>\n       <use style=\"stroke:#000000;stroke-width:0.6;\" x=\"51.378125\" xlink:href=\"#m455cc76616\" y=\"196.797427\"/>\n      </g>\n     </g>\n    </g>\n    <g id=\"ytick_5\">\n     <g id=\"line2d_11\">\n      <g>\n       <use style=\"stroke:#000000;stroke-width:0.6;\" x=\"51.378125\" xlink:href=\"#m455cc76616\" y=\"183.43368\"/>\n      </g>\n     </g>\n    </g>\n    <g id=\"ytick_6\">\n     <g id=\"line2d_12\">\n      <g>\n       <use style=\"stroke:#000000;stroke-width:0.6;\" x=\"51.378125\" xlink:href=\"#m455cc76616\" y=\"173.067952\"/>\n      </g>\n     </g>\n    </g>\n    <g id=\"ytick_7\">\n     <g id=\"line2d_13\">\n      <g>\n       <use style=\"stroke:#000000;stroke-width:0.6;\" x=\"51.378125\" xlink:href=\"#m455cc76616\" y=\"164.598536\"/>\n      </g>\n     </g>\n    </g>\n    <g id=\"ytick_8\">\n     <g id=\"line2d_14\">\n      <g>\n       <use style=\"stroke:#000000;stroke-width:0.6;\" x=\"51.378125\" xlink:href=\"#m455cc76616\" y=\"157.437747\"/>\n      </g>\n     </g>\n    </g>\n    <g id=\"ytick_9\">\n     <g id=\"line2d_15\">\n      <g>\n       <use style=\"stroke:#000000;stroke-width:0.6;\" x=\"51.378125\" xlink:href=\"#m455cc76616\" y=\"151.234789\"/>\n      </g>\n     </g>\n    </g>\n    <g id=\"ytick_10\">\n     <g id=\"line2d_16\">\n      <g>\n       <use style=\"stroke:#000000;stroke-width:0.6;\" x=\"51.378125\" xlink:href=\"#m455cc76616\" y=\"145.763392\"/>\n      </g>\n     </g>\n    </g>\n    <g id=\"ytick_11\">\n     <g id=\"line2d_17\">\n      <g>\n       <use style=\"stroke:#000000;stroke-width:0.6;\" x=\"51.378125\" xlink:href=\"#m455cc76616\" y=\"108.67017\"/>\n      </g>\n     </g>\n    </g>\n    <g id=\"ytick_12\">\n     <g id=\"line2d_18\">\n      <g>\n       <use style=\"stroke:#000000;stroke-width:0.6;\" x=\"51.378125\" xlink:href=\"#m455cc76616\" y=\"89.835026\"/>\n      </g>\n     </g>\n    </g>\n    <g id=\"ytick_13\">\n     <g id=\"line2d_19\">\n      <g>\n       <use style=\"stroke:#000000;stroke-width:0.6;\" x=\"51.378125\" xlink:href=\"#m455cc76616\" y=\"76.471279\"/>\n      </g>\n     </g>\n    </g>\n    <g id=\"ytick_14\">\n     <g id=\"line2d_20\">\n      <g>\n       <use style=\"stroke:#000000;stroke-width:0.6;\" x=\"51.378125\" xlink:href=\"#m455cc76616\" y=\"66.105552\"/>\n      </g>\n     </g>\n    </g>\n    <g id=\"ytick_15\">\n     <g id=\"line2d_21\">\n      <g>\n       <use style=\"stroke:#000000;stroke-width:0.6;\" x=\"51.378125\" xlink:href=\"#m455cc76616\" y=\"57.636135\"/>\n      </g>\n     </g>\n    </g>\n    <g id=\"ytick_16\">\n     <g id=\"line2d_22\">\n      <g>\n       <use style=\"stroke:#000000;stroke-width:0.6;\" x=\"51.378125\" xlink:href=\"#m455cc76616\" y=\"50.475346\"/>\n      </g>\n     </g>\n    </g>\n    <g id=\"ytick_17\">\n     <g id=\"line2d_23\">\n      <g>\n       <use style=\"stroke:#000000;stroke-width:0.6;\" x=\"51.378125\" xlink:href=\"#m455cc76616\" y=\"44.272388\"/>\n      </g>\n     </g>\n    </g>\n    <g id=\"ytick_18\">\n     <g id=\"line2d_24\">\n      <g>\n       <use style=\"stroke:#000000;stroke-width:0.6;\" x=\"51.378125\" xlink:href=\"#m455cc76616\" y=\"38.800992\"/>\n      </g>\n     </g>\n    </g>\n    <g id=\"text_10\">\n     <!-- Error (Ha) -->\n     <g transform=\"translate(14.798438 155.54)rotate(-90)scale(0.1 -0.1)\">\n      <defs>\n       <path d=\"M 628 4666 \nL 3578 4666 \nL 3578 4134 \nL 1259 4134 \nL 1259 2753 \nL 3481 2753 \nL 3481 2222 \nL 1259 2222 \nL 1259 531 \nL 3634 531 \nL 3634 0 \nL 628 0 \nL 628 4666 \nz\n\" id=\"DejaVuSans-45\" transform=\"scale(0.015625)\"/>\n       <path d=\"M 1984 4856 \nQ 1566 4138 1362 3434 \nQ 1159 2731 1159 2009 \nQ 1159 1288 1364 580 \nQ 1569 -128 1984 -844 \nL 1484 -844 \nQ 1016 -109 783 600 \nQ 550 1309 550 2009 \nQ 550 2706 781 3412 \nQ 1013 4119 1484 4856 \nL 1984 4856 \nz\n\" id=\"DejaVuSans-28\" transform=\"scale(0.015625)\"/>\n       <path d=\"M 628 4666 \nL 1259 4666 \nL 1259 2753 \nL 3553 2753 \nL 3553 4666 \nL 4184 4666 \nL 4184 0 \nL 3553 0 \nL 3553 2222 \nL 1259 2222 \nL 1259 0 \nL 628 0 \nL 628 4666 \nz\n\" id=\"DejaVuSans-48\" transform=\"scale(0.015625)\"/>\n       <path d=\"M 513 4856 \nL 1013 4856 \nQ 1481 4119 1714 3412 \nQ 1947 2706 1947 2009 \nQ 1947 1309 1714 600 \nQ 1481 -109 1013 -844 \nL 513 -844 \nQ 928 -128 1133 580 \nQ 1338 1288 1338 2009 \nQ 1338 2731 1133 3434 \nQ 928 4138 513 4856 \nz\n\" id=\"DejaVuSans-29\" transform=\"scale(0.015625)\"/>\n      </defs>\n      <use xlink:href=\"#DejaVuSans-45\"/>\n      <use x=\"63.183594\" xlink:href=\"#DejaVuSans-72\"/>\n      <use x=\"102.546875\" xlink:href=\"#DejaVuSans-72\"/>\n      <use x=\"141.410156\" xlink:href=\"#DejaVuSans-6f\"/>\n      <use x=\"202.591797\" xlink:href=\"#DejaVuSans-72\"/>\n      <use x=\"243.705078\" xlink:href=\"#DejaVuSans-20\"/>\n      <use x=\"275.492188\" xlink:href=\"#DejaVuSans-28\"/>\n      <use x=\"314.505859\" xlink:href=\"#DejaVuSans-48\"/>\n      <use x=\"389.701172\" xlink:href=\"#DejaVuSans-61\"/>\n      <use x=\"450.980469\" xlink:href=\"#DejaVuSans-29\"/>\n     </g>\n    </g>\n   </g>\n   <g id=\"line2d_25\">\n    <path clip-path=\"url(#pe1dec0aadf)\" d=\"M 66.596307 32.203636 \nL 94.265728 46.515934 \nL 121.93515 74.632792 \nL 149.604571 98.434042 \nL 177.273993 102.433837 \nL 204.943414 108.883967 \nL 232.612836 121.616294 \nL 260.282257 142.166919 \nL 287.951679 185.070362 \nL 315.6211 189.304244 \nL 343.290522 208.621141 \nL 370.959943 229.876364 \n\" style=\"fill:none;stroke:#1f77b4;stroke-linecap:square;stroke-width:1.5;\"/>\n   </g>\n   <g id=\"patch_3\">\n    <path d=\"M 51.378125 239.76 \nL 51.378125 22.32 \n\" style=\"fill:none;stroke:#000000;stroke-linecap:square;stroke-linejoin:miter;stroke-width:0.8;\"/>\n   </g>\n   <g id=\"patch_4\">\n    <path d=\"M 386.178125 239.76 \nL 386.178125 22.32 \n\" style=\"fill:none;stroke:#000000;stroke-linecap:square;stroke-linejoin:miter;stroke-width:0.8;\"/>\n   </g>\n   <g id=\"patch_5\">\n    <path d=\"M 51.378125 239.76 \nL 386.178125 239.76 \n\" style=\"fill:none;stroke:#000000;stroke-linecap:square;stroke-linejoin:miter;stroke-width:0.8;\"/>\n   </g>\n   <g id=\"patch_6\">\n    <path d=\"M 51.378125 22.32 \nL 386.178125 22.32 \n\" style=\"fill:none;stroke:#000000;stroke-linecap:square;stroke-linejoin:miter;stroke-width:0.8;\"/>\n   </g>\n   <g id=\"text_11\">\n    <!-- qubit-ADAPT: H$_4$ -->\n    <g transform=\"translate(169.698125 16.32)scale(0.12 -0.12)\">\n     <defs>\n      <path d=\"M 947 1747 \nQ 947 1113 1208 752 \nQ 1469 391 1925 391 \nQ 2381 391 2643 752 \nQ 2906 1113 2906 1747 \nQ 2906 2381 2643 2742 \nQ 2381 3103 1925 3103 \nQ 1469 3103 1208 2742 \nQ 947 2381 947 1747 \nz\nM 2906 525 \nQ 2725 213 2448 61 \nQ 2172 -91 1784 -91 \nQ 1150 -91 751 415 \nQ 353 922 353 1747 \nQ 353 2572 751 3078 \nQ 1150 3584 1784 3584 \nQ 2172 3584 2448 3432 \nQ 2725 3281 2906 2969 \nL 2906 3500 \nL 3481 3500 \nL 3481 -1331 \nL 2906 -1331 \nL 2906 525 \nz\n\" id=\"DejaVuSans-71\" transform=\"scale(0.015625)\"/>\n      <path d=\"M 544 1381 \nL 544 3500 \nL 1119 3500 \nL 1119 1403 \nQ 1119 906 1312 657 \nQ 1506 409 1894 409 \nQ 2359 409 2629 706 \nQ 2900 1003 2900 1516 \nL 2900 3500 \nL 3475 3500 \nL 3475 0 \nL 2900 0 \nL 2900 538 \nQ 2691 219 2414 64 \nQ 2138 -91 1772 -91 \nQ 1169 -91 856 284 \nQ 544 659 544 1381 \nz\nM 1991 3584 \nL 1991 3584 \nz\n\" id=\"DejaVuSans-75\" transform=\"scale(0.015625)\"/>\n      <path d=\"M 3116 1747 \nQ 3116 2381 2855 2742 \nQ 2594 3103 2138 3103 \nQ 1681 3103 1420 2742 \nQ 1159 2381 1159 1747 \nQ 1159 1113 1420 752 \nQ 1681 391 2138 391 \nQ 2594 391 2855 752 \nQ 3116 1113 3116 1747 \nz\nM 1159 2969 \nQ 1341 3281 1617 3432 \nQ 1894 3584 2278 3584 \nQ 2916 3584 3314 3078 \nQ 3713 2572 3713 1747 \nQ 3713 922 3314 415 \nQ 2916 -91 2278 -91 \nQ 1894 -91 1617 61 \nQ 1341 213 1159 525 \nL 1159 0 \nL 581 0 \nL 581 4863 \nL 1159 4863 \nL 1159 2969 \nz\n\" id=\"DejaVuSans-62\" transform=\"scale(0.015625)\"/>\n      <path d=\"M 313 2009 \nL 1997 2009 \nL 1997 1497 \nL 313 1497 \nL 313 2009 \nz\n\" id=\"DejaVuSans-2d\" transform=\"scale(0.015625)\"/>\n      <path d=\"M 750 794 \nL 1409 794 \nL 1409 0 \nL 750 0 \nL 750 794 \nz\nM 750 3309 \nL 1409 3309 \nL 1409 2516 \nL 750 2516 \nL 750 3309 \nz\n\" id=\"DejaVuSans-3a\" transform=\"scale(0.015625)\"/>\n     </defs>\n     <use transform=\"translate(0 0.015625)\" xlink:href=\"#DejaVuSans-71\"/>\n     <use transform=\"translate(63.476562 0.015625)\" xlink:href=\"#DejaVuSans-75\"/>\n     <use transform=\"translate(126.855469 0.015625)\" xlink:href=\"#DejaVuSans-62\"/>\n     <use transform=\"translate(190.332031 0.015625)\" xlink:href=\"#DejaVuSans-69\"/>\n     <use transform=\"translate(218.115234 0.015625)\" xlink:href=\"#DejaVuSans-74\"/>\n     <use transform=\"translate(257.324219 0.015625)\" xlink:href=\"#DejaVuSans-2d\"/>\n     <use transform=\"translate(293.408203 0.015625)\" xlink:href=\"#DejaVuSans-41\"/>\n     <use transform=\"translate(361.816406 0.015625)\" xlink:href=\"#DejaVuSans-44\"/>\n     <use transform=\"translate(438.818359 0.015625)\" xlink:href=\"#DejaVuSans-41\"/>\n     <use transform=\"translate(507.226562 0.015625)\" xlink:href=\"#DejaVuSans-50\"/>\n     <use transform=\"translate(567.529297 0.015625)\" xlink:href=\"#DejaVuSans-54\"/>\n     <use transform=\"translate(628.613281 0.015625)\" xlink:href=\"#DejaVuSans-3a\"/>\n     <use transform=\"translate(662.304688 0.015625)\" xlink:href=\"#DejaVuSans-20\"/>\n     <use transform=\"translate(694.091797 0.015625)\" xlink:href=\"#DejaVuSans-48\"/>\n     <use transform=\"translate(770.244141 -16.390625)scale(0.7)\" xlink:href=\"#DejaVuSans-34\"/>\n    </g>\n   </g>\n  </g>\n </g>\n <defs>\n  <clipPath id=\"pe1dec0aadf\">\n   <rect height=\"217.44\" width=\"334.8\" x=\"51.378125\" y=\"22.32\"/>\n  </clipPath>\n </defs>\n</svg>\n",
      "image/png": "[encoded data removed]"
     },
     "metadata": {
      "needs_background": "light"
     }
    }
   ],
   "metadata": {}
  },
  {
   "cell_type": "markdown",
   "source": [
    "Ok so after 15 cycles, we have an error of 0.14 mHa, within chemical accuracy of FCI. How does this all compare against UCCSD-VQE?"
   ],
   "metadata": {}
  },
  {
   "cell_type": "code",
   "execution_count": 125,
   "source": [
    "uccsd_solver.simulate()"
   ],
   "outputs": [
    {
     "output_type": "stream",
     "name": "stdout",
     "text": [
      "Optimization terminated successfully    (Exit mode 0)\n",
      "            Current function value: -2.0246341192737987\n",
      "            Iterations: 6\n",
      "            Function evaluations: 97\n",
      "            Gradient evaluations: 6\n"
     ]
    },
    {
     "output_type": "execute_result",
     "data": {
      "text/plain": [
       "-2.0246341192737987"
      ]
     },
     "metadata": {},
     "execution_count": 125
    }
   ],
   "metadata": {}
  },
  {
   "cell_type": "code",
   "execution_count": 126,
   "source": [
    "print(f'ADAPT-VQE ERROR: {adapt_solver.energies[-1] - exact :0.4E} Ha')\n",
    "print(f'UCCSD-VQE ERROR: {uccsd_solver.optimal_energy - exact :0.4E} Ha')"
   ],
   "outputs": [
    {
     "output_type": "stream",
     "name": "stdout",
     "text": [
      "ADAPT-VQE ERROR: 1.4719E-03 Ha\n",
      "UCCSD-VQE ERROR: 9.7418E-04 Ha\n"
     ]
    }
   ],
   "metadata": {}
  },
  {
   "cell_type": "markdown",
   "source": [
    "From the perspective of energy accuracy, the two have reached very similar results, within a factor of two. The big advantage here however, are in the resources required for this ansatz circuit:"
   ],
   "metadata": {}
  },
  {
   "cell_type": "code",
   "execution_count": 127,
   "source": [
    "print(f'ADAPT RESOURCES:\\n {adapt_solver.get_resources()}\\n')\n",
    "print(f'UCCSD RESOURCES:\\n {uccsd_solver.get_resources()}')"
   ],
   "outputs": [
    {
     "output_type": "stream",
     "name": "stdout",
     "text": [
      "ADAPT RESOURCES:\n",
      " {'qubit_hamiltonian_terms': 185, 'circuit_width': 8, 'circuit_gates': 184, 'circuit_2qubit_gates': 72, 'circuit_var_gates': 12, 'vqe_variational_parameters': 12}\n",
      "\n",
      "UCCSD RESOURCES:\n",
      " {'qubit_hamiltonian_terms': 185, 'circuit_width': 8, 'circuit_gates': 2692, 'circuit_2qubit_gates': 1312, 'circuit_var_gates': 160, 'vqe_variational_parameters': 14}\n"
     ]
    }
   ],
   "metadata": {}
  },
  {
   "cell_type": "markdown",
   "source": [
    "\n",
    "We have managed here to reduce the total number of gates by a factor of 10, the number of 2-qubit gates by a factor of nearly 15, and variational gates by a factor of 10. \n",
    "\n",
    "We note that ADAPT-VQE has run with 2 more variational parameters than UCCSD-VQE. This introduces additional overhead to the classical optimizer, which must find an optimal solution within a higher-dimensional space. However, the number of variational parameters for ADAPT-VQE is directly dependent on the number of cycles over which ADAPT is run. We then have the opportunity to compromise between optimization complexity and ansatz expressivity by limiting the number of cycles, and therefore the number of variational parameters (and gate number and depth) associated with a computation. This flexibility in resource requirements is then an important advantage for the ADAPT-VQE algorithm over static ansatze.\n",
    "\n",
    "There is one small problem with qubit inspired ansatz. They do not generally respect the symmetry of the problem. We can now examing the operators $\\hat{S}^2$, $\\hat{S}_Z$ and the $\\hat{N}$ operators to determine if any loss of symmetry has occured. "
   ],
   "metadata": {}
  },
  {
   "cell_type": "code",
   "execution_count": 128,
   "source": [
    "from qsdk.toolboxes.ansatz_generator.fermionic_operators import number_operator, spinz_operator, spin2_operator\n",
    "from qsdk.toolboxes.qubit_mappings.mapping_transform import fermion_to_qubit_mapping\n",
    "n_orbs = int(mol.nao)\n",
    "s2hat = spin2_operator(n_orbs)\n",
    "szhat = spinz_operator(n_orbs)\n",
    "nhat = number_operator(n_orbs)\n",
    "qu_s2hat = fermion_to_qubit_mapping(s2hat, 'jw')\n",
    "qu_szhat = fermion_to_qubit_mapping(szhat, 'jw')\n",
    "qu_nhat = fermion_to_qubit_mapping(nhat, 'jw')\n",
    "adapt_s2 = adapt_solver.vqe_solver.operator_expectation(qu_s2hat)\n",
    "adapt_sz = adapt_solver.vqe_solver.operator_expectation(qu_szhat)\n",
    "adapt_n = adapt_solver.vqe_solver.operator_expectation(qu_nhat)\n",
    "uccsd_s2 = uccsd_solver.operator_expectation(qu_s2hat)\n",
    "uccsd_sz = uccsd_solver.operator_expectation(qu_szhat)\n",
    "uccsd_n = uccsd_solver.operator_expectation(qu_nhat)\n",
    "\n",
    "print(f'Adapt quantum numbers: N = {adapt_n:6.4f}, Sz = {adapt_sz:6.4f}, S^2 = {adapt_s2:6.4f}')\n",
    "print(f'UCCSD quantum numbers: N = {uccsd_n:6.4f}, Sz = {uccsd_sz:6.4f}, S^2 = {uccsd_s2:6.4f}')"
   ],
   "outputs": [
    {
     "output_type": "stream",
     "name": "stdout",
     "text": [
      "Adapt quantum numbers: N = 4.0001, Sz = 0.0004, S^2 = 0.0015\n",
      "UCCSD quantum numbers: N = 4.0000, Sz = 0.0000, S^2 = 0.0000\n"
     ]
    }
   ],
   "metadata": {}
  },
  {
   "cell_type": "markdown",
   "source": [
    "As you can see, there are small errors in the desired quantum numbers so the resulting state is not exactly what we wanted. To address this problem we can add a penalty term to the qubit hamiltonian and minimize this qubit_hamiltonian directly using Adapt-VQE instead of the molecular hamiltonian."
   ],
   "metadata": {}
  },
  {
   "cell_type": "code",
   "execution_count": 129,
   "source": [
    "from qsdk.toolboxes.ansatz_generator.penalty_terms import combined_penalty\n",
    "qubit_hamiltonian = uccsd_solver.qubit_hamiltonian\n",
    "qubit_hamiltonian_with_pen = qubit_hamiltonian + fermion_to_qubit_mapping(combined_penalty(n_orbs, opt_penalty_terms={'N': [1/2, 4], 'Sz': [1, 0], 'S^2': [1, 0]}), 'jw')\n",
    "opt_dict = {\"qubit_hamiltonian\": qubit_hamiltonian_with_pen,\n",
    "            \"n_electrons\": 4,\n",
    "            \"n_spinorbitals\": 2 * n_orbs, \n",
    "            \"pool\": get_pool,\n",
    "            \"pool_args\": (qubit_hamiltonian_with_pen, n_qubits),\n",
    "            \"tol\": 0.01,\n",
    "            \"max_cycles\": 12,\n",
    "            \"verbose\": False}\n",
    "\n",
    "adapt_solver = ADAPTSolver(opt_dict)\n",
    "adapt_solver.build()\n",
    "adapt_solver.simulate()"
   ],
   "outputs": [
    {
     "output_type": "stream",
     "name": "stdout",
     "text": [
      "Iteration 1 of ADAPT-VQE.\n",
      "Iteration 2 of ADAPT-VQE.\n",
      "Iteration 3 of ADAPT-VQE.\n",
      "Iteration 4 of ADAPT-VQE.\n",
      "Iteration 5 of ADAPT-VQE.\n",
      "Iteration 6 of ADAPT-VQE.\n",
      "Iteration 7 of ADAPT-VQE.\n",
      "Iteration 8 of ADAPT-VQE.\n",
      "Iteration 9 of ADAPT-VQE.\n",
      "Iteration 10 of ADAPT-VQE.\n",
      "Iteration 11 of ADAPT-VQE.\n",
      "Iteration 12 of ADAPT-VQE.\n"
     ]
    },
    {
     "output_type": "execute_result",
     "data": {
      "text/plain": [
       "-2.019190327311798"
      ]
     },
     "metadata": {},
     "execution_count": 129
    }
   ],
   "metadata": {}
  },
  {
   "cell_type": "code",
   "execution_count": 130,
   "source": [
    "adapt_s2 = adapt_solver.vqe_solver.operator_expectation(qu_s2hat)\n",
    "adapt_sz = adapt_solver.vqe_solver.operator_expectation(qu_szhat)\n",
    "adapt_n = adapt_solver.vqe_solver.operator_expectation(qu_nhat)\n",
    "\n",
    "print(f'ADAPT-VQE ERROR: {adapt_solver.vqe_solver.operator_expectation(qubit_hamiltonian) - exact :0.4E} Ha')\n",
    "print(f'UCCSD-VQE ERROR: {uccsd_solver.optimal_energy - exact :0.4E} Ha\\n')\n",
    "print(f'ADAPT RESOURCES:\\n {adapt_solver.get_resources()}\\n')\n",
    "print(f'UCCSD RESOURCES:\\n {uccsd_solver.get_resources()}\\n')\n",
    "print(f'Adapt quantum numbers:\\n N = {adapt_n:6.4f}, Sz = {adapt_sz:6.4f}, S^2 = {adapt_s2:6.4f}\\n')\n",
    "print(f'UCCSD quantum numbers:\\n N = {uccsd_n:6.4f}, Sz = {uccsd_sz:6.4f}, S^2 = {uccsd_s2:6.4f}')"
   ],
   "outputs": [
    {
     "output_type": "stream",
     "name": "stdout",
     "text": [
      "ADAPT-VQE ERROR: 6.4019E-03 Ha\n",
      "UCCSD-VQE ERROR: 9.7418E-04 Ha\n",
      "\n",
      "ADAPT RESOURCES:\n",
      " {'qubit_hamiltonian_terms': 695, 'circuit_width': 8, 'circuit_gates': 184, 'circuit_2qubit_gates': 72, 'circuit_var_gates': 12, 'vqe_variational_parameters': 12}\n",
      "\n",
      "UCCSD RESOURCES:\n",
      " {'qubit_hamiltonian_terms': 185, 'circuit_width': 8, 'circuit_gates': 2692, 'circuit_2qubit_gates': 1312, 'circuit_var_gates': 160, 'vqe_variational_parameters': 14}\n",
      "\n",
      "Adapt quantum numbers:\n",
      " N = 4.0000, Sz = -0.0000, S^2 = 0.0000\n",
      "\n",
      "UCCSD quantum numbers:\n",
      " N = 4.0000, Sz = 0.0000, S^2 = 0.0000\n"
     ]
    }
   ],
   "metadata": {}
  },
  {
   "cell_type": "markdown",
   "source": [
    "## Conclusion\n",
    "\n",
    "In this notebook, we've explored a simple implementation of the ADAPT-VQE algorithm, using tools available through the qSDK. We have demonstrated how we can leverage these tools to reduce the effort involved in prototyping new quantum algorithms. This allows the user to focus exclusively on the specific components relevant to their research objectives, without getting bogged down in re-building standard infrastructure from scratch. \n",
    "\n",
    "The ADAPT-VQE algorithm provides the flexibility to explore different choices of generator pools, and ranking criteria. Feel free to try out alternative implementations to get a better sense of what this algorithm can do."
   ],
   "metadata": {}
  }
 ]
}