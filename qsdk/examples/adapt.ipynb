{
 "metadata": {
  "language_info": {
   "codemirror_mode": {
    "name": "ipython",
    "version": 3
   },
   "file_extension": ".py",
   "mimetype": "text/x-python",
   "name": "python",
   "nbconvert_exporter": "python",
   "pygments_lexer": "ipython3",
   "version": "3.8.10"
  },
  "orig_nbformat": 2,
  "kernelspec": {
   "name": "python3",
   "display_name": "Python 3.8.10 64-bit ('agnostic': venv)"
  },
  "interpreter": {
   "hash": "fd77f6ebaf3d18999f00320d0aca64091b39e7847b653c69719c9ddc4e72c63f"
  }
 },
 "nbformat": 4,
 "nbformat_minor": 2,
 "cells": [
  {
   "cell_type": "markdown",
   "source": [
    "# ADAPT-VQE\n",
    "\n",
    "ADAPT-VQE was introduced by [Grimsley et al](https://www.nature.com/articles/s41467-019-10988-2) as a solution to the often impracticably deep, and not necessarily accurate, static VQE circuits. In ansatze like UCCSD, one easily reaches the order of thousands of gates, even for modestly sized molecules. In UCCSD and its generalized UCCGSD, the number of fermionic excitations in the ansatz scales like $\\mathcal{O}(N^2M^2)$, and $\\mathcal{O}(N^4)$ respectively. Here $N$ refers to the number of spin-orbitals in the problem basis, and $M$ the number of electrons.\n",
    "\n",
    "In ADAPT-VQE, an ansatz which approximates not UCCSD/UCCGSD, but in fact FCI, is built iteratively. Over a series of cycles, the ansatz circuit is grown to achieve an approximation to FCI with a minimal number of circuit elements. In this way, ADAPT-VQE is a meta-VQE. At each step, a new ansatz is defined, and its parameters optimized according to conventional VQE. As the cycles proceed, the ansatz grows in both complexity and expressibility. This algorithm comes at the expense of a significant increase in measurement overhead. In order to identify the best operator to append to the present ansatz circuit, a large number of measurements are performed to rank the available operators in order of their ability to further reduce the ansatz state energy.\n",
    "\n",
    "In this notebook, we'll explore the implementation of this algorithm, by using the implementation available in qSDK. "
   ],
   "metadata": {}
  },
  {
   "cell_type": "markdown",
   "source": [
    "## Fermionic-Inspired Qubit-ADAPT\n",
    "We are going to use the unitary generalized singles and doubles to establish a set of pool generators to use in our implementation of ADAPT-VQE. "
   ],
   "metadata": {}
  },
  {
   "cell_type": "code",
   "execution_count": null,
   "source": [
    "import numpy as np\n",
    "\n",
    "from qsdk.toolboxes.ansatz_generator._general_unitary_cc import uccgsd_generator as uccgsd_pool\n",
    "from qsdk.toolboxes.ansatz_generator._paired_unitary_cc import get_generalized_singles, get_paired_doubles\n",
    "from qsdk.toolboxes.operators import FermionOperator\n",
    "\n",
    "def get_pool(n_spin_orbitals):\n",
    "    \"\"\"Use the number of spin orbitals and the qsdk uccgsd_generator function that returns a list\n",
    "    of FermionOperators to sample from in order to choose the best operator to add to the ansatz.\n",
    "    This is the default pool used in the ansatz\n",
    "    Args:\n",
    "        n_spin_orbitals (int): number of spin_orbitals in the Hamiltonian\n",
    "    \n",
    "    Returns:\n",
    "        pool_generators (list of FermionOperator): list of generators\n",
    "    \"\"\"\n",
    "\n",
    "    pool_generators = uccgsd_pool(n_spin_orbitals)\n",
    "    # n_orbs=n_spin_orbitals//2\n",
    "    # all_terms = get_generalized_singles(n_orbs) + get_paired_doubles(n_orbs)\n",
    "    # pool_generators = list()\n",
    "    # for item in all_terms:\n",
    "    #    pool_generators.append(FermionOperator(item[0], 1))\n",
    "    return pool_generators"
   ],
   "outputs": [],
   "metadata": {}
  },
  {
   "cell_type": "markdown",
   "source": [
    "## Adaptive-Ansatz\n",
    "Now that we have a pool of FermionOperators that we can send into `AdaptSolver` class to run Adapt-VQE."
   ],
   "metadata": {}
  },
  {
   "cell_type": "code",
   "execution_count": null,
   "source": [
    "from qsdk.electronic_structure_solvers import ADAPTSolver"
   ],
   "outputs": [],
   "metadata": {}
  },
  {
   "cell_type": "markdown",
   "source": [
    "## ADAPT-VQE In Practice\n",
    "We are going to consider H$_4$ as a linear chain. We begin by instantiating the molecule object from pyscf's `gto.Mole` class, and feed this into the `ADAPTSolver` method we imported above."
   ],
   "metadata": {}
  },
  {
   "cell_type": "code",
   "execution_count": null,
   "source": [
    "from pyscf import gto\n",
    "H4 = [(\"H\", (0, 0, 0)), (\"H\", (0, 0, 1)), (\"H\", (0, 0, 2)), (\"H\", (0, 0, 3))]\n",
    "mol = gto.Mole()\n",
    "mol.atom = H4\n",
    "mol.basis = \"sto-3g\"\n",
    "mol.build()\n",
    "\n",
    "opt_dict = {\"molecule\": mol, \"frozen_orbitals\": 0, \"pool\": get_pool, \"tol\": 0.01, \"max_cycles\": 6, \"verbose\": False}\n",
    "\n",
    "adapt_solver = ADAPTSolver(opt_dict)\n",
    "adapt_solver.build()\n",
    "adapt_solver.simulate()"
   ],
   "outputs": [],
   "metadata": {
    "tags": []
   }
  },
  {
   "cell_type": "markdown",
   "source": [
    "After 6 cycles, we force the cycle to terminate. We can now compare the results against the predictions of FCI."
   ],
   "metadata": {}
  },
  {
   "cell_type": "code",
   "execution_count": null,
   "source": [
    "import matplotlib.pyplot as plt\n",
    "from qsdk.toolboxes.molecular_computation.molecular_data import MolecularData\n",
    "from qsdk.electronic_structure_solvers.fci_solver import FCISolver\n",
    "\n",
    "solver = FCISolver()\n",
    "exact = solver.simulate(mol)\n",
    "errors = np.array(adapt_solver.energies) - exact\n",
    "fig,ax = plt.subplots(1,1)\n",
    "ax.plot(errors)\n",
    "ax.set_xlabel('ADAPT Iteration')\n",
    "ax.set_ylabel('Error (Ha)')\n",
    "ax.set_title('ADAPT-vqe: H$_4$')\n",
    "ax.set_yscale('log')\n",
    "print(f'Final Error: {errors[-1] :.4E}')"
   ],
   "outputs": [],
   "metadata": {}
  },
  {
   "cell_type": "markdown",
   "source": [
    "Ok so after 15 cycles, we have an error of 0.14 mHa, within chemical accuracy of FCI. How does this all compare against UCCSD-VQE?"
   ],
   "metadata": {}
  },
  {
   "cell_type": "code",
   "execution_count": null,
   "source": [
    "from qsdk.electronic_structure_solvers.vqe_solver import VQESolver\n",
    "\n",
    "vqe_uccsd = VQESolver({'molecule': mol})\n",
    "vqe_uccsd.build()\n",
    "vqe_uccsd.simulate()"
   ],
   "outputs": [],
   "metadata": {}
  },
  {
   "cell_type": "code",
   "execution_count": null,
   "source": [
    "print(f'ADAPT-VQE ERROR: {adapt_solver.energies[-1] - exact :0.4E} Ha')\n",
    "print(f'UCCSD-VQE ERROR: {vqe_uccsd.optimal_energy - exact :0.4E} Ha')"
   ],
   "outputs": [],
   "metadata": {}
  },
  {
   "cell_type": "markdown",
   "source": [
    "From the perspective of energy accuracy, the two have reached very similar results, within a factor of two. The big advantage here however, are in the resources required for this ansatz circuit:"
   ],
   "metadata": {}
  },
  {
   "cell_type": "code",
   "execution_count": null,
   "source": [
    "print(f'ADAPT RESOURCES:\\n {adapt_solver.get_resources()}\\n')\n",
    "print(f'UCCSD RESOURCES:\\n {vqe_uccsd.get_resources()}')"
   ],
   "outputs": [],
   "metadata": {}
  },
  {
   "cell_type": "markdown",
   "source": [
    "We have managed here to reduce the total number of gates by about 30%, the number of 2-qubit gates by a factor of nearly 50%, and variational gates by about 50%. \n",
    "\n",
    "We note that ADAPT-VQE has run with 8 fewer variational parameters than UCCSD-VQE. This  reduces the classical overhead which is important when one wishes to look at larger molecules. With Adapt-VQE, the scaling should be better than the $\\mathcal{O}(N^2M^2)$ scaling of UCCSD-VQE."
   ],
   "metadata": {}
  },
  {
   "cell_type": "markdown",
   "source": [
    "## Conclusion\n",
    "\n",
    "In this notebook, we've explored a simple implementation of the ADAPT-VQE algorithm, using tools available through the qSDK. We have demonstrated how we can leverage these tools to reduce the effort involved in prototyping new quantum algorithms. This allows the user to focus exclusively on the specific components relevant to their research objectives, without getting bogged down in re-building standard infrastructure from scratch. \n",
    "\n",
    "The ADAPT-VQE algorithm provides the flexibility to explore different choices of generator pools. Feel free to try out the many options available for the fermionic system you are examining. If you wish to look at a QubitOperator Hamiltonian, please look at the qubit_adapt.ipynb notebook in the user_notebooks folder.\n"
   ],
   "metadata": {}
  }
 ]
}