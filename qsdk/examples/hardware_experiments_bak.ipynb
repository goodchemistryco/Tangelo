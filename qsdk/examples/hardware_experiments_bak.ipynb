{
 "cells": [
  {
   "cell_type": "markdown",
   "metadata": {},
   "source": [
    "# Designing hardware experiments with qSDK\n",
    "\n",
    "An important aspect of the qSDK package is to enable users to design and run succesful quantum chemistry experiments on quantum hardware. By leveraging the various toolboxes in the qSDK, including pre- and post-processing tools, we can take a molecular system to a quantum computer, gauge the feasibility of our approaches on existing hardware, and compare them to alternatives.\n",
    "\n",
    "The goal of this notebook is to show how the building blocks provided can support our exploration while leveraging systematic approaches to keep track of resource requirements and anticipate accuracy of results on existing quantum devices.\n",
    "\n",
    "We here focus on the computation of ground state energy, through the lens of a few variational approaches.\n",
    "\n",
    "This notebook assumes that you already have installed qSDK in your Python environment, or have updated your PYTHONPATH accordingly."
   ]
  },
  {
   "cell_type": "markdown",
   "metadata": {},
   "source": [
    "Subjects\n",
    "* DMET-QCC\n",
    "* McWeeny purification\n",
    "* Grouping term"
   ]
  },
  {
   "cell_type": "markdown",
   "metadata": {},
   "source": [
    "## Table of contents:\n",
    "* [1. Choose your own adventure](#1)\n",
    "* [2. Developing systematic approaches](#2)\n",
    "* [3. Problem Decompositon](#3)\n",
    "* [4. Exploration with variational algorithms](#4)\n",
    "* [5. Making the most of our measurements](#5)\n",
    "* [6. Circuit optimisation](#6)\n",
    "* [7. Submitting experiments to quantum devices](#7)\n",
    "* [8. Post-processing of results](#8)\n",
    "* [Closing words](#99)"
   ]
  },
  {
   "cell_type": "markdown",
   "metadata": {},
   "source": [
    "## 1. Choose your own adventure <a class=\"anchor\" id=\"1\"></a>\n",
    "\n",
    "We start by creating a few molecules with `pyscf`, to support the examples in this notebook. You can easily switch them in most cells below, to observe the impact of the various features on these different problem instances."
   ]
  },
  {
   "cell_type": "code",
   "execution_count": 36,
   "metadata": {},
   "outputs": [],
   "source": [
    "import numpy as np\n",
    "                 \n",
    "def generate_ring(n, dist, atom=\"H\"):\n",
    "    xyz = [(atom, (0., dist))]\n",
    "    \n",
    "    for i in range(n-1):\n",
    "        # Rotation of the vector connecting the previous point.\n",
    "        x = xyz[i][1][0]*np.cos(2*np.pi/n) - xyz[i][1][1]*np.sin(2*np.pi/n)\n",
    "        y = xyz[i][1][0]*np.sin(2*np.pi/n) + xyz[i][1][1]*np.cos(2*np.pi/n)\n",
    "        \n",
    "        # Rounding with 3-decimals precision.\n",
    "        x = round(x, 3)\n",
    "        y = round(y, 3)\n",
    "        \n",
    "        xyz.append((atom, (x, y)))\n",
    "\n",
    "    return xyz"
   ]
  },
  {
   "cell_type": "code",
   "execution_count": 1,
   "metadata": {},
   "outputs": [],
   "source": [
    "from qsdk import SecondQuantizedMolecule\n",
    "from copy import deepcopy\n",
    "\n",
    "\n",
    "xyz_H2 = [('H', (0, 0, 0)),('H', (0, 0, 0.74137727))]\n",
    "xyz_H4 = [('H', ( 0.7071067811865476, 0, 0)), ('H', (0,  0.7071067811865476, 0)),\n",
    "          ('H', (-1.0071067811865476, 0, 0)), ('H', (0, -1.0071067811865476, 0))]\n",
    "xyz_H8 = [('H', (0, 0, 0)), ('H', (0, 0, 0.9)), ('H', (0, 0.9, 0)), ('H', (0, 0.9, 0.9)),\n",
    "          ('H', (0.9, 0, 0)), ('H', (0.9, 0, 0.9)), ('H', (0.9, 0.9, 0)), ('H', (0.9, 0.9, 0.9))]\n",
    "xyz_H2O = [('O', (0, 0, 0.1173)),('H', ( 0, 0.7572, -0.4692)), ('H', ( 0, -0.7572, -0.4692))]\n",
    "\n",
    "mol_H2 = SecondQuantizedMolecule(xyz_H2, q=0, spin=0, basis=\"sto-3g\", frozen_orbitals=None)\n",
    "mol_H4 = SecondQuantizedMolecule(xyz_H4, q=2, spin=0, basis=\"minao\", frozen_orbitals=None)\n",
    "mol_H8 = SecondQuantizedMolecule(xyz_H8, q=0, spin=0, basis=\"sto-3g\", frozen_orbitals=None)\n",
    "mol_H2O = SecondQuantizedMolecule(xyz_H2O, q=0, spin=0, basis=\"sto-3g\", frozen_orbitals=None)"
   ]
  },
  {
   "cell_type": "markdown",
   "metadata": {},
   "source": [
    "<br>"
   ]
  },
  {
   "cell_type": "markdown",
   "metadata": {},
   "source": [
    "## 2. Developing systematic approaches <a class=\"anchor\" id=\"2\"></a>\n",
    "\n",
    "Can quantum computers be used to compute something meaningful with regards to a molecular system ? How can we assess the feasibility of an approach, or compare it to others ?\n",
    "\n",
    "Before delving into the features this package offers, which can quickly turn into a rabbit hole of parameters and heuristics, we emphasize the need to leverage different tools and metrics in order to guide our exploration.\n",
    "\n",
    "### Resource estimation\n",
    "\n",
    "Resource estimation helps us assert the feasibility of an approach with regards to device capabilities (simulator or QPU), or compare it to alternatives, including what is considered state-of-the-art.\n",
    "\n",
    "Resource estimation is particularly relevant now as quantum computing is still a nascent field, and the current quantum computers have modest capabilities (limited amount of qubits and coherence time, low gate fidelity...). It can be one of the drivers of our exploration, and identify both the most appropriate approaches in our experiments and their bottlenecks, where impactful breakthroughs would make a difference.\n",
    "\n",
    "### Classical simulators\n",
    "\n",
    "Quantum computers currently have limited access and capability. To study the applications of quantum computing on small problem instances, we can use classical simulators and emulators in order to anticipate the behavior of quantum algorithms on real device, in the presence or absence of noise. \n",
    "\n",
    "This package provides support for a collection of open-source quantum circuit simulators, delivering different performance and features. We are free to choose the most relevant backend for our usecases, thinking about resource requirements, use of shots, presence or absence of noise, and accuracy of simulation, for example.\n",
    "\n",
    "### Comparing accuracy with classical solvers\n",
    "\n",
    "As meeting the required accuracy for practical applications is essential, wrappers to several standard classical solvers are provided for convenience in this package, such as FCI or CCSD. They are not intended to be competitive solutions, but simply to support us with asserting the accuracy of our quantum explorations, on the systems they are able to handle."
   ]
  },
  {
   "cell_type": "markdown",
   "metadata": {},
   "source": [
    "<br>"
   ]
  },
  {
   "cell_type": "markdown",
   "metadata": {},
   "source": [
    "## 3. Problem decomposition <a class=\"anchor\" id=\"3\"></a>\n",
    "\n",
    "Problem Decomposition (PD) techniques may be able to help us tackle a molecular system that would be too challenging to tackle head-on with quantum algorithms. We have explored methods such as DMET in the past in our own hardware experiments, and showed how it may reduce resource requirements while preserving accuracy for some systems such as a ring of 10 hydrogen atoms, or several hydrocarbons. If you are interested, we encourage you to have a look at the dedicated DMET notebook, which delves a bit more into the theory and some of the results obtained.\n",
    "\n",
    "This package also offers other PD techniques, such as ONIOM, to look at systems\n",
    "\n",
    "In the example below, we show how DMET can reduce resource requirements for a simple system, and splitting it into 2 subproblems. In the rest of the notebook, we look at examples not involving problem decomposition, in order to keep the code clear and simple: it is however possible to combine problem decomposition to the other features and tools we introduce below"
   ]
  },
  {
   "cell_type": "code",
   "execution_count": 2,
   "metadata": {},
   "outputs": [],
   "source": [
    "#import py3Dmol\n",
    "#view = py3Dmol.view(width=200,height=200,viewergrid=(1,1))\n",
    "#H8_py3dmol = open('h8_cube.xyz', 'r').read()\n",
    "#view.addModel(H8_py3dmol,'xyz',viewer=(0,0))\n",
    "#view.setStyle({'stick':{'colorscheme':'cyanCarbon'}})\n",
    "#view.zoomTo()\n",
    "#view.show()"
   ]
  },
  {
   "cell_type": "code",
   "execution_count": 2,
   "metadata": {
    "scrolled": true
   },
   "outputs": [
    {
     "name": "stdout",
     "output_type": "stream",
     "text": [
      "VQE-UCCSD JW resource estimation \n",
      "{'qubit_hamiltonian_terms': 2385, 'circuit_width': 16, 'circuit_gates': 29576, 'circuit_2qubit_gates': 17728, 'circuit_var_gates': 1344, 'vqe_variational_parameters': 152}\n",
      "\n",
      "DMET-VQE-UCCSD resource-estimation, 4 fragments \n",
      "{'qubit_hamiltonian_terms': 145, 'circuit_width': 8, 'circuit_gates': 2388, 'circuit_2qubit_gates': 1152, 'circuit_var_gates': 144, 'vqe_variational_parameters': 14}\n",
      "\n",
      "DMET-VQE-UCCSD resource-estimation, 8 fragments \n",
      "{'qubit_hamiltonian_terms': 27, 'circuit_width': 4, 'circuit_gates': 158, 'circuit_2qubit_gates': 64, 'circuit_var_gates': 12, 'vqe_variational_parameters': 2}\n",
      "\n",
      "DMET-VQE-UCCSD resource-estimation, 8 fragments, scBK mapping \n",
      "{'qubit_hamiltonian_terms': 9, 'circuit_width': 2, 'circuit_gates': 20, 'circuit_2qubit_gates': 4, 'circuit_var_gates': 4, 'vqe_variational_parameters': 2}\n",
      "\n"
     ]
    }
   ],
   "source": [
    "from qsdk.problem_decomposition.dmet.dmet_problem_decomposition import DMETProblemDecomposition\n",
    "from qsdk.problem_decomposition.dmet.dmet_problem_decomposition import Localization\n",
    "from qsdk.electronic_structure_solvers import VQESolver, FCISolver, CCSDSolver\n",
    "from qsdk.electronic_structure_solvers.vqe_solver import BuiltInAnsatze\n",
    "\n",
    "mol = mol_H8\n",
    "\n",
    "# Resource estimation of head-on VQE approach on our system\n",
    "vqe_options = {\"molecule\": mol, \"ansatz\": BuiltInAnsatze.UCCSD, \"qubit_mapping\": \"jw\", \"verbose\": False}\n",
    "vqe_solver = VQESolver(vqe_options)\n",
    "vqe_solver.build()\n",
    "print(f\"VQE-UCCSD JW resource estimation \\n{vqe_solver.get_resources()}\\n\")\n",
    "\n",
    "# Same VQE approach, but performing PD first with DMET (4 fragments)\n",
    "dmet_options = {\"molecule\": mol, \"verbose\": False,\n",
    "                \"fragment_atoms\": [2]*4, \"fragment_solvers\": [\"vqe\"] + [\"ccsd\"]*3}\n",
    "dmet_solver = DMETProblemDecomposition(dmet_options)\n",
    "dmet_solver.build()\n",
    "print(f\"DMET-VQE-UCCSD resource-estimation, 4 fragments \\n{dmet_solver.get_resources()[0]}\\n\")\n",
    "\n",
    "\n",
    "# Same VQE approach, but performing PD first with DMET (8 fragments)\n",
    "dmet_options = {\"molecule\": mol, \"verbose\": False,\n",
    "                \"fragment_atoms\": [1]*8, \"fragment_solvers\": [\"vqe\"] + [\"ccsd\"]*7}\n",
    "dmet_solver = DMETProblemDecomposition(dmet_options)\n",
    "dmet_solver.build()\n",
    "print(f\"DMET-VQE-UCCSD resource-estimation, 8 fragments \\n{dmet_solver.get_resources()[0]}\\n\")\n",
    "\n",
    "\n",
    "# Same VQE approach, but performing PD first with DMET (8 fragments) + sbBK\n",
    "dmet_options = {\"molecule\": mol, \"verbose\": False,\n",
    "                \"fragment_atoms\": [1]*8, \"fragment_solvers\": [\"vqe\"] + [\"ccsd\"]*7,\n",
    "                \"solvers_options\": [{\"qubit_mapping\": \"scBK\", \"initial_var_params\": \"ones\", \"up_then_down\": True, \"verbose\": False}] + [{}]*7,\n",
    "               \"verbose\": False}\n",
    "dmet_solver = DMETProblemDecomposition(dmet_options)\n",
    "dmet_solver.build()\n",
    "print(f\"DMET-VQE-UCCSD resource-estimation, 8 fragments, scBK mapping \\n{dmet_solver.get_resources()[0]}\\n\")"
   ]
  },
  {
   "cell_type": "markdown",
   "metadata": {},
   "source": [
    "Let's run the `simulate` method to find the ground state energy of this molecule using the latter approach:"
   ]
  },
  {
   "cell_type": "code",
   "execution_count": 3,
   "metadata": {},
   "outputs": [
    {
     "name": "stdout",
     "output_type": "stream",
     "text": [
      "Optimization terminated successfully    (Exit mode 0)\n",
      "            Current function value: -1.8436821206660374\n",
      "            Iterations: 6\n",
      "            Function evaluations: 24\n",
      "            Gradient evaluations: 6\n",
      "Optimization terminated successfully    (Exit mode 0)\n",
      "            Current function value: -1.8437821845423783\n",
      "            Iterations: 6\n",
      "            Function evaluations: 24\n",
      "            Gradient evaluations: 6\n",
      "Optimization terminated successfully    (Exit mode 0)\n",
      "            Current function value: -1.842814578070494\n",
      "            Iterations: 6\n",
      "            Function evaluations: 24\n",
      "            Gradient evaluations: 6\n",
      "Optimization terminated successfully    (Exit mode 0)\n",
      "            Current function value: -1.8428925476978748\n",
      "            Iterations: 6\n",
      "            Function evaluations: 24\n",
      "            Gradient evaluations: 6\n",
      "Optimization terminated successfully    (Exit mode 0)\n",
      "            Current function value: -1.8428997568858523\n",
      "            Iterations: 6\n",
      "            Function evaluations: 24\n",
      "            Gradient evaluations: 6\n"
     ]
    }
   ],
   "source": [
    "dmet_energy = dmet_solver.simulate()"
   ]
  },
  {
   "cell_type": "code",
   "execution_count": 4,
   "metadata": {},
   "outputs": [
    {
     "name": "stdout",
     "output_type": "stream",
     "text": [
      "\n",
      " DMET-VQE-UCCSD optimized single-fragment \n",
      " {'qubit_hamiltonian_terms': 9, 'circuit_width': 2, 'circuit_gates': 20, 'circuit_2qubit_gates': 4, 'circuit_var_gates': 4, 'vqe_variational_parameters': 2}\n",
      "\n",
      "CCSD energy:\t\t\t-3.87752\n",
      "DMET-VQE 8 fragments results:\t-3.87742\n"
     ]
    }
   ],
   "source": [
    "print(f\"\\n DMET-VQE-UCCSD optimized single-fragment \\n {dmet_solver.get_resources()[0]}\\n\")\n",
    "print(f\"CCSD energy:\\t\\t\\t{CCSDSolver(mol).simulate():.5f}\")\n",
    "print(f\"DMET-VQE 8 fragments results:\\t{dmet_energy.real:.5f}\")"
   ]
  },
  {
   "cell_type": "markdown",
   "metadata": {},
   "source": [
    "As we can see, problem decomposition techniques such as DMET can have an important impact on resource requirements, and can contribute to making problems more tractable for simulators and current quantum devices."
   ]
  },
  {
   "cell_type": "markdown",
   "metadata": {},
   "source": [
    "## 4. Exploration with variational algorithms <a class=\"anchor\" id=\"4\"></a>\n",
    "\n",
    "Variational algorithms such as VQE are quantum-classical approaches that have received a lot of attention from the community in the recent years, yielding shallow circuits that are closer to the capabilities of current quantum hardware, and thus may provide opportunities for meaningful hardware experiments now. \n",
    "\n",
    "This is why we implemented a number of them, and tried to provide a flexible interface allowing us to try different options: our implementation of VQE got a dedicated notebook, if you are interested.\n",
    "\n",
    "Variational algorithms can however be a bit tricky, as they require a classical optimization problem to be solved with heuristics: it is hard to quantify the accuracy, and overall runtime or resources required (such as the number of measurements) to run it using a quantum device. Moreover, the quantum circuit and qubit Hamiltonian may change during the optimisation process, depending on your flavour of VQE. This complexity can be used to illustrate the usefulness of the resource estimation, classical simulators and classical solvers mentioned in the previous section, and develop a sense of the challenges in improving existing quantum algorithms or designing succesful hardware experiments."
   ]
  },
  {
   "cell_type": "markdown",
   "metadata": {},
   "source": [
    "### 4.1 Before diving into quantum <a class=\"anchor\" id=\"41\"></a>\n",
    "\n",
    "Even for modest problem instances, \"cheap\" insights in our molecular systems may prove to considerably lower resource requirements or improve accuracy in our calculations. This can make the difference between being able to explore a particular use case and running a succesful hardware experiment, or not. \n",
    "\n",
    "There's no rule that says we must not help quantum computers with our classical tools and chemist intuition, or what is relevant to attain chemical accuracy (~ 1kcal/mol), although this may render some approaches questionable for all practical applications on devices mature enough. Maybe in the future, some of these classical insights could be obtained at low cost (possibly through advances in machine learning, for example) and play well with our quantum workflows. Who knows.\n",
    "\n",
    "We provide a few simple tools for convenience, but we leave it to the user to gain these insights through other computational or experimental means."
   ]
  },
  {
   "cell_type": "markdown",
   "metadata": {},
   "source": [
    "### 4.2 Quantum exploration <a class=\"anchor\" id=\"42\"></a>"
   ]
  },
  {
   "cell_type": "markdown",
   "metadata": {},
   "source": [
    "The following section has a closer look at H2O, a \"small\" use case that experts have been trying to tackle with quantum computers in the last few years, big enough to still pose a challenge in minimal basis set.\n",
    "\n",
    "Using chemist insights, we know that freezing the core should have negligible impact on the accuracy of ground state energy calculation: we first confirm this using our CCSD solver. In fact, our implementation of VQE freezes the core orbitals by default, and leaves it to the user to override this behaviour if they'd like to explore something different.\n",
    "\n",
    "The cell below shows that for this particular use case, freezing the core orbitals allows us to remove 2 qubits, and reduces the size of the qubit Hamiltonian by half. The number of VQE variational parameters was reduced by 30%, which may help VQE converge faster, too. The number of gates in our variational ansatz circuit -here UCCSD- depends on the value of variational parameters (our implementation only simulates the gates that are necessary), but is likely to remain shallower once parameters have been optimized too."
   ]
  },
  {
   "cell_type": "code",
   "execution_count": 5,
   "metadata": {},
   "outputs": [
    {
     "name": "stdout",
     "output_type": "stream",
     "text": [
      "Exact FCI energy:\t\t\t -75.01257824109095\n",
      "CCSD Energy without freezing core:\t -75.0124617015436\n",
      "CCSD Energy with frozen core:     \t -75.01238336243863\n",
      "\n",
      "VQE-UCCSD JW without frozen core \n",
      " {'qubit_hamiltonian_terms': 1086, 'circuit_width': 14, 'circuit_gates': 6914, 'circuit_2qubit_gates': 3824, 'circuit_var_gates': 360, 'vqe_variational_parameters': 65}\n",
      "\n",
      "\n",
      "VQE-UCCSD JW with frozen core \n",
      " {'qubit_hamiltonian_terms': 551, 'circuit_width': 12, 'circuit_gates': 4008, 'circuit_2qubit_gates': 2112, 'circuit_var_gates': 224, 'vqe_variational_parameters': 44}\n",
      "\n"
     ]
    }
   ],
   "source": [
    "from qsdk.electronic_structure_solvers import FCISolver, CCSDSolver\n",
    "from qsdk.electronic_structure_solvers.vqe_solver import BuiltInAnsatze, VQESolver\n",
    "from qsdk.toolboxes.ansatz_generator.uccsd import UCCSD\n",
    "\n",
    "mol = mol_H2O\n",
    "\n",
    "# Impact of frozen core on ground state energy calculation\n",
    "print(f\"Exact FCI energy:\\t\\t\\t {FCISolver(mol).simulate()}\")\n",
    "print(f\"CCSD Energy without freezing core:\\t {CCSDSolver(mol).simulate()}\")\n",
    "print(f\"CCSD Energy with frozen core:     \\t {CCSDSolver(mol.freeze_mos('frozen_core', inplace=False)).simulate()}\")\n",
    "\n",
    "# VQE: no frozen orbitals\n",
    "vqe_options = {\"molecule\": mol, \"ansatz\": BuiltInAnsatze.UCCSD, \"qubit_mapping\": 'jw'}\n",
    "vqe_solver = VQESolver(vqe_options)\n",
    "vqe_solver.build()\n",
    "print(f\"\\nVQE-UCCSD JW without frozen core \\n {vqe_solver.get_resources()}\\n\")\n",
    "\n",
    "# VQE default: frozen core\n",
    "vqe_options = {\"molecule\": mol.freeze_mos('frozen_core', inplace=False), \"ansatz\": BuiltInAnsatze.UCCSD, \"qubit_mapping\": 'jw'}\n",
    "vqe_solver = VQESolver(vqe_options)\n",
    "vqe_solver.build()\n",
    "print(f\"\\nVQE-UCCSD JW with frozen core \\n {vqe_solver.get_resources()}\\n\")\n",
    "\n",
    "# Save qubit Hamiltonian for later cells\n",
    "qb_ham_H2O = deepcopy(vqe_solver.qubit_hamiltonian)"
   ]
  },
  {
   "cell_type": "markdown",
   "metadata": {},
   "source": [
    "It's challenging for classical computers to simulate quantum circuits: most exact simulators require an amount of resources that grows exponentially with number of qubits. Running the above VQE on H2O with a good simulator may take a little while: let's switch to our smaller H4 molecule to look at the circuits VQE returns"
   ]
  },
  {
   "cell_type": "code",
   "execution_count": 6,
   "metadata": {},
   "outputs": [
    {
     "name": "stdout",
     "output_type": "stream",
     "text": [
      "Resource requirements (initial parameters) \n",
      "{'qubit_hamiltonian_terms': 185, 'circuit_width': 8, 'circuit_gates': 790, 'circuit_2qubit_gates': 368, 'circuit_var_gates': 52, 'vqe_variational_parameters': 9}\n",
      "\n",
      "Optimization terminated successfully    (Exit mode 0)\n",
      "            Current function value: -0.8546073434094339\n",
      "            Iterations: 5\n",
      "            Function evaluations: 54\n",
      "            Gradient evaluations: 5\n",
      "\n",
      "Resource requirements (optimized parameters) \n",
      "{'qubit_hamiltonian_terms': 185, 'circuit_width': 8, 'circuit_gates': 1398, 'circuit_2qubit_gates': 688, 'circuit_var_gates': 84, 'vqe_variational_parameters': 9}\n",
      "\n",
      "Difference with FCI energy : 1.429E-06\n"
     ]
    }
   ],
   "source": [
    "mol = mol_H4\n",
    "\n",
    "vqe_options = {\"molecule\": mol, \"ansatz\": BuiltInAnsatze.UCCSD, \"qubit_mapping\": 'jw'}\n",
    "vqe_solver = VQESolver(vqe_options)\n",
    "vqe_solver.build()\n",
    "print(f\"Resource requirements (initial parameters) \\n{vqe_solver.get_resources()}\\n\")\n",
    "vqe_energy = vqe_solver.simulate()\n",
    "print(f\"\\nResource requirements (optimized parameters) \\n{vqe_solver.get_resources()}\\n\")\n",
    "\n",
    "# Compare to FCI (exact) energy\n",
    "print(f\"Difference with FCI energy : {abs(FCISolver(mol).simulate() - vqe_energy):.3E}\")"
   ]
  },
  {
   "cell_type": "markdown",
   "metadata": {},
   "source": [
    "We could also try to use the Hardware-Efficient ansatz (HEA), which is a great example of ansatz that may benefit greatly from the use of penalty terms:"
   ]
  },
  {
   "cell_type": "code",
   "execution_count": 7,
   "metadata": {},
   "outputs": [
    {
     "name": "stdout",
     "output_type": "stream",
     "text": [
      "Optimization terminated successfully    (Exit mode 0)\n",
      "            Current function value: -0.850972442919653\n",
      "            Iterations: 33\n",
      "            Function evaluations: 854\n",
      "            Gradient evaluations: 33\n",
      "\n",
      "Difference with FCI energy : 3.635E-03\n",
      "\n",
      "Resources: {'qubit_hamiltonian_terms': 62, 'circuit_width': 6, 'circuit_gates': 39, 'circuit_2qubit_gates': 15, 'circuit_var_gates': 24, 'vqe_variational_parameters': 24}\n"
     ]
    }
   ],
   "source": [
    "initial_var_params =  [ 6.15, 6.19, 6.23, -3.03, -2.20, -7.19, -3.07, 3.41, -0.35, 3.19, -5.58, -7.94,\n",
    "                       -0.13, 1.51, 1.67, 4.81, -4.81, 2.45, 0.27, 1.59, -5.23, -1.80, -3.75,  0.09]\n",
    "hea_penalty = {\"N\": [10,2], \"Sz\": [10,0], \"S^2\": [0,0]}\n",
    "hea_options = {\"n_layers\": 3, \"rot_type\": \"real\", \"reference_state\": 'zero'}\n",
    "\n",
    "vqe_options = {\"molecule\": mol_H4.freeze_mos([3], inplace=False), \"qubit_mapping\":\"bk\",\n",
    "               \"ansatz\": BuiltInAnsatze.HEA, \"initial_var_params\" : initial_var_params,\n",
    "               \"penalty_terms\": hea_penalty,\"ansatz_options\": hea_options}\n",
    "\n",
    "vqe_solver_h4_frozen = VQESolver(vqe_options)\n",
    "vqe_solver_h4_frozen.build()\n",
    "print(f\"\\nDifference with FCI energy : {abs(vqe_solver_h4_frozen.simulate() - vqe_energy):.3E}\\n\")\n",
    "print(f\"Resources: {vqe_solver_h4_frozen.get_resources()}\")"
   ]
  },
  {
   "cell_type": "markdown",
   "metadata": {},
   "source": [
    "### 4.3 So many possibilities <a class=\"anchor\" id=\"43\"></a>\n",
    "\n",
    "Variational algorithms present many parameters and options, and it would not be possible to explore all of them. It can already be difficult to gauge whether classical optimization in a particular case did not work out, or the ansatz performed poorly. Speaking of which: you can provide your very own variational ansatz to VQE, which we elaborate on in a different notebook.\n",
    "\n",
    "Whether or not you'd like to try the Hardware-Efficient Ansatz (HEA), a flavor of Qubit Coupled-Cluster (QCC), or take a stab at the problem with ADAPT-VQE is up to you."
   ]
  },
  {
   "cell_type": "markdown",
   "metadata": {},
   "source": [
    "## 5. Making the most of our measurements<a class=\"anchor\" id=\"5\"></a>\n",
    "\n",
    "It is important to gather as many measurements of the quantum state prepared by our quantum circuits, in order to extract accurate information, used to estimate properties such as energies. In particular, the ground state energy of a system can be computed as an expectation value of a quantum state w.r.t its qubit Hamiltonian, in the variational approaches we've seen so far.\n",
    "\n",
    "However, gathering more measurements requires a more extensive usage of quantum computers, increasing runtime and therefore the cost of the experiment. It is important to try to make the most of our measurements, to help keep both cost and runtime moderate, while providing satifying accuracy. \n",
    "\n",
    "Several techniques of various complexity can be employed to estimate the number of measurements required to meet a given accuracy, or reduce the amount of measurements required to compute expectation values: we'll briefly discuss a few.\n",
    "\n",
    "For the sake of this example, let's have a look at H2O again. During our own exploration, we came across the following circuit, using ADAPT-VQE. The resulting energy was less than 3 mHa away from FCI, which was not bad for such a shallow circuit (see below). In comparison, running VQE-UCCSD got us to chemical accuracy, but took longer to simulate and resulted in a final circuit of about 20000 gates."
   ]
  },
  {
   "cell_type": "code",
   "execution_count": 8,
   "metadata": {},
   "outputs": [
    {
     "ename": "FileNotFoundError",
     "evalue": "[Errno 2] No such file or directory: 'adapt_final_circuit_H2O.qasm'",
     "output_type": "error",
     "traceback": [
      "\u001b[0;31m---------------------------------------------------------------------------\u001b[0m",
      "\u001b[0;31mFileNotFoundError\u001b[0m                         Traceback (most recent call last)",
      "\u001b[0;32m<ipython-input-8-b06ef591f32d>\u001b[0m in \u001b[0;36m<module>\u001b[0;34m\u001b[0m\n\u001b[0;32m----> 1\u001b[0;31m \u001b[0;32mwith\u001b[0m \u001b[0mopen\u001b[0m\u001b[0;34m(\u001b[0m\u001b[0;34m\"adapt_final_circuit_H2O.qasm\"\u001b[0m\u001b[0;34m,\u001b[0m \u001b[0;34m\"r\"\u001b[0m\u001b[0;34m)\u001b[0m \u001b[0;32mas\u001b[0m \u001b[0mf\u001b[0m\u001b[0;34m:\u001b[0m\u001b[0;34m\u001b[0m\u001b[0;34m\u001b[0m\u001b[0m\n\u001b[0m\u001b[1;32m      2\u001b[0m     \u001b[0madapt_H2O_circuit_qasm\u001b[0m \u001b[0;34m=\u001b[0m \u001b[0mf\u001b[0m\u001b[0;34m.\u001b[0m\u001b[0mread\u001b[0m\u001b[0;34m(\u001b[0m\u001b[0;34m)\u001b[0m\u001b[0;34m\u001b[0m\u001b[0;34m\u001b[0m\u001b[0m\n\u001b[1;32m      3\u001b[0m \u001b[0;34m\u001b[0m\u001b[0m\n\u001b[1;32m      4\u001b[0m \u001b[0;32mfrom\u001b[0m \u001b[0magnostic_simulator\u001b[0m\u001b[0;34m.\u001b[0m\u001b[0mtranslator\u001b[0m \u001b[0;32mimport\u001b[0m \u001b[0m_translate_openqasm2abs\u001b[0m\u001b[0;34m\u001b[0m\u001b[0;34m\u001b[0m\u001b[0m\n\u001b[1;32m      5\u001b[0m \u001b[0madapt_H2O_circuit_abs\u001b[0m \u001b[0;34m=\u001b[0m \u001b[0m_translate_openqasm2abs\u001b[0m\u001b[0;34m(\u001b[0m\u001b[0madapt_H2O_circuit_qasm\u001b[0m\u001b[0;34m)\u001b[0m\u001b[0;34m\u001b[0m\u001b[0;34m\u001b[0m\u001b[0m\n",
      "\u001b[0;31mFileNotFoundError\u001b[0m: [Errno 2] No such file or directory: 'adapt_final_circuit_H2O.qasm'"
     ]
    }
   ],
   "source": [
    "with open(\"adapt_final_circuit_H2O.qasm\", \"r\") as f:\n",
    "    adapt_H2O_circuit_qasm = f.read()\n",
    "\n",
    "from agnostic_simulator.translator import _translate_openqasm2abs\n",
    "adapt_H2O_circuit_abs = _translate_openqasm2abs(adapt_H2O_circuit_qasm)\n",
    "print(f\"H2O ADAPT-VQE circuit: Gate count = {adapt_H2O_circuit_abs.size}\\n {adapt_H2O_circuit_abs.counts}\")\n",
    "\n",
    "from agnostic_simulator import Simulator\n",
    "sim = Simulator(target=\"qulacs\")\n",
    "print(f\"Energy: {sim.get_expectation_value(qb_ham_H2O, adapt_H2O_circuit_abs)}\")"
   ]
  },
  {
   "cell_type": "markdown",
   "metadata": {},
   "source": [
    "### 5.1 Discarding negligible qubit Hamiltonian terms <a class=\"anchor\" id=\"51\"></a>\n",
    "\n",
    "There are several methods that exist to identify terms that do not significantly contribute to the expectation value of an operator or Hamiltonian, from simple heuristics and manual exploration tailored to the use case, to more systematical and robust approaches. \n",
    "\n",
    "A few convenience functions here can help us identify what terms are potentially negligible, or what is the impact of discarding these terms on the computation of the energy. In the future, we plan to support more robust and systematical approaches."
   ]
  },
  {
   "cell_type": "code",
   "execution_count": null,
   "metadata": {},
   "outputs": [],
   "source": [
    "qb_ham = qb_ham_H2O\n",
    "\n",
    "%matplotlib inline\n",
    "import matplotlib\n",
    "import matplotlib.pyplot as plt\n",
    "\n",
    "from agnostic_simulator.helpers.operators import print_histogram_coeffs\n",
    "\n",
    "print_histogram_coeffs(qb_ham)"
   ]
  },
  {
   "cell_type": "code",
   "execution_count": null,
   "metadata": {},
   "outputs": [],
   "source": [
    "expv_exact = sim.get_expectation_value(qb_ham_H2O, adapt_H2O_circuit_abs)\n",
    "print(f\"Exact value: {expv_exact} \\t\\t({len(qb_ham_H2O.terms)} terms)\")\n",
    "\n",
    "qb_ham = deepcopy(qb_ham_H2O)\n",
    "qb_ham.compress(abs_tol=5e-3)\n",
    "expv = sim.get_expectation_value(qb_ham, adapt_H2O_circuit_abs)\n",
    "print(f\"Difference after compressing: {expv - expv_exact:.3E} \\t({len(qb_ham.terms)} terms)\")"
   ]
  },
  {
   "cell_type": "markdown",
   "metadata": {},
   "source": [
    "### 5.2 Grouping Hamiltonian terms <a class=\"anchor\" id=\"52\"></a>\n",
    "\n",
    "It is possible to derive the expectation values of several qubit Hamiltonian terms from a circuit measured in a single measurement basis. By identifying groups of terms whose expectation value can be computed from a single histogram of measurements, we may considerably reduce the amount of circuit executions and measurements required to evaluate expectation values of qubit operators.\n",
    "\n",
    "In particular, we can group Hamiltonian terms using qubitwise commutativity. The algorithm returns a data-structure whose number of entries is the number of measurement bases required (and thus the number of \"quantum tasks\" or \"jobs\") to compute the estimation value of our qubit Hamiltonian."
   ]
  },
  {
   "cell_type": "code",
   "execution_count": null,
   "metadata": {},
   "outputs": [],
   "source": [
    "from agnostic_simulator.helpers import qubitwise_commutativity_of\n",
    "res = qubitwise_commutativity_of(qb_ham_H2O, seed=0)\n",
    "print(f\"Using QWC, we may only require to execute {len(res)} circuits, instead of {len(qb_ham_H2O.terms)}.\")"
   ]
  },
  {
   "cell_type": "markdown",
   "metadata": {},
   "source": [
    "There exists more elaborate techniques to form larger groups of terms, that may be supported in the future in this package."
   ]
  },
  {
   "cell_type": "markdown",
   "metadata": {},
   "source": [
    "### 5.3 Estimating the number of measurements <a class=\"anchor\" id=\"53\"></a>\n",
    "\n",
    "Estimating the number of measurements required to evaluate the expectation value of an operator up to a certain accuracy is an active topic of research. There exist simple heuristics that make no assumption about the final quantum state or problem, while some others may be more elaborate and leverage knowledge from classical simulators or require additional quantum gates in our circuits.\n",
    "\n",
    "The method below implements a simple heuristic making no assumption on the quantum state resulting from our circuit, implementing a simple paradigm based on binomial distribution."
   ]
  },
  {
   "cell_type": "code",
   "execution_count": null,
   "metadata": {},
   "outputs": [],
   "source": [
    "from agnostic_simulator.helpers import get_measurement_estimate\n",
    "\n",
    "# Compute and display the measurement estimates for a few operators\n",
    "res = get_measurement_estimate(qb_ham_H2O, digits=2, method=\"uniform\")\n",
    "\n",
    "for k,v in list(res.items())[:10]:\n",
    "    print(k,v)"
   ]
  },
  {
   "cell_type": "markdown",
   "metadata": {},
   "source": [
    "## 6. Circuit optimization <a class=\"anchor\" id=\"6\"></a>\n",
    "\n",
    "Frequently, quantum circuits implementing a particular unitary transformation can be improved by identifying sequences of gates that can be replaced by a more simple one, or even remove gates or qubits that are not necessary to the computation.\n",
    "\n",
    "When aiming for a hardware experiment, one may want to consider the constraints of physical quantum device such as connectivity (qubit topology) and the native gate set of the device. This is the idea of co-design, and raises the question of qubit placement and optimizing circuits for specific gate sets, in order to obtain a circuit that is more likely to perform well on the target harware.\n",
    "\n",
    "Our package supports various formats that enable the use of such \"circuit compilers\", often available through third-party packages coming from the hardware providers themselves, or groups designing tools focused on this purpose, including interal efforts at 1QBit.We can leverage such tools and APIs from hardware providers to look at what the circuit running on the target quantum processor may look like."
   ]
  },
  {
   "cell_type": "markdown",
   "metadata": {},
   "source": [
    "## 7. Submitting experiments to quantum devices <a class=\"anchor\" id=\"7\"></a>\n",
    "\n",
    "We support a number of formats representing quantum circuits, which allows us to support various backends, such as simulators or quantum devices. In the algorithms shown above, users could specify `backend_options` as a dictionary, and name their target of choice (qiskit, qulacs, ...): translation into the correct format would be done automatically at runtime.\n",
    "\n",
    "Users can also use these format convertion functions explicitly. Below, we show how easy it is to obtain a circuit in one of the supported formats, such as IBM Qiskit's. "
   ]
  },
  {
   "cell_type": "code",
   "execution_count": null,
   "metadata": {},
   "outputs": [],
   "source": [
    "from agnostic_simulator import Gate, Circuit\n",
    "abs_circuit = Circuit([Gate(\"H\", 0), Gate(\"CNOT\", target=1, control=0)])\n",
    "\n",
    "from agnostic_simulator import translate_qiskit\n",
    "qiskit_circuit = translate_qiskit(abs_circuit)\n",
    "print(qiskit_circuit)"
   ]
  },
  {
   "cell_type": "markdown",
   "metadata": {},
   "source": [
    "Assuming an account has been set up to use such quantum cloud services, once the circuit is in the adequate format users can make simple calls to the provider's API or our wrappers to submit their experiment, and retrieve the corresponding histograms of measurements.\n",
    "\n",
    "The cell below shows how to obtain a circuit in the Braket format, and submits it to the local Braket simulator for simplicity (e.g no need for a Braket account in this example): the circuit can be submitted to various backends without changes. For submitting an experiment on a quantum device, see the official Braket API documentation."
   ]
  },
  {
   "cell_type": "code",
   "execution_count": null,
   "metadata": {},
   "outputs": [],
   "source": [
    "# Translate circuit into Braket format\n",
    "from agnostic_simulator import translate_braket\n",
    "braket_circuit = translate_braket(abs_circuit)\n",
    "\n",
    "# Submit the Braket circuit to a target device using the Braket API\n",
    "from braket.devices import LocalSimulator as BraketLocalSimulator\n",
    "device = BraketLocalSimulator()\n",
    "n_shots = 1000\n",
    "braket_results = device.run(braket_circuit, shots=n_shots).result()\n",
    "\n",
    "# Retrieve the histogram of results for post-processing\n",
    "histogram = braket_results.measurement_counts\n",
    "print(histogram)"
   ]
  },
  {
   "cell_type": "markdown",
   "metadata": {},
   "source": [
    "## 8. Post-processing of results <a class=\"anchor\" id=\"8\"></a>\n",
    "\n",
    "Once a histogram of measurements has been obtained, post-processing can take place. We are able to use the histogram of measurements to compute quantities such as expectation values, or use noise-mitigation techniques to account for the noise in the device, and get results that may be closer to the theoretical ones.\n",
    "\n",
    "Some noise-mitigation techniques may not require any knowledge of our chemical system, such as the bootstrapping technique or calibration matrices, while some other may leverage information from it, such as Mc Weeny's density matrix purification technique.\n",
    "\n",
    "Below we show how an expectation value can be computed from a histogram of measurements."
   ]
  },
  {
   "cell_type": "code",
   "execution_count": null,
   "metadata": {},
   "outputs": [],
   "source": [
    "from agnostic_simulator.helpers import pauli_string_to_of\n",
    "\n",
    "# Rescale for frequencies\n",
    "freqs = {k:v/n_shots for k,v in histogram.items()}\n",
    "print(f\"Frequencies: {freqs}\\n\")\n",
    "\n",
    "# Compute expectation value for all-Z operator\n",
    "n_qubits = len(list(freqs.keys())[0])\n",
    "exp_allZ = Simulator.get_expectation_value_from_frequencies_oneterm(pauli_string_to_of(\"Z\"*n_qubits), freqs)\n",
    "print(f\"Expectation value for all-Z operator {exp_allZ:.5f}\")"
   ]
  },
  {
   "cell_type": "markdown",
   "metadata": {},
   "source": [
    "## Closing words <a class=\"anchor\" id=\"99\"></a>\n",
    "\n",
    "The goal of this notebook was to show how to explore all the different steps of an end-to-end hardware experiment pipeline using qSDK. We intend to keep adding the best of what we and the rest of the community produce to help everyone designing fruitful quantum hardware experiments."
   ]
  }
 ],
 "metadata": {
  "kernelspec": {
   "display_name": "qSDK",
   "language": "python",
   "name": "qsdk"
  },
  "language_info": {
   "codemirror_mode": {
    "name": "ipython",
    "version": 3
   },
   "file_extension": ".py",
   "mimetype": "text/x-python",
   "name": "python",
   "nbconvert_exporter": "python",
   "pygments_lexer": "ipython3",
   "version": "3.8.7"
  }
 },
 "nbformat": 4,
 "nbformat_minor": 2
}
